{
  "cells": [
    {
      "cell_type": "markdown",
      "metadata": {
        "id": "view-in-github",
        "colab_type": "text"
      },
      "source": [
        "<a href=\"https://colab.research.google.com/github/emm-gl/project_mna/blob/main/Modelos%20Alternativos%20Avance%204/svm_noise_version_02.ipynb\" target=\"_parent\"><img src=\"https://colab.research.google.com/assets/colab-badge.svg\" alt=\"Open In Colab\"/></a>"
      ]
    },
    {
      "cell_type": "markdown",
      "source": [
        "## Se cambian los parámetros del HOG, a que pixels per cell sea de 8x8, en lugar de 16x 16\n",
        "\n",
        "Mejora el desempeño"
      ],
      "metadata": {
        "id": "bxn9FcdC2x-o"
      },
      "id": "bxn9FcdC2x-o"
    },
    {
      "cell_type": "code",
      "execution_count": 5,
      "id": "6a97af13-9cab-4bc0-b61f-9f6f4c719c14",
      "metadata": {
        "tags": [],
        "id": "6a97af13-9cab-4bc0-b61f-9f6f4c719c14",
        "colab": {
          "base_uri": "https://localhost:8080/",
          "height": 367
        },
        "collapsed": true,
        "outputId": "afb0c54a-ea21-4ef9-c8cc-3443d0619303"
      },
      "outputs": [
        {
          "output_type": "stream",
          "name": "stdout",
          "text": [
            "Drive already mounted at /content/drive; to attempt to forcibly remount, call drive.mount(\"/content/drive\", force_remount=True).\n"
          ]
        },
        {
          "output_type": "error",
          "ename": "ModuleNotFoundError",
          "evalue": "No module named 'scikitplot'",
          "traceback": [
            "\u001b[0;31m---------------------------------------------------------------------------\u001b[0m",
            "\u001b[0;31mModuleNotFoundError\u001b[0m                       Traceback (most recent call last)",
            "\u001b[0;32m<ipython-input-5-b886b1330ebc>\u001b[0m in \u001b[0;36m<cell line: 21>\u001b[0;34m()\u001b[0m\n\u001b[1;32m     19\u001b[0m \u001b[0;34m\u001b[0m\u001b[0m\n\u001b[1;32m     20\u001b[0m \u001b[0;32mimport\u001b[0m \u001b[0mglob\u001b[0m\u001b[0;34m\u001b[0m\u001b[0;34m\u001b[0m\u001b[0m\n\u001b[0;32m---> 21\u001b[0;31m \u001b[0;32mimport\u001b[0m \u001b[0mscikitplot\u001b[0m \u001b[0;32mas\u001b[0m \u001b[0mskplt\u001b[0m\u001b[0;34m\u001b[0m\u001b[0;34m\u001b[0m\u001b[0m\n\u001b[0m",
            "\u001b[0;31mModuleNotFoundError\u001b[0m: No module named 'scikitplot'",
            "",
            "\u001b[0;31m---------------------------------------------------------------------------\u001b[0;32m\nNOTE: If your import is failing due to a missing package, you can\nmanually install dependencies using either !pip or !apt.\n\nTo view examples of installing some common dependencies, click the\n\"Open Examples\" button below.\n\u001b[0;31m---------------------------------------------------------------------------\u001b[0m\n"
          ],
          "errorDetails": {
            "actions": [
              {
                "action": "open_url",
                "actionText": "Open Examples",
                "url": "/notebooks/snippets/importing_libraries.ipynb"
              }
            ]
          }
        }
      ],
      "source": [
        "import os\n",
        "import numpy as np\n",
        "import seaborn as sns\n",
        "import cv2\n",
        "\n",
        "import matplotlib.image as mpimg\n",
        "import matplotlib.pyplot as plt\n",
        "\n",
        "from sklearn import svm\n",
        "from sklearn.svm import SVC\n",
        "from sklearn.model_selection import train_test_split\n",
        "from sklearn.model_selection import GridSearchCV\n",
        "\n",
        "from skimage.feature import hog\n",
        "from sklearn.metrics import classification_report, accuracy_score,confusion_matrix\n",
        "\n",
        "from google.colab import drive\n",
        "drive.mount('/content/drive')\n",
        "\n",
        "import glob\n"
      ]
    },
    {
      "cell_type": "code",
      "source": [
        "noise = glob.glob(\"/content/drive/My Drive/final_project/OK_etiquetadas_500/*.png\")\n",
        "nonoise = glob.glob(\"/content/drive/My Drive/final_project/NOK_etiquetadas_500/*.png\")\n"
      ],
      "metadata": {
        "id": "4-qFNSFonJ2q"
      },
      "id": "4-qFNSFonJ2q",
      "execution_count": 6,
      "outputs": []
    },
    {
      "cell_type": "code",
      "execution_count": 7,
      "id": "ef390597-ce34-482a-92c7-30dcbdf2bcf1",
      "metadata": {
        "tags": [],
        "id": "ef390597-ce34-482a-92c7-30dcbdf2bcf1",
        "outputId": "1b6ee626-ca51-4d84-c277-4830cd819659",
        "colab": {
          "base_uri": "https://localhost:8080/"
        }
      },
      "outputs": [
        {
          "output_type": "execute_result",
          "data": {
            "text/plain": [
              "500"
            ]
          },
          "metadata": {},
          "execution_count": 7
        }
      ],
      "source": [
        "len(noise)"
      ]
    },
    {
      "cell_type": "code",
      "execution_count": 8,
      "id": "4a1fda5f-de33-448d-b36f-942d90a49d83",
      "metadata": {
        "tags": [],
        "id": "4a1fda5f-de33-448d-b36f-942d90a49d83",
        "outputId": "4cdddc04-fd6b-4e68-bfd2-13007f65503a",
        "colab": {
          "base_uri": "https://localhost:8080/"
        }
      },
      "outputs": [
        {
          "output_type": "execute_result",
          "data": {
            "text/plain": [
              "500"
            ]
          },
          "metadata": {},
          "execution_count": 8
        }
      ],
      "source": [
        "len(nonoise)"
      ]
    },
    {
      "cell_type": "code",
      "execution_count": 9,
      "id": "875ed3e2",
      "metadata": {
        "id": "875ed3e2"
      },
      "outputs": [],
      "source": [
        "noise_Formated = []\n",
        "nonoise_Formated = []\n",
        "\n",
        "width = 128\n",
        "height = 128\n",
        "dim = (width, height)\n",
        "\n",
        "for i in noise:\n",
        "    img_gray = mpimg.imread(i)\n",
        "    #resize image\n",
        "    img_resized = cv2.resize(img_gray, dim, interpolation = cv2.INTER_AREA)\n",
        "\n",
        "    #add the new image to a new array\n",
        "    noise_Formated.append(img_resized)\n",
        "\n",
        "for i in nonoise:\n",
        "    img_gray = mpimg.imread(i)\n",
        "    #resize image\n",
        "    img_resized = cv2.resize(img_gray, dim, interpolation = cv2.INTER_AREA)\n",
        "\n",
        "    #add the new image to a new array\n",
        "    nonoise_Formated.append(img_resized)"
      ]
    },
    {
      "cell_type": "code",
      "execution_count": 10,
      "id": "0d449ec8",
      "metadata": {
        "id": "0d449ec8"
      },
      "outputs": [],
      "source": [
        "y_noise = np.ones(len(noise_Formated))\n",
        "y_nonoise = np.zeros(len(nonoise_Formated))"
      ]
    },
    {
      "cell_type": "code",
      "execution_count": 11,
      "id": "cfaad17a",
      "metadata": {
        "id": "cfaad17a",
        "outputId": "d10715f8-c4a0-4c3e-fbb8-dee498e602ce",
        "colab": {
          "base_uri": "https://localhost:8080/"
        }
      },
      "outputs": [
        {
          "output_type": "execute_result",
          "data": {
            "text/plain": [
              "(1000, 128, 128)"
            ]
          },
          "metadata": {},
          "execution_count": 11
        }
      ],
      "source": [
        "all_images = np.vstack((noise_Formated,nonoise_Formated))\n",
        "all_images.shape"
      ]
    },
    {
      "cell_type": "code",
      "execution_count": 12,
      "id": "56857dbe",
      "metadata": {
        "id": "56857dbe",
        "outputId": "c018c4c1-4117-491e-8f15-9d9a00b45b92",
        "colab": {
          "base_uri": "https://localhost:8080/"
        }
      },
      "outputs": [
        {
          "output_type": "execute_result",
          "data": {
            "text/plain": [
              "(1000,)"
            ]
          },
          "metadata": {},
          "execution_count": 12
        }
      ],
      "source": [
        "all_labels = np.hstack((y_noise,y_nonoise))\n",
        "all_labels.shape"
      ]
    },
    {
      "cell_type": "code",
      "execution_count": 13,
      "id": "04451452",
      "metadata": {
        "id": "04451452"
      },
      "outputs": [],
      "source": [
        "all_images=all_images/255"
      ]
    },
    {
      "cell_type": "code",
      "execution_count": 56,
      "id": "76893946",
      "metadata": {
        "id": "76893946"
      },
      "outputs": [],
      "source": [
        "def hog_feature_extraction(all_images):\n",
        "    hog_features = []\n",
        "    for i in all_images:\n",
        "        features, _ = hog(i,\n",
        "                          orientations = 11,\n",
        "                          pixels_per_cell = (8,8),     #16x16\n",
        "                          cells_per_block=(2, 2),\n",
        "                          transform_sqrt = False,\n",
        "                          visualize=True,\n",
        "                         feature_vector = True)\n",
        "        hog_features.append(features)\n",
        "    return hog_features"
      ]
    },
    {
      "cell_type": "code",
      "execution_count": 57,
      "id": "83dea673-88c8-42c4-9fb5-e01758f82e1c",
      "metadata": {
        "tags": [],
        "id": "83dea673-88c8-42c4-9fb5-e01758f82e1c"
      },
      "outputs": [],
      "source": [
        "hog_features = hog_feature_extraction(all_images)"
      ]
    },
    {
      "cell_type": "code",
      "execution_count": 58,
      "id": "bbaa744d",
      "metadata": {
        "id": "bbaa744d"
      },
      "outputs": [],
      "source": [
        "X = np.array(hog_features)\n",
        "y = np.array(all_labels)"
      ]
    },
    {
      "cell_type": "code",
      "execution_count": 59,
      "id": "6da0660e-b605-4ea7-b0eb-1569ea0da139",
      "metadata": {
        "tags": [],
        "id": "6da0660e-b605-4ea7-b0eb-1569ea0da139"
      },
      "outputs": [],
      "source": [
        "X_tv, X_test, y_tv, y_test = train_test_split(X, y, test_size = 0.1, stratify=y, random_state = 42)"
      ]
    },
    {
      "cell_type": "code",
      "execution_count": 60,
      "id": "db68c93a",
      "metadata": {
        "id": "db68c93a"
      },
      "outputs": [],
      "source": [
        "X_train, X_val, y_train, y_val = train_test_split(X_tv, y_tv, test_size = 0.111, stratify=y_tv, random_state = 42)"
      ]
    },
    {
      "cell_type": "code",
      "execution_count": 61,
      "id": "fe656772-ee12-47ad-8b77-4291e540438c",
      "metadata": {
        "tags": [],
        "id": "fe656772-ee12-47ad-8b77-4291e540438c",
        "outputId": "88fd9094-acd5-4cae-f50c-fb28fa90f266",
        "colab": {
          "base_uri": "https://localhost:8080/"
        }
      },
      "outputs": [
        {
          "output_type": "execute_result",
          "data": {
            "text/plain": [
              "(800, 9900)"
            ]
          },
          "metadata": {},
          "execution_count": 61
        }
      ],
      "source": [
        "X_train.shape"
      ]
    },
    {
      "cell_type": "code",
      "execution_count": 62,
      "id": "42d6659d-dd59-41a1-8d5a-0b46f4afb841",
      "metadata": {
        "tags": [],
        "id": "42d6659d-dd59-41a1-8d5a-0b46f4afb841",
        "outputId": "85f7ab9f-09bb-4382-bb0c-88bb9d67755a",
        "colab": {
          "base_uri": "https://localhost:8080/"
        }
      },
      "outputs": [
        {
          "output_type": "execute_result",
          "data": {
            "text/plain": [
              "(100, 9900)"
            ]
          },
          "metadata": {},
          "execution_count": 62
        }
      ],
      "source": [
        "X_test.shape"
      ]
    },
    {
      "cell_type": "code",
      "execution_count": 63,
      "id": "ee4fae26-3a44-4dcc-966d-e3005d7583f1",
      "metadata": {
        "tags": [],
        "id": "ee4fae26-3a44-4dcc-966d-e3005d7583f1",
        "outputId": "2496ae04-9a31-4bef-99a7-27ec7b884c4e",
        "colab": {
          "base_uri": "https://localhost:8080/",
          "height": 118
        }
      },
      "outputs": [
        {
          "output_type": "execute_result",
          "data": {
            "text/plain": [
              "GridSearchCV(cv=5, estimator=SVC(),\n",
              "             param_grid={'C': [0.5, 1, 10, 100], 'kernel': ['linear', 'rbf']})"
            ],
            "text/html": [
              "<style>#sk-container-id-3 {color: black;background-color: white;}#sk-container-id-3 pre{padding: 0;}#sk-container-id-3 div.sk-toggleable {background-color: white;}#sk-container-id-3 label.sk-toggleable__label {cursor: pointer;display: block;width: 100%;margin-bottom: 0;padding: 0.3em;box-sizing: border-box;text-align: center;}#sk-container-id-3 label.sk-toggleable__label-arrow:before {content: \"▸\";float: left;margin-right: 0.25em;color: #696969;}#sk-container-id-3 label.sk-toggleable__label-arrow:hover:before {color: black;}#sk-container-id-3 div.sk-estimator:hover label.sk-toggleable__label-arrow:before {color: black;}#sk-container-id-3 div.sk-toggleable__content {max-height: 0;max-width: 0;overflow: hidden;text-align: left;background-color: #f0f8ff;}#sk-container-id-3 div.sk-toggleable__content pre {margin: 0.2em;color: black;border-radius: 0.25em;background-color: #f0f8ff;}#sk-container-id-3 input.sk-toggleable__control:checked~div.sk-toggleable__content {max-height: 200px;max-width: 100%;overflow: auto;}#sk-container-id-3 input.sk-toggleable__control:checked~label.sk-toggleable__label-arrow:before {content: \"▾\";}#sk-container-id-3 div.sk-estimator input.sk-toggleable__control:checked~label.sk-toggleable__label {background-color: #d4ebff;}#sk-container-id-3 div.sk-label input.sk-toggleable__control:checked~label.sk-toggleable__label {background-color: #d4ebff;}#sk-container-id-3 input.sk-hidden--visually {border: 0;clip: rect(1px 1px 1px 1px);clip: rect(1px, 1px, 1px, 1px);height: 1px;margin: -1px;overflow: hidden;padding: 0;position: absolute;width: 1px;}#sk-container-id-3 div.sk-estimator {font-family: monospace;background-color: #f0f8ff;border: 1px dotted black;border-radius: 0.25em;box-sizing: border-box;margin-bottom: 0.5em;}#sk-container-id-3 div.sk-estimator:hover {background-color: #d4ebff;}#sk-container-id-3 div.sk-parallel-item::after {content: \"\";width: 100%;border-bottom: 1px solid gray;flex-grow: 1;}#sk-container-id-3 div.sk-label:hover label.sk-toggleable__label {background-color: #d4ebff;}#sk-container-id-3 div.sk-serial::before {content: \"\";position: absolute;border-left: 1px solid gray;box-sizing: border-box;top: 0;bottom: 0;left: 50%;z-index: 0;}#sk-container-id-3 div.sk-serial {display: flex;flex-direction: column;align-items: center;background-color: white;padding-right: 0.2em;padding-left: 0.2em;position: relative;}#sk-container-id-3 div.sk-item {position: relative;z-index: 1;}#sk-container-id-3 div.sk-parallel {display: flex;align-items: stretch;justify-content: center;background-color: white;position: relative;}#sk-container-id-3 div.sk-item::before, #sk-container-id-3 div.sk-parallel-item::before {content: \"\";position: absolute;border-left: 1px solid gray;box-sizing: border-box;top: 0;bottom: 0;left: 50%;z-index: -1;}#sk-container-id-3 div.sk-parallel-item {display: flex;flex-direction: column;z-index: 1;position: relative;background-color: white;}#sk-container-id-3 div.sk-parallel-item:first-child::after {align-self: flex-end;width: 50%;}#sk-container-id-3 div.sk-parallel-item:last-child::after {align-self: flex-start;width: 50%;}#sk-container-id-3 div.sk-parallel-item:only-child::after {width: 0;}#sk-container-id-3 div.sk-dashed-wrapped {border: 1px dashed gray;margin: 0 0.4em 0.5em 0.4em;box-sizing: border-box;padding-bottom: 0.4em;background-color: white;}#sk-container-id-3 div.sk-label label {font-family: monospace;font-weight: bold;display: inline-block;line-height: 1.2em;}#sk-container-id-3 div.sk-label-container {text-align: center;}#sk-container-id-3 div.sk-container {/* jupyter's `normalize.less` sets `[hidden] { display: none; }` but bootstrap.min.css set `[hidden] { display: none !important; }` so we also need the `!important` here to be able to override the default hidden behavior on the sphinx rendered scikit-learn.org. See: https://github.com/scikit-learn/scikit-learn/issues/21755 */display: inline-block !important;position: relative;}#sk-container-id-3 div.sk-text-repr-fallback {display: none;}</style><div id=\"sk-container-id-3\" class=\"sk-top-container\"><div class=\"sk-text-repr-fallback\"><pre>GridSearchCV(cv=5, estimator=SVC(),\n",
              "             param_grid={&#x27;C&#x27;: [0.5, 1, 10, 100], &#x27;kernel&#x27;: [&#x27;linear&#x27;, &#x27;rbf&#x27;]})</pre><b>In a Jupyter environment, please rerun this cell to show the HTML representation or trust the notebook. <br />On GitHub, the HTML representation is unable to render, please try loading this page with nbviewer.org.</b></div><div class=\"sk-container\" hidden><div class=\"sk-item sk-dashed-wrapped\"><div class=\"sk-label-container\"><div class=\"sk-label sk-toggleable\"><input class=\"sk-toggleable__control sk-hidden--visually\" id=\"sk-estimator-id-7\" type=\"checkbox\" ><label for=\"sk-estimator-id-7\" class=\"sk-toggleable__label sk-toggleable__label-arrow\">GridSearchCV</label><div class=\"sk-toggleable__content\"><pre>GridSearchCV(cv=5, estimator=SVC(),\n",
              "             param_grid={&#x27;C&#x27;: [0.5, 1, 10, 100], &#x27;kernel&#x27;: [&#x27;linear&#x27;, &#x27;rbf&#x27;]})</pre></div></div></div><div class=\"sk-parallel\"><div class=\"sk-parallel-item\"><div class=\"sk-item\"><div class=\"sk-label-container\"><div class=\"sk-label sk-toggleable\"><input class=\"sk-toggleable__control sk-hidden--visually\" id=\"sk-estimator-id-8\" type=\"checkbox\" ><label for=\"sk-estimator-id-8\" class=\"sk-toggleable__label sk-toggleable__label-arrow\">estimator: SVC</label><div class=\"sk-toggleable__content\"><pre>SVC()</pre></div></div></div><div class=\"sk-serial\"><div class=\"sk-item\"><div class=\"sk-estimator sk-toggleable\"><input class=\"sk-toggleable__control sk-hidden--visually\" id=\"sk-estimator-id-9\" type=\"checkbox\" ><label for=\"sk-estimator-id-9\" class=\"sk-toggleable__label sk-toggleable__label-arrow\">SVC</label><div class=\"sk-toggleable__content\"><pre>SVC()</pre></div></div></div></div></div></div></div></div></div></div>"
            ]
          },
          "metadata": {},
          "execution_count": 63
        }
      ],
      "source": [
        "parameters = {'C':[0.5,1,10,100], 'kernel':['linear','rbf']}\n",
        "model_svm = GridSearchCV(svm.SVC(), parameters, cv=5)\n",
        "model_svm.fit(X_train, y_train)"
      ]
    },
    {
      "cell_type": "code",
      "execution_count": 64,
      "id": "fd9d000e",
      "metadata": {
        "id": "fd9d000e",
        "outputId": "6c76028f-6ca7-4aa8-de61-f94e9ea6125a",
        "colab": {
          "base_uri": "https://localhost:8080/"
        }
      },
      "outputs": [
        {
          "output_type": "stream",
          "name": "stdout",
          "text": [
            "Mejores parametros: {'C': 10, 'kernel': 'rbf'}\n"
          ]
        }
      ],
      "source": [
        "print(f\"Mejores parametros: {model_svm.best_params_}\")"
      ]
    },
    {
      "cell_type": "code",
      "execution_count": 65,
      "id": "fa05f7a2-9049-4c95-8d96-f99824c56abd",
      "metadata": {
        "tags": [],
        "id": "fa05f7a2-9049-4c95-8d96-f99824c56abd"
      },
      "outputs": [],
      "source": [
        "y_train_predict = model_svm.predict(X_train)\n",
        "y_val_predict = model_svm.predict(X_val)\n",
        "y_test_predict = model_svm.predict(X_test)"
      ]
    },
    {
      "cell_type": "code",
      "execution_count": 66,
      "id": "328bd122-ed36-447b-a586-77dd1b002859",
      "metadata": {
        "tags": [],
        "id": "328bd122-ed36-447b-a586-77dd1b002859",
        "outputId": "6b41bb26-8b50-4de0-acd4-2564e5604ffc",
        "colab": {
          "base_uri": "https://localhost:8080/"
        }
      },
      "outputs": [
        {
          "output_type": "stream",
          "name": "stdout",
          "text": [
            "              precision    recall  f1-score   support\n",
            "\n",
            "         0.0       1.00      1.00      1.00       400\n",
            "         1.0       1.00      1.00      1.00       400\n",
            "\n",
            "    accuracy                           1.00       800\n",
            "   macro avg       1.00      1.00      1.00       800\n",
            "weighted avg       1.00      1.00      1.00       800\n",
            "\n",
            "              precision    recall  f1-score   support\n",
            "\n",
            "         0.0       0.89      0.94      0.91        50\n",
            "         1.0       0.94      0.88      0.91        50\n",
            "\n",
            "    accuracy                           0.91       100\n",
            "   macro avg       0.91      0.91      0.91       100\n",
            "weighted avg       0.91      0.91      0.91       100\n",
            "\n",
            "              precision    recall  f1-score   support\n",
            "\n",
            "         0.0       0.80      0.98      0.88        50\n",
            "         1.0       0.97      0.76      0.85        50\n",
            "\n",
            "    accuracy                           0.87       100\n",
            "   macro avg       0.89      0.87      0.87       100\n",
            "weighted avg       0.89      0.87      0.87       100\n",
            "\n"
          ]
        }
      ],
      "source": [
        "print(classification_report(y_train,y_train_predict))\n",
        "print(classification_report(y_val,y_val_predict))\n",
        "print(classification_report(y_test,y_test_predict))"
      ]
    },
    {
      "cell_type": "code",
      "execution_count": 29,
      "id": "5696f95c",
      "metadata": {
        "id": "5696f95c"
      },
      "outputs": [],
      "source": [
        "!pip install -q scikit-plot\n",
        "import scikitplot as skplt"
      ]
    },
    {
      "cell_type": "code",
      "execution_count": 67,
      "id": "5abfa96c-4d5d-4465-a6d7-088a77e80554",
      "metadata": {
        "tags": [],
        "id": "5abfa96c-4d5d-4465-a6d7-088a77e80554",
        "outputId": "fa2a38c4-c95c-4c79-b853-0d9249c7e067",
        "colab": {
          "base_uri": "https://localhost:8080/",
          "height": 1000
        }
      },
      "outputs": [
        {
          "output_type": "display_data",
          "data": {
            "text/plain": [
              "<Figure size 640x480 with 2 Axes>"
            ],
            "image/png": "[encoded data removed]"
          },
          "metadata": {}
        },
        {
          "output_type": "display_data",
          "data": {
            "text/plain": [
              "<Figure size 640x480 with 2 Axes>"
            ],
            "image/png": "[encoded data removed]"
          },
          "metadata": {}
        },
        {
          "output_type": "display_data",
          "data": {
            "text/plain": [
              "<Figure size 640x480 with 2 Axes>"
            ],
            "image/png": "[encoded data removed]"
          },
          "metadata": {}
        }
      ],
      "source": [
        "skplt.metrics.plot_confusion_matrix(y_train,y_train_predict, normalize=True)\n",
        "plt.title('Matriz de Confusión Train')\n",
        "\n",
        "skplt.metrics.plot_confusion_matrix(y_val,y_val_predict, normalize=True)\n",
        "plt.title('Matriz de Confusión Validation')\n",
        "\n",
        "skplt.metrics.plot_confusion_matrix(y_test,y_test_predict, normalize=True)\n",
        "plt.title('Matriz de Confusión Test')\n",
        "\n",
        "plt.show()"
      ]
    }
  ],
  "metadata": {
    "kernelspec": {
      "display_name": "Python 3",
      "name": "python3"
    },
    "language_info": {
      "codemirror_mode": {
        "name": "ipython",
        "version": 3
      },
      "file_extension": ".py",
      "mimetype": "text/x-python",
      "name": "python",
      "nbconvert_exporter": "python",
      "pygments_lexer": "ipython3",
      "version": "3.10.5"
    },
    "colab": {
      "provenance": [],
      "gpuType": "T4",
      "include_colab_link": true
    },
    "accelerator": "GPU"
  },
  "nbformat": 4,
  "nbformat_minor": 5
}