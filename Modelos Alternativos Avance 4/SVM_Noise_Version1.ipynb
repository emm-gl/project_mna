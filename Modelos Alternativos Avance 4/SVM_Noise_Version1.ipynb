{
 "cells": [
  {
   "cell_type": "code",
   "execution_count": 1,
   "id": "b47cec6c",
   "metadata": {},
   "outputs": [
    {
     "name": "stdout",
     "output_type": "stream",
     "text": [
      "Requirement already satisfied: scikit-image in /Library/Frameworks/Python.framework/Versions/3.10/lib/python3.10/site-packages (0.23.2)\n",
      "Requirement already satisfied: numpy>=1.23 in /Library/Frameworks/Python.framework/Versions/3.10/lib/python3.10/site-packages (from scikit-image) (1.24.3)\n",
      "Requirement already satisfied: scipy>=1.9 in /Library/Frameworks/Python.framework/Versions/3.10/lib/python3.10/site-packages (from scikit-image) (1.9.1)\n",
      "Requirement already satisfied: networkx>=2.8 in /Library/Frameworks/Python.framework/Versions/3.10/lib/python3.10/site-packages (from scikit-image) (3.1)\n",
      "Requirement already satisfied: pillow>=9.1 in /Library/Frameworks/Python.framework/Versions/3.10/lib/python3.10/site-packages (from scikit-image) (9.2.0)\n",
      "Requirement already satisfied: imageio>=2.33 in /Library/Frameworks/Python.framework/Versions/3.10/lib/python3.10/site-packages (from scikit-image) (2.34.1)\n",
      "Requirement already satisfied: tifffile>=2022.8.12 in /Library/Frameworks/Python.framework/Versions/3.10/lib/python3.10/site-packages (from scikit-image) (2024.5.22)\n",
      "Requirement already satisfied: packaging>=21 in /Library/Frameworks/Python.framework/Versions/3.10/lib/python3.10/site-packages (from scikit-image) (21.3)\n",
      "Requirement already satisfied: lazy-loader>=0.4 in /Library/Frameworks/Python.framework/Versions/3.10/lib/python3.10/site-packages (from scikit-image) (0.4)\n",
      "Requirement already satisfied: pyparsing!=3.0.5,>=2.0.2 in /Library/Frameworks/Python.framework/Versions/3.10/lib/python3.10/site-packages (from packaging>=21->scikit-image) (3.0.9)\n",
      "Note: you may need to restart the kernel to use updated packages.\n"
     ]
    }
   ],
   "source": [
    "pip install scikit-image"
   ]
  },
  {
   "cell_type": "code",
   "execution_count": 63,
   "id": "6a97af13-9cab-4bc0-b61f-9f6f4c719c14",
   "metadata": {
    "tags": []
   },
   "outputs": [],
   "source": [
    "import os \n",
    "import numpy as np\n",
    "import seaborn as sns\n",
    "import cv2\n",
    "\n",
    "import matplotlib.image as mpimg\n",
    "import matplotlib.pyplot as plt\n",
    "\n",
    "from sklearn import svm\n",
    "from sklearn.svm import SVC\n",
    "from sklearn.model_selection import train_test_split\n",
    "from sklearn.model_selection import GridSearchCV\n",
    "\n",
    "from skimage.feature import hog\n",
    "from sklearn.metrics import classification_report, accuracy_score,confusion_matrix"
   ]
  },
  {
   "cell_type": "code",
   "execution_count": 47,
   "id": "a8af0182-1511-4bf7-8ad7-af5f12e6f535",
   "metadata": {
    "tags": []
   },
   "outputs": [],
   "source": [
    "import glob\n",
    "\n",
    "noise = glob.glob(\"OK_etiquetadas_500-2/*.png\")\n",
    "nonoise = glob.glob(\"NOK_etiquetadas_500-2/*.png\")"
   ]
  },
  {
   "cell_type": "code",
   "execution_count": 48,
   "id": "ef390597-ce34-482a-92c7-30dcbdf2bcf1",
   "metadata": {
    "tags": []
   },
   "outputs": [
    {
     "data": {
      "text/plain": [
       "500"
      ]
     },
     "execution_count": 48,
     "metadata": {},
     "output_type": "execute_result"
    }
   ],
   "source": [
    "len(noise)"
   ]
  },
  {
   "cell_type": "code",
   "execution_count": 49,
   "id": "4a1fda5f-de33-448d-b36f-942d90a49d83",
   "metadata": {
    "tags": []
   },
   "outputs": [
    {
     "data": {
      "text/plain": [
       "500"
      ]
     },
     "execution_count": 49,
     "metadata": {},
     "output_type": "execute_result"
    }
   ],
   "source": [
    "len(nonoise)"
   ]
  },
  {
   "cell_type": "code",
   "execution_count": 50,
   "id": "875ed3e2",
   "metadata": {},
   "outputs": [],
   "source": [
    "noise_Formated = []\n",
    "nonoise_Formated = []\n",
    "\n",
    "width = 128\n",
    "height = 128\n",
    "dim = (width, height)\n",
    "\n",
    "for i in noise:\n",
    "    img_gray = mpimg.imread(i)\n",
    "    #resize image\n",
    "    img_resized = cv2.resize(img_gray, dim, interpolation = cv2.INTER_AREA)\n",
    "    \n",
    "    #add the new image to a new array\n",
    "    noise_Formated.append(img_resized)\n",
    "\n",
    "for i in nonoise:\n",
    "    img_gray = mpimg.imread(i)\n",
    "    #resize image\n",
    "    img_resized = cv2.resize(img_gray, dim, interpolation = cv2.INTER_AREA)\n",
    "    \n",
    "    #add the new image to a new array\n",
    "    nonoise_Formated.append(img_resized)"
   ]
  },
  {
   "cell_type": "code",
   "execution_count": 51,
   "id": "0d449ec8",
   "metadata": {},
   "outputs": [],
   "source": [
    "y_noise = np.ones(len(noise_Formated))\n",
    "y_nonoise = np.zeros(len(nonoise_Formated))"
   ]
  },
  {
   "cell_type": "code",
   "execution_count": 52,
   "id": "cfaad17a",
   "metadata": {},
   "outputs": [
    {
     "data": {
      "text/plain": [
       "(1000, 128, 128)"
      ]
     },
     "execution_count": 52,
     "metadata": {},
     "output_type": "execute_result"
    }
   ],
   "source": [
    "all_images = np.vstack((noise_Formated,nonoise_Formated))\n",
    "all_images.shape"
   ]
  },
  {
   "cell_type": "code",
   "execution_count": 53,
   "id": "56857dbe",
   "metadata": {},
   "outputs": [
    {
     "data": {
      "text/plain": [
       "(1000,)"
      ]
     },
     "execution_count": 53,
     "metadata": {},
     "output_type": "execute_result"
    }
   ],
   "source": [
    "all_labels = np.hstack((y_noise,y_nonoise))\n",
    "all_labels.shape"
   ]
  },
  {
   "cell_type": "code",
   "execution_count": 54,
   "id": "04451452",
   "metadata": {},
   "outputs": [],
   "source": [
    "all_images=all_images/255"
   ]
  },
  {
   "cell_type": "code",
   "execution_count": 55,
   "id": "76893946",
   "metadata": {},
   "outputs": [],
   "source": [
    "def hog_feature_extraction(all_images):\n",
    "    hog_features = []\n",
    "    for i in all_images:\n",
    "        features, _ = hog(i, \n",
    "                          orientations = 11,\n",
    "                          pixels_per_cell = (16,16), \n",
    "                          cells_per_block=(2, 2), \n",
    "                          transform_sqrt = False,\n",
    "                          visualize=True,\n",
    "                         feature_vector = True)\n",
    "        hog_features.append(features)\n",
    "    return hog_features"
   ]
  },
  {
   "cell_type": "code",
   "execution_count": 56,
   "id": "83dea673-88c8-42c4-9fb5-e01758f82e1c",
   "metadata": {
    "tags": []
   },
   "outputs": [],
   "source": [
    "hog_features = hog_feature_extraction(all_images)"
   ]
  },
  {
   "cell_type": "code",
   "execution_count": 57,
   "id": "bbaa744d",
   "metadata": {},
   "outputs": [],
   "source": [
    "X = np.array(hog_features)\n",
    "y = np.array(all_labels)"
   ]
  },
  {
   "cell_type": "code",
   "execution_count": 58,
   "id": "6da0660e-b605-4ea7-b0eb-1569ea0da139",
   "metadata": {
    "tags": []
   },
   "outputs": [],
   "source": [
    "X_tv, X_test, y_tv, y_test = train_test_split(X, y, test_size = 0.1, stratify=y, random_state = 42)"
   ]
  },
  {
   "cell_type": "code",
   "execution_count": 59,
   "id": "db68c93a",
   "metadata": {},
   "outputs": [],
   "source": [
    "X_train, X_val, y_train, y_val = train_test_split(X_tv, y_tv, test_size = 0.111, stratify=y_tv, random_state = 42)"
   ]
  },
  {
   "cell_type": "code",
   "execution_count": 60,
   "id": "fe656772-ee12-47ad-8b77-4291e540438c",
   "metadata": {
    "tags": []
   },
   "outputs": [
    {
     "data": {
      "text/plain": [
       "(800, 2156)"
      ]
     },
     "execution_count": 60,
     "metadata": {},
     "output_type": "execute_result"
    }
   ],
   "source": [
    "X_train.shape"
   ]
  },
  {
   "cell_type": "code",
   "execution_count": 61,
   "id": "42d6659d-dd59-41a1-8d5a-0b46f4afb841",
   "metadata": {
    "tags": []
   },
   "outputs": [
    {
     "data": {
      "text/plain": [
       "(100, 2156)"
      ]
     },
     "execution_count": 61,
     "metadata": {},
     "output_type": "execute_result"
    }
   ],
   "source": [
    "X_test.shape"
   ]
  },
  {
   "cell_type": "code",
   "execution_count": 65,
   "id": "ee4fae26-3a44-4dcc-966d-e3005d7583f1",
   "metadata": {
    "tags": []
   },
   "outputs": [
    {
     "data": {
      "text/plain": [
       "GridSearchCV(cv=5, estimator=SVC(),\n",
       "             param_grid={'C': [0.1, 1, 10, 100], 'kernel': ['linear', 'rbf']})"
      ]
     },
     "execution_count": 65,
     "metadata": {},
     "output_type": "execute_result"
    }
   ],
   "source": [
    "parameters = {'C':[0.1,1,10,100], 'kernel':['linear','rbf']}\n",
    "model_svm = GridSearchCV(svm.SVC(), parameters, cv=5)\n",
    "model_svm.fit(X_train, y_train)"
   ]
  },
  {
   "cell_type": "code",
   "execution_count": 67,
   "id": "fd9d000e",
   "metadata": {},
   "outputs": [
    {
     "name": "stdout",
     "output_type": "stream",
     "text": [
      "Mejores parametros: {'C': 100, 'kernel': 'rbf'}\n"
     ]
    }
   ],
   "source": [
    "print(f\"Mejores parametros: {model_svm.best_params_}\")"
   ]
  },
  {
   "cell_type": "code",
   "execution_count": 68,
   "id": "fa05f7a2-9049-4c95-8d96-f99824c56abd",
   "metadata": {
    "tags": []
   },
   "outputs": [],
   "source": [
    "y_train_predict = model_svm.predict(X_train)\n",
    "y_val_predict = model_svm.predict(X_val)\n",
    "y_test_predict = model_svm.predict(X_test)"
   ]
  },
  {
   "cell_type": "code",
   "execution_count": 69,
   "id": "328bd122-ed36-447b-a586-77dd1b002859",
   "metadata": {
    "tags": []
   },
   "outputs": [
    {
     "name": "stdout",
     "output_type": "stream",
     "text": [
      "              precision    recall  f1-score   support\n",
      "\n",
      "         0.0       1.00      1.00      1.00       400\n",
      "         1.0       1.00      1.00      1.00       400\n",
      "\n",
      "    accuracy                           1.00       800\n",
      "   macro avg       1.00      1.00      1.00       800\n",
      "weighted avg       1.00      1.00      1.00       800\n",
      "\n",
      "              precision    recall  f1-score   support\n",
      "\n",
      "         0.0       0.86      0.84      0.85        50\n",
      "         1.0       0.84      0.86      0.85        50\n",
      "\n",
      "    accuracy                           0.85       100\n",
      "   macro avg       0.85      0.85      0.85       100\n",
      "weighted avg       0.85      0.85      0.85       100\n",
      "\n",
      "              precision    recall  f1-score   support\n",
      "\n",
      "         0.0       0.77      0.88      0.82        50\n",
      "         1.0       0.86      0.74      0.80        50\n",
      "\n",
      "    accuracy                           0.81       100\n",
      "   macro avg       0.82      0.81      0.81       100\n",
      "weighted avg       0.82      0.81      0.81       100\n",
      "\n"
     ]
    }
   ],
   "source": [
    "print(classification_report(y_train,y_train_predict))\n",
    "print(classification_report(y_val,y_val_predict))\n",
    "print(classification_report(y_test,y_test_predict))"
   ]
  },
  {
   "cell_type": "code",
   "execution_count": 70,
   "id": "5696f95c",
   "metadata": {},
   "outputs": [],
   "source": [
    "!pip install -q scikit-plot\n",
    "import scikitplot as skplt"
   ]
  },
  {
   "cell_type": "code",
   "execution_count": 74,
   "id": "5abfa96c-4d5d-4465-a6d7-088a77e80554",
   "metadata": {
    "tags": []
   },
   "outputs": [
    {
     "data": {
      "image/png": "[encoded data removed]",
      "text/plain": [
       "<Figure size 432x288 with 2 Axes>"
      ]
     },
     "metadata": {
      "needs_background": "light"
     },
     "output_type": "display_data"
    },
    {
     "data": {
      "image/png": "[encoded data removed]",
      "text/plain": [
       "<Figure size 432x288 with 2 Axes>"
      ]
     },
     "metadata": {
      "needs_background": "light"
     },
     "output_type": "display_data"
    },
    {
     "data": {
      "image/png": "[encoded data removed]",
      "text/plain": [
       "<Figure size 432x288 with 2 Axes>"
      ]
     },
     "metadata": {
      "needs_background": "light"
     },
     "output_type": "display_data"
    }
   ],
   "source": [
    "skplt.metrics.plot_confusion_matrix(y_train,y_train_predict, normalize=True)\n",
    "plt.title('Matriz de Confusión Train')\n",
    "\n",
    "skplt.metrics.plot_confusion_matrix(y_val,y_val_predict, normalize=True)\n",
    "plt.title('Matriz de Confusión Validation')\n",
    "\n",
    "skplt.metrics.plot_confusion_matrix(y_test,y_test_predict, normalize=True)\n",
    "plt.title('Matriz de Confusión Test')\n",
    "\n",
    "plt.show()"
   ]
  },
  {
   "cell_type": "code",
   "execution_count": null,
   "id": "37c349eb",
   "metadata": {},
   "outputs": [],
   "source": []
  }
 ],
 "metadata": {
  "kernelspec": {
   "display_name": "Python 3 (ipykernel)",
   "language": "python",
   "name": "python3"
  },
  "language_info": {
   "codemirror_mode": {
    "name": "ipython",
    "version": 3
   },
   "file_extension": ".py",
   "mimetype": "text/x-python",
   "name": "python",
   "nbconvert_exporter": "python",
   "pygments_lexer": "ipython3",
   "version": "3.10.5"
  }
 },
 "nbformat": 4,
 "nbformat_minor": 5
}
