{
 "cells": [
  {
   "cell_type": "markdown",
   "id": "5cebda14",
   "metadata": {},
   "source": [
    "### 1000 imagenes de cada clase en grayscale \n",
    "\n",
    "### Optimizador Adam learning_rate=0.01\n",
    "\n",
    "### Epocas = 100\n",
    "\n",
    "### 3 capas densas = ReLu, ReLu y Softmax\n",
    "\n",
    "### Ultima capa = Sigmoid"
   ]
  },
  {
   "cell_type": "code",
   "execution_count": 1,
   "id": "871b942b-aecd-4cac-8d77-8872125822a1",
   "metadata": {
    "tags": []
   },
   "outputs": [
    {
     "name": "stderr",
     "output_type": "stream",
     "text": [
      "2024-05-24 15:30:03.382490: I tensorflow/core/platform/cpu_feature_guard.cc:210] This TensorFlow binary is optimized to use available CPU instructions in performance-critical operations.\n",
      "To enable the following instructions: AVX2 FMA, in other operations, rebuild TensorFlow with the appropriate compiler flags.\n"
     ]
    }
   ],
   "source": [
    "import numpy as np\n",
    "import matplotlib.pyplot as plt\n",
    "import keras\n",
    "from keras.datasets import cifar10\n",
    "from keras.models import Sequential\n",
    "from keras.layers import Dense\n",
    "from keras.optimizers import Adam\n",
    "import tensorflow as tf\n",
    "from tensorflow.keras.utils import to_categorical\n",
    "\n",
    "import random\n",
    "     \n",
    "from keras.layers import Dropout\n",
    "from keras.layers import Flatten\n",
    "\n",
    "from tensorflow.keras.layers import Conv2D\n",
    "\n",
    "from tensorflow.keras.layers import MaxPooling2D\n",
    "     \n",
    "from keras.models import Model\n",
    "\n",
    "import matplotlib.image as mpimg\n",
    "import seaborn as sns\n",
    "import cv2\n",
    "\n",
    "import glob\n",
    "\n",
    "from sklearn.model_selection import train_test_split\n",
    "from sklearn.preprocessing import LabelEncoder\n",
    "from sklearn.metrics import classification_report,confusion_matrix"
   ]
  },
  {
   "cell_type": "code",
   "execution_count": 2,
   "id": "500acdf7-b742-4d24-8193-f335e48c5767",
   "metadata": {
    "tags": []
   },
   "outputs": [],
   "source": [
    "file_path = 'Desktop/proyecto integrador/*'"
   ]
  },
  {
   "cell_type": "code",
   "execution_count": 3,
   "id": "1d23bd78-d49d-4d26-9ba5-2fde46a23f29",
   "metadata": {
    "tags": []
   },
   "outputs": [],
   "source": [
    "#Data acquisition\n",
    "noise = glob.glob(\"NOK_1000_grayscale/*.png\")\n",
    "\n",
    "nonoise = glob.glob(\"OK_1000_grayscale/*.png\")"
   ]
  },
  {
   "cell_type": "code",
   "execution_count": 4,
   "id": "ec79fbc9-4488-4463-a14b-81e6658ba2d2",
   "metadata": {
    "tags": []
   },
   "outputs": [
    {
     "data": {
      "text/plain": [
       "1000"
      ]
     },
     "execution_count": 4,
     "metadata": {},
     "output_type": "execute_result"
    }
   ],
   "source": [
    "len(noise)"
   ]
  },
  {
   "cell_type": "code",
   "execution_count": 5,
   "id": "86de597a-3f6f-4191-a7e7-59637293cc94",
   "metadata": {
    "tags": []
   },
   "outputs": [
    {
     "data": {
      "text/plain": [
       "1000"
      ]
     },
     "execution_count": 5,
     "metadata": {},
     "output_type": "execute_result"
    }
   ],
   "source": [
    "len(nonoise)"
   ]
  },
  {
   "cell_type": "code",
   "execution_count": 6,
   "id": "4b8d8b2b-b737-4be8-96a9-96e3eccaae48",
   "metadata": {
    "tags": []
   },
   "outputs": [],
   "source": [
    "noise_Formated = []\n",
    "nonoise_Formated = []\n",
    "\n",
    "width = 400 \n",
    "height = 250\n",
    "dim = (width, height)\n",
    "\n",
    "for i in noise:\n",
    "    img_gray = mpimg.imread(i)\n",
    "    #resize image\n",
    "    img_resized = cv2.resize(img_gray, dim, interpolation = cv2.INTER_AREA)\n",
    "    \n",
    "    #add the new image to a new array\n",
    "    noise_Formated.append(img_resized)\n",
    "\n",
    "for i in nonoise:\n",
    "    img_gray = mpimg.imread(i)\n",
    "    #resize image\n",
    "    img_resized = cv2.resize(img_gray, dim, interpolation = cv2.INTER_AREA)\n",
    "    \n",
    "    #add the new image to a new array\n",
    "    nonoise_Formated.append(img_resized)"
   ]
  },
  {
   "cell_type": "code",
   "execution_count": 7,
   "id": "641b077c-7385-4fe0-bbb6-e42c6d411481",
   "metadata": {
    "tags": []
   },
   "outputs": [],
   "source": [
    "y_noise = np.ones(len(noise_Formated))\n",
    "y_nonoise = np.zeros(len(nonoise_Formated))"
   ]
  },
  {
   "cell_type": "code",
   "execution_count": 8,
   "id": "2a8f73ab-5660-4972-8d62-2eedb5a6315f",
   "metadata": {
    "tags": []
   },
   "outputs": [
    {
     "data": {
      "text/plain": [
       "(2000, 250, 400)"
      ]
     },
     "execution_count": 8,
     "metadata": {},
     "output_type": "execute_result"
    }
   ],
   "source": [
    "X = np.vstack((noise_Formated,nonoise_Formated))\n",
    "X.shape"
   ]
  },
  {
   "cell_type": "code",
   "execution_count": 9,
   "id": "e2a84da4-86ce-43cc-bf74-419e7f5aa8b2",
   "metadata": {
    "tags": []
   },
   "outputs": [
    {
     "data": {
      "text/plain": [
       "(2000,)"
      ]
     },
     "execution_count": 9,
     "metadata": {},
     "output_type": "execute_result"
    }
   ],
   "source": [
    "y = np.hstack((y_noise,y_nonoise))\n",
    "y.shape"
   ]
  },
  {
   "cell_type": "code",
   "execution_count": 10,
   "id": "065a9b81-7481-4c9b-a846-27db90d93ba1",
   "metadata": {
    "tags": []
   },
   "outputs": [],
   "source": [
    "X=X/255"
   ]
  },
  {
   "cell_type": "code",
   "execution_count": 11,
   "id": "c8e07c6f-9d2c-46f5-b0ad-9dc1a8cc9a58",
   "metadata": {
    "tags": []
   },
   "outputs": [
    {
     "name": "stdout",
     "output_type": "stream",
     "text": [
      "(2000, 100000)\n"
     ]
    }
   ],
   "source": [
    "# 400 x 250 = 100,000\n",
    "num_pixels = 100000\n",
    "X = X.reshape(X.shape[0], num_pixels)\n",
    "print(X.shape)"
   ]
  },
  {
   "cell_type": "code",
   "execution_count": 12,
   "id": "53295b89-6892-4583-ad62-92db4ce3a57a",
   "metadata": {
    "tags": []
   },
   "outputs": [
    {
     "name": "stderr",
     "output_type": "stream",
     "text": [
      "/Library/Frameworks/Python.framework/Versions/3.10/lib/python3.10/site-packages/keras/src/layers/core/dense.py:87: UserWarning: Do not pass an `input_shape`/`input_dim` argument to a layer. When using Sequential models, prefer using an `Input(shape)` object as the first layer in the model instead.\n",
      "  super().__init__(activity_regularizer=activity_regularizer, **kwargs)\n"
     ]
    },
    {
     "data": {
      "text/html": [
       "<pre style=\"white-space:pre;overflow-x:auto;line-height:normal;font-family:Menlo,'DejaVu Sans Mono',consolas,'Courier New',monospace\"><span style=\"font-weight: bold\">Model: \"sequential\"</span>\n",
       "</pre>\n"
      ],
      "text/plain": [
       "\u001b[1mModel: \"sequential\"\u001b[0m\n"
      ]
     },
     "metadata": {},
     "output_type": "display_data"
    },
    {
     "data": {
      "text/html": [
       "<pre style=\"white-space:pre;overflow-x:auto;line-height:normal;font-family:Menlo,'DejaVu Sans Mono',consolas,'Courier New',monospace\">┏━━━━━━━━━━━━━━━━━━━━━━━━━━━━━━━━━┳━━━━━━━━━━━━━━━━━━━━━━━━┳━━━━━━━━━━━━━━━┓\n",
       "┃<span style=\"font-weight: bold\"> Layer (type)                    </span>┃<span style=\"font-weight: bold\"> Output Shape           </span>┃<span style=\"font-weight: bold\">       Param # </span>┃\n",
       "┡━━━━━━━━━━━━━━━━━━━━━━━━━━━━━━━━━╇━━━━━━━━━━━━━━━━━━━━━━━━╇━━━━━━━━━━━━━━━┩\n",
       "│ dense (<span style=\"color: #0087ff; text-decoration-color: #0087ff\">Dense</span>)                   │ (<span style=\"color: #00d7ff; text-decoration-color: #00d7ff\">None</span>, <span style=\"color: #00af00; text-decoration-color: #00af00\">50</span>)             │     <span style=\"color: #00af00; text-decoration-color: #00af00\">5,000,050</span> │\n",
       "├─────────────────────────────────┼────────────────────────┼───────────────┤\n",
       "│ dense_1 (<span style=\"color: #0087ff; text-decoration-color: #0087ff\">Dense</span>)                 │ (<span style=\"color: #00d7ff; text-decoration-color: #00d7ff\">None</span>, <span style=\"color: #00af00; text-decoration-color: #00af00\">10</span>)             │           <span style=\"color: #00af00; text-decoration-color: #00af00\">510</span> │\n",
       "├─────────────────────────────────┼────────────────────────┼───────────────┤\n",
       "│ dense_2 (<span style=\"color: #0087ff; text-decoration-color: #0087ff\">Dense</span>)                 │ (<span style=\"color: #00d7ff; text-decoration-color: #00d7ff\">None</span>, <span style=\"color: #00af00; text-decoration-color: #00af00\">10</span>)             │           <span style=\"color: #00af00; text-decoration-color: #00af00\">110</span> │\n",
       "└─────────────────────────────────┴────────────────────────┴───────────────┘\n",
       "</pre>\n"
      ],
      "text/plain": [
       "┏━━━━━━━━━━━━━━━━━━━━━━━━━━━━━━━━━┳━━━━━━━━━━━━━━━━━━━━━━━━┳━━━━━━━━━━━━━━━┓\n",
       "┃\u001b[1m \u001b[0m\u001b[1mLayer (type)                   \u001b[0m\u001b[1m \u001b[0m┃\u001b[1m \u001b[0m\u001b[1mOutput Shape          \u001b[0m\u001b[1m \u001b[0m┃\u001b[1m \u001b[0m\u001b[1m      Param #\u001b[0m\u001b[1m \u001b[0m┃\n",
       "┡━━━━━━━━━━━━━━━━━━━━━━━━━━━━━━━━━╇━━━━━━━━━━━━━━━━━━━━━━━━╇━━━━━━━━━━━━━━━┩\n",
       "│ dense (\u001b[38;5;33mDense\u001b[0m)                   │ (\u001b[38;5;45mNone\u001b[0m, \u001b[38;5;34m50\u001b[0m)             │     \u001b[38;5;34m5,000,050\u001b[0m │\n",
       "├─────────────────────────────────┼────────────────────────┼───────────────┤\n",
       "│ dense_1 (\u001b[38;5;33mDense\u001b[0m)                 │ (\u001b[38;5;45mNone\u001b[0m, \u001b[38;5;34m10\u001b[0m)             │           \u001b[38;5;34m510\u001b[0m │\n",
       "├─────────────────────────────────┼────────────────────────┼───────────────┤\n",
       "│ dense_2 (\u001b[38;5;33mDense\u001b[0m)                 │ (\u001b[38;5;45mNone\u001b[0m, \u001b[38;5;34m10\u001b[0m)             │           \u001b[38;5;34m110\u001b[0m │\n",
       "└─────────────────────────────────┴────────────────────────┴───────────────┘\n"
      ]
     },
     "metadata": {},
     "output_type": "display_data"
    },
    {
     "data": {
      "text/html": [
       "<pre style=\"white-space:pre;overflow-x:auto;line-height:normal;font-family:Menlo,'DejaVu Sans Mono',consolas,'Courier New',monospace\"><span style=\"font-weight: bold\"> Total params: </span><span style=\"color: #00af00; text-decoration-color: #00af00\">5,000,670</span> (19.08 MB)\n",
       "</pre>\n"
      ],
      "text/plain": [
       "\u001b[1m Total params: \u001b[0m\u001b[38;5;34m5,000,670\u001b[0m (19.08 MB)\n"
      ]
     },
     "metadata": {},
     "output_type": "display_data"
    },
    {
     "data": {
      "text/html": [
       "<pre style=\"white-space:pre;overflow-x:auto;line-height:normal;font-family:Menlo,'DejaVu Sans Mono',consolas,'Courier New',monospace\"><span style=\"font-weight: bold\"> Trainable params: </span><span style=\"color: #00af00; text-decoration-color: #00af00\">5,000,670</span> (19.08 MB)\n",
       "</pre>\n"
      ],
      "text/plain": [
       "\u001b[1m Trainable params: \u001b[0m\u001b[38;5;34m5,000,670\u001b[0m (19.08 MB)\n"
      ]
     },
     "metadata": {},
     "output_type": "display_data"
    },
    {
     "data": {
      "text/html": [
       "<pre style=\"white-space:pre;overflow-x:auto;line-height:normal;font-family:Menlo,'DejaVu Sans Mono',consolas,'Courier New',monospace\"><span style=\"font-weight: bold\"> Non-trainable params: </span><span style=\"color: #00af00; text-decoration-color: #00af00\">0</span> (0.00 B)\n",
       "</pre>\n"
      ],
      "text/plain": [
       "\u001b[1m Non-trainable params: \u001b[0m\u001b[38;5;34m0\u001b[0m (0.00 B)\n"
      ]
     },
     "metadata": {},
     "output_type": "display_data"
    },
    {
     "name": "stdout",
     "output_type": "stream",
     "text": [
      "None\n"
     ]
    }
   ],
   "source": [
    "model = Sequential()\n",
    "model.add(Dense(units = 50, input_dim=num_pixels, activation='relu'))\n",
    "#model.add(Dropout(0.2))\n",
    "model.add(Dense(units = 10, activation='relu'))\n",
    "#model.add(Dropout(0.2))\n",
    "model.add(Dense(units = 10, activation='softmax'))\n",
    "\n",
    "optimizer = tf.keras.optimizers.Adam(learning_rate=0.1)\n",
    "model.compile(optimizer=optimizer, loss='binary_crossentropy', metrics=['accuracy'])\n",
    "print(model.summary())"
   ]
  },
  {
   "cell_type": "code",
   "execution_count": 13,
   "id": "43226466-0af8-4e0d-86da-2afcde1f4175",
   "metadata": {
    "tags": []
   },
   "outputs": [
    {
     "name": "stdout",
     "output_type": "stream",
     "text": [
      "(2000, 100000)\n",
      "(2000,)\n",
      "[1. 1. 1. ... 0. 0. 0.]\n"
     ]
    }
   ],
   "source": [
    "print(X.shape)\n",
    "print(y.shape)\n",
    "print(y)"
   ]
  },
  {
   "cell_type": "code",
   "execution_count": 14,
   "id": "a6f0e3ae-55f7-49b2-8e1f-cf2997ca7654",
   "metadata": {
    "tags": []
   },
   "outputs": [],
   "source": [
    "# 10% para el set de prueba\n",
    "X_tv, X_test, y_tv, y_test = train_test_split(X, y, test_size = 0.1, stratify=y, random_state = 42)"
   ]
  },
  {
   "cell_type": "code",
   "execution_count": 15,
   "id": "98bf409e",
   "metadata": {},
   "outputs": [],
   "source": [
    "# 10% para el set de validacion\n",
    "X_train, X_val, y_train, y_val = train_test_split(X_tv, y_tv, test_size = 0.1, stratify=y_tv, random_state = 42)"
   ]
  },
  {
   "cell_type": "code",
   "execution_count": 16,
   "id": "950582c9-5509-40ca-9783-3125fe59b3a6",
   "metadata": {
    "tags": []
   },
   "outputs": [
    {
     "name": "stderr",
     "output_type": "stream",
     "text": [
      "/Library/Frameworks/Python.framework/Versions/3.10/lib/python3.10/site-packages/keras/src/layers/core/dense.py:87: UserWarning: Do not pass an `input_shape`/`input_dim` argument to a layer. When using Sequential models, prefer using an `Input(shape)` object as the first layer in the model instead.\n",
      "  super().__init__(activity_regularizer=activity_regularizer, **kwargs)\n"
     ]
    }
   ],
   "source": [
    "model = Sequential()\n",
    "model.add(Dense(units=1, input_dim=100000, activation='sigmoid'))\n",
    "model.compile(optimizer=Adam(learning_rate=0.01), loss='binary_crossentropy',  metrics=['accuracy'])"
   ]
  },
  {
   "cell_type": "code",
   "execution_count": 17,
   "id": "d00f22f7-9aae-4375-a851-40be848f9e37",
   "metadata": {
    "tags": []
   },
   "outputs": [
    {
     "name": "stdout",
     "output_type": "stream",
     "text": [
      "Epoch 1/100\n",
      "51/51 - 7s - 138ms/step - accuracy: 0.6451 - loss: 0.6043 - val_accuracy: 0.7111 - val_loss: 0.5272\n",
      "Epoch 2/100\n",
      "51/51 - 1s - 19ms/step - accuracy: 0.7130 - loss: 0.5527 - val_accuracy: 0.7778 - val_loss: 0.5055\n",
      "Epoch 3/100\n",
      "51/51 - 1s - 18ms/step - accuracy: 0.7222 - loss: 0.5262 - val_accuracy: 0.7278 - val_loss: 0.5014\n",
      "Epoch 4/100\n",
      "51/51 - 1s - 16ms/step - accuracy: 0.7358 - loss: 0.5137 - val_accuracy: 0.7611 - val_loss: 0.4756\n",
      "Epoch 5/100\n",
      "51/51 - 1s - 14ms/step - accuracy: 0.7512 - loss: 0.4979 - val_accuracy: 0.7556 - val_loss: 0.4679\n",
      "Epoch 6/100\n",
      "51/51 - 1s - 14ms/step - accuracy: 0.7556 - loss: 0.4800 - val_accuracy: 0.7722 - val_loss: 0.4565\n",
      "Epoch 7/100\n",
      "51/51 - 1s - 14ms/step - accuracy: 0.7543 - loss: 0.4862 - val_accuracy: 0.7778 - val_loss: 0.4487\n",
      "Epoch 8/100\n",
      "51/51 - 1s - 14ms/step - accuracy: 0.7772 - loss: 0.4620 - val_accuracy: 0.8056 - val_loss: 0.4455\n",
      "Epoch 9/100\n",
      "51/51 - 1s - 14ms/step - accuracy: 0.7809 - loss: 0.4553 - val_accuracy: 0.7556 - val_loss: 0.4652\n",
      "Epoch 10/100\n",
      "51/51 - 0s - 9ms/step - accuracy: 0.7938 - loss: 0.4435 - val_accuracy: 0.7778 - val_loss: 0.4460\n",
      "Epoch 11/100\n",
      "51/51 - 1s - 13ms/step - accuracy: 0.7951 - loss: 0.4353 - val_accuracy: 0.7833 - val_loss: 0.4357\n",
      "Epoch 12/100\n",
      "51/51 - 1s - 14ms/step - accuracy: 0.8093 - loss: 0.4235 - val_accuracy: 0.8056 - val_loss: 0.4244\n",
      "Epoch 13/100\n",
      "51/51 - 0s - 9ms/step - accuracy: 0.8148 - loss: 0.4214 - val_accuracy: 0.8056 - val_loss: 0.4128\n",
      "Epoch 14/100\n",
      "51/51 - 1s - 13ms/step - accuracy: 0.8235 - loss: 0.4109 - val_accuracy: 0.8000 - val_loss: 0.4120\n",
      "Epoch 15/100\n",
      "51/51 - 1s - 16ms/step - accuracy: 0.8389 - loss: 0.4005 - val_accuracy: 0.8056 - val_loss: 0.4016\n",
      "Epoch 16/100\n",
      "51/51 - 1s - 14ms/step - accuracy: 0.8444 - loss: 0.3924 - val_accuracy: 0.8222 - val_loss: 0.3970\n",
      "Epoch 17/100\n",
      "51/51 - 1s - 10ms/step - accuracy: 0.8340 - loss: 0.3871 - val_accuracy: 0.8000 - val_loss: 0.4007\n",
      "Epoch 18/100\n",
      "51/51 - 1s - 12ms/step - accuracy: 0.8481 - loss: 0.3834 - val_accuracy: 0.8278 - val_loss: 0.4069\n",
      "Epoch 19/100\n",
      "51/51 - 1s - 14ms/step - accuracy: 0.8444 - loss: 0.3758 - val_accuracy: 0.8222 - val_loss: 0.3816\n",
      "Epoch 20/100\n",
      "51/51 - 1s - 14ms/step - accuracy: 0.8599 - loss: 0.3665 - val_accuracy: 0.8222 - val_loss: 0.3784\n",
      "Epoch 21/100\n",
      "51/51 - 1s - 15ms/step - accuracy: 0.8673 - loss: 0.3619 - val_accuracy: 0.8389 - val_loss: 0.3707\n",
      "Epoch 22/100\n",
      "51/51 - 1s - 15ms/step - accuracy: 0.8710 - loss: 0.3580 - val_accuracy: 0.8500 - val_loss: 0.3676\n",
      "Epoch 23/100\n",
      "51/51 - 1s - 15ms/step - accuracy: 0.8753 - loss: 0.3499 - val_accuracy: 0.8333 - val_loss: 0.3668\n",
      "Epoch 24/100\n",
      "51/51 - 1s - 14ms/step - accuracy: 0.8840 - loss: 0.3426 - val_accuracy: 0.8556 - val_loss: 0.3568\n",
      "Epoch 25/100\n",
      "51/51 - 1s - 14ms/step - accuracy: 0.8870 - loss: 0.3389 - val_accuracy: 0.8500 - val_loss: 0.3547\n",
      "Epoch 26/100\n",
      "51/51 - 1s - 24ms/step - accuracy: 0.8877 - loss: 0.3310 - val_accuracy: 0.8500 - val_loss: 0.3536\n",
      "Epoch 27/100\n",
      "51/51 - 1s - 12ms/step - accuracy: 0.8901 - loss: 0.3280 - val_accuracy: 0.8500 - val_loss: 0.3575\n",
      "Epoch 28/100\n",
      "51/51 - 1s - 11ms/step - accuracy: 0.9056 - loss: 0.3218 - val_accuracy: 0.8556 - val_loss: 0.3439\n",
      "Epoch 29/100\n",
      "51/51 - 1s - 14ms/step - accuracy: 0.8975 - loss: 0.3208 - val_accuracy: 0.8667 - val_loss: 0.3443\n",
      "Epoch 30/100\n",
      "51/51 - 1s - 23ms/step - accuracy: 0.9130 - loss: 0.3097 - val_accuracy: 0.8667 - val_loss: 0.3350\n",
      "Epoch 31/100\n",
      "51/51 - 0s - 8ms/step - accuracy: 0.9136 - loss: 0.3060 - val_accuracy: 0.8611 - val_loss: 0.3301\n",
      "Epoch 32/100\n",
      "51/51 - 1s - 17ms/step - accuracy: 0.9130 - loss: 0.3014 - val_accuracy: 0.8667 - val_loss: 0.3356\n",
      "Epoch 33/100\n",
      "51/51 - 1s - 12ms/step - accuracy: 0.9068 - loss: 0.3120 - val_accuracy: 0.8611 - val_loss: 0.3226\n",
      "Epoch 34/100\n",
      "51/51 - 0s - 9ms/step - accuracy: 0.9204 - loss: 0.2918 - val_accuracy: 0.8722 - val_loss: 0.3201\n",
      "Epoch 35/100\n",
      "51/51 - 1s - 14ms/step - accuracy: 0.9265 - loss: 0.2887 - val_accuracy: 0.8833 - val_loss: 0.3158\n",
      "Epoch 36/100\n",
      "51/51 - 1s - 15ms/step - accuracy: 0.9191 - loss: 0.2875 - val_accuracy: 0.8889 - val_loss: 0.3107\n",
      "Epoch 37/100\n",
      "51/51 - 0s - 9ms/step - accuracy: 0.9253 - loss: 0.2838 - val_accuracy: 0.8722 - val_loss: 0.3321\n",
      "Epoch 38/100\n",
      "51/51 - 1s - 14ms/step - accuracy: 0.9284 - loss: 0.2776 - val_accuracy: 0.8833 - val_loss: 0.3073\n",
      "Epoch 39/100\n",
      "51/51 - 1s - 14ms/step - accuracy: 0.9302 - loss: 0.2733 - val_accuracy: 0.8778 - val_loss: 0.3004\n",
      "Epoch 40/100\n",
      "51/51 - 1s - 19ms/step - accuracy: 0.9321 - loss: 0.2685 - val_accuracy: 0.8889 - val_loss: 0.2999\n",
      "Epoch 41/100\n",
      "51/51 - 1s - 19ms/step - accuracy: 0.9265 - loss: 0.2695 - val_accuracy: 0.8944 - val_loss: 0.3037\n",
      "Epoch 42/100\n",
      "51/51 - 1s - 19ms/step - accuracy: 0.9370 - loss: 0.2592 - val_accuracy: 0.8833 - val_loss: 0.2948\n",
      "Epoch 43/100\n",
      "51/51 - 1s - 21ms/step - accuracy: 0.9377 - loss: 0.2574 - val_accuracy: 0.9000 - val_loss: 0.2872\n",
      "Epoch 44/100\n",
      "51/51 - 1s - 14ms/step - accuracy: 0.9383 - loss: 0.2560 - val_accuracy: 0.8889 - val_loss: 0.2943\n",
      "Epoch 45/100\n",
      "51/51 - 1s - 13ms/step - accuracy: 0.9457 - loss: 0.2509 - val_accuracy: 0.9000 - val_loss: 0.2802\n",
      "Epoch 46/100\n",
      "51/51 - 1s - 19ms/step - accuracy: 0.9469 - loss: 0.2467 - val_accuracy: 0.9056 - val_loss: 0.2777\n",
      "Epoch 47/100\n",
      "51/51 - 1s - 16ms/step - accuracy: 0.9451 - loss: 0.2439 - val_accuracy: 0.8944 - val_loss: 0.2771\n",
      "Epoch 48/100\n",
      "51/51 - 1s - 14ms/step - accuracy: 0.9512 - loss: 0.2384 - val_accuracy: 0.9056 - val_loss: 0.2699\n",
      "Epoch 49/100\n",
      "51/51 - 1s - 14ms/step - accuracy: 0.9500 - loss: 0.2367 - val_accuracy: 0.8944 - val_loss: 0.2731\n",
      "Epoch 50/100\n",
      "51/51 - 1s - 19ms/step - accuracy: 0.9475 - loss: 0.2332 - val_accuracy: 0.9111 - val_loss: 0.2639\n",
      "Epoch 51/100\n",
      "51/51 - 1s - 15ms/step - accuracy: 0.9512 - loss: 0.2347 - val_accuracy: 0.8889 - val_loss: 0.2660\n",
      "Epoch 52/100\n",
      "51/51 - 1s - 22ms/step - accuracy: 0.9556 - loss: 0.2265 - val_accuracy: 0.9167 - val_loss: 0.2624\n",
      "Epoch 53/100\n",
      "51/51 - 1s - 20ms/step - accuracy: 0.9617 - loss: 0.2252 - val_accuracy: 0.9111 - val_loss: 0.2592\n",
      "Epoch 54/100\n",
      "51/51 - 1s - 17ms/step - accuracy: 0.9562 - loss: 0.2207 - val_accuracy: 0.8944 - val_loss: 0.2701\n",
      "Epoch 55/100\n",
      "51/51 - 1s - 15ms/step - accuracy: 0.9599 - loss: 0.2194 - val_accuracy: 0.9222 - val_loss: 0.2512\n",
      "Epoch 56/100\n",
      "51/51 - 1s - 14ms/step - accuracy: 0.9636 - loss: 0.2155 - val_accuracy: 0.9167 - val_loss: 0.2477\n",
      "Epoch 57/100\n",
      "51/51 - 1s - 15ms/step - accuracy: 0.9586 - loss: 0.2138 - val_accuracy: 0.9167 - val_loss: 0.2442\n",
      "Epoch 58/100\n",
      "51/51 - 1s - 18ms/step - accuracy: 0.9617 - loss: 0.2112 - val_accuracy: 0.9278 - val_loss: 0.2427\n",
      "Epoch 59/100\n",
      "51/51 - 1s - 19ms/step - accuracy: 0.9642 - loss: 0.2079 - val_accuracy: 0.9278 - val_loss: 0.2409\n",
      "Epoch 60/100\n",
      "51/51 - 1s - 19ms/step - accuracy: 0.9660 - loss: 0.2042 - val_accuracy: 0.9111 - val_loss: 0.2428\n",
      "Epoch 61/100\n",
      "51/51 - 1s - 16ms/step - accuracy: 0.9704 - loss: 0.2012 - val_accuracy: 0.9222 - val_loss: 0.2344\n",
      "Epoch 62/100\n",
      "51/51 - 1s - 15ms/step - accuracy: 0.9698 - loss: 0.1980 - val_accuracy: 0.9278 - val_loss: 0.2312\n",
      "Epoch 63/100\n",
      "51/51 - 1s - 25ms/step - accuracy: 0.9691 - loss: 0.1955 - val_accuracy: 0.9333 - val_loss: 0.2295\n",
      "Epoch 64/100\n",
      "51/51 - 1s - 16ms/step - accuracy: 0.9704 - loss: 0.1934 - val_accuracy: 0.9222 - val_loss: 0.2262\n",
      "Epoch 65/100\n",
      "51/51 - 1s - 20ms/step - accuracy: 0.9765 - loss: 0.1903 - val_accuracy: 0.9278 - val_loss: 0.2241\n",
      "Epoch 66/100\n",
      "51/51 - 1s - 18ms/step - accuracy: 0.9728 - loss: 0.1880 - val_accuracy: 0.9333 - val_loss: 0.2293\n",
      "Epoch 67/100\n",
      "51/51 - 1s - 15ms/step - accuracy: 0.9685 - loss: 0.1910 - val_accuracy: 0.9278 - val_loss: 0.2204\n",
      "Epoch 68/100\n",
      "51/51 - 1s - 12ms/step - accuracy: 0.9741 - loss: 0.1873 - val_accuracy: 0.9389 - val_loss: 0.2196\n",
      "Epoch 69/100\n",
      "51/51 - 1s - 17ms/step - accuracy: 0.9753 - loss: 0.1818 - val_accuracy: 0.9389 - val_loss: 0.2157\n",
      "Epoch 70/100\n",
      "51/51 - 1s - 10ms/step - accuracy: 0.9802 - loss: 0.1793 - val_accuracy: 0.9389 - val_loss: 0.2122\n",
      "Epoch 71/100\n",
      "51/51 - 1s - 10ms/step - accuracy: 0.9741 - loss: 0.1786 - val_accuracy: 0.9111 - val_loss: 0.2238\n",
      "Epoch 72/100\n",
      "51/51 - 0s - 10ms/step - accuracy: 0.9778 - loss: 0.1749 - val_accuracy: 0.9444 - val_loss: 0.2072\n",
      "Epoch 73/100\n",
      "51/51 - 1s - 12ms/step - accuracy: 0.9772 - loss: 0.1711 - val_accuracy: 0.9333 - val_loss: 0.2092\n",
      "Epoch 74/100\n",
      "51/51 - 1s - 19ms/step - accuracy: 0.9796 - loss: 0.1703 - val_accuracy: 0.9389 - val_loss: 0.2086\n"
     ]
    },
    {
     "name": "stdout",
     "output_type": "stream",
     "text": [
      "Epoch 75/100\n",
      "51/51 - 1s - 13ms/step - accuracy: 0.9815 - loss: 0.1674 - val_accuracy: 0.9333 - val_loss: 0.2069\n",
      "Epoch 76/100\n",
      "51/51 - 1s - 26ms/step - accuracy: 0.9778 - loss: 0.1655 - val_accuracy: 0.9444 - val_loss: 0.1983\n",
      "Epoch 77/100\n",
      "51/51 - 1s - 22ms/step - accuracy: 0.9809 - loss: 0.1634 - val_accuracy: 0.9444 - val_loss: 0.1965\n",
      "Epoch 78/100\n",
      "51/51 - 0s - 9ms/step - accuracy: 0.9790 - loss: 0.1635 - val_accuracy: 0.9500 - val_loss: 0.1973\n",
      "Epoch 79/100\n",
      "51/51 - 0s - 9ms/step - accuracy: 0.9796 - loss: 0.1617 - val_accuracy: 0.9500 - val_loss: 0.1923\n",
      "Epoch 80/100\n",
      "51/51 - 1s - 11ms/step - accuracy: 0.9821 - loss: 0.1575 - val_accuracy: 0.9444 - val_loss: 0.1949\n",
      "Epoch 81/100\n",
      "51/51 - 1s - 14ms/step - accuracy: 0.9815 - loss: 0.1568 - val_accuracy: 0.9444 - val_loss: 0.1938\n",
      "Epoch 82/100\n",
      "51/51 - 1s - 15ms/step - accuracy: 0.9864 - loss: 0.1547 - val_accuracy: 0.9444 - val_loss: 0.1878\n",
      "Epoch 83/100\n",
      "51/51 - 1s - 14ms/step - accuracy: 0.9840 - loss: 0.1509 - val_accuracy: 0.9500 - val_loss: 0.1844\n",
      "Epoch 84/100\n",
      "51/51 - 1s - 12ms/step - accuracy: 0.9864 - loss: 0.1511 - val_accuracy: 0.9500 - val_loss: 0.1829\n",
      "Epoch 85/100\n",
      "51/51 - 1s - 12ms/step - accuracy: 0.9827 - loss: 0.1473 - val_accuracy: 0.9500 - val_loss: 0.1811\n",
      "Epoch 86/100\n",
      "51/51 - 1s - 11ms/step - accuracy: 0.9870 - loss: 0.1448 - val_accuracy: 0.9556 - val_loss: 0.1787\n",
      "Epoch 87/100\n",
      "51/51 - 0s - 10ms/step - accuracy: 0.9864 - loss: 0.1435 - val_accuracy: 0.9611 - val_loss: 0.1756\n",
      "Epoch 88/100\n",
      "51/51 - 0s - 10ms/step - accuracy: 0.9864 - loss: 0.1428 - val_accuracy: 0.9611 - val_loss: 0.1742\n",
      "Epoch 89/100\n",
      "51/51 - 0s - 10ms/step - accuracy: 0.9840 - loss: 0.1426 - val_accuracy: 0.9611 - val_loss: 0.1744\n",
      "Epoch 90/100\n",
      "51/51 - 0s - 9ms/step - accuracy: 0.9877 - loss: 0.1379 - val_accuracy: 0.9611 - val_loss: 0.1713\n",
      "Epoch 91/100\n",
      "51/51 - 0s - 10ms/step - accuracy: 0.9883 - loss: 0.1378 - val_accuracy: 0.9500 - val_loss: 0.1742\n",
      "Epoch 92/100\n",
      "51/51 - 0s - 10ms/step - accuracy: 0.9870 - loss: 0.1367 - val_accuracy: 0.9667 - val_loss: 0.1667\n",
      "Epoch 93/100\n",
      "51/51 - 0s - 9ms/step - accuracy: 0.9883 - loss: 0.1352 - val_accuracy: 0.9556 - val_loss: 0.1667\n",
      "Epoch 94/100\n",
      "51/51 - 0s - 10ms/step - accuracy: 0.9895 - loss: 0.1336 - val_accuracy: 0.9667 - val_loss: 0.1635\n",
      "Epoch 95/100\n",
      "51/51 - 1s - 12ms/step - accuracy: 0.9889 - loss: 0.1326 - val_accuracy: 0.9611 - val_loss: 0.1666\n",
      "Epoch 96/100\n",
      "51/51 - 1s - 23ms/step - accuracy: 0.9883 - loss: 0.1293 - val_accuracy: 0.9611 - val_loss: 0.1615\n",
      "Epoch 97/100\n",
      "51/51 - 1s - 10ms/step - accuracy: 0.9877 - loss: 0.1300 - val_accuracy: 0.9611 - val_loss: 0.1586\n",
      "Epoch 98/100\n",
      "51/51 - 1s - 11ms/step - accuracy: 0.9901 - loss: 0.1248 - val_accuracy: 0.9667 - val_loss: 0.1565\n",
      "Epoch 99/100\n",
      "51/51 - 1s - 11ms/step - accuracy: 0.9920 - loss: 0.1233 - val_accuracy: 0.9667 - val_loss: 0.1559\n",
      "Epoch 100/100\n",
      "51/51 - 1s - 10ms/step - accuracy: 0.9920 - loss: 0.1225 - val_accuracy: 0.9667 - val_loss: 0.1542\n"
     ]
    }
   ],
   "source": [
    "hist = model.fit(x=X_train, y=y_train, verbose=2, batch_size=32, epochs=100, \n",
    "                 validation_data=(X_val, y_val), shuffle='true')"
   ]
  },
  {
   "cell_type": "code",
   "execution_count": 18,
   "id": "f6d8a567-767b-4d9f-900c-d0bd57627fa1",
   "metadata": {
    "tags": []
   },
   "outputs": [
    {
     "data": {
      "text/html": [
       "<pre style=\"white-space:pre;overflow-x:auto;line-height:normal;font-family:Menlo,'DejaVu Sans Mono',consolas,'Courier New',monospace\"><span style=\"font-weight: bold\">Model: \"sequential_1\"</span>\n",
       "</pre>\n"
      ],
      "text/plain": [
       "\u001b[1mModel: \"sequential_1\"\u001b[0m\n"
      ]
     },
     "metadata": {},
     "output_type": "display_data"
    },
    {
     "data": {
      "text/html": [
       "<pre style=\"white-space:pre;overflow-x:auto;line-height:normal;font-family:Menlo,'DejaVu Sans Mono',consolas,'Courier New',monospace\">┏━━━━━━━━━━━━━━━━━━━━━━━━━━━━━━━━━┳━━━━━━━━━━━━━━━━━━━━━━━━┳━━━━━━━━━━━━━━━┓\n",
       "┃<span style=\"font-weight: bold\"> Layer (type)                    </span>┃<span style=\"font-weight: bold\"> Output Shape           </span>┃<span style=\"font-weight: bold\">       Param # </span>┃\n",
       "┡━━━━━━━━━━━━━━━━━━━━━━━━━━━━━━━━━╇━━━━━━━━━━━━━━━━━━━━━━━━╇━━━━━━━━━━━━━━━┩\n",
       "│ dense_3 (<span style=\"color: #0087ff; text-decoration-color: #0087ff\">Dense</span>)                 │ (<span style=\"color: #00d7ff; text-decoration-color: #00d7ff\">None</span>, <span style=\"color: #00af00; text-decoration-color: #00af00\">1</span>)              │       <span style=\"color: #00af00; text-decoration-color: #00af00\">100,001</span> │\n",
       "└─────────────────────────────────┴────────────────────────┴───────────────┘\n",
       "</pre>\n"
      ],
      "text/plain": [
       "┏━━━━━━━━━━━━━━━━━━━━━━━━━━━━━━━━━┳━━━━━━━━━━━━━━━━━━━━━━━━┳━━━━━━━━━━━━━━━┓\n",
       "┃\u001b[1m \u001b[0m\u001b[1mLayer (type)                   \u001b[0m\u001b[1m \u001b[0m┃\u001b[1m \u001b[0m\u001b[1mOutput Shape          \u001b[0m\u001b[1m \u001b[0m┃\u001b[1m \u001b[0m\u001b[1m      Param #\u001b[0m\u001b[1m \u001b[0m┃\n",
       "┡━━━━━━━━━━━━━━━━━━━━━━━━━━━━━━━━━╇━━━━━━━━━━━━━━━━━━━━━━━━╇━━━━━━━━━━━━━━━┩\n",
       "│ dense_3 (\u001b[38;5;33mDense\u001b[0m)                 │ (\u001b[38;5;45mNone\u001b[0m, \u001b[38;5;34m1\u001b[0m)              │       \u001b[38;5;34m100,001\u001b[0m │\n",
       "└─────────────────────────────────┴────────────────────────┴───────────────┘\n"
      ]
     },
     "metadata": {},
     "output_type": "display_data"
    },
    {
     "data": {
      "text/html": [
       "<pre style=\"white-space:pre;overflow-x:auto;line-height:normal;font-family:Menlo,'DejaVu Sans Mono',consolas,'Courier New',monospace\"><span style=\"font-weight: bold\"> Total params: </span><span style=\"color: #00af00; text-decoration-color: #00af00\">300,005</span> (1.14 MB)\n",
       "</pre>\n"
      ],
      "text/plain": [
       "\u001b[1m Total params: \u001b[0m\u001b[38;5;34m300,005\u001b[0m (1.14 MB)\n"
      ]
     },
     "metadata": {},
     "output_type": "display_data"
    },
    {
     "data": {
      "text/html": [
       "<pre style=\"white-space:pre;overflow-x:auto;line-height:normal;font-family:Menlo,'DejaVu Sans Mono',consolas,'Courier New',monospace\"><span style=\"font-weight: bold\"> Trainable params: </span><span style=\"color: #00af00; text-decoration-color: #00af00\">100,001</span> (390.63 KB)\n",
       "</pre>\n"
      ],
      "text/plain": [
       "\u001b[1m Trainable params: \u001b[0m\u001b[38;5;34m100,001\u001b[0m (390.63 KB)\n"
      ]
     },
     "metadata": {},
     "output_type": "display_data"
    },
    {
     "data": {
      "text/html": [
       "<pre style=\"white-space:pre;overflow-x:auto;line-height:normal;font-family:Menlo,'DejaVu Sans Mono',consolas,'Courier New',monospace\"><span style=\"font-weight: bold\"> Non-trainable params: </span><span style=\"color: #00af00; text-decoration-color: #00af00\">0</span> (0.00 B)\n",
       "</pre>\n"
      ],
      "text/plain": [
       "\u001b[1m Non-trainable params: \u001b[0m\u001b[38;5;34m0\u001b[0m (0.00 B)\n"
      ]
     },
     "metadata": {},
     "output_type": "display_data"
    },
    {
     "data": {
      "text/html": [
       "<pre style=\"white-space:pre;overflow-x:auto;line-height:normal;font-family:Menlo,'DejaVu Sans Mono',consolas,'Courier New',monospace\"><span style=\"font-weight: bold\"> Optimizer params: </span><span style=\"color: #00af00; text-decoration-color: #00af00\">200,004</span> (781.27 KB)\n",
       "</pre>\n"
      ],
      "text/plain": [
       "\u001b[1m Optimizer params: \u001b[0m\u001b[38;5;34m200,004\u001b[0m (781.27 KB)\n"
      ]
     },
     "metadata": {},
     "output_type": "display_data"
    }
   ],
   "source": [
    "# resumen del model\n",
    "model.summary()"
   ]
  },
  {
   "cell_type": "code",
   "execution_count": 19,
   "id": "c797c63c",
   "metadata": {},
   "outputs": [
    {
     "name": "stdout",
     "output_type": "stream",
     "text": [
      "7/7 - 0s - 8ms/step - accuracy: 0.9650 - loss: 0.1835\n"
     ]
    }
   ],
   "source": [
    "test_loss, test_accuracy = model.evaluate(X_test, y_test, verbose=2)"
   ]
  },
  {
   "cell_type": "code",
   "execution_count": 20,
   "id": "62df3e99",
   "metadata": {},
   "outputs": [
    {
     "data": {
      "image/png": "[encoded data removed]",
      "text/plain": [
       "<Figure size 864x288 with 2 Axes>"
      ]
     },
     "metadata": {
      "needs_background": "light"
     },
     "output_type": "display_data"
    }
   ],
   "source": [
    "# Obtén los datos del historial\n",
    "accuracy = hist.history['accuracy']\n",
    "val_accuracy = hist.history['val_accuracy']\n",
    "\n",
    "loss = hist.history['loss']\n",
    "val_loss = hist.history['val_loss']\n",
    "\n",
    "\n",
    "# Gráfica de accuracy\n",
    "plt.figure(figsize=(12, 4))\n",
    "plt.subplot(1, 2, 1)\n",
    "plt.plot(accuracy, label='Train Accuracy')\n",
    "plt.plot(val_accuracy, label='Validation Accuracy')\n",
    "plt.xlabel('Épocas')\n",
    "plt.ylabel('Accuracy')\n",
    "plt.legend()\n",
    "\n",
    "# Gráfica de pérdida\n",
    "plt.subplot(1, 2, 2)\n",
    "plt.plot(loss, label='Train Loss')\n",
    "plt.plot(val_loss, label='Validation Loss')\n",
    "plt.xlabel('Épocas')\n",
    "plt.ylabel('Loss')\n",
    "plt.legend()\n",
    "\n",
    "# Ajusta los márgenes y espacios entre subplots\n",
    "plt.tight_layout()\n",
    "\n",
    "# Muestra las gráficas\n",
    "plt.show()"
   ]
  },
  {
   "cell_type": "code",
   "execution_count": 21,
   "id": "32c5ebb7",
   "metadata": {},
   "outputs": [
    {
     "name": "stdout",
     "output_type": "stream",
     "text": [
      "\u001b[1m51/51\u001b[0m \u001b[32m━━━━━━━━━━━━━━━━━━━━\u001b[0m\u001b[37m\u001b[0m \u001b[1m0s\u001b[0m 5ms/step\n",
      "\u001b[1m6/6\u001b[0m \u001b[32m━━━━━━━━━━━━━━━━━━━━\u001b[0m\u001b[37m\u001b[0m \u001b[1m0s\u001b[0m 4ms/step \n",
      "\u001b[1m7/7\u001b[0m \u001b[32m━━━━━━━━━━━━━━━━━━━━\u001b[0m\u001b[37m\u001b[0m \u001b[1m0s\u001b[0m 4ms/step \n"
     ]
    }
   ],
   "source": [
    "y_proba_train = model.predict(X_train)\n",
    "y_pred_train = y_proba_train.round().astype(int)\n",
    "y_proba_validation = model.predict(X_val)\n",
    "y_pred_validation = y_proba_validation.round().astype(int)\n",
    "y_proba_test = model.predict(X_test)\n",
    "y_pred_test = y_proba_test.round().astype(int)"
   ]
  },
  {
   "cell_type": "code",
   "execution_count": 22,
   "id": "40688d00",
   "metadata": {},
   "outputs": [],
   "source": [
    "lbl = LabelEncoder()\n",
    "target_names = ['class 0', 'class 1']\n",
    "#Class 0 = NOK\n",
    "#Class 1 = OK"
   ]
  },
  {
   "cell_type": "code",
   "execution_count": 23,
   "id": "eccf3be4",
   "metadata": {},
   "outputs": [],
   "source": [
    "!pip install -q scikit-plot\n",
    "import scikitplot as skplt"
   ]
  },
  {
   "cell_type": "code",
   "execution_count": 24,
   "id": "648a36b2",
   "metadata": {},
   "outputs": [
    {
     "name": "stdout",
     "output_type": "stream",
     "text": [
      "Train sample \n",
      "               precision    recall  f1-score   support\n",
      "\n",
      "     class 0       0.99      1.00      0.99       810\n",
      "     class 1       1.00      0.99      0.99       810\n",
      "\n",
      "    accuracy                           0.99      1620\n",
      "   macro avg       0.99      0.99      0.99      1620\n",
      "weighted avg       0.99      0.99      0.99      1620\n",
      "\n",
      "Validation sample \n",
      "               precision    recall  f1-score   support\n",
      "\n",
      "     class 0       0.96      0.98      0.97        90\n",
      "     class 1       0.98      0.96      0.97        90\n",
      "\n",
      "    accuracy                           0.97       180\n",
      "   macro avg       0.97      0.97      0.97       180\n",
      "weighted avg       0.97      0.97      0.97       180\n",
      "\n",
      "Test sample \n",
      "               precision    recall  f1-score   support\n",
      "\n",
      "     class 0       0.94      0.99      0.97       100\n",
      "     class 1       0.99      0.94      0.96       100\n",
      "\n",
      "    accuracy                           0.96       200\n",
      "   macro avg       0.97      0.96      0.96       200\n",
      "weighted avg       0.97      0.96      0.96       200\n",
      "\n"
     ]
    }
   ],
   "source": [
    "print(\"Train sample \\n\", classification_report(y_train, y_pred_train,target_names = target_names))\n",
    "print(\"Validation sample \\n\", classification_report(y_val, y_pred_validation,target_names = target_names))\n",
    "print(\"Test sample \\n\", classification_report(y_test, y_pred_test,target_names = target_names))"
   ]
  },
  {
   "cell_type": "code",
   "execution_count": 25,
   "id": "3d5fe8c9",
   "metadata": {},
   "outputs": [
    {
     "data": {
      "image/png": "[encoded data removed]",
      "text/plain": [
       "<Figure size 432x288 with 2 Axes>"
      ]
     },
     "metadata": {
      "needs_background": "light"
     },
     "output_type": "display_data"
    },
    {
     "data": {
      "image/png": "[encoded data removed]",
      "text/plain": [
       "<Figure size 432x288 with 2 Axes>"
      ]
     },
     "metadata": {
      "needs_background": "light"
     },
     "output_type": "display_data"
    },
    {
     "data": {
      "image/png": "[encoded data removed]",
      "text/plain": [
       "<Figure size 432x288 with 2 Axes>"
      ]
     },
     "metadata": {
      "needs_background": "light"
     },
     "output_type": "display_data"
    }
   ],
   "source": [
    "# Gráfico de Matriz de Confusión\n",
    "skplt.metrics.plot_confusion_matrix(y_train, y_pred_train, normalize=True)\n",
    "plt.title('Matriz de Confusión Train')\n",
    "\n",
    "skplt.metrics.plot_confusion_matrix(y_val, y_pred_validation, normalize=True)\n",
    "plt.title('Matriz de Confusión Validation')\n",
    "\n",
    "skplt.metrics.plot_confusion_matrix(y_test, y_pred_test, normalize=True)\n",
    "plt.title('Matriz de Confusión Test')\n",
    "\n",
    "plt.show() "
   ]
  }
 ],
 "metadata": {
  "kernelspec": {
   "display_name": "Python 3 (ipykernel)",
   "language": "python",
   "name": "python3"
  },
  "language_info": {
   "codemirror_mode": {
    "name": "ipython",
    "version": 3
   },
   "file_extension": ".py",
   "mimetype": "text/x-python",
   "name": "python",
   "nbconvert_exporter": "python",
   "pygments_lexer": "ipython3",
   "version": "3.10.5"
  }
 },
 "nbformat": 4,
 "nbformat_minor": 5
}
