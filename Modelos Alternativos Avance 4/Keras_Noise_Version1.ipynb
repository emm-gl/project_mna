{
 "cells": [
  {
   "cell_type": "markdown",
   "id": "bbf45c6e",
   "metadata": {},
   "source": [
    "### 1000 imagenes de cada clase en RGB\n",
    "\n",
    "### Optimizador Adam learning_rate=0.0001\n",
    "\n",
    "### Epocas = 100\n",
    "\n",
    "### 3 capas densas = ReLu, ReLu y Softmax\n",
    "\n",
    "### Ultima capa = Sigmoid"
   ]
  },
  {
   "cell_type": "code",
   "execution_count": 1,
   "id": "871b942b-aecd-4cac-8d77-8872125822a1",
   "metadata": {
    "tags": []
   },
   "outputs": [
    {
     "name": "stderr",
     "output_type": "stream",
     "text": [
      "2024-05-24 17:06:22.184762: I tensorflow/core/platform/cpu_feature_guard.cc:210] This TensorFlow binary is optimized to use available CPU instructions in performance-critical operations.\n",
      "To enable the following instructions: AVX2 FMA, in other operations, rebuild TensorFlow with the appropriate compiler flags.\n"
     ]
    }
   ],
   "source": [
    "import numpy as np\n",
    "import matplotlib.pyplot as plt\n",
    "import keras\n",
    "from keras.datasets import cifar10\n",
    "from keras.models import Sequential\n",
    "from keras.layers import Dense\n",
    "from keras.optimizers import Adam\n",
    "import tensorflow as tf\n",
    "from tensorflow.keras.utils import to_categorical\n",
    "\n",
    "import random\n",
    "     \n",
    "from keras.layers import Dropout\n",
    "from keras.layers import Flatten\n",
    "\n",
    "from tensorflow.keras.layers import Conv2D\n",
    "\n",
    "from tensorflow.keras.layers import MaxPooling2D\n",
    "     \n",
    "from keras.models import Model\n",
    "\n",
    "import matplotlib.image as mpimg\n",
    "import seaborn as sns\n",
    "import cv2\n",
    "\n",
    "import glob\n",
    "\n",
    "from sklearn.model_selection import train_test_split\n",
    "from sklearn.preprocessing import LabelEncoder\n",
    "from sklearn.metrics import classification_report,confusion_matrix"
   ]
  },
  {
   "cell_type": "code",
   "execution_count": 2,
   "id": "500acdf7-b742-4d24-8193-f335e48c5767",
   "metadata": {
    "tags": []
   },
   "outputs": [],
   "source": [
    "file_path = 'Desktop/proyecto integrador/*'"
   ]
  },
  {
   "cell_type": "code",
   "execution_count": 3,
   "id": "1d23bd78-d49d-4d26-9ba5-2fde46a23f29",
   "metadata": {
    "tags": []
   },
   "outputs": [],
   "source": [
    "#Data acquisition\n",
    "noise = glob.glob(\"NOK_1000_RGB/*.png\")\n",
    "\n",
    "nonoise = glob.glob(\"OK_1000_RGB/*.png\")"
   ]
  },
  {
   "cell_type": "code",
   "execution_count": 4,
   "id": "ec79fbc9-4488-4463-a14b-81e6658ba2d2",
   "metadata": {
    "tags": []
   },
   "outputs": [
    {
     "data": {
      "text/plain": [
       "1000"
      ]
     },
     "execution_count": 4,
     "metadata": {},
     "output_type": "execute_result"
    }
   ],
   "source": [
    "len(noise)"
   ]
  },
  {
   "cell_type": "code",
   "execution_count": 5,
   "id": "86de597a-3f6f-4191-a7e7-59637293cc94",
   "metadata": {
    "tags": []
   },
   "outputs": [
    {
     "data": {
      "text/plain": [
       "1000"
      ]
     },
     "execution_count": 5,
     "metadata": {},
     "output_type": "execute_result"
    }
   ],
   "source": [
    "len(nonoise)"
   ]
  },
  {
   "cell_type": "code",
   "execution_count": 6,
   "id": "4b8d8b2b-b737-4be8-96a9-96e3eccaae48",
   "metadata": {
    "tags": []
   },
   "outputs": [],
   "source": [
    "noise_Formated = []\n",
    "nonoise_Formated = []\n",
    "\n",
    "width = 400 \n",
    "height = 250\n",
    "dim = (width, height)\n",
    "\n",
    "for i in noise:\n",
    "    img = mpimg.imread(i)\n",
    "    #resize image\n",
    "    img_resized = cv2.resize(img, dim, interpolation = cv2.INTER_AREA)\n",
    "    \n",
    "    #delete alpha chanel\n",
    "    if img_resized.shape[2] ==4:\n",
    "        img_resized = img_resized[:, :, :3]\n",
    "        \n",
    "    #add the new image to a new array\n",
    "    noise_Formated.append(img_resized)\n",
    "\n",
    "for i in nonoise:\n",
    "    img = mpimg.imread(i)\n",
    "    #resize image\n",
    "    img_resized = cv2.resize(img, dim, interpolation = cv2.INTER_AREA)\n",
    "    \n",
    "    #delete alpha chanel\n",
    "    if img_resized.shape[2] ==4:\n",
    "        img_resized = img_resized[:, :, :3]\n",
    "        \n",
    "    #add the new image to a new array\n",
    "    nonoise_Formated.append(img_resized)"
   ]
  },
  {
   "cell_type": "code",
   "execution_count": 7,
   "id": "641b077c-7385-4fe0-bbb6-e42c6d411481",
   "metadata": {
    "tags": []
   },
   "outputs": [],
   "source": [
    "y_noise = np.ones(len(noise_Formated))\n",
    "y_nonoise = np.zeros(len(nonoise_Formated))"
   ]
  },
  {
   "cell_type": "code",
   "execution_count": 8,
   "id": "3071d3d1",
   "metadata": {},
   "outputs": [],
   "source": [
    "noise_Formated = np.array(noise_Formated)\n",
    "nonoise_Formated = np.array(nonoise_Formated)"
   ]
  },
  {
   "cell_type": "code",
   "execution_count": 9,
   "id": "2a8f73ab-5660-4972-8d62-2eedb5a6315f",
   "metadata": {
    "tags": []
   },
   "outputs": [
    {
     "name": "stdout",
     "output_type": "stream",
     "text": [
      "Shape of X before reshaping: (2000, 250, 400, 3)\n"
     ]
    }
   ],
   "source": [
    "X = np.vstack((noise_Formated,nonoise_Formated))\n",
    "print(\"Shape of X before reshaping:\", X.shape)"
   ]
  },
  {
   "cell_type": "code",
   "execution_count": 10,
   "id": "e2a84da4-86ce-43cc-bf74-419e7f5aa8b2",
   "metadata": {
    "tags": []
   },
   "outputs": [
    {
     "name": "stdout",
     "output_type": "stream",
     "text": [
      "Shape of y before reshaping: (2000,)\n"
     ]
    }
   ],
   "source": [
    "y = np.hstack((y_noise,y_nonoise))\n",
    "print(\"Shape of y before reshaping:\", y.shape)"
   ]
  },
  {
   "cell_type": "code",
   "execution_count": 11,
   "id": "065a9b81-7481-4c9b-a846-27db90d93ba1",
   "metadata": {
    "tags": []
   },
   "outputs": [],
   "source": [
    "X=X/255.0"
   ]
  },
  {
   "cell_type": "code",
   "execution_count": 12,
   "id": "c8e07c6f-9d2c-46f5-b0ad-9dc1a8cc9a58",
   "metadata": {
    "tags": []
   },
   "outputs": [
    {
     "name": "stdout",
     "output_type": "stream",
     "text": [
      "Shape of X after reshaping: (2000, 300000)\n"
     ]
    }
   ],
   "source": [
    "num_pixels = width * height * 3\n",
    "X = X.reshape(X.shape[0], num_pixels)\n",
    "print(\"Shape of X after reshaping:\", X.shape)"
   ]
  },
  {
   "cell_type": "code",
   "execution_count": 13,
   "id": "53295b89-6892-4583-ad62-92db4ce3a57a",
   "metadata": {
    "tags": []
   },
   "outputs": [
    {
     "name": "stderr",
     "output_type": "stream",
     "text": [
      "/Library/Frameworks/Python.framework/Versions/3.10/lib/python3.10/site-packages/keras/src/layers/core/dense.py:87: UserWarning: Do not pass an `input_shape`/`input_dim` argument to a layer. When using Sequential models, prefer using an `Input(shape)` object as the first layer in the model instead.\n",
      "  super().__init__(activity_regularizer=activity_regularizer, **kwargs)\n"
     ]
    },
    {
     "data": {
      "text/html": [
       "<pre style=\"white-space:pre;overflow-x:auto;line-height:normal;font-family:Menlo,'DejaVu Sans Mono',consolas,'Courier New',monospace\"><span style=\"font-weight: bold\">Model: \"sequential\"</span>\n",
       "</pre>\n"
      ],
      "text/plain": [
       "\u001b[1mModel: \"sequential\"\u001b[0m\n"
      ]
     },
     "metadata": {},
     "output_type": "display_data"
    },
    {
     "data": {
      "text/html": [
       "<pre style=\"white-space:pre;overflow-x:auto;line-height:normal;font-family:Menlo,'DejaVu Sans Mono',consolas,'Courier New',monospace\">┏━━━━━━━━━━━━━━━━━━━━━━━━━━━━━━━━━┳━━━━━━━━━━━━━━━━━━━━━━━━┳━━━━━━━━━━━━━━━┓\n",
       "┃<span style=\"font-weight: bold\"> Layer (type)                    </span>┃<span style=\"font-weight: bold\"> Output Shape           </span>┃<span style=\"font-weight: bold\">       Param # </span>┃\n",
       "┡━━━━━━━━━━━━━━━━━━━━━━━━━━━━━━━━━╇━━━━━━━━━━━━━━━━━━━━━━━━╇━━━━━━━━━━━━━━━┩\n",
       "│ dense (<span style=\"color: #0087ff; text-decoration-color: #0087ff\">Dense</span>)                   │ (<span style=\"color: #00d7ff; text-decoration-color: #00d7ff\">None</span>, <span style=\"color: #00af00; text-decoration-color: #00af00\">50</span>)             │    <span style=\"color: #00af00; text-decoration-color: #00af00\">15,000,050</span> │\n",
       "├─────────────────────────────────┼────────────────────────┼───────────────┤\n",
       "│ dense_1 (<span style=\"color: #0087ff; text-decoration-color: #0087ff\">Dense</span>)                 │ (<span style=\"color: #00d7ff; text-decoration-color: #00d7ff\">None</span>, <span style=\"color: #00af00; text-decoration-color: #00af00\">20</span>)             │         <span style=\"color: #00af00; text-decoration-color: #00af00\">1,020</span> │\n",
       "├─────────────────────────────────┼────────────────────────┼───────────────┤\n",
       "│ dense_2 (<span style=\"color: #0087ff; text-decoration-color: #0087ff\">Dense</span>)                 │ (<span style=\"color: #00d7ff; text-decoration-color: #00d7ff\">None</span>, <span style=\"color: #00af00; text-decoration-color: #00af00\">10</span>)             │           <span style=\"color: #00af00; text-decoration-color: #00af00\">210</span> │\n",
       "└─────────────────────────────────┴────────────────────────┴───────────────┘\n",
       "</pre>\n"
      ],
      "text/plain": [
       "┏━━━━━━━━━━━━━━━━━━━━━━━━━━━━━━━━━┳━━━━━━━━━━━━━━━━━━━━━━━━┳━━━━━━━━━━━━━━━┓\n",
       "┃\u001b[1m \u001b[0m\u001b[1mLayer (type)                   \u001b[0m\u001b[1m \u001b[0m┃\u001b[1m \u001b[0m\u001b[1mOutput Shape          \u001b[0m\u001b[1m \u001b[0m┃\u001b[1m \u001b[0m\u001b[1m      Param #\u001b[0m\u001b[1m \u001b[0m┃\n",
       "┡━━━━━━━━━━━━━━━━━━━━━━━━━━━━━━━━━╇━━━━━━━━━━━━━━━━━━━━━━━━╇━━━━━━━━━━━━━━━┩\n",
       "│ dense (\u001b[38;5;33mDense\u001b[0m)                   │ (\u001b[38;5;45mNone\u001b[0m, \u001b[38;5;34m50\u001b[0m)             │    \u001b[38;5;34m15,000,050\u001b[0m │\n",
       "├─────────────────────────────────┼────────────────────────┼───────────────┤\n",
       "│ dense_1 (\u001b[38;5;33mDense\u001b[0m)                 │ (\u001b[38;5;45mNone\u001b[0m, \u001b[38;5;34m20\u001b[0m)             │         \u001b[38;5;34m1,020\u001b[0m │\n",
       "├─────────────────────────────────┼────────────────────────┼───────────────┤\n",
       "│ dense_2 (\u001b[38;5;33mDense\u001b[0m)                 │ (\u001b[38;5;45mNone\u001b[0m, \u001b[38;5;34m10\u001b[0m)             │           \u001b[38;5;34m210\u001b[0m │\n",
       "└─────────────────────────────────┴────────────────────────┴───────────────┘\n"
      ]
     },
     "metadata": {},
     "output_type": "display_data"
    },
    {
     "data": {
      "text/html": [
       "<pre style=\"white-space:pre;overflow-x:auto;line-height:normal;font-family:Menlo,'DejaVu Sans Mono',consolas,'Courier New',monospace\"><span style=\"font-weight: bold\"> Total params: </span><span style=\"color: #00af00; text-decoration-color: #00af00\">15,001,280</span> (57.23 MB)\n",
       "</pre>\n"
      ],
      "text/plain": [
       "\u001b[1m Total params: \u001b[0m\u001b[38;5;34m15,001,280\u001b[0m (57.23 MB)\n"
      ]
     },
     "metadata": {},
     "output_type": "display_data"
    },
    {
     "data": {
      "text/html": [
       "<pre style=\"white-space:pre;overflow-x:auto;line-height:normal;font-family:Menlo,'DejaVu Sans Mono',consolas,'Courier New',monospace\"><span style=\"font-weight: bold\"> Trainable params: </span><span style=\"color: #00af00; text-decoration-color: #00af00\">15,001,280</span> (57.23 MB)\n",
       "</pre>\n"
      ],
      "text/plain": [
       "\u001b[1m Trainable params: \u001b[0m\u001b[38;5;34m15,001,280\u001b[0m (57.23 MB)\n"
      ]
     },
     "metadata": {},
     "output_type": "display_data"
    },
    {
     "data": {
      "text/html": [
       "<pre style=\"white-space:pre;overflow-x:auto;line-height:normal;font-family:Menlo,'DejaVu Sans Mono',consolas,'Courier New',monospace\"><span style=\"font-weight: bold\"> Non-trainable params: </span><span style=\"color: #00af00; text-decoration-color: #00af00\">0</span> (0.00 B)\n",
       "</pre>\n"
      ],
      "text/plain": [
       "\u001b[1m Non-trainable params: \u001b[0m\u001b[38;5;34m0\u001b[0m (0.00 B)\n"
      ]
     },
     "metadata": {},
     "output_type": "display_data"
    },
    {
     "name": "stdout",
     "output_type": "stream",
     "text": [
      "None\n"
     ]
    }
   ],
   "source": [
    "model = Sequential()\n",
    "model.add(Dense(units = 50, input_dim=num_pixels, activation='relu'))\n",
    "#model.add(Dropout(0.2))\n",
    "model.add(Dense(units = 20, activation='relu'))\n",
    "#model.add(Dense(units = 10, activation='relu'))\n",
    "#model.add(Dropout(0.2))\n",
    "model.add(Dense(units = 10, activation='softmax'))\n",
    "\n",
    "optimizer = tf.keras.optimizers.Adam(learning_rate=0.1)\n",
    "model.compile(optimizer=optimizer, loss='binary_crossentropy', metrics=['accuracy'])\n",
    "print(model.summary())"
   ]
  },
  {
   "cell_type": "code",
   "execution_count": 14,
   "id": "43226466-0af8-4e0d-86da-2afcde1f4175",
   "metadata": {
    "tags": []
   },
   "outputs": [
    {
     "name": "stdout",
     "output_type": "stream",
     "text": [
      "(2000, 300000)\n",
      "(2000,)\n",
      "[1. 1. 1. ... 0. 0. 0.]\n"
     ]
    }
   ],
   "source": [
    "print(X.shape)\n",
    "print(y.shape)\n",
    "print(y)"
   ]
  },
  {
   "cell_type": "code",
   "execution_count": 15,
   "id": "a6f0e3ae-55f7-49b2-8e1f-cf2997ca7654",
   "metadata": {
    "tags": []
   },
   "outputs": [],
   "source": [
    "# 10% para el set de prueba\n",
    "X_tv, X_test, y_tv, y_test = train_test_split(X, y, test_size = 0.1, stratify=y, random_state = 42)"
   ]
  },
  {
   "cell_type": "code",
   "execution_count": 16,
   "id": "98bf409e",
   "metadata": {},
   "outputs": [],
   "source": [
    "# 10% para el set de validacion\n",
    "X_train, X_val, y_train, y_val = train_test_split(X_tv, y_tv, test_size = 0.1, stratify=y_tv, random_state = 42)"
   ]
  },
  {
   "cell_type": "code",
   "execution_count": 17,
   "id": "950582c9-5509-40ca-9783-3125fe59b3a6",
   "metadata": {
    "tags": []
   },
   "outputs": [
    {
     "name": "stderr",
     "output_type": "stream",
     "text": [
      "/Library/Frameworks/Python.framework/Versions/3.10/lib/python3.10/site-packages/keras/src/layers/core/dense.py:87: UserWarning: Do not pass an `input_shape`/`input_dim` argument to a layer. When using Sequential models, prefer using an `Input(shape)` object as the first layer in the model instead.\n",
      "  super().__init__(activity_regularizer=activity_regularizer, **kwargs)\n"
     ]
    }
   ],
   "source": [
    "model = Sequential()\n",
    "model.add(Dense(units=1, input_dim=num_pixels, activation='sigmoid'))\n",
    "model.compile(optimizer=Adam(learning_rate=0.001), loss='binary_crossentropy',  metrics=['accuracy'])"
   ]
  },
  {
   "cell_type": "code",
   "execution_count": 18,
   "id": "d00f22f7-9aae-4375-a851-40be848f9e37",
   "metadata": {
    "tags": []
   },
   "outputs": [
    {
     "name": "stdout",
     "output_type": "stream",
     "text": [
      "Epoch 1/100\n",
      "51/51 - 6s - 122ms/step - accuracy: 0.6290 - loss: 0.6287 - val_accuracy: 0.7111 - val_loss: 0.5593\n",
      "Epoch 2/100\n",
      "51/51 - 2s - 33ms/step - accuracy: 0.7006 - loss: 0.5603 - val_accuracy: 0.7222 - val_loss: 0.5294\n",
      "Epoch 3/100\n",
      "51/51 - 1s - 28ms/step - accuracy: 0.7247 - loss: 0.5374 - val_accuracy: 0.7611 - val_loss: 0.5102\n",
      "Epoch 4/100\n",
      "51/51 - 1s - 25ms/step - accuracy: 0.7333 - loss: 0.5183 - val_accuracy: 0.7667 - val_loss: 0.4927\n",
      "Epoch 5/100\n",
      "51/51 - 1s - 26ms/step - accuracy: 0.7481 - loss: 0.4997 - val_accuracy: 0.7889 - val_loss: 0.4734\n",
      "Epoch 6/100\n",
      "51/51 - 1s - 24ms/step - accuracy: 0.7728 - loss: 0.4869 - val_accuracy: 0.7833 - val_loss: 0.4628\n",
      "Epoch 7/100\n",
      "51/51 - 1s - 28ms/step - accuracy: 0.7667 - loss: 0.4740 - val_accuracy: 0.7833 - val_loss: 0.4550\n",
      "Epoch 8/100\n",
      "51/51 - 1s - 24ms/step - accuracy: 0.7815 - loss: 0.4605 - val_accuracy: 0.8167 - val_loss: 0.4475\n",
      "Epoch 9/100\n",
      "51/51 - 1s - 24ms/step - accuracy: 0.7901 - loss: 0.4492 - val_accuracy: 0.8167 - val_loss: 0.4379\n",
      "Epoch 10/100\n",
      "51/51 - 1s - 26ms/step - accuracy: 0.8037 - loss: 0.4445 - val_accuracy: 0.8111 - val_loss: 0.4342\n",
      "Epoch 11/100\n",
      "51/51 - 1s - 24ms/step - accuracy: 0.8049 - loss: 0.4301 - val_accuracy: 0.8167 - val_loss: 0.4247\n",
      "Epoch 12/100\n",
      "51/51 - 1s - 24ms/step - accuracy: 0.8167 - loss: 0.4223 - val_accuracy: 0.8278 - val_loss: 0.4150\n",
      "Epoch 13/100\n",
      "51/51 - 1s - 25ms/step - accuracy: 0.8290 - loss: 0.4117 - val_accuracy: 0.8500 - val_loss: 0.4090\n",
      "Epoch 14/100\n",
      "51/51 - 1s - 24ms/step - accuracy: 0.8296 - loss: 0.4065 - val_accuracy: 0.8333 - val_loss: 0.4057\n",
      "Epoch 15/100\n",
      "51/51 - 1s - 25ms/step - accuracy: 0.8346 - loss: 0.3992 - val_accuracy: 0.8389 - val_loss: 0.3969\n",
      "Epoch 16/100\n",
      "51/51 - 1s - 23ms/step - accuracy: 0.8414 - loss: 0.3913 - val_accuracy: 0.8500 - val_loss: 0.3896\n",
      "Epoch 17/100\n",
      "51/51 - 1s - 25ms/step - accuracy: 0.8451 - loss: 0.3822 - val_accuracy: 0.8444 - val_loss: 0.3864\n",
      "Epoch 18/100\n",
      "51/51 - 1s - 25ms/step - accuracy: 0.8537 - loss: 0.3762 - val_accuracy: 0.8556 - val_loss: 0.3793\n",
      "Epoch 19/100\n",
      "51/51 - 1s - 24ms/step - accuracy: 0.8519 - loss: 0.3715 - val_accuracy: 0.8444 - val_loss: 0.3728\n",
      "Epoch 20/100\n",
      "51/51 - 1s - 24ms/step - accuracy: 0.8636 - loss: 0.3624 - val_accuracy: 0.8500 - val_loss: 0.3673\n",
      "Epoch 21/100\n",
      "51/51 - 1s - 24ms/step - accuracy: 0.8642 - loss: 0.3557 - val_accuracy: 0.8556 - val_loss: 0.3635\n",
      "Epoch 22/100\n",
      "51/51 - 1s - 24ms/step - accuracy: 0.8778 - loss: 0.3522 - val_accuracy: 0.8500 - val_loss: 0.3572\n",
      "Epoch 23/100\n",
      "51/51 - 1s - 26ms/step - accuracy: 0.8796 - loss: 0.3459 - val_accuracy: 0.8611 - val_loss: 0.3545\n",
      "Epoch 24/100\n",
      "51/51 - 1s - 24ms/step - accuracy: 0.8765 - loss: 0.3386 - val_accuracy: 0.8556 - val_loss: 0.3480\n",
      "Epoch 25/100\n",
      "51/51 - 1s - 24ms/step - accuracy: 0.8883 - loss: 0.3327 - val_accuracy: 0.8611 - val_loss: 0.3426\n",
      "Epoch 26/100\n",
      "51/51 - 1s - 23ms/step - accuracy: 0.8944 - loss: 0.3271 - val_accuracy: 0.8944 - val_loss: 0.3440\n",
      "Epoch 27/100\n",
      "51/51 - 1s - 23ms/step - accuracy: 0.9049 - loss: 0.3214 - val_accuracy: 0.9000 - val_loss: 0.3385\n",
      "Epoch 28/100\n",
      "51/51 - 1s - 24ms/step - accuracy: 0.9019 - loss: 0.3186 - val_accuracy: 0.9000 - val_loss: 0.3319\n",
      "Epoch 29/100\n",
      "51/51 - 1s - 24ms/step - accuracy: 0.9142 - loss: 0.3099 - val_accuracy: 0.8722 - val_loss: 0.3252\n",
      "Epoch 30/100\n",
      "51/51 - 1s - 24ms/step - accuracy: 0.9117 - loss: 0.3061 - val_accuracy: 0.8944 - val_loss: 0.3212\n",
      "Epoch 31/100\n",
      "51/51 - 1s - 23ms/step - accuracy: 0.9105 - loss: 0.3033 - val_accuracy: 0.9000 - val_loss: 0.3173\n",
      "Epoch 32/100\n",
      "51/51 - 1s - 25ms/step - accuracy: 0.9179 - loss: 0.2957 - val_accuracy: 0.9000 - val_loss: 0.3120\n",
      "Epoch 33/100\n",
      "51/51 - 1s - 24ms/step - accuracy: 0.9247 - loss: 0.2913 - val_accuracy: 0.9111 - val_loss: 0.3124\n",
      "Epoch 34/100\n",
      "51/51 - 1s - 23ms/step - accuracy: 0.9173 - loss: 0.2894 - val_accuracy: 0.9167 - val_loss: 0.3104\n",
      "Epoch 35/100\n",
      "51/51 - 1s - 24ms/step - accuracy: 0.9265 - loss: 0.2835 - val_accuracy: 0.9111 - val_loss: 0.2997\n",
      "Epoch 36/100\n",
      "51/51 - 1s - 23ms/step - accuracy: 0.9247 - loss: 0.2794 - val_accuracy: 0.9056 - val_loss: 0.2964\n",
      "Epoch 37/100\n",
      "51/51 - 1s - 24ms/step - accuracy: 0.9377 - loss: 0.2748 - val_accuracy: 0.8944 - val_loss: 0.2933\n",
      "Epoch 38/100\n",
      "51/51 - 1s - 24ms/step - accuracy: 0.9278 - loss: 0.2729 - val_accuracy: 0.9111 - val_loss: 0.2895\n",
      "Epoch 39/100\n",
      "51/51 - 1s - 26ms/step - accuracy: 0.9395 - loss: 0.2670 - val_accuracy: 0.9167 - val_loss: 0.2836\n",
      "Epoch 40/100\n",
      "51/51 - 1s - 25ms/step - accuracy: 0.9395 - loss: 0.2617 - val_accuracy: 0.9222 - val_loss: 0.2885\n",
      "Epoch 41/100\n",
      "51/51 - 1s - 24ms/step - accuracy: 0.9469 - loss: 0.2573 - val_accuracy: 0.9222 - val_loss: 0.2767\n",
      "Epoch 42/100\n",
      "51/51 - 1s - 24ms/step - accuracy: 0.9469 - loss: 0.2544 - val_accuracy: 0.9167 - val_loss: 0.2747\n",
      "Epoch 43/100\n",
      "51/51 - 1s - 23ms/step - accuracy: 0.9475 - loss: 0.2505 - val_accuracy: 0.9278 - val_loss: 0.2721\n",
      "Epoch 44/100\n",
      "51/51 - 1s - 25ms/step - accuracy: 0.9475 - loss: 0.2485 - val_accuracy: 0.9333 - val_loss: 0.2692\n",
      "Epoch 45/100\n",
      "51/51 - 1s - 24ms/step - accuracy: 0.9556 - loss: 0.2425 - val_accuracy: 0.9333 - val_loss: 0.2637\n",
      "Epoch 46/100\n",
      "51/51 - 1s - 24ms/step - accuracy: 0.9506 - loss: 0.2403 - val_accuracy: 0.9333 - val_loss: 0.2597\n",
      "Epoch 47/100\n",
      "51/51 - 1s - 23ms/step - accuracy: 0.9580 - loss: 0.2361 - val_accuracy: 0.9389 - val_loss: 0.2578\n",
      "Epoch 48/100\n",
      "51/51 - 1s - 28ms/step - accuracy: 0.9630 - loss: 0.2323 - val_accuracy: 0.9222 - val_loss: 0.2592\n",
      "Epoch 49/100\n",
      "51/51 - 1s - 26ms/step - accuracy: 0.9599 - loss: 0.2294 - val_accuracy: 0.9389 - val_loss: 0.2502\n",
      "Epoch 50/100\n",
      "51/51 - 1s - 24ms/step - accuracy: 0.9630 - loss: 0.2269 - val_accuracy: 0.9389 - val_loss: 0.2466\n",
      "Epoch 51/100\n",
      "51/51 - 1s - 23ms/step - accuracy: 0.9679 - loss: 0.2213 - val_accuracy: 0.9389 - val_loss: 0.2453\n",
      "Epoch 52/100\n",
      "51/51 - 1s - 23ms/step - accuracy: 0.9599 - loss: 0.2210 - val_accuracy: 0.9444 - val_loss: 0.2413\n",
      "Epoch 53/100\n",
      "51/51 - 1s - 24ms/step - accuracy: 0.9648 - loss: 0.2187 - val_accuracy: 0.9389 - val_loss: 0.2386\n",
      "Epoch 54/100\n",
      "51/51 - 1s - 24ms/step - accuracy: 0.9685 - loss: 0.2137 - val_accuracy: 0.9444 - val_loss: 0.2363\n",
      "Epoch 55/100\n",
      "51/51 - 1s - 24ms/step - accuracy: 0.9685 - loss: 0.2111 - val_accuracy: 0.9444 - val_loss: 0.2314\n",
      "Epoch 56/100\n",
      "51/51 - 1s - 23ms/step - accuracy: 0.9735 - loss: 0.2067 - val_accuracy: 0.9556 - val_loss: 0.2332\n",
      "Epoch 57/100\n",
      "51/51 - 1s - 24ms/step - accuracy: 0.9704 - loss: 0.2042 - val_accuracy: 0.9444 - val_loss: 0.2259\n",
      "Epoch 58/100\n",
      "51/51 - 1s - 25ms/step - accuracy: 0.9741 - loss: 0.2049 - val_accuracy: 0.9444 - val_loss: 0.2234\n",
      "Epoch 59/100\n",
      "51/51 - 1s - 24ms/step - accuracy: 0.9667 - loss: 0.2011 - val_accuracy: 0.9444 - val_loss: 0.2214\n",
      "Epoch 60/100\n",
      "51/51 - 1s - 23ms/step - accuracy: 0.9722 - loss: 0.1972 - val_accuracy: 0.9444 - val_loss: 0.2181\n",
      "Epoch 61/100\n",
      "51/51 - 1s - 23ms/step - accuracy: 0.9765 - loss: 0.1927 - val_accuracy: 0.9444 - val_loss: 0.2152\n",
      "Epoch 62/100\n",
      "51/51 - 1s - 23ms/step - accuracy: 0.9772 - loss: 0.1898 - val_accuracy: 0.9444 - val_loss: 0.2125\n",
      "Epoch 63/100\n",
      "51/51 - 1s - 23ms/step - accuracy: 0.9765 - loss: 0.1886 - val_accuracy: 0.9444 - val_loss: 0.2100\n",
      "Epoch 64/100\n",
      "51/51 - 1s - 23ms/step - accuracy: 0.9784 - loss: 0.1855 - val_accuracy: 0.9556 - val_loss: 0.2133\n",
      "Epoch 65/100\n",
      "51/51 - 1s - 24ms/step - accuracy: 0.9784 - loss: 0.1842 - val_accuracy: 0.9556 - val_loss: 0.2066\n",
      "Epoch 66/100\n",
      "51/51 - 1s - 23ms/step - accuracy: 0.9796 - loss: 0.1795 - val_accuracy: 0.9500 - val_loss: 0.2016\n",
      "Epoch 67/100\n",
      "51/51 - 1s - 23ms/step - accuracy: 0.9784 - loss: 0.1784 - val_accuracy: 0.9500 - val_loss: 0.2010\n",
      "Epoch 68/100\n",
      "51/51 - 1s - 23ms/step - accuracy: 0.9802 - loss: 0.1754 - val_accuracy: 0.9444 - val_loss: 0.1996\n",
      "Epoch 69/100\n",
      "51/51 - 1s - 23ms/step - accuracy: 0.9802 - loss: 0.1732 - val_accuracy: 0.9556 - val_loss: 0.1970\n",
      "Epoch 70/100\n",
      "51/51 - 1s - 23ms/step - accuracy: 0.9840 - loss: 0.1711 - val_accuracy: 0.9556 - val_loss: 0.1957\n",
      "Epoch 71/100\n",
      "51/51 - 1s - 23ms/step - accuracy: 0.9790 - loss: 0.1688 - val_accuracy: 0.9556 - val_loss: 0.1900\n",
      "Epoch 72/100\n",
      "51/51 - 1s - 23ms/step - accuracy: 0.9827 - loss: 0.1662 - val_accuracy: 0.9611 - val_loss: 0.1884\n",
      "Epoch 73/100\n",
      "51/51 - 1s - 23ms/step - accuracy: 0.9815 - loss: 0.1649 - val_accuracy: 0.9556 - val_loss: 0.1858\n",
      "Epoch 74/100\n",
      "51/51 - 1s - 25ms/step - accuracy: 0.9821 - loss: 0.1612 - val_accuracy: 0.9556 - val_loss: 0.1835\n"
     ]
    },
    {
     "name": "stdout",
     "output_type": "stream",
     "text": [
      "Epoch 75/100\n",
      "51/51 - 1s - 23ms/step - accuracy: 0.9833 - loss: 0.1595 - val_accuracy: 0.9611 - val_loss: 0.1813\n",
      "Epoch 76/100\n",
      "51/51 - 1s - 23ms/step - accuracy: 0.9852 - loss: 0.1570 - val_accuracy: 0.9611 - val_loss: 0.1791\n",
      "Epoch 77/100\n",
      "51/51 - 1s - 23ms/step - accuracy: 0.9833 - loss: 0.1555 - val_accuracy: 0.9611 - val_loss: 0.1784\n",
      "Epoch 78/100\n",
      "51/51 - 1s - 22ms/step - accuracy: 0.9864 - loss: 0.1532 - val_accuracy: 0.9556 - val_loss: 0.1757\n",
      "Epoch 79/100\n",
      "51/51 - 1s - 23ms/step - accuracy: 0.9858 - loss: 0.1510 - val_accuracy: 0.9611 - val_loss: 0.1730\n",
      "Epoch 80/100\n",
      "51/51 - 1s - 23ms/step - accuracy: 0.9864 - loss: 0.1489 - val_accuracy: 0.9611 - val_loss: 0.1706\n",
      "Epoch 81/100\n",
      "51/51 - 1s - 23ms/step - accuracy: 0.9889 - loss: 0.1471 - val_accuracy: 0.9611 - val_loss: 0.1689\n",
      "Epoch 82/100\n",
      "51/51 - 1s - 23ms/step - accuracy: 0.9870 - loss: 0.1450 - val_accuracy: 0.9611 - val_loss: 0.1664\n",
      "Epoch 83/100\n",
      "51/51 - 1s - 25ms/step - accuracy: 0.9870 - loss: 0.1445 - val_accuracy: 0.9667 - val_loss: 0.1652\n",
      "Epoch 84/100\n",
      "51/51 - 1s - 23ms/step - accuracy: 0.9877 - loss: 0.1410 - val_accuracy: 0.9611 - val_loss: 0.1632\n",
      "Epoch 85/100\n",
      "51/51 - 1s - 24ms/step - accuracy: 0.9877 - loss: 0.1391 - val_accuracy: 0.9556 - val_loss: 0.1610\n",
      "Epoch 86/100\n",
      "51/51 - 1s - 23ms/step - accuracy: 0.9877 - loss: 0.1382 - val_accuracy: 0.9556 - val_loss: 0.1586\n",
      "Epoch 87/100\n",
      "51/51 - 1s - 23ms/step - accuracy: 0.9889 - loss: 0.1353 - val_accuracy: 0.9556 - val_loss: 0.1566\n",
      "Epoch 88/100\n",
      "51/51 - 1s - 23ms/step - accuracy: 0.9889 - loss: 0.1331 - val_accuracy: 0.9722 - val_loss: 0.1614\n",
      "Epoch 89/100\n",
      "51/51 - 1s - 23ms/step - accuracy: 0.9901 - loss: 0.1325 - val_accuracy: 0.9556 - val_loss: 0.1544\n",
      "Epoch 90/100\n",
      "51/51 - 1s - 22ms/step - accuracy: 0.9901 - loss: 0.1300 - val_accuracy: 0.9556 - val_loss: 0.1563\n",
      "Epoch 91/100\n",
      "51/51 - 1s - 24ms/step - accuracy: 0.9895 - loss: 0.1290 - val_accuracy: 0.9833 - val_loss: 0.1560\n",
      "Epoch 92/100\n",
      "51/51 - 1s - 23ms/step - accuracy: 0.9920 - loss: 0.1271 - val_accuracy: 0.9556 - val_loss: 0.1482\n",
      "Epoch 93/100\n",
      "51/51 - 1s - 23ms/step - accuracy: 0.9926 - loss: 0.1253 - val_accuracy: 0.9722 - val_loss: 0.1467\n",
      "Epoch 94/100\n",
      "51/51 - 1s - 23ms/step - accuracy: 0.9907 - loss: 0.1240 - val_accuracy: 0.9722 - val_loss: 0.1446\n",
      "Epoch 95/100\n",
      "51/51 - 1s - 22ms/step - accuracy: 0.9920 - loss: 0.1227 - val_accuracy: 0.9778 - val_loss: 0.1436\n",
      "Epoch 96/100\n",
      "51/51 - 1s - 22ms/step - accuracy: 0.9920 - loss: 0.1208 - val_accuracy: 0.9778 - val_loss: 0.1410\n",
      "Epoch 97/100\n",
      "51/51 - 1s - 22ms/step - accuracy: 0.9926 - loss: 0.1195 - val_accuracy: 0.9778 - val_loss: 0.1397\n",
      "Epoch 98/100\n",
      "51/51 - 1s - 24ms/step - accuracy: 0.9920 - loss: 0.1180 - val_accuracy: 0.9722 - val_loss: 0.1377\n",
      "Epoch 99/100\n",
      "51/51 - 1s - 25ms/step - accuracy: 0.9957 - loss: 0.1157 - val_accuracy: 0.9778 - val_loss: 0.1368\n",
      "Epoch 100/100\n",
      "51/51 - 1s - 23ms/step - accuracy: 0.9957 - loss: 0.1150 - val_accuracy: 0.9833 - val_loss: 0.1367\n"
     ]
    }
   ],
   "source": [
    "hist = model.fit(x=X_train, y=y_train, verbose=2, batch_size=32, epochs=100, \n",
    "                 validation_data=(X_val, y_val), shuffle='true')"
   ]
  },
  {
   "cell_type": "code",
   "execution_count": 19,
   "id": "f6d8a567-767b-4d9f-900c-d0bd57627fa1",
   "metadata": {
    "tags": []
   },
   "outputs": [
    {
     "data": {
      "text/html": [
       "<pre style=\"white-space:pre;overflow-x:auto;line-height:normal;font-family:Menlo,'DejaVu Sans Mono',consolas,'Courier New',monospace\"><span style=\"font-weight: bold\">Model: \"sequential_1\"</span>\n",
       "</pre>\n"
      ],
      "text/plain": [
       "\u001b[1mModel: \"sequential_1\"\u001b[0m\n"
      ]
     },
     "metadata": {},
     "output_type": "display_data"
    },
    {
     "data": {
      "text/html": [
       "<pre style=\"white-space:pre;overflow-x:auto;line-height:normal;font-family:Menlo,'DejaVu Sans Mono',consolas,'Courier New',monospace\">┏━━━━━━━━━━━━━━━━━━━━━━━━━━━━━━━━━┳━━━━━━━━━━━━━━━━━━━━━━━━┳━━━━━━━━━━━━━━━┓\n",
       "┃<span style=\"font-weight: bold\"> Layer (type)                    </span>┃<span style=\"font-weight: bold\"> Output Shape           </span>┃<span style=\"font-weight: bold\">       Param # </span>┃\n",
       "┡━━━━━━━━━━━━━━━━━━━━━━━━━━━━━━━━━╇━━━━━━━━━━━━━━━━━━━━━━━━╇━━━━━━━━━━━━━━━┩\n",
       "│ dense_3 (<span style=\"color: #0087ff; text-decoration-color: #0087ff\">Dense</span>)                 │ (<span style=\"color: #00d7ff; text-decoration-color: #00d7ff\">None</span>, <span style=\"color: #00af00; text-decoration-color: #00af00\">1</span>)              │       <span style=\"color: #00af00; text-decoration-color: #00af00\">300,001</span> │\n",
       "└─────────────────────────────────┴────────────────────────┴───────────────┘\n",
       "</pre>\n"
      ],
      "text/plain": [
       "┏━━━━━━━━━━━━━━━━━━━━━━━━━━━━━━━━━┳━━━━━━━━━━━━━━━━━━━━━━━━┳━━━━━━━━━━━━━━━┓\n",
       "┃\u001b[1m \u001b[0m\u001b[1mLayer (type)                   \u001b[0m\u001b[1m \u001b[0m┃\u001b[1m \u001b[0m\u001b[1mOutput Shape          \u001b[0m\u001b[1m \u001b[0m┃\u001b[1m \u001b[0m\u001b[1m      Param #\u001b[0m\u001b[1m \u001b[0m┃\n",
       "┡━━━━━━━━━━━━━━━━━━━━━━━━━━━━━━━━━╇━━━━━━━━━━━━━━━━━━━━━━━━╇━━━━━━━━━━━━━━━┩\n",
       "│ dense_3 (\u001b[38;5;33mDense\u001b[0m)                 │ (\u001b[38;5;45mNone\u001b[0m, \u001b[38;5;34m1\u001b[0m)              │       \u001b[38;5;34m300,001\u001b[0m │\n",
       "└─────────────────────────────────┴────────────────────────┴───────────────┘\n"
      ]
     },
     "metadata": {},
     "output_type": "display_data"
    },
    {
     "data": {
      "text/html": [
       "<pre style=\"white-space:pre;overflow-x:auto;line-height:normal;font-family:Menlo,'DejaVu Sans Mono',consolas,'Courier New',monospace\"><span style=\"font-weight: bold\"> Total params: </span><span style=\"color: #00af00; text-decoration-color: #00af00\">900,005</span> (3.43 MB)\n",
       "</pre>\n"
      ],
      "text/plain": [
       "\u001b[1m Total params: \u001b[0m\u001b[38;5;34m900,005\u001b[0m (3.43 MB)\n"
      ]
     },
     "metadata": {},
     "output_type": "display_data"
    },
    {
     "data": {
      "text/html": [
       "<pre style=\"white-space:pre;overflow-x:auto;line-height:normal;font-family:Menlo,'DejaVu Sans Mono',consolas,'Courier New',monospace\"><span style=\"font-weight: bold\"> Trainable params: </span><span style=\"color: #00af00; text-decoration-color: #00af00\">300,001</span> (1.14 MB)\n",
       "</pre>\n"
      ],
      "text/plain": [
       "\u001b[1m Trainable params: \u001b[0m\u001b[38;5;34m300,001\u001b[0m (1.14 MB)\n"
      ]
     },
     "metadata": {},
     "output_type": "display_data"
    },
    {
     "data": {
      "text/html": [
       "<pre style=\"white-space:pre;overflow-x:auto;line-height:normal;font-family:Menlo,'DejaVu Sans Mono',consolas,'Courier New',monospace\"><span style=\"font-weight: bold\"> Non-trainable params: </span><span style=\"color: #00af00; text-decoration-color: #00af00\">0</span> (0.00 B)\n",
       "</pre>\n"
      ],
      "text/plain": [
       "\u001b[1m Non-trainable params: \u001b[0m\u001b[38;5;34m0\u001b[0m (0.00 B)\n"
      ]
     },
     "metadata": {},
     "output_type": "display_data"
    },
    {
     "data": {
      "text/html": [
       "<pre style=\"white-space:pre;overflow-x:auto;line-height:normal;font-family:Menlo,'DejaVu Sans Mono',consolas,'Courier New',monospace\"><span style=\"font-weight: bold\"> Optimizer params: </span><span style=\"color: #00af00; text-decoration-color: #00af00\">600,004</span> (2.29 MB)\n",
       "</pre>\n"
      ],
      "text/plain": [
       "\u001b[1m Optimizer params: \u001b[0m\u001b[38;5;34m600,004\u001b[0m (2.29 MB)\n"
      ]
     },
     "metadata": {},
     "output_type": "display_data"
    }
   ],
   "source": [
    "# resumen del model\n",
    "model.summary()"
   ]
  },
  {
   "cell_type": "code",
   "execution_count": 20,
   "id": "c797c63c",
   "metadata": {},
   "outputs": [
    {
     "name": "stdout",
     "output_type": "stream",
     "text": [
      "7/7 - 0s - 16ms/step - accuracy: 0.9600 - loss: 0.1727\n"
     ]
    }
   ],
   "source": [
    "test_loss, test_accuracy = model.evaluate(X_test, y_test, verbose=2)"
   ]
  },
  {
   "cell_type": "code",
   "execution_count": 21,
   "id": "62df3e99",
   "metadata": {},
   "outputs": [
    {
     "data": {
      "image/png": "[encoded data removed]",
      "text/plain": [
       "<Figure size 864x288 with 2 Axes>"
      ]
     },
     "metadata": {
      "needs_background": "light"
     },
     "output_type": "display_data"
    }
   ],
   "source": [
    "# Obtén los datos del historial\n",
    "accuracy = hist.history['accuracy']\n",
    "val_accuracy = hist.history['val_accuracy']\n",
    "\n",
    "loss = hist.history['loss']\n",
    "val_loss = hist.history['val_loss']\n",
    "\n",
    "\n",
    "# Gráfica de accuracy\n",
    "plt.figure(figsize=(12, 4))\n",
    "plt.subplot(1, 2, 1)\n",
    "plt.plot(accuracy, label='Train Accuracy')\n",
    "plt.plot(val_accuracy, label='Validation Accuracy')\n",
    "plt.xlabel('Épocas')\n",
    "plt.ylabel('Accuracy')\n",
    "plt.legend()\n",
    "\n",
    "# Gráfica de pérdida\n",
    "plt.subplot(1, 2, 2)\n",
    "plt.plot(loss, label='Train Loss')\n",
    "plt.plot(val_loss, label='Validation Loss')\n",
    "plt.xlabel('Épocas')\n",
    "plt.ylabel('Loss')\n",
    "plt.legend()\n",
    "\n",
    "# Ajusta los márgenes y espacios entre subplots\n",
    "plt.tight_layout()\n",
    "\n",
    "# Muestra las gráficas\n",
    "plt.show()"
   ]
  },
  {
   "cell_type": "code",
   "execution_count": 22,
   "id": "32c5ebb7",
   "metadata": {},
   "outputs": [
    {
     "name": "stdout",
     "output_type": "stream",
     "text": [
      "\u001b[1m51/51\u001b[0m \u001b[32m━━━━━━━━━━━━━━━━━━━━\u001b[0m\u001b[37m\u001b[0m \u001b[1m3s\u001b[0m 57ms/step\n",
      "\u001b[1m6/6\u001b[0m \u001b[32m━━━━━━━━━━━━━━━━━━━━\u001b[0m\u001b[37m\u001b[0m \u001b[1m0s\u001b[0m 9ms/step \n",
      "\u001b[1m7/7\u001b[0m \u001b[32m━━━━━━━━━━━━━━━━━━━━\u001b[0m\u001b[37m\u001b[0m \u001b[1m0s\u001b[0m 10ms/step\n"
     ]
    }
   ],
   "source": [
    "y_proba_train = model.predict(X_train)\n",
    "y_pred_train = y_proba_train.round().astype(int)\n",
    "y_proba_validation = model.predict(X_val)\n",
    "y_pred_validation = y_proba_validation.round().astype(int)\n",
    "y_proba_test = model.predict(X_test)\n",
    "y_pred_test = y_proba_test.round().astype(int)"
   ]
  },
  {
   "cell_type": "code",
   "execution_count": 23,
   "id": "40688d00",
   "metadata": {},
   "outputs": [],
   "source": [
    "lbl = LabelEncoder()\n",
    "target_names = ['class 0', 'class 1']\n",
    "#Class 0 = NOK\n",
    "#Class 1 = OK"
   ]
  },
  {
   "cell_type": "code",
   "execution_count": 24,
   "id": "eccf3be4",
   "metadata": {},
   "outputs": [],
   "source": [
    "!pip install -q scikit-plot\n",
    "import scikitplot as skplt"
   ]
  },
  {
   "cell_type": "code",
   "execution_count": 25,
   "id": "648a36b2",
   "metadata": {},
   "outputs": [
    {
     "name": "stdout",
     "output_type": "stream",
     "text": [
      "Train sample \n",
      "               precision    recall  f1-score   support\n",
      "\n",
      "     class 0       1.00      1.00      1.00       810\n",
      "     class 1       1.00      1.00      1.00       810\n",
      "\n",
      "    accuracy                           1.00      1620\n",
      "   macro avg       1.00      1.00      1.00      1620\n",
      "weighted avg       1.00      1.00      1.00      1620\n",
      "\n",
      "Validation sample \n",
      "               precision    recall  f1-score   support\n",
      "\n",
      "     class 0       0.98      0.99      0.98        90\n",
      "     class 1       0.99      0.98      0.98        90\n",
      "\n",
      "    accuracy                           0.98       180\n",
      "   macro avg       0.98      0.98      0.98       180\n",
      "weighted avg       0.98      0.98      0.98       180\n",
      "\n",
      "Test sample \n",
      "               precision    recall  f1-score   support\n",
      "\n",
      "     class 0       0.97      0.95      0.96       100\n",
      "     class 1       0.95      0.97      0.96       100\n",
      "\n",
      "    accuracy                           0.96       200\n",
      "   macro avg       0.96      0.96      0.96       200\n",
      "weighted avg       0.96      0.96      0.96       200\n",
      "\n"
     ]
    }
   ],
   "source": [
    "print(\"Train sample \\n\", classification_report(y_train, y_pred_train,target_names = target_names))\n",
    "print(\"Validation sample \\n\", classification_report(y_val, y_pred_validation,target_names = target_names))\n",
    "print(\"Test sample \\n\", classification_report(y_test, y_pred_test,target_names = target_names))"
   ]
  },
  {
   "cell_type": "code",
   "execution_count": 26,
   "id": "3d5fe8c9",
   "metadata": {},
   "outputs": [
    {
     "data": {
      "image/png": "[encoded data removed]",
      "text/plain": [
       "<Figure size 432x288 with 2 Axes>"
      ]
     },
     "metadata": {
      "needs_background": "light"
     },
     "output_type": "display_data"
    },
    {
     "data": {
      "image/png": "[encoded data removed]",
      "text/plain": [
       "<Figure size 432x288 with 2 Axes>"
      ]
     },
     "metadata": {
      "needs_background": "light"
     },
     "output_type": "display_data"
    },
    {
     "data": {
      "image/png": "[encoded data removed]",
      "text/plain": [
       "<Figure size 432x288 with 2 Axes>"
      ]
     },
     "metadata": {
      "needs_background": "light"
     },
     "output_type": "display_data"
    }
   ],
   "source": [
    "# Gráfico de Matriz de Confusión\n",
    "skplt.metrics.plot_confusion_matrix(y_train, y_pred_train, normalize=True)\n",
    "plt.title('Matriz de Confusión Train')\n",
    "\n",
    "skplt.metrics.plot_confusion_matrix(y_val, y_pred_validation, normalize=True)\n",
    "plt.title('Matriz de Confusión Validation')\n",
    "\n",
    "skplt.metrics.plot_confusion_matrix(y_test, y_pred_test, normalize=True)\n",
    "plt.title('Matriz de Confusión Test')\n",
    "\n",
    "plt.show() "
   ]
  }
 ],
 "metadata": {
  "kernelspec": {
   "display_name": "Python 3 (ipykernel)",
   "language": "python",
   "name": "python3"
  },
  "language_info": {
   "codemirror_mode": {
    "name": "ipython",
    "version": 3
   },
   "file_extension": ".py",
   "mimetype": "text/x-python",
   "name": "python",
   "nbconvert_exporter": "python",
   "pygments_lexer": "ipython3",
   "version": "3.10.5"
  }
 },
 "nbformat": 4,
 "nbformat_minor": 5
}
