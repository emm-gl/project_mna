{
 "cells": [
  {
   "cell_type": "markdown",
   "id": "cfbcedeb",
   "metadata": {},
   "source": [
    "### 500 imagenes de cada clase en grayscale \n",
    "\n",
    "### Optimizador Adam learning_rate=0.001\n",
    "\n",
    "### Epocas = 150\n",
    "\n",
    "### 3 capas densas = ReLu, ReLu y Softmax\n",
    "\n",
    "### Ultima capa = Sigmoid"
   ]
  },
  {
   "cell_type": "code",
   "execution_count": 1,
   "id": "871b942b-aecd-4cac-8d77-8872125822a1",
   "metadata": {
    "tags": []
   },
   "outputs": [
    {
     "name": "stderr",
     "output_type": "stream",
     "text": [
      "2024-05-24 13:18:02.117778: I tensorflow/core/platform/cpu_feature_guard.cc:210] This TensorFlow binary is optimized to use available CPU instructions in performance-critical operations.\n",
      "To enable the following instructions: AVX2 FMA, in other operations, rebuild TensorFlow with the appropriate compiler flags.\n"
     ]
    }
   ],
   "source": [
    "import numpy as np\n",
    "import matplotlib.pyplot as plt\n",
    "import keras\n",
    "from keras.datasets import cifar10\n",
    "from keras.models import Sequential\n",
    "from keras.layers import Dense\n",
    "from keras.optimizers import Adam\n",
    "import tensorflow as tf\n",
    "from tensorflow.keras.utils import to_categorical\n",
    "\n",
    "import random\n",
    "     \n",
    "from keras.layers import Dropout\n",
    "from keras.layers import Flatten\n",
    "\n",
    "from tensorflow.keras.layers import Conv2D\n",
    "\n",
    "from tensorflow.keras.layers import MaxPooling2D\n",
    "     \n",
    "from keras.models import Model\n",
    "\n",
    "import matplotlib.image as mpimg\n",
    "import seaborn as sns\n",
    "import cv2\n",
    "\n",
    "import glob\n",
    "\n",
    "from sklearn.model_selection import train_test_split\n",
    "from sklearn.preprocessing import LabelEncoder\n",
    "from sklearn.metrics import classification_report,confusion_matrix"
   ]
  },
  {
   "cell_type": "code",
   "execution_count": 2,
   "id": "500acdf7-b742-4d24-8193-f335e48c5767",
   "metadata": {
    "tags": []
   },
   "outputs": [],
   "source": [
    "file_path = 'Desktop/proyecto integrador/*'"
   ]
  },
  {
   "cell_type": "code",
   "execution_count": 3,
   "id": "1d23bd78-d49d-4d26-9ba5-2fde46a23f29",
   "metadata": {
    "tags": []
   },
   "outputs": [],
   "source": [
    "#Data acquisition\n",
    "noise = glob.glob(\"OK_etiquetadas_500-2/*.png\")\n",
    "\n",
    "nonoise = glob.glob(\"NOK_etiquetadas_500-2/*.png\")"
   ]
  },
  {
   "cell_type": "code",
   "execution_count": 4,
   "id": "ec79fbc9-4488-4463-a14b-81e6658ba2d2",
   "metadata": {
    "tags": []
   },
   "outputs": [
    {
     "data": {
      "text/plain": [
       "500"
      ]
     },
     "execution_count": 4,
     "metadata": {},
     "output_type": "execute_result"
    }
   ],
   "source": [
    "len(noise)"
   ]
  },
  {
   "cell_type": "code",
   "execution_count": 5,
   "id": "86de597a-3f6f-4191-a7e7-59637293cc94",
   "metadata": {
    "tags": []
   },
   "outputs": [
    {
     "data": {
      "text/plain": [
       "500"
      ]
     },
     "execution_count": 5,
     "metadata": {},
     "output_type": "execute_result"
    }
   ],
   "source": [
    "len(nonoise)"
   ]
  },
  {
   "cell_type": "code",
   "execution_count": 6,
   "id": "4b8d8b2b-b737-4be8-96a9-96e3eccaae48",
   "metadata": {
    "tags": []
   },
   "outputs": [],
   "source": [
    "noise_Formated = []\n",
    "nonoise_Formated = []\n",
    "\n",
    "width = 400 \n",
    "height = 250\n",
    "dim = (width, height)\n",
    "\n",
    "for i in noise:\n",
    "    img_gray = mpimg.imread(i)\n",
    "    #resize image\n",
    "    img_resized = cv2.resize(img_gray, dim, interpolation = cv2.INTER_AREA)\n",
    "    \n",
    "    #add the new image to a new array\n",
    "    noise_Formated.append(img_resized)\n",
    "\n",
    "for i in nonoise:\n",
    "    img_gray = mpimg.imread(i)\n",
    "    #resize image\n",
    "    img_resized = cv2.resize(img_gray, dim, interpolation = cv2.INTER_AREA)\n",
    "    \n",
    "    #add the new image to a new array\n",
    "    nonoise_Formated.append(img_resized)"
   ]
  },
  {
   "cell_type": "code",
   "execution_count": 7,
   "id": "641b077c-7385-4fe0-bbb6-e42c6d411481",
   "metadata": {
    "tags": []
   },
   "outputs": [],
   "source": [
    "y_noise = np.ones(len(noise_Formated))\n",
    "y_nonoise = np.zeros(len(nonoise_Formated))"
   ]
  },
  {
   "cell_type": "code",
   "execution_count": 8,
   "id": "2a8f73ab-5660-4972-8d62-2eedb5a6315f",
   "metadata": {
    "tags": []
   },
   "outputs": [
    {
     "data": {
      "text/plain": [
       "(1000, 250, 400)"
      ]
     },
     "execution_count": 8,
     "metadata": {},
     "output_type": "execute_result"
    }
   ],
   "source": [
    "X = np.vstack((noise_Formated,nonoise_Formated))\n",
    "X.shape"
   ]
  },
  {
   "cell_type": "code",
   "execution_count": 9,
   "id": "e2a84da4-86ce-43cc-bf74-419e7f5aa8b2",
   "metadata": {
    "tags": []
   },
   "outputs": [
    {
     "data": {
      "text/plain": [
       "(1000,)"
      ]
     },
     "execution_count": 9,
     "metadata": {},
     "output_type": "execute_result"
    }
   ],
   "source": [
    "y = np.hstack((y_noise,y_nonoise))\n",
    "y.shape"
   ]
  },
  {
   "cell_type": "code",
   "execution_count": 10,
   "id": "065a9b81-7481-4c9b-a846-27db90d93ba1",
   "metadata": {
    "tags": []
   },
   "outputs": [],
   "source": [
    "X=X/255"
   ]
  },
  {
   "cell_type": "code",
   "execution_count": 11,
   "id": "c8e07c6f-9d2c-46f5-b0ad-9dc1a8cc9a58",
   "metadata": {
    "tags": []
   },
   "outputs": [
    {
     "name": "stdout",
     "output_type": "stream",
     "text": [
      "(1000, 100000)\n"
     ]
    }
   ],
   "source": [
    "# 400 x 250 = 100,000\n",
    "num_pixels = 100000\n",
    "X = X.reshape(X.shape[0], num_pixels)\n",
    "print(X.shape)"
   ]
  },
  {
   "cell_type": "code",
   "execution_count": 12,
   "id": "53295b89-6892-4583-ad62-92db4ce3a57a",
   "metadata": {
    "tags": []
   },
   "outputs": [
    {
     "name": "stderr",
     "output_type": "stream",
     "text": [
      "/Library/Frameworks/Python.framework/Versions/3.10/lib/python3.10/site-packages/keras/src/layers/core/dense.py:87: UserWarning: Do not pass an `input_shape`/`input_dim` argument to a layer. When using Sequential models, prefer using an `Input(shape)` object as the first layer in the model instead.\n",
      "  super().__init__(activity_regularizer=activity_regularizer, **kwargs)\n"
     ]
    },
    {
     "data": {
      "text/html": [
       "<pre style=\"white-space:pre;overflow-x:auto;line-height:normal;font-family:Menlo,'DejaVu Sans Mono',consolas,'Courier New',monospace\"><span style=\"font-weight: bold\">Model: \"sequential\"</span>\n",
       "</pre>\n"
      ],
      "text/plain": [
       "\u001b[1mModel: \"sequential\"\u001b[0m\n"
      ]
     },
     "metadata": {},
     "output_type": "display_data"
    },
    {
     "data": {
      "text/html": [
       "<pre style=\"white-space:pre;overflow-x:auto;line-height:normal;font-family:Menlo,'DejaVu Sans Mono',consolas,'Courier New',monospace\">┏━━━━━━━━━━━━━━━━━━━━━━━━━━━━━━━━━┳━━━━━━━━━━━━━━━━━━━━━━━━┳━━━━━━━━━━━━━━━┓\n",
       "┃<span style=\"font-weight: bold\"> Layer (type)                    </span>┃<span style=\"font-weight: bold\"> Output Shape           </span>┃<span style=\"font-weight: bold\">       Param # </span>┃\n",
       "┡━━━━━━━━━━━━━━━━━━━━━━━━━━━━━━━━━╇━━━━━━━━━━━━━━━━━━━━━━━━╇━━━━━━━━━━━━━━━┩\n",
       "│ dense (<span style=\"color: #0087ff; text-decoration-color: #0087ff\">Dense</span>)                   │ (<span style=\"color: #00d7ff; text-decoration-color: #00d7ff\">None</span>, <span style=\"color: #00af00; text-decoration-color: #00af00\">50</span>)             │     <span style=\"color: #00af00; text-decoration-color: #00af00\">5,000,050</span> │\n",
       "├─────────────────────────────────┼────────────────────────┼───────────────┤\n",
       "│ dense_1 (<span style=\"color: #0087ff; text-decoration-color: #0087ff\">Dense</span>)                 │ (<span style=\"color: #00d7ff; text-decoration-color: #00d7ff\">None</span>, <span style=\"color: #00af00; text-decoration-color: #00af00\">10</span>)             │           <span style=\"color: #00af00; text-decoration-color: #00af00\">510</span> │\n",
       "├─────────────────────────────────┼────────────────────────┼───────────────┤\n",
       "│ dense_2 (<span style=\"color: #0087ff; text-decoration-color: #0087ff\">Dense</span>)                 │ (<span style=\"color: #00d7ff; text-decoration-color: #00d7ff\">None</span>, <span style=\"color: #00af00; text-decoration-color: #00af00\">10</span>)             │           <span style=\"color: #00af00; text-decoration-color: #00af00\">110</span> │\n",
       "└─────────────────────────────────┴────────────────────────┴───────────────┘\n",
       "</pre>\n"
      ],
      "text/plain": [
       "┏━━━━━━━━━━━━━━━━━━━━━━━━━━━━━━━━━┳━━━━━━━━━━━━━━━━━━━━━━━━┳━━━━━━━━━━━━━━━┓\n",
       "┃\u001b[1m \u001b[0m\u001b[1mLayer (type)                   \u001b[0m\u001b[1m \u001b[0m┃\u001b[1m \u001b[0m\u001b[1mOutput Shape          \u001b[0m\u001b[1m \u001b[0m┃\u001b[1m \u001b[0m\u001b[1m      Param #\u001b[0m\u001b[1m \u001b[0m┃\n",
       "┡━━━━━━━━━━━━━━━━━━━━━━━━━━━━━━━━━╇━━━━━━━━━━━━━━━━━━━━━━━━╇━━━━━━━━━━━━━━━┩\n",
       "│ dense (\u001b[38;5;33mDense\u001b[0m)                   │ (\u001b[38;5;45mNone\u001b[0m, \u001b[38;5;34m50\u001b[0m)             │     \u001b[38;5;34m5,000,050\u001b[0m │\n",
       "├─────────────────────────────────┼────────────────────────┼───────────────┤\n",
       "│ dense_1 (\u001b[38;5;33mDense\u001b[0m)                 │ (\u001b[38;5;45mNone\u001b[0m, \u001b[38;5;34m10\u001b[0m)             │           \u001b[38;5;34m510\u001b[0m │\n",
       "├─────────────────────────────────┼────────────────────────┼───────────────┤\n",
       "│ dense_2 (\u001b[38;5;33mDense\u001b[0m)                 │ (\u001b[38;5;45mNone\u001b[0m, \u001b[38;5;34m10\u001b[0m)             │           \u001b[38;5;34m110\u001b[0m │\n",
       "└─────────────────────────────────┴────────────────────────┴───────────────┘\n"
      ]
     },
     "metadata": {},
     "output_type": "display_data"
    },
    {
     "data": {
      "text/html": [
       "<pre style=\"white-space:pre;overflow-x:auto;line-height:normal;font-family:Menlo,'DejaVu Sans Mono',consolas,'Courier New',monospace\"><span style=\"font-weight: bold\"> Total params: </span><span style=\"color: #00af00; text-decoration-color: #00af00\">5,000,670</span> (19.08 MB)\n",
       "</pre>\n"
      ],
      "text/plain": [
       "\u001b[1m Total params: \u001b[0m\u001b[38;5;34m5,000,670\u001b[0m (19.08 MB)\n"
      ]
     },
     "metadata": {},
     "output_type": "display_data"
    },
    {
     "data": {
      "text/html": [
       "<pre style=\"white-space:pre;overflow-x:auto;line-height:normal;font-family:Menlo,'DejaVu Sans Mono',consolas,'Courier New',monospace\"><span style=\"font-weight: bold\"> Trainable params: </span><span style=\"color: #00af00; text-decoration-color: #00af00\">5,000,670</span> (19.08 MB)\n",
       "</pre>\n"
      ],
      "text/plain": [
       "\u001b[1m Trainable params: \u001b[0m\u001b[38;5;34m5,000,670\u001b[0m (19.08 MB)\n"
      ]
     },
     "metadata": {},
     "output_type": "display_data"
    },
    {
     "data": {
      "text/html": [
       "<pre style=\"white-space:pre;overflow-x:auto;line-height:normal;font-family:Menlo,'DejaVu Sans Mono',consolas,'Courier New',monospace\"><span style=\"font-weight: bold\"> Non-trainable params: </span><span style=\"color: #00af00; text-decoration-color: #00af00\">0</span> (0.00 B)\n",
       "</pre>\n"
      ],
      "text/plain": [
       "\u001b[1m Non-trainable params: \u001b[0m\u001b[38;5;34m0\u001b[0m (0.00 B)\n"
      ]
     },
     "metadata": {},
     "output_type": "display_data"
    },
    {
     "name": "stdout",
     "output_type": "stream",
     "text": [
      "None\n"
     ]
    }
   ],
   "source": [
    "model = Sequential()\n",
    "model.add(Dense(units = 50, input_dim=num_pixels, activation='relu'))\n",
    "#model.add(Dropout(0.2))\n",
    "model.add(Dense(units = 10, activation='relu'))\n",
    "#model.add(Dropout(0.2))\n",
    "model.add(Dense(units = 10, activation='softmax'))\n",
    "\n",
    "optimizer = tf.keras.optimizers.Adam(learning_rate=0.1)\n",
    "model.compile(optimizer=optimizer, loss='binary_crossentropy', metrics=['accuracy'])\n",
    "print(model.summary())"
   ]
  },
  {
   "cell_type": "code",
   "execution_count": 13,
   "id": "43226466-0af8-4e0d-86da-2afcde1f4175",
   "metadata": {
    "tags": []
   },
   "outputs": [
    {
     "name": "stdout",
     "output_type": "stream",
     "text": [
      "(1000, 100000)\n",
      "(1000,)\n",
      "[1. 1. 1. 1. 1. 1. 1. 1. 1. 1. 1. 1. 1. 1. 1. 1. 1. 1. 1. 1. 1. 1. 1. 1.\n",
      " 1. 1. 1. 1. 1. 1. 1. 1. 1. 1. 1. 1. 1. 1. 1. 1. 1. 1. 1. 1. 1. 1. 1. 1.\n",
      " 1. 1. 1. 1. 1. 1. 1. 1. 1. 1. 1. 1. 1. 1. 1. 1. 1. 1. 1. 1. 1. 1. 1. 1.\n",
      " 1. 1. 1. 1. 1. 1. 1. 1. 1. 1. 1. 1. 1. 1. 1. 1. 1. 1. 1. 1. 1. 1. 1. 1.\n",
      " 1. 1. 1. 1. 1. 1. 1. 1. 1. 1. 1. 1. 1. 1. 1. 1. 1. 1. 1. 1. 1. 1. 1. 1.\n",
      " 1. 1. 1. 1. 1. 1. 1. 1. 1. 1. 1. 1. 1. 1. 1. 1. 1. 1. 1. 1. 1. 1. 1. 1.\n",
      " 1. 1. 1. 1. 1. 1. 1. 1. 1. 1. 1. 1. 1. 1. 1. 1. 1. 1. 1. 1. 1. 1. 1. 1.\n",
      " 1. 1. 1. 1. 1. 1. 1. 1. 1. 1. 1. 1. 1. 1. 1. 1. 1. 1. 1. 1. 1. 1. 1. 1.\n",
      " 1. 1. 1. 1. 1. 1. 1. 1. 1. 1. 1. 1. 1. 1. 1. 1. 1. 1. 1. 1. 1. 1. 1. 1.\n",
      " 1. 1. 1. 1. 1. 1. 1. 1. 1. 1. 1. 1. 1. 1. 1. 1. 1. 1. 1. 1. 1. 1. 1. 1.\n",
      " 1. 1. 1. 1. 1. 1. 1. 1. 1. 1. 1. 1. 1. 1. 1. 1. 1. 1. 1. 1. 1. 1. 1. 1.\n",
      " 1. 1. 1. 1. 1. 1. 1. 1. 1. 1. 1. 1. 1. 1. 1. 1. 1. 1. 1. 1. 1. 1. 1. 1.\n",
      " 1. 1. 1. 1. 1. 1. 1. 1. 1. 1. 1. 1. 1. 1. 1. 1. 1. 1. 1. 1. 1. 1. 1. 1.\n",
      " 1. 1. 1. 1. 1. 1. 1. 1. 1. 1. 1. 1. 1. 1. 1. 1. 1. 1. 1. 1. 1. 1. 1. 1.\n",
      " 1. 1. 1. 1. 1. 1. 1. 1. 1. 1. 1. 1. 1. 1. 1. 1. 1. 1. 1. 1. 1. 1. 1. 1.\n",
      " 1. 1. 1. 1. 1. 1. 1. 1. 1. 1. 1. 1. 1. 1. 1. 1. 1. 1. 1. 1. 1. 1. 1. 1.\n",
      " 1. 1. 1. 1. 1. 1. 1. 1. 1. 1. 1. 1. 1. 1. 1. 1. 1. 1. 1. 1. 1. 1. 1. 1.\n",
      " 1. 1. 1. 1. 1. 1. 1. 1. 1. 1. 1. 1. 1. 1. 1. 1. 1. 1. 1. 1. 1. 1. 1. 1.\n",
      " 1. 1. 1. 1. 1. 1. 1. 1. 1. 1. 1. 1. 1. 1. 1. 1. 1. 1. 1. 1. 1. 1. 1. 1.\n",
      " 1. 1. 1. 1. 1. 1. 1. 1. 1. 1. 1. 1. 1. 1. 1. 1. 1. 1. 1. 1. 1. 1. 1. 1.\n",
      " 1. 1. 1. 1. 1. 1. 1. 1. 1. 1. 1. 1. 1. 1. 1. 1. 1. 1. 1. 1. 0. 0. 0. 0.\n",
      " 0. 0. 0. 0. 0. 0. 0. 0. 0. 0. 0. 0. 0. 0. 0. 0. 0. 0. 0. 0. 0. 0. 0. 0.\n",
      " 0. 0. 0. 0. 0. 0. 0. 0. 0. 0. 0. 0. 0. 0. 0. 0. 0. 0. 0. 0. 0. 0. 0. 0.\n",
      " 0. 0. 0. 0. 0. 0. 0. 0. 0. 0. 0. 0. 0. 0. 0. 0. 0. 0. 0. 0. 0. 0. 0. 0.\n",
      " 0. 0. 0. 0. 0. 0. 0. 0. 0. 0. 0. 0. 0. 0. 0. 0. 0. 0. 0. 0. 0. 0. 0. 0.\n",
      " 0. 0. 0. 0. 0. 0. 0. 0. 0. 0. 0. 0. 0. 0. 0. 0. 0. 0. 0. 0. 0. 0. 0. 0.\n",
      " 0. 0. 0. 0. 0. 0. 0. 0. 0. 0. 0. 0. 0. 0. 0. 0. 0. 0. 0. 0. 0. 0. 0. 0.\n",
      " 0. 0. 0. 0. 0. 0. 0. 0. 0. 0. 0. 0. 0. 0. 0. 0. 0. 0. 0. 0. 0. 0. 0. 0.\n",
      " 0. 0. 0. 0. 0. 0. 0. 0. 0. 0. 0. 0. 0. 0. 0. 0. 0. 0. 0. 0. 0. 0. 0. 0.\n",
      " 0. 0. 0. 0. 0. 0. 0. 0. 0. 0. 0. 0. 0. 0. 0. 0. 0. 0. 0. 0. 0. 0. 0. 0.\n",
      " 0. 0. 0. 0. 0. 0. 0. 0. 0. 0. 0. 0. 0. 0. 0. 0. 0. 0. 0. 0. 0. 0. 0. 0.\n",
      " 0. 0. 0. 0. 0. 0. 0. 0. 0. 0. 0. 0. 0. 0. 0. 0. 0. 0. 0. 0. 0. 0. 0. 0.\n",
      " 0. 0. 0. 0. 0. 0. 0. 0. 0. 0. 0. 0. 0. 0. 0. 0. 0. 0. 0. 0. 0. 0. 0. 0.\n",
      " 0. 0. 0. 0. 0. 0. 0. 0. 0. 0. 0. 0. 0. 0. 0. 0. 0. 0. 0. 0. 0. 0. 0. 0.\n",
      " 0. 0. 0. 0. 0. 0. 0. 0. 0. 0. 0. 0. 0. 0. 0. 0. 0. 0. 0. 0. 0. 0. 0. 0.\n",
      " 0. 0. 0. 0. 0. 0. 0. 0. 0. 0. 0. 0. 0. 0. 0. 0. 0. 0. 0. 0. 0. 0. 0. 0.\n",
      " 0. 0. 0. 0. 0. 0. 0. 0. 0. 0. 0. 0. 0. 0. 0. 0. 0. 0. 0. 0. 0. 0. 0. 0.\n",
      " 0. 0. 0. 0. 0. 0. 0. 0. 0. 0. 0. 0. 0. 0. 0. 0. 0. 0. 0. 0. 0. 0. 0. 0.\n",
      " 0. 0. 0. 0. 0. 0. 0. 0. 0. 0. 0. 0. 0. 0. 0. 0. 0. 0. 0. 0. 0. 0. 0. 0.\n",
      " 0. 0. 0. 0. 0. 0. 0. 0. 0. 0. 0. 0. 0. 0. 0. 0. 0. 0. 0. 0. 0. 0. 0. 0.\n",
      " 0. 0. 0. 0. 0. 0. 0. 0. 0. 0. 0. 0. 0. 0. 0. 0. 0. 0. 0. 0. 0. 0. 0. 0.\n",
      " 0. 0. 0. 0. 0. 0. 0. 0. 0. 0. 0. 0. 0. 0. 0. 0.]\n"
     ]
    }
   ],
   "source": [
    "print(X.shape)\n",
    "print(y.shape)\n",
    "print(y)"
   ]
  },
  {
   "cell_type": "code",
   "execution_count": 14,
   "id": "a6f0e3ae-55f7-49b2-8e1f-cf2997ca7654",
   "metadata": {
    "tags": []
   },
   "outputs": [],
   "source": [
    "# 10% para el set de prueba\n",
    "X_tv, X_test, y_tv, y_test = train_test_split(X, y, test_size = 0.1, stratify=y, random_state = 42)"
   ]
  },
  {
   "cell_type": "code",
   "execution_count": 15,
   "id": "98bf409e",
   "metadata": {},
   "outputs": [],
   "source": [
    "# 10% para el set de validacion\n",
    "X_train, X_val, y_train, y_val = train_test_split(X_tv, y_tv, test_size = 0.1, stratify=y_tv, random_state = 42)"
   ]
  },
  {
   "cell_type": "code",
   "execution_count": 16,
   "id": "950582c9-5509-40ca-9783-3125fe59b3a6",
   "metadata": {
    "tags": []
   },
   "outputs": [
    {
     "name": "stderr",
     "output_type": "stream",
     "text": [
      "/Library/Frameworks/Python.framework/Versions/3.10/lib/python3.10/site-packages/keras/src/layers/core/dense.py:87: UserWarning: Do not pass an `input_shape`/`input_dim` argument to a layer. When using Sequential models, prefer using an `Input(shape)` object as the first layer in the model instead.\n",
      "  super().__init__(activity_regularizer=activity_regularizer, **kwargs)\n"
     ]
    }
   ],
   "source": [
    "model = Sequential()\n",
    "model.add(Dense(units=1, input_dim=100000, activation='sigmoid'))\n",
    "model.compile(optimizer=Adam(learning_rate=0.001), loss='binary_crossentropy',  metrics=['accuracy'])"
   ]
  },
  {
   "cell_type": "code",
   "execution_count": 17,
   "id": "d00f22f7-9aae-4375-a851-40be848f9e37",
   "metadata": {
    "tags": []
   },
   "outputs": [
    {
     "name": "stdout",
     "output_type": "stream",
     "text": [
      "Epoch 1/150\n",
      "26/26 - 2s - 63ms/step - accuracy: 0.6259 - loss: 0.6784 - val_accuracy: 0.5667 - val_loss: 0.6641\n",
      "Epoch 2/150\n",
      "26/26 - 1s - 32ms/step - accuracy: 0.6123 - loss: 0.6518 - val_accuracy: 0.6778 - val_loss: 0.6432\n",
      "Epoch 3/150\n",
      "26/26 - 0s - 10ms/step - accuracy: 0.6617 - loss: 0.6325 - val_accuracy: 0.6778 - val_loss: 0.6281\n",
      "Epoch 4/150\n",
      "26/26 - 0s - 11ms/step - accuracy: 0.6815 - loss: 0.6192 - val_accuracy: 0.6778 - val_loss: 0.6168\n",
      "Epoch 5/150\n",
      "26/26 - 0s - 11ms/step - accuracy: 0.6802 - loss: 0.6065 - val_accuracy: 0.6889 - val_loss: 0.6073\n",
      "Epoch 6/150\n",
      "26/26 - 0s - 10ms/step - accuracy: 0.6802 - loss: 0.5975 - val_accuracy: 0.6889 - val_loss: 0.6001\n",
      "Epoch 7/150\n",
      "26/26 - 0s - 10ms/step - accuracy: 0.6827 - loss: 0.5894 - val_accuracy: 0.6889 - val_loss: 0.5937\n",
      "Epoch 8/150\n",
      "26/26 - 0s - 10ms/step - accuracy: 0.6889 - loss: 0.5839 - val_accuracy: 0.6889 - val_loss: 0.5896\n",
      "Epoch 9/150\n",
      "26/26 - 0s - 10ms/step - accuracy: 0.6914 - loss: 0.5777 - val_accuracy: 0.6778 - val_loss: 0.5856\n",
      "Epoch 10/150\n",
      "26/26 - 0s - 10ms/step - accuracy: 0.6938 - loss: 0.5733 - val_accuracy: 0.6889 - val_loss: 0.5820\n",
      "Epoch 11/150\n",
      "26/26 - 0s - 10ms/step - accuracy: 0.6938 - loss: 0.5696 - val_accuracy: 0.7000 - val_loss: 0.5794\n",
      "Epoch 12/150\n",
      "26/26 - 0s - 10ms/step - accuracy: 0.6988 - loss: 0.5655 - val_accuracy: 0.7222 - val_loss: 0.5767\n",
      "Epoch 13/150\n",
      "26/26 - 0s - 10ms/step - accuracy: 0.7037 - loss: 0.5628 - val_accuracy: 0.7111 - val_loss: 0.5741\n",
      "Epoch 14/150\n",
      "26/26 - 0s - 10ms/step - accuracy: 0.7012 - loss: 0.5603 - val_accuracy: 0.7222 - val_loss: 0.5718\n",
      "Epoch 15/150\n",
      "26/26 - 0s - 11ms/step - accuracy: 0.7086 - loss: 0.5569 - val_accuracy: 0.7111 - val_loss: 0.5701\n",
      "Epoch 16/150\n",
      "26/26 - 0s - 12ms/step - accuracy: 0.7173 - loss: 0.5549 - val_accuracy: 0.7111 - val_loss: 0.5683\n",
      "Epoch 17/150\n",
      "26/26 - 0s - 10ms/step - accuracy: 0.7037 - loss: 0.5517 - val_accuracy: 0.7222 - val_loss: 0.5669\n",
      "Epoch 18/150\n",
      "26/26 - 0s - 10ms/step - accuracy: 0.7222 - loss: 0.5501 - val_accuracy: 0.7222 - val_loss: 0.5658\n",
      "Epoch 19/150\n",
      "26/26 - 0s - 10ms/step - accuracy: 0.7062 - loss: 0.5471 - val_accuracy: 0.7333 - val_loss: 0.5639\n",
      "Epoch 20/150\n",
      "26/26 - 0s - 10ms/step - accuracy: 0.7198 - loss: 0.5455 - val_accuracy: 0.7333 - val_loss: 0.5627\n",
      "Epoch 21/150\n",
      "26/26 - 0s - 10ms/step - accuracy: 0.7173 - loss: 0.5432 - val_accuracy: 0.7333 - val_loss: 0.5610\n",
      "Epoch 22/150\n",
      "26/26 - 0s - 10ms/step - accuracy: 0.7198 - loss: 0.5413 - val_accuracy: 0.7444 - val_loss: 0.5597\n",
      "Epoch 23/150\n",
      "26/26 - 0s - 10ms/step - accuracy: 0.7173 - loss: 0.5398 - val_accuracy: 0.7444 - val_loss: 0.5589\n",
      "Epoch 24/150\n",
      "26/26 - 0s - 10ms/step - accuracy: 0.7198 - loss: 0.5373 - val_accuracy: 0.7111 - val_loss: 0.5584\n",
      "Epoch 25/150\n",
      "26/26 - 0s - 10ms/step - accuracy: 0.7173 - loss: 0.5384 - val_accuracy: 0.7444 - val_loss: 0.5559\n",
      "Epoch 26/150\n",
      "26/26 - 0s - 11ms/step - accuracy: 0.7235 - loss: 0.5347 - val_accuracy: 0.7444 - val_loss: 0.5550\n",
      "Epoch 27/150\n",
      "26/26 - 0s - 10ms/step - accuracy: 0.7210 - loss: 0.5334 - val_accuracy: 0.7444 - val_loss: 0.5540\n",
      "Epoch 28/150\n",
      "26/26 - 0s - 10ms/step - accuracy: 0.7210 - loss: 0.5320 - val_accuracy: 0.7333 - val_loss: 0.5535\n",
      "Epoch 29/150\n",
      "26/26 - 0s - 10ms/step - accuracy: 0.7259 - loss: 0.5305 - val_accuracy: 0.7444 - val_loss: 0.5523\n",
      "Epoch 30/150\n",
      "26/26 - 0s - 10ms/step - accuracy: 0.7222 - loss: 0.5292 - val_accuracy: 0.7444 - val_loss: 0.5519\n",
      "Epoch 31/150\n",
      "26/26 - 0s - 12ms/step - accuracy: 0.7296 - loss: 0.5281 - val_accuracy: 0.7444 - val_loss: 0.5507\n",
      "Epoch 32/150\n",
      "26/26 - 0s - 10ms/step - accuracy: 0.7173 - loss: 0.5265 - val_accuracy: 0.7444 - val_loss: 0.5496\n",
      "Epoch 33/150\n",
      "26/26 - 0s - 10ms/step - accuracy: 0.7198 - loss: 0.5253 - val_accuracy: 0.7444 - val_loss: 0.5488\n",
      "Epoch 34/150\n",
      "26/26 - 0s - 10ms/step - accuracy: 0.7321 - loss: 0.5241 - val_accuracy: 0.7444 - val_loss: 0.5486\n",
      "Epoch 35/150\n",
      "26/26 - 0s - 10ms/step - accuracy: 0.7259 - loss: 0.5241 - val_accuracy: 0.7444 - val_loss: 0.5475\n",
      "Epoch 36/150\n",
      "26/26 - 0s - 10ms/step - accuracy: 0.7321 - loss: 0.5221 - val_accuracy: 0.7444 - val_loss: 0.5469\n",
      "Epoch 37/150\n",
      "26/26 - 0s - 10ms/step - accuracy: 0.7333 - loss: 0.5212 - val_accuracy: 0.7333 - val_loss: 0.5464\n",
      "Epoch 38/150\n",
      "26/26 - 0s - 10ms/step - accuracy: 0.7247 - loss: 0.5201 - val_accuracy: 0.7444 - val_loss: 0.5456\n",
      "Epoch 39/150\n",
      "26/26 - 0s - 10ms/step - accuracy: 0.7370 - loss: 0.5179 - val_accuracy: 0.7333 - val_loss: 0.5450\n",
      "Epoch 40/150\n",
      "26/26 - 0s - 10ms/step - accuracy: 0.7284 - loss: 0.5183 - val_accuracy: 0.7444 - val_loss: 0.5445\n",
      "Epoch 41/150\n",
      "26/26 - 0s - 10ms/step - accuracy: 0.7346 - loss: 0.5163 - val_accuracy: 0.7444 - val_loss: 0.5436\n",
      "Epoch 42/150\n",
      "26/26 - 0s - 10ms/step - accuracy: 0.7321 - loss: 0.5143 - val_accuracy: 0.7444 - val_loss: 0.5430\n",
      "Epoch 43/150\n",
      "26/26 - 0s - 10ms/step - accuracy: 0.7370 - loss: 0.5133 - val_accuracy: 0.7444 - val_loss: 0.5421\n",
      "Epoch 44/150\n",
      "26/26 - 0s - 10ms/step - accuracy: 0.7346 - loss: 0.5130 - val_accuracy: 0.7333 - val_loss: 0.5423\n",
      "Epoch 45/150\n",
      "26/26 - 1s - 26ms/step - accuracy: 0.7346 - loss: 0.5110 - val_accuracy: 0.7333 - val_loss: 0.5413\n",
      "Epoch 46/150\n",
      "26/26 - 0s - 10ms/step - accuracy: 0.7383 - loss: 0.5100 - val_accuracy: 0.7444 - val_loss: 0.5400\n",
      "Epoch 47/150\n",
      "26/26 - 0s - 10ms/step - accuracy: 0.7333 - loss: 0.5101 - val_accuracy: 0.7444 - val_loss: 0.5393\n",
      "Epoch 48/150\n",
      "26/26 - 0s - 10ms/step - accuracy: 0.7358 - loss: 0.5084 - val_accuracy: 0.7444 - val_loss: 0.5385\n",
      "Epoch 49/150\n",
      "26/26 - 0s - 10ms/step - accuracy: 0.7333 - loss: 0.5079 - val_accuracy: 0.7444 - val_loss: 0.5387\n",
      "Epoch 50/150\n",
      "26/26 - 0s - 10ms/step - accuracy: 0.7358 - loss: 0.5064 - val_accuracy: 0.7333 - val_loss: 0.5373\n",
      "Epoch 51/150\n",
      "26/26 - 0s - 10ms/step - accuracy: 0.7395 - loss: 0.5053 - val_accuracy: 0.7444 - val_loss: 0.5368\n",
      "Epoch 52/150\n",
      "26/26 - 0s - 11ms/step - accuracy: 0.7358 - loss: 0.5044 - val_accuracy: 0.7333 - val_loss: 0.5361\n",
      "Epoch 53/150\n",
      "26/26 - 0s - 12ms/step - accuracy: 0.7444 - loss: 0.5036 - val_accuracy: 0.7444 - val_loss: 0.5353\n",
      "Epoch 54/150\n",
      "26/26 - 0s - 10ms/step - accuracy: 0.7444 - loss: 0.5027 - val_accuracy: 0.7444 - val_loss: 0.5351\n",
      "Epoch 55/150\n",
      "26/26 - 0s - 10ms/step - accuracy: 0.7346 - loss: 0.5013 - val_accuracy: 0.7444 - val_loss: 0.5343\n",
      "Epoch 56/150\n",
      "26/26 - 0s - 10ms/step - accuracy: 0.7346 - loss: 0.5004 - val_accuracy: 0.7444 - val_loss: 0.5337\n",
      "Epoch 57/150\n",
      "26/26 - 0s - 10ms/step - accuracy: 0.7457 - loss: 0.4997 - val_accuracy: 0.7444 - val_loss: 0.5331\n",
      "Epoch 58/150\n",
      "26/26 - 0s - 10ms/step - accuracy: 0.7370 - loss: 0.4995 - val_accuracy: 0.7444 - val_loss: 0.5327\n",
      "Epoch 59/150\n",
      "26/26 - 0s - 10ms/step - accuracy: 0.7407 - loss: 0.4980 - val_accuracy: 0.7444 - val_loss: 0.5322\n",
      "Epoch 60/150\n",
      "26/26 - 0s - 11ms/step - accuracy: 0.7457 - loss: 0.4972 - val_accuracy: 0.7444 - val_loss: 0.5314\n",
      "Epoch 61/150\n",
      "26/26 - 0s - 10ms/step - accuracy: 0.7432 - loss: 0.4964 - val_accuracy: 0.7444 - val_loss: 0.5311\n",
      "Epoch 62/150\n",
      "26/26 - 0s - 10ms/step - accuracy: 0.7444 - loss: 0.4950 - val_accuracy: 0.7444 - val_loss: 0.5305\n",
      "Epoch 63/150\n",
      "26/26 - 0s - 10ms/step - accuracy: 0.7457 - loss: 0.4943 - val_accuracy: 0.7333 - val_loss: 0.5304\n",
      "Epoch 64/150\n",
      "26/26 - 0s - 10ms/step - accuracy: 0.7457 - loss: 0.4933 - val_accuracy: 0.7444 - val_loss: 0.5295\n",
      "Epoch 65/150\n",
      "26/26 - 0s - 10ms/step - accuracy: 0.7469 - loss: 0.4936 - val_accuracy: 0.7444 - val_loss: 0.5296\n",
      "Epoch 66/150\n",
      "26/26 - 0s - 10ms/step - accuracy: 0.7457 - loss: 0.4919 - val_accuracy: 0.7444 - val_loss: 0.5283\n",
      "Epoch 67/150\n",
      "26/26 - 0s - 10ms/step - accuracy: 0.7383 - loss: 0.4923 - val_accuracy: 0.7444 - val_loss: 0.5278\n",
      "Epoch 68/150\n",
      "26/26 - 0s - 12ms/step - accuracy: 0.7420 - loss: 0.4909 - val_accuracy: 0.7444 - val_loss: 0.5270\n",
      "Epoch 69/150\n",
      "26/26 - 0s - 10ms/step - accuracy: 0.7481 - loss: 0.4892 - val_accuracy: 0.7444 - val_loss: 0.5267\n",
      "Epoch 70/150\n",
      "26/26 - 0s - 10ms/step - accuracy: 0.7506 - loss: 0.4883 - val_accuracy: 0.7444 - val_loss: 0.5262\n",
      "Epoch 71/150\n",
      "26/26 - 0s - 10ms/step - accuracy: 0.7519 - loss: 0.4881 - val_accuracy: 0.7333 - val_loss: 0.5265\n",
      "Epoch 72/150\n",
      "26/26 - 0s - 10ms/step - accuracy: 0.7469 - loss: 0.4871 - val_accuracy: 0.7444 - val_loss: 0.5252\n",
      "Epoch 73/150\n",
      "26/26 - 0s - 10ms/step - accuracy: 0.7432 - loss: 0.4863 - val_accuracy: 0.7333 - val_loss: 0.5250\n",
      "Epoch 74/150\n",
      "26/26 - 0s - 10ms/step - accuracy: 0.7531 - loss: 0.4850 - val_accuracy: 0.7333 - val_loss: 0.5246\n"
     ]
    },
    {
     "name": "stdout",
     "output_type": "stream",
     "text": [
      "Epoch 75/150\n",
      "26/26 - 0s - 10ms/step - accuracy: 0.7494 - loss: 0.4847 - val_accuracy: 0.7444 - val_loss: 0.5234\n",
      "Epoch 76/150\n",
      "26/26 - 0s - 10ms/step - accuracy: 0.7519 - loss: 0.4842 - val_accuracy: 0.7444 - val_loss: 0.5231\n",
      "Epoch 77/150\n",
      "26/26 - 0s - 10ms/step - accuracy: 0.7494 - loss: 0.4825 - val_accuracy: 0.7444 - val_loss: 0.5228\n",
      "Epoch 78/150\n",
      "26/26 - 0s - 10ms/step - accuracy: 0.7494 - loss: 0.4820 - val_accuracy: 0.7444 - val_loss: 0.5222\n",
      "Epoch 79/150\n",
      "26/26 - 0s - 10ms/step - accuracy: 0.7457 - loss: 0.4812 - val_accuracy: 0.7333 - val_loss: 0.5223\n",
      "Epoch 80/150\n",
      "26/26 - 0s - 10ms/step - accuracy: 0.7519 - loss: 0.4807 - val_accuracy: 0.7444 - val_loss: 0.5213\n",
      "Epoch 81/150\n",
      "26/26 - 0s - 10ms/step - accuracy: 0.7531 - loss: 0.4794 - val_accuracy: 0.7444 - val_loss: 0.5214\n",
      "Epoch 82/150\n",
      "26/26 - 0s - 10ms/step - accuracy: 0.7543 - loss: 0.4787 - val_accuracy: 0.7444 - val_loss: 0.5209\n",
      "Epoch 83/150\n",
      "26/26 - 0s - 10ms/step - accuracy: 0.7543 - loss: 0.4780 - val_accuracy: 0.7444 - val_loss: 0.5202\n",
      "Epoch 84/150\n",
      "26/26 - 0s - 10ms/step - accuracy: 0.7543 - loss: 0.4772 - val_accuracy: 0.7444 - val_loss: 0.5200\n",
      "Epoch 85/150\n",
      "26/26 - 0s - 10ms/step - accuracy: 0.7519 - loss: 0.4770 - val_accuracy: 0.7444 - val_loss: 0.5194\n",
      "Epoch 86/150\n",
      "26/26 - 0s - 10ms/step - accuracy: 0.7580 - loss: 0.4763 - val_accuracy: 0.7556 - val_loss: 0.5191\n",
      "Epoch 87/150\n",
      "26/26 - 0s - 10ms/step - accuracy: 0.7568 - loss: 0.4749 - val_accuracy: 0.7444 - val_loss: 0.5186\n",
      "Epoch 88/150\n",
      "26/26 - 0s - 10ms/step - accuracy: 0.7568 - loss: 0.4746 - val_accuracy: 0.7556 - val_loss: 0.5181\n",
      "Epoch 89/150\n",
      "26/26 - 0s - 10ms/step - accuracy: 0.7654 - loss: 0.4736 - val_accuracy: 0.7444 - val_loss: 0.5179\n",
      "Epoch 90/150\n",
      "26/26 - 0s - 10ms/step - accuracy: 0.7605 - loss: 0.4729 - val_accuracy: 0.7556 - val_loss: 0.5174\n",
      "Epoch 91/150\n",
      "26/26 - 0s - 10ms/step - accuracy: 0.7531 - loss: 0.4722 - val_accuracy: 0.7556 - val_loss: 0.5172\n",
      "Epoch 92/150\n",
      "26/26 - 0s - 10ms/step - accuracy: 0.7642 - loss: 0.4720 - val_accuracy: 0.7444 - val_loss: 0.5167\n",
      "Epoch 93/150\n",
      "26/26 - 0s - 10ms/step - accuracy: 0.7605 - loss: 0.4707 - val_accuracy: 0.7556 - val_loss: 0.5161\n",
      "Epoch 94/150\n",
      "26/26 - 0s - 10ms/step - accuracy: 0.7667 - loss: 0.4703 - val_accuracy: 0.7556 - val_loss: 0.5156\n",
      "Epoch 95/150\n",
      "26/26 - 0s - 10ms/step - accuracy: 0.7617 - loss: 0.4703 - val_accuracy: 0.7556 - val_loss: 0.5155\n",
      "Epoch 96/150\n",
      "26/26 - 0s - 9ms/step - accuracy: 0.7568 - loss: 0.4688 - val_accuracy: 0.7556 - val_loss: 0.5148\n",
      "Epoch 97/150\n",
      "26/26 - 0s - 10ms/step - accuracy: 0.7568 - loss: 0.4677 - val_accuracy: 0.7556 - val_loss: 0.5140\n",
      "Epoch 98/150\n",
      "26/26 - 0s - 10ms/step - accuracy: 0.7580 - loss: 0.4672 - val_accuracy: 0.7556 - val_loss: 0.5147\n",
      "Epoch 99/150\n",
      "26/26 - 0s - 10ms/step - accuracy: 0.7642 - loss: 0.4664 - val_accuracy: 0.7556 - val_loss: 0.5136\n",
      "Epoch 100/150\n",
      "26/26 - 0s - 10ms/step - accuracy: 0.7580 - loss: 0.4664 - val_accuracy: 0.7556 - val_loss: 0.5130\n",
      "Epoch 101/150\n",
      "26/26 - 0s - 10ms/step - accuracy: 0.7654 - loss: 0.4651 - val_accuracy: 0.7556 - val_loss: 0.5125\n",
      "Epoch 102/150\n",
      "26/26 - 0s - 10ms/step - accuracy: 0.7654 - loss: 0.4644 - val_accuracy: 0.7667 - val_loss: 0.5124\n",
      "Epoch 103/150\n",
      "26/26 - 0s - 10ms/step - accuracy: 0.7617 - loss: 0.4636 - val_accuracy: 0.7667 - val_loss: 0.5110\n",
      "Epoch 104/150\n",
      "26/26 - 0s - 10ms/step - accuracy: 0.7691 - loss: 0.4635 - val_accuracy: 0.7667 - val_loss: 0.5112\n",
      "Epoch 105/150\n",
      "26/26 - 0s - 10ms/step - accuracy: 0.7654 - loss: 0.4636 - val_accuracy: 0.7556 - val_loss: 0.5115\n",
      "Epoch 106/150\n",
      "26/26 - 0s - 10ms/step - accuracy: 0.7691 - loss: 0.4620 - val_accuracy: 0.7556 - val_loss: 0.5104\n",
      "Epoch 107/150\n",
      "26/26 - 0s - 10ms/step - accuracy: 0.7667 - loss: 0.4611 - val_accuracy: 0.7556 - val_loss: 0.5103\n",
      "Epoch 108/150\n",
      "26/26 - 0s - 12ms/step - accuracy: 0.7654 - loss: 0.4598 - val_accuracy: 0.7778 - val_loss: 0.5096\n",
      "Epoch 109/150\n",
      "26/26 - 0s - 10ms/step - accuracy: 0.7716 - loss: 0.4594 - val_accuracy: 0.7778 - val_loss: 0.5092\n",
      "Epoch 110/150\n",
      "26/26 - 0s - 10ms/step - accuracy: 0.7679 - loss: 0.4586 - val_accuracy: 0.7556 - val_loss: 0.5083\n",
      "Epoch 111/150\n",
      "26/26 - 0s - 10ms/step - accuracy: 0.7630 - loss: 0.4580 - val_accuracy: 0.7889 - val_loss: 0.5081\n",
      "Epoch 112/150\n",
      "26/26 - 0s - 10ms/step - accuracy: 0.7704 - loss: 0.4578 - val_accuracy: 0.7778 - val_loss: 0.5083\n",
      "Epoch 113/150\n",
      "26/26 - 0s - 10ms/step - accuracy: 0.7679 - loss: 0.4566 - val_accuracy: 0.7667 - val_loss: 0.5076\n",
      "Epoch 114/150\n",
      "26/26 - 0s - 10ms/step - accuracy: 0.7704 - loss: 0.4559 - val_accuracy: 0.7778 - val_loss: 0.5073\n",
      "Epoch 115/150\n",
      "26/26 - 0s - 10ms/step - accuracy: 0.7753 - loss: 0.4564 - val_accuracy: 0.7778 - val_loss: 0.5067\n",
      "Epoch 116/150\n",
      "26/26 - 0s - 10ms/step - accuracy: 0.7728 - loss: 0.4547 - val_accuracy: 0.7889 - val_loss: 0.5072\n",
      "Epoch 117/150\n",
      "26/26 - 0s - 10ms/step - accuracy: 0.7753 - loss: 0.4546 - val_accuracy: 0.7556 - val_loss: 0.5065\n",
      "Epoch 118/150\n",
      "26/26 - 0s - 10ms/step - accuracy: 0.7716 - loss: 0.4528 - val_accuracy: 0.7778 - val_loss: 0.5061\n",
      "Epoch 119/150\n",
      "26/26 - 0s - 10ms/step - accuracy: 0.7753 - loss: 0.4524 - val_accuracy: 0.7778 - val_loss: 0.5059\n",
      "Epoch 120/150\n",
      "26/26 - 0s - 10ms/step - accuracy: 0.7753 - loss: 0.4519 - val_accuracy: 0.7889 - val_loss: 0.5050\n",
      "Epoch 121/150\n",
      "26/26 - 0s - 10ms/step - accuracy: 0.7765 - loss: 0.4513 - val_accuracy: 0.7667 - val_loss: 0.5041\n",
      "Epoch 122/150\n",
      "26/26 - 0s - 10ms/step - accuracy: 0.7815 - loss: 0.4507 - val_accuracy: 0.7778 - val_loss: 0.5045\n",
      "Epoch 123/150\n",
      "26/26 - 0s - 10ms/step - accuracy: 0.7778 - loss: 0.4503 - val_accuracy: 0.7778 - val_loss: 0.5046\n",
      "Epoch 124/150\n",
      "26/26 - 0s - 10ms/step - accuracy: 0.7790 - loss: 0.4506 - val_accuracy: 0.7889 - val_loss: 0.5036\n",
      "Epoch 125/150\n",
      "26/26 - 0s - 10ms/step - accuracy: 0.7802 - loss: 0.4485 - val_accuracy: 0.7889 - val_loss: 0.5032\n",
      "Epoch 126/150\n",
      "26/26 - 0s - 11ms/step - accuracy: 0.7790 - loss: 0.4486 - val_accuracy: 0.7889 - val_loss: 0.5031\n",
      "Epoch 127/150\n",
      "26/26 - 0s - 11ms/step - accuracy: 0.7790 - loss: 0.4477 - val_accuracy: 0.7889 - val_loss: 0.5027\n",
      "Epoch 128/150\n",
      "26/26 - 0s - 10ms/step - accuracy: 0.7802 - loss: 0.4473 - val_accuracy: 0.7889 - val_loss: 0.5025\n",
      "Epoch 129/150\n",
      "26/26 - 0s - 12ms/step - accuracy: 0.7827 - loss: 0.4468 - val_accuracy: 0.7778 - val_loss: 0.5018\n",
      "Epoch 130/150\n",
      "26/26 - 0s - 10ms/step - accuracy: 0.7815 - loss: 0.4493 - val_accuracy: 0.7889 - val_loss: 0.5009\n",
      "Epoch 131/150\n",
      "26/26 - 0s - 10ms/step - accuracy: 0.7827 - loss: 0.4448 - val_accuracy: 0.7778 - val_loss: 0.5010\n",
      "Epoch 132/150\n",
      "26/26 - 0s - 10ms/step - accuracy: 0.7802 - loss: 0.4446 - val_accuracy: 0.7889 - val_loss: 0.5006\n",
      "Epoch 133/150\n",
      "26/26 - 0s - 10ms/step - accuracy: 0.7827 - loss: 0.4434 - val_accuracy: 0.7778 - val_loss: 0.5003\n",
      "Epoch 134/150\n",
      "26/26 - 0s - 10ms/step - accuracy: 0.7864 - loss: 0.4431 - val_accuracy: 0.7778 - val_loss: 0.4997\n",
      "Epoch 135/150\n",
      "26/26 - 0s - 10ms/step - accuracy: 0.7901 - loss: 0.4427 - val_accuracy: 0.7889 - val_loss: 0.4989\n",
      "Epoch 136/150\n",
      "26/26 - 0s - 10ms/step - accuracy: 0.7877 - loss: 0.4421 - val_accuracy: 0.7778 - val_loss: 0.4990\n",
      "Epoch 137/150\n",
      "26/26 - 0s - 10ms/step - accuracy: 0.7901 - loss: 0.4410 - val_accuracy: 0.7889 - val_loss: 0.4983\n",
      "Epoch 138/150\n",
      "26/26 - 0s - 10ms/step - accuracy: 0.7852 - loss: 0.4406 - val_accuracy: 0.7778 - val_loss: 0.4983\n",
      "Epoch 139/150\n",
      "26/26 - 0s - 10ms/step - accuracy: 0.7901 - loss: 0.4398 - val_accuracy: 0.7889 - val_loss: 0.4979\n",
      "Epoch 140/150\n",
      "26/26 - 0s - 10ms/step - accuracy: 0.7840 - loss: 0.4396 - val_accuracy: 0.7889 - val_loss: 0.4975\n",
      "Epoch 141/150\n",
      "26/26 - 0s - 10ms/step - accuracy: 0.7877 - loss: 0.4391 - val_accuracy: 0.7778 - val_loss: 0.4972\n",
      "Epoch 142/150\n",
      "26/26 - 0s - 10ms/step - accuracy: 0.7864 - loss: 0.4390 - val_accuracy: 0.7889 - val_loss: 0.4966\n",
      "Epoch 143/150\n",
      "26/26 - 0s - 10ms/step - accuracy: 0.7864 - loss: 0.4379 - val_accuracy: 0.7889 - val_loss: 0.4963\n",
      "Epoch 144/150\n",
      "26/26 - 0s - 12ms/step - accuracy: 0.7926 - loss: 0.4365 - val_accuracy: 0.7778 - val_loss: 0.4971\n",
      "Epoch 145/150\n",
      "26/26 - 0s - 12ms/step - accuracy: 0.7975 - loss: 0.4364 - val_accuracy: 0.7778 - val_loss: 0.4960\n",
      "Epoch 146/150\n",
      "26/26 - 0s - 12ms/step - accuracy: 0.7864 - loss: 0.4360 - val_accuracy: 0.7889 - val_loss: 0.4956\n",
      "Epoch 147/150\n",
      "26/26 - 0s - 10ms/step - accuracy: 0.7926 - loss: 0.4350 - val_accuracy: 0.7778 - val_loss: 0.4950\n"
     ]
    },
    {
     "name": "stdout",
     "output_type": "stream",
     "text": [
      "Epoch 148/150\n",
      "26/26 - 0s - 10ms/step - accuracy: 0.7975 - loss: 0.4354 - val_accuracy: 0.7889 - val_loss: 0.4939\n",
      "Epoch 149/150\n",
      "26/26 - 0s - 10ms/step - accuracy: 0.7975 - loss: 0.4337 - val_accuracy: 0.7889 - val_loss: 0.4940\n",
      "Epoch 150/150\n",
      "26/26 - 0s - 10ms/step - accuracy: 0.7901 - loss: 0.4336 - val_accuracy: 0.7889 - val_loss: 0.4938\n"
     ]
    }
   ],
   "source": [
    "hist = model.fit(x=X_train, y=y_train, verbose=2, batch_size=32, epochs=150, \n",
    "                 validation_data=(X_val, y_val), shuffle='true')"
   ]
  },
  {
   "cell_type": "code",
   "execution_count": 18,
   "id": "f6d8a567-767b-4d9f-900c-d0bd57627fa1",
   "metadata": {
    "tags": []
   },
   "outputs": [
    {
     "data": {
      "text/html": [
       "<pre style=\"white-space:pre;overflow-x:auto;line-height:normal;font-family:Menlo,'DejaVu Sans Mono',consolas,'Courier New',monospace\"><span style=\"font-weight: bold\">Model: \"sequential_1\"</span>\n",
       "</pre>\n"
      ],
      "text/plain": [
       "\u001b[1mModel: \"sequential_1\"\u001b[0m\n"
      ]
     },
     "metadata": {},
     "output_type": "display_data"
    },
    {
     "data": {
      "text/html": [
       "<pre style=\"white-space:pre;overflow-x:auto;line-height:normal;font-family:Menlo,'DejaVu Sans Mono',consolas,'Courier New',monospace\">┏━━━━━━━━━━━━━━━━━━━━━━━━━━━━━━━━━┳━━━━━━━━━━━━━━━━━━━━━━━━┳━━━━━━━━━━━━━━━┓\n",
       "┃<span style=\"font-weight: bold\"> Layer (type)                    </span>┃<span style=\"font-weight: bold\"> Output Shape           </span>┃<span style=\"font-weight: bold\">       Param # </span>┃\n",
       "┡━━━━━━━━━━━━━━━━━━━━━━━━━━━━━━━━━╇━━━━━━━━━━━━━━━━━━━━━━━━╇━━━━━━━━━━━━━━━┩\n",
       "│ dense_3 (<span style=\"color: #0087ff; text-decoration-color: #0087ff\">Dense</span>)                 │ (<span style=\"color: #00d7ff; text-decoration-color: #00d7ff\">None</span>, <span style=\"color: #00af00; text-decoration-color: #00af00\">1</span>)              │       <span style=\"color: #00af00; text-decoration-color: #00af00\">100,001</span> │\n",
       "└─────────────────────────────────┴────────────────────────┴───────────────┘\n",
       "</pre>\n"
      ],
      "text/plain": [
       "┏━━━━━━━━━━━━━━━━━━━━━━━━━━━━━━━━━┳━━━━━━━━━━━━━━━━━━━━━━━━┳━━━━━━━━━━━━━━━┓\n",
       "┃\u001b[1m \u001b[0m\u001b[1mLayer (type)                   \u001b[0m\u001b[1m \u001b[0m┃\u001b[1m \u001b[0m\u001b[1mOutput Shape          \u001b[0m\u001b[1m \u001b[0m┃\u001b[1m \u001b[0m\u001b[1m      Param #\u001b[0m\u001b[1m \u001b[0m┃\n",
       "┡━━━━━━━━━━━━━━━━━━━━━━━━━━━━━━━━━╇━━━━━━━━━━━━━━━━━━━━━━━━╇━━━━━━━━━━━━━━━┩\n",
       "│ dense_3 (\u001b[38;5;33mDense\u001b[0m)                 │ (\u001b[38;5;45mNone\u001b[0m, \u001b[38;5;34m1\u001b[0m)              │       \u001b[38;5;34m100,001\u001b[0m │\n",
       "└─────────────────────────────────┴────────────────────────┴───────────────┘\n"
      ]
     },
     "metadata": {},
     "output_type": "display_data"
    },
    {
     "data": {
      "text/html": [
       "<pre style=\"white-space:pre;overflow-x:auto;line-height:normal;font-family:Menlo,'DejaVu Sans Mono',consolas,'Courier New',monospace\"><span style=\"font-weight: bold\"> Total params: </span><span style=\"color: #00af00; text-decoration-color: #00af00\">300,005</span> (1.14 MB)\n",
       "</pre>\n"
      ],
      "text/plain": [
       "\u001b[1m Total params: \u001b[0m\u001b[38;5;34m300,005\u001b[0m (1.14 MB)\n"
      ]
     },
     "metadata": {},
     "output_type": "display_data"
    },
    {
     "data": {
      "text/html": [
       "<pre style=\"white-space:pre;overflow-x:auto;line-height:normal;font-family:Menlo,'DejaVu Sans Mono',consolas,'Courier New',monospace\"><span style=\"font-weight: bold\"> Trainable params: </span><span style=\"color: #00af00; text-decoration-color: #00af00\">100,001</span> (390.63 KB)\n",
       "</pre>\n"
      ],
      "text/plain": [
       "\u001b[1m Trainable params: \u001b[0m\u001b[38;5;34m100,001\u001b[0m (390.63 KB)\n"
      ]
     },
     "metadata": {},
     "output_type": "display_data"
    },
    {
     "data": {
      "text/html": [
       "<pre style=\"white-space:pre;overflow-x:auto;line-height:normal;font-family:Menlo,'DejaVu Sans Mono',consolas,'Courier New',monospace\"><span style=\"font-weight: bold\"> Non-trainable params: </span><span style=\"color: #00af00; text-decoration-color: #00af00\">0</span> (0.00 B)\n",
       "</pre>\n"
      ],
      "text/plain": [
       "\u001b[1m Non-trainable params: \u001b[0m\u001b[38;5;34m0\u001b[0m (0.00 B)\n"
      ]
     },
     "metadata": {},
     "output_type": "display_data"
    },
    {
     "data": {
      "text/html": [
       "<pre style=\"white-space:pre;overflow-x:auto;line-height:normal;font-family:Menlo,'DejaVu Sans Mono',consolas,'Courier New',monospace\"><span style=\"font-weight: bold\"> Optimizer params: </span><span style=\"color: #00af00; text-decoration-color: #00af00\">200,004</span> (781.27 KB)\n",
       "</pre>\n"
      ],
      "text/plain": [
       "\u001b[1m Optimizer params: \u001b[0m\u001b[38;5;34m200,004\u001b[0m (781.27 KB)\n"
      ]
     },
     "metadata": {},
     "output_type": "display_data"
    }
   ],
   "source": [
    "# resumen del model\n",
    "model.summary()"
   ]
  },
  {
   "cell_type": "code",
   "execution_count": 19,
   "id": "c797c63c",
   "metadata": {},
   "outputs": [
    {
     "name": "stdout",
     "output_type": "stream",
     "text": [
      "4/4 - 0s - 10ms/step - accuracy: 0.6900 - loss: 0.5333\n"
     ]
    }
   ],
   "source": [
    "test_loss, test_accuracy = model.evaluate(X_test, y_test, verbose=2)"
   ]
  },
  {
   "cell_type": "code",
   "execution_count": 20,
   "id": "62df3e99",
   "metadata": {},
   "outputs": [
    {
     "data": {
      "image/png": "[encoded data removed]",
      "text/plain": [
       "<Figure size 864x288 with 2 Axes>"
      ]
     },
     "metadata": {
      "needs_background": "light"
     },
     "output_type": "display_data"
    }
   ],
   "source": [
    "# Obtén los datos del historial\n",
    "accuracy = hist.history['accuracy']\n",
    "val_accuracy = hist.history['val_accuracy']\n",
    "\n",
    "loss = hist.history['loss']\n",
    "val_loss = hist.history['val_loss']\n",
    "\n",
    "\n",
    "# Gráfica de accuracy\n",
    "plt.figure(figsize=(12, 4))\n",
    "plt.subplot(1, 2, 1)\n",
    "plt.plot(accuracy, label='Train Accuracy')\n",
    "plt.plot(val_accuracy, label='Validation Accuracy')\n",
    "plt.xlabel('Épocas')\n",
    "plt.ylabel('Accuracy')\n",
    "plt.legend()\n",
    "\n",
    "# Gráfica de pérdida\n",
    "plt.subplot(1, 2, 2)\n",
    "plt.plot(loss, label='Train Loss')\n",
    "plt.plot(val_loss, label='Validation Loss')\n",
    "plt.xlabel('Épocas')\n",
    "plt.ylabel('Loss')\n",
    "plt.legend()\n",
    "\n",
    "# Ajusta los márgenes y espacios entre subplots\n",
    "plt.tight_layout()\n",
    "\n",
    "# Muestra las gráficas\n",
    "plt.show()"
   ]
  },
  {
   "cell_type": "code",
   "execution_count": 21,
   "id": "32c5ebb7",
   "metadata": {},
   "outputs": [
    {
     "name": "stdout",
     "output_type": "stream",
     "text": [
      "\u001b[1m26/26\u001b[0m \u001b[32m━━━━━━━━━━━━━━━━━━━━\u001b[0m\u001b[37m\u001b[0m \u001b[1m0s\u001b[0m 9ms/step\n",
      "\u001b[1m3/3\u001b[0m \u001b[32m━━━━━━━━━━━━━━━━━━━━\u001b[0m\u001b[37m\u001b[0m \u001b[1m0s\u001b[0m 5ms/step \n",
      "\u001b[1m4/4\u001b[0m \u001b[32m━━━━━━━━━━━━━━━━━━━━\u001b[0m\u001b[37m\u001b[0m \u001b[1m0s\u001b[0m 4ms/step \n"
     ]
    }
   ],
   "source": [
    "y_proba_train = model.predict(X_train)\n",
    "y_pred_train = y_proba_train.round().astype(int)\n",
    "y_proba_validation = model.predict(X_val)\n",
    "y_pred_validation = y_proba_validation.round().astype(int)\n",
    "y_proba_test = model.predict(X_test)\n",
    "y_pred_test = y_proba_test.round().astype(int)"
   ]
  },
  {
   "cell_type": "code",
   "execution_count": 22,
   "id": "40688d00",
   "metadata": {},
   "outputs": [],
   "source": [
    "lbl = LabelEncoder()\n",
    "target_names = ['class 0', 'class 1']\n",
    "#Class 0 = NOK\n",
    "#Class 1 = OK"
   ]
  },
  {
   "cell_type": "code",
   "execution_count": 23,
   "id": "eccf3be4",
   "metadata": {},
   "outputs": [],
   "source": [
    "!pip install -q scikit-plot\n",
    "import scikitplot as skplt"
   ]
  },
  {
   "cell_type": "code",
   "execution_count": 24,
   "id": "648a36b2",
   "metadata": {},
   "outputs": [
    {
     "name": "stdout",
     "output_type": "stream",
     "text": [
      "Train sample \n",
      "               precision    recall  f1-score   support\n",
      "\n",
      "     class 0       0.82      0.76      0.78       405\n",
      "     class 1       0.77      0.83      0.80       405\n",
      "\n",
      "    accuracy                           0.79       810\n",
      "   macro avg       0.79      0.79      0.79       810\n",
      "weighted avg       0.79      0.79      0.79       810\n",
      "\n",
      "Validation sample \n",
      "               precision    recall  f1-score   support\n",
      "\n",
      "     class 0       0.81      0.76      0.78        45\n",
      "     class 1       0.77      0.82      0.80        45\n",
      "\n",
      "    accuracy                           0.79        90\n",
      "   macro avg       0.79      0.79      0.79        90\n",
      "weighted avg       0.79      0.79      0.79        90\n",
      "\n",
      "Test sample \n",
      "               precision    recall  f1-score   support\n",
      "\n",
      "     class 0       0.73      0.60      0.66        50\n",
      "     class 1       0.66      0.78      0.72        50\n",
      "\n",
      "    accuracy                           0.69       100\n",
      "   macro avg       0.70      0.69      0.69       100\n",
      "weighted avg       0.70      0.69      0.69       100\n",
      "\n"
     ]
    }
   ],
   "source": [
    "print(\"Train sample \\n\", classification_report(y_train, y_pred_train,target_names = target_names))\n",
    "print(\"Validation sample \\n\", classification_report(y_val, y_pred_validation,target_names = target_names))\n",
    "print(\"Test sample \\n\", classification_report(y_test, y_pred_test,target_names = target_names))"
   ]
  },
  {
   "cell_type": "code",
   "execution_count": 25,
   "id": "3d5fe8c9",
   "metadata": {},
   "outputs": [
    {
     "data": {
      "image/png": "[encoded data removed]",
      "text/plain": [
       "<Figure size 432x288 with 2 Axes>"
      ]
     },
     "metadata": {
      "needs_background": "light"
     },
     "output_type": "display_data"
    },
    {
     "data": {
      "image/png": "[encoded data removed]",
      "text/plain": [
       "<Figure size 432x288 with 2 Axes>"
      ]
     },
     "metadata": {
      "needs_background": "light"
     },
     "output_type": "display_data"
    },
    {
     "data": {
      "image/png": "[encoded data removed]",
      "text/plain": [
       "<Figure size 432x288 with 2 Axes>"
      ]
     },
     "metadata": {
      "needs_background": "light"
     },
     "output_type": "display_data"
    }
   ],
   "source": [
    "# Gráfico de Matriz de Confusión\n",
    "skplt.metrics.plot_confusion_matrix(y_train, y_pred_train, normalize=True)\n",
    "plt.title('Matriz de Confusión Train')\n",
    "\n",
    "skplt.metrics.plot_confusion_matrix(y_val, y_pred_validation, normalize=True)\n",
    "plt.title('Matriz de Confusión Validation')\n",
    "\n",
    "skplt.metrics.plot_confusion_matrix(y_test, y_pred_test, normalize=True)\n",
    "plt.title('Matriz de Confusión Test')\n",
    "\n",
    "plt.show() "
   ]
  }
 ],
 "metadata": {
  "kernelspec": {
   "display_name": "Python 3 (ipykernel)",
   "language": "python",
   "name": "python3"
  },
  "language_info": {
   "codemirror_mode": {
    "name": "ipython",
    "version": 3
   },
   "file_extension": ".py",
   "mimetype": "text/x-python",
   "name": "python",
   "nbconvert_exporter": "python",
   "pygments_lexer": "ipython3",
   "version": "3.10.5"
  }
 },
 "nbformat": 4,
 "nbformat_minor": 5
}
