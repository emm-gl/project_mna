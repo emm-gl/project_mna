{
  "cells": [
    {
      "cell_type": "markdown",
      "metadata": {
        "id": "view-in-github",
        "colab_type": "text"
      },
      "source": [
        "<a href=\"https://colab.research.google.com/github/emm-gl/project_mna/blob/main/Modelos%20Alternativos%20Avance%204/SVM_Noise_Version3.ipynb\" target=\"_parent\"><img src=\"https://colab.research.google.com/assets/colab-badge.svg\" alt=\"Open In Colab\"/></a>"
      ]
    },
    {
      "cell_type": "markdown",
      "source": [
        "## Se cambian los parámetros del HOG, a que pixels per cell sea de 8x8, en lugar de 16x 16\n",
        "\n",
        "Mejora el desempeño"
      ],
      "metadata": {
        "id": "bxn9FcdC2x-o"
      },
      "id": "bxn9FcdC2x-o"
    },
    {
      "cell_type": "code",
      "execution_count": 1,
      "id": "6a97af13-9cab-4bc0-b61f-9f6f4c719c14",
      "metadata": {
        "tags": [],
        "id": "6a97af13-9cab-4bc0-b61f-9f6f4c719c14",
        "colab": {
          "base_uri": "https://localhost:8080/"
        },
        "outputId": "8ee56b53-aa57-4cfe-cdc1-91f386ae4d26"
      },
      "outputs": [
        {
          "output_type": "stream",
          "name": "stdout",
          "text": [
            "Mounted at /content/drive\n"
          ]
        }
      ],
      "source": [
        "import os\n",
        "import numpy as np\n",
        "import seaborn as sns\n",
        "import cv2\n",
        "\n",
        "import matplotlib.image as mpimg\n",
        "import matplotlib.pyplot as plt\n",
        "\n",
        "from sklearn import svm\n",
        "from sklearn.svm import SVC\n",
        "from sklearn.model_selection import train_test_split\n",
        "from sklearn.model_selection import GridSearchCV\n",
        "\n",
        "from skimage.feature import hog\n",
        "from sklearn.metrics import classification_report, accuracy_score,confusion_matrix\n",
        "\n",
        "from google.colab import drive\n",
        "drive.mount('/content/drive')\n",
        "\n",
        "import glob\n"
      ]
    },
    {
      "cell_type": "code",
      "source": [
        "noise = glob.glob(\"/content/drive/My Drive/final_project/OK_etiquetadas_500/*.png\")\n",
        "nonoise = glob.glob(\"/content/drive/My Drive/final_project/NOK_etiquetadas_500/*.png\")\n"
      ],
      "metadata": {
        "id": "4-qFNSFonJ2q"
      },
      "id": "4-qFNSFonJ2q",
      "execution_count": 2,
      "outputs": []
    },
    {
      "cell_type": "code",
      "execution_count": 3,
      "id": "ef390597-ce34-482a-92c7-30dcbdf2bcf1",
      "metadata": {
        "tags": [],
        "id": "ef390597-ce34-482a-92c7-30dcbdf2bcf1",
        "outputId": "6d96210f-301d-4709-f895-e74a6e089236",
        "colab": {
          "base_uri": "https://localhost:8080/"
        }
      },
      "outputs": [
        {
          "output_type": "execute_result",
          "data": {
            "text/plain": [
              "500"
            ]
          },
          "metadata": {},
          "execution_count": 3
        }
      ],
      "source": [
        "len(noise)"
      ]
    },
    {
      "cell_type": "code",
      "execution_count": 4,
      "id": "4a1fda5f-de33-448d-b36f-942d90a49d83",
      "metadata": {
        "tags": [],
        "id": "4a1fda5f-de33-448d-b36f-942d90a49d83",
        "outputId": "0b5c1147-6553-4d29-c427-20d9d3cc321b",
        "colab": {
          "base_uri": "https://localhost:8080/"
        }
      },
      "outputs": [
        {
          "output_type": "execute_result",
          "data": {
            "text/plain": [
              "500"
            ]
          },
          "metadata": {},
          "execution_count": 4
        }
      ],
      "source": [
        "len(nonoise)"
      ]
    },
    {
      "cell_type": "code",
      "execution_count": 5,
      "id": "875ed3e2",
      "metadata": {
        "id": "875ed3e2"
      },
      "outputs": [],
      "source": [
        "noise_Formated = []\n",
        "nonoise_Formated = []\n",
        "\n",
        "width = 128\n",
        "height = 128\n",
        "dim = (width, height)\n",
        "\n",
        "for i in noise:\n",
        "    img_gray = mpimg.imread(i)\n",
        "    #resize image\n",
        "    img_resized = cv2.resize(img_gray, dim, interpolation = cv2.INTER_AREA)\n",
        "\n",
        "    #add the new image to a new array\n",
        "    noise_Formated.append(img_resized)\n",
        "\n",
        "for i in nonoise:\n",
        "    img_gray = mpimg.imread(i)\n",
        "    #resize image\n",
        "    img_resized = cv2.resize(img_gray, dim, interpolation = cv2.INTER_AREA)\n",
        "\n",
        "    #add the new image to a new array\n",
        "    nonoise_Formated.append(img_resized)"
      ]
    },
    {
      "cell_type": "code",
      "execution_count": 6,
      "id": "0d449ec8",
      "metadata": {
        "id": "0d449ec8"
      },
      "outputs": [],
      "source": [
        "y_noise = np.ones(len(noise_Formated))\n",
        "y_nonoise = np.zeros(len(nonoise_Formated))"
      ]
    },
    {
      "cell_type": "code",
      "execution_count": 7,
      "id": "cfaad17a",
      "metadata": {
        "id": "cfaad17a",
        "outputId": "1164d53c-61f3-4472-d2b0-6cb152a6a295",
        "colab": {
          "base_uri": "https://localhost:8080/"
        }
      },
      "outputs": [
        {
          "output_type": "execute_result",
          "data": {
            "text/plain": [
              "(1000, 128, 128)"
            ]
          },
          "metadata": {},
          "execution_count": 7
        }
      ],
      "source": [
        "all_images = np.vstack((noise_Formated,nonoise_Formated))\n",
        "all_images.shape"
      ]
    },
    {
      "cell_type": "code",
      "execution_count": 8,
      "id": "56857dbe",
      "metadata": {
        "id": "56857dbe",
        "outputId": "4073553c-84e2-4bcb-88cb-a88cdfda4c01",
        "colab": {
          "base_uri": "https://localhost:8080/"
        }
      },
      "outputs": [
        {
          "output_type": "execute_result",
          "data": {
            "text/plain": [
              "(1000,)"
            ]
          },
          "metadata": {},
          "execution_count": 8
        }
      ],
      "source": [
        "all_labels = np.hstack((y_noise,y_nonoise))\n",
        "all_labels.shape"
      ]
    },
    {
      "cell_type": "code",
      "execution_count": 9,
      "id": "04451452",
      "metadata": {
        "id": "04451452"
      },
      "outputs": [],
      "source": [
        "all_images=all_images/255"
      ]
    },
    {
      "cell_type": "code",
      "execution_count": 12,
      "id": "76893946",
      "metadata": {
        "id": "76893946"
      },
      "outputs": [],
      "source": [
        "def hog_feature_extraction(all_images):\n",
        "    hog_features = []\n",
        "    for i in all_images:\n",
        "        features, _ = hog(i,\n",
        "                          orientations = 11,\n",
        "                          pixels_per_cell = (4,4),     #16x16\n",
        "                          cells_per_block=(2, 2),\n",
        "                          transform_sqrt = False,\n",
        "                          visualize=True,\n",
        "                         feature_vector = True)\n",
        "        hog_features.append(features)\n",
        "    return hog_features"
      ]
    },
    {
      "cell_type": "code",
      "execution_count": 13,
      "id": "83dea673-88c8-42c4-9fb5-e01758f82e1c",
      "metadata": {
        "tags": [],
        "id": "83dea673-88c8-42c4-9fb5-e01758f82e1c"
      },
      "outputs": [],
      "source": [
        "hog_features = hog_feature_extraction(all_images)"
      ]
    },
    {
      "cell_type": "code",
      "execution_count": 14,
      "id": "bbaa744d",
      "metadata": {
        "id": "bbaa744d"
      },
      "outputs": [],
      "source": [
        "X = np.array(hog_features)\n",
        "y = np.array(all_labels)"
      ]
    },
    {
      "cell_type": "code",
      "execution_count": 15,
      "id": "6da0660e-b605-4ea7-b0eb-1569ea0da139",
      "metadata": {
        "tags": [],
        "id": "6da0660e-b605-4ea7-b0eb-1569ea0da139"
      },
      "outputs": [],
      "source": [
        "X_tv, X_test, y_tv, y_test = train_test_split(X, y, test_size = 0.1, stratify=y, random_state = 42)"
      ]
    },
    {
      "cell_type": "code",
      "execution_count": 16,
      "id": "db68c93a",
      "metadata": {
        "id": "db68c93a"
      },
      "outputs": [],
      "source": [
        "X_train, X_val, y_train, y_val = train_test_split(X_tv, y_tv, test_size = 0.111, stratify=y_tv, random_state = 42)"
      ]
    },
    {
      "cell_type": "code",
      "execution_count": 17,
      "id": "fe656772-ee12-47ad-8b77-4291e540438c",
      "metadata": {
        "tags": [],
        "id": "fe656772-ee12-47ad-8b77-4291e540438c",
        "outputId": "fc9b8c4d-1a70-407f-db55-fc60f43f0e15",
        "colab": {
          "base_uri": "https://localhost:8080/"
        }
      },
      "outputs": [
        {
          "output_type": "execute_result",
          "data": {
            "text/plain": [
              "(800, 42284)"
            ]
          },
          "metadata": {},
          "execution_count": 17
        }
      ],
      "source": [
        "X_train.shape"
      ]
    },
    {
      "cell_type": "code",
      "execution_count": 18,
      "id": "42d6659d-dd59-41a1-8d5a-0b46f4afb841",
      "metadata": {
        "tags": [],
        "id": "42d6659d-dd59-41a1-8d5a-0b46f4afb841",
        "outputId": "8fdf6888-5ab8-4f91-a0e2-1f8ee482ba71",
        "colab": {
          "base_uri": "https://localhost:8080/"
        }
      },
      "outputs": [
        {
          "output_type": "execute_result",
          "data": {
            "text/plain": [
              "(100, 42284)"
            ]
          },
          "metadata": {},
          "execution_count": 18
        }
      ],
      "source": [
        "X_test.shape"
      ]
    },
    {
      "cell_type": "code",
      "execution_count": 19,
      "id": "ee4fae26-3a44-4dcc-966d-e3005d7583f1",
      "metadata": {
        "tags": [],
        "id": "ee4fae26-3a44-4dcc-966d-e3005d7583f1",
        "outputId": "5c56120a-90f9-4f5b-f4d3-a94698da2e05",
        "colab": {
          "base_uri": "https://localhost:8080/",
          "height": 118
        }
      },
      "outputs": [
        {
          "output_type": "execute_result",
          "data": {
            "text/plain": [
              "GridSearchCV(cv=5, estimator=SVC(),\n",
              "             param_grid={'C': [0.5, 1, 10, 100], 'kernel': ['linear', 'rbf']})"
            ],
            "text/html": [
              "<style>#sk-container-id-1 {color: black;background-color: white;}#sk-container-id-1 pre{padding: 0;}#sk-container-id-1 div.sk-toggleable {background-color: white;}#sk-container-id-1 label.sk-toggleable__label {cursor: pointer;display: block;width: 100%;margin-bottom: 0;padding: 0.3em;box-sizing: border-box;text-align: center;}#sk-container-id-1 label.sk-toggleable__label-arrow:before {content: \"▸\";float: left;margin-right: 0.25em;color: #696969;}#sk-container-id-1 label.sk-toggleable__label-arrow:hover:before {color: black;}#sk-container-id-1 div.sk-estimator:hover label.sk-toggleable__label-arrow:before {color: black;}#sk-container-id-1 div.sk-toggleable__content {max-height: 0;max-width: 0;overflow: hidden;text-align: left;background-color: #f0f8ff;}#sk-container-id-1 div.sk-toggleable__content pre {margin: 0.2em;color: black;border-radius: 0.25em;background-color: #f0f8ff;}#sk-container-id-1 input.sk-toggleable__control:checked~div.sk-toggleable__content {max-height: 200px;max-width: 100%;overflow: auto;}#sk-container-id-1 input.sk-toggleable__control:checked~label.sk-toggleable__label-arrow:before {content: \"▾\";}#sk-container-id-1 div.sk-estimator input.sk-toggleable__control:checked~label.sk-toggleable__label {background-color: #d4ebff;}#sk-container-id-1 div.sk-label input.sk-toggleable__control:checked~label.sk-toggleable__label {background-color: #d4ebff;}#sk-container-id-1 input.sk-hidden--visually {border: 0;clip: rect(1px 1px 1px 1px);clip: rect(1px, 1px, 1px, 1px);height: 1px;margin: -1px;overflow: hidden;padding: 0;position: absolute;width: 1px;}#sk-container-id-1 div.sk-estimator {font-family: monospace;background-color: #f0f8ff;border: 1px dotted black;border-radius: 0.25em;box-sizing: border-box;margin-bottom: 0.5em;}#sk-container-id-1 div.sk-estimator:hover {background-color: #d4ebff;}#sk-container-id-1 div.sk-parallel-item::after {content: \"\";width: 100%;border-bottom: 1px solid gray;flex-grow: 1;}#sk-container-id-1 div.sk-label:hover label.sk-toggleable__label {background-color: #d4ebff;}#sk-container-id-1 div.sk-serial::before {content: \"\";position: absolute;border-left: 1px solid gray;box-sizing: border-box;top: 0;bottom: 0;left: 50%;z-index: 0;}#sk-container-id-1 div.sk-serial {display: flex;flex-direction: column;align-items: center;background-color: white;padding-right: 0.2em;padding-left: 0.2em;position: relative;}#sk-container-id-1 div.sk-item {position: relative;z-index: 1;}#sk-container-id-1 div.sk-parallel {display: flex;align-items: stretch;justify-content: center;background-color: white;position: relative;}#sk-container-id-1 div.sk-item::before, #sk-container-id-1 div.sk-parallel-item::before {content: \"\";position: absolute;border-left: 1px solid gray;box-sizing: border-box;top: 0;bottom: 0;left: 50%;z-index: -1;}#sk-container-id-1 div.sk-parallel-item {display: flex;flex-direction: column;z-index: 1;position: relative;background-color: white;}#sk-container-id-1 div.sk-parallel-item:first-child::after {align-self: flex-end;width: 50%;}#sk-container-id-1 div.sk-parallel-item:last-child::after {align-self: flex-start;width: 50%;}#sk-container-id-1 div.sk-parallel-item:only-child::after {width: 0;}#sk-container-id-1 div.sk-dashed-wrapped {border: 1px dashed gray;margin: 0 0.4em 0.5em 0.4em;box-sizing: border-box;padding-bottom: 0.4em;background-color: white;}#sk-container-id-1 div.sk-label label {font-family: monospace;font-weight: bold;display: inline-block;line-height: 1.2em;}#sk-container-id-1 div.sk-label-container {text-align: center;}#sk-container-id-1 div.sk-container {/* jupyter's `normalize.less` sets `[hidden] { display: none; }` but bootstrap.min.css set `[hidden] { display: none !important; }` so we also need the `!important` here to be able to override the default hidden behavior on the sphinx rendered scikit-learn.org. See: https://github.com/scikit-learn/scikit-learn/issues/21755 */display: inline-block !important;position: relative;}#sk-container-id-1 div.sk-text-repr-fallback {display: none;}</style><div id=\"sk-container-id-1\" class=\"sk-top-container\"><div class=\"sk-text-repr-fallback\"><pre>GridSearchCV(cv=5, estimator=SVC(),\n",
              "             param_grid={&#x27;C&#x27;: [0.5, 1, 10, 100], &#x27;kernel&#x27;: [&#x27;linear&#x27;, &#x27;rbf&#x27;]})</pre><b>In a Jupyter environment, please rerun this cell to show the HTML representation or trust the notebook. <br />On GitHub, the HTML representation is unable to render, please try loading this page with nbviewer.org.</b></div><div class=\"sk-container\" hidden><div class=\"sk-item sk-dashed-wrapped\"><div class=\"sk-label-container\"><div class=\"sk-label sk-toggleable\"><input class=\"sk-toggleable__control sk-hidden--visually\" id=\"sk-estimator-id-1\" type=\"checkbox\" ><label for=\"sk-estimator-id-1\" class=\"sk-toggleable__label sk-toggleable__label-arrow\">GridSearchCV</label><div class=\"sk-toggleable__content\"><pre>GridSearchCV(cv=5, estimator=SVC(),\n",
              "             param_grid={&#x27;C&#x27;: [0.5, 1, 10, 100], &#x27;kernel&#x27;: [&#x27;linear&#x27;, &#x27;rbf&#x27;]})</pre></div></div></div><div class=\"sk-parallel\"><div class=\"sk-parallel-item\"><div class=\"sk-item\"><div class=\"sk-label-container\"><div class=\"sk-label sk-toggleable\"><input class=\"sk-toggleable__control sk-hidden--visually\" id=\"sk-estimator-id-2\" type=\"checkbox\" ><label for=\"sk-estimator-id-2\" class=\"sk-toggleable__label sk-toggleable__label-arrow\">estimator: SVC</label><div class=\"sk-toggleable__content\"><pre>SVC()</pre></div></div></div><div class=\"sk-serial\"><div class=\"sk-item\"><div class=\"sk-estimator sk-toggleable\"><input class=\"sk-toggleable__control sk-hidden--visually\" id=\"sk-estimator-id-3\" type=\"checkbox\" ><label for=\"sk-estimator-id-3\" class=\"sk-toggleable__label sk-toggleable__label-arrow\">SVC</label><div class=\"sk-toggleable__content\"><pre>SVC()</pre></div></div></div></div></div></div></div></div></div></div>"
            ]
          },
          "metadata": {},
          "execution_count": 19
        }
      ],
      "source": [
        "parameters = {'C':[0.5,1,10,100], 'kernel':['linear','rbf']}\n",
        "model_svm = GridSearchCV(svm.SVC(), parameters, cv=5)\n",
        "model_svm.fit(X_train, y_train)"
      ]
    },
    {
      "cell_type": "code",
      "execution_count": 20,
      "id": "fd9d000e",
      "metadata": {
        "id": "fd9d000e",
        "outputId": "33d45a5f-387f-48de-fa6e-45a20d8d6e16",
        "colab": {
          "base_uri": "https://localhost:8080/"
        }
      },
      "outputs": [
        {
          "output_type": "stream",
          "name": "stdout",
          "text": [
            "Mejores parametros: {'C': 10, 'kernel': 'rbf'}\n"
          ]
        }
      ],
      "source": [
        "print(f\"Mejores parametros: {model_svm.best_params_}\")"
      ]
    },
    {
      "cell_type": "code",
      "execution_count": 21,
      "id": "fa05f7a2-9049-4c95-8d96-f99824c56abd",
      "metadata": {
        "tags": [],
        "id": "fa05f7a2-9049-4c95-8d96-f99824c56abd"
      },
      "outputs": [],
      "source": [
        "y_train_predict = model_svm.predict(X_train)\n",
        "y_val_predict = model_svm.predict(X_val)\n",
        "y_test_predict = model_svm.predict(X_test)"
      ]
    },
    {
      "cell_type": "code",
      "execution_count": 22,
      "id": "328bd122-ed36-447b-a586-77dd1b002859",
      "metadata": {
        "tags": [],
        "id": "328bd122-ed36-447b-a586-77dd1b002859",
        "outputId": "50b13be9-e40d-4a64-fdef-a37b4a67171f",
        "colab": {
          "base_uri": "https://localhost:8080/"
        }
      },
      "outputs": [
        {
          "output_type": "stream",
          "name": "stdout",
          "text": [
            "              precision    recall  f1-score   support\n",
            "\n",
            "         0.0       1.00      1.00      1.00       400\n",
            "         1.0       1.00      1.00      1.00       400\n",
            "\n",
            "    accuracy                           1.00       800\n",
            "   macro avg       1.00      1.00      1.00       800\n",
            "weighted avg       1.00      1.00      1.00       800\n",
            "\n",
            "              precision    recall  f1-score   support\n",
            "\n",
            "         0.0       0.85      0.94      0.90        50\n",
            "         1.0       0.93      0.84      0.88        50\n",
            "\n",
            "    accuracy                           0.89       100\n",
            "   macro avg       0.89      0.89      0.89       100\n",
            "weighted avg       0.89      0.89      0.89       100\n",
            "\n",
            "              precision    recall  f1-score   support\n",
            "\n",
            "         0.0       0.82      0.92      0.87        50\n",
            "         1.0       0.91      0.80      0.85        50\n",
            "\n",
            "    accuracy                           0.86       100\n",
            "   macro avg       0.87      0.86      0.86       100\n",
            "weighted avg       0.87      0.86      0.86       100\n",
            "\n"
          ]
        }
      ],
      "source": [
        "print(classification_report(y_train,y_train_predict))\n",
        "print(classification_report(y_val,y_val_predict))\n",
        "print(classification_report(y_test,y_test_predict))"
      ]
    },
    {
      "cell_type": "code",
      "execution_count": 23,
      "id": "5696f95c",
      "metadata": {
        "id": "5696f95c"
      },
      "outputs": [],
      "source": [
        "!pip install -q scikit-plot\n",
        "import scikitplot as skplt"
      ]
    },
    {
      "cell_type": "code",
      "execution_count": 24,
      "id": "5abfa96c-4d5d-4465-a6d7-088a77e80554",
      "metadata": {
        "tags": [],
        "id": "5abfa96c-4d5d-4465-a6d7-088a77e80554",
        "outputId": "831ddddb-718e-4e02-ed21-96847b966ccf",
        "colab": {
          "base_uri": "https://localhost:8080/",
          "height": 1000
        }
      },
      "outputs": [
        {
          "output_type": "display_data",
          "data": {
            "text/plain": [
              "<Figure size 640x480 with 2 Axes>"
            ],
            "image/png": "[encoded data removed]"
          },
          "metadata": {}
        },
        {
          "output_type": "display_data",
          "data": {
            "text/plain": [
              "<Figure size 640x480 with 2 Axes>"
            ],
            "image/png": "[encoded data removed]"
          },
          "metadata": {}
        },
        {
          "output_type": "display_data",
          "data": {
            "text/plain": [
              "<Figure size 640x480 with 2 Axes>"
            ],
            "image/png": "[encoded data removed]"
          },
          "metadata": {}
        }
      ],
      "source": [
        "skplt.metrics.plot_confusion_matrix(y_train,y_train_predict, normalize=True)\n",
        "plt.title('Matriz de Confusión Train')\n",
        "\n",
        "skplt.metrics.plot_confusion_matrix(y_val,y_val_predict, normalize=True)\n",
        "plt.title('Matriz de Confusión Validation')\n",
        "\n",
        "skplt.metrics.plot_confusion_matrix(y_test,y_test_predict, normalize=True)\n",
        "plt.title('Matriz de Confusión Test')\n",
        "\n",
        "plt.show()"
      ]
    }
  ],
  "metadata": {
    "kernelspec": {
      "display_name": "Python 3",
      "name": "python3"
    },
    "language_info": {
      "codemirror_mode": {
        "name": "ipython",
        "version": 3
      },
      "file_extension": ".py",
      "mimetype": "text/x-python",
      "name": "python",
      "nbconvert_exporter": "python",
      "pygments_lexer": "ipython3",
      "version": "3.10.5"
    },
    "colab": {
      "provenance": [],
      "gpuType": "T4",
      "include_colab_link": true
    },
    "accelerator": "GPU"
  },
  "nbformat": 4,
  "nbformat_minor": 5
}