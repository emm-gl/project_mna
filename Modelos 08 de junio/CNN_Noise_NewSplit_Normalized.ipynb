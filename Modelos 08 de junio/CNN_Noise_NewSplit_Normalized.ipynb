{
 "cells": [
  {
   "cell_type": "code",
   "execution_count": 1,
   "id": "6676b75e-8734-4b0b-add1-cf04390fd1e8",
   "metadata": {},
   "outputs": [],
   "source": [
    "#importan librerias\n",
    "\n",
    "#Librerias base\n",
    "import numpy as np\n",
    "import matplotlib.pyplot as plt\n",
    "import seaborn as sns\n",
    "sns.set_style(\"whitegrid\")\n",
    "import os\n",
    "import cv2\n",
    "\n",
    "from glob import glob \n",
    "#Librerias de modelado\n",
    "from tensorflow.keras.models import Sequential\n",
    "from tensorflow.keras.layers import Dense\n",
    "from tensorflow.keras.optimizers import Adam\n",
    "from tensorflow.keras.losses import BinaryCrossentropy\n",
    "\n",
    "from tensorflow.keras.layers import Dropout\n",
    "from tensorflow.keras.layers import Flatten\n",
    "\n",
    "from sklearn.model_selection import train_test_split\n",
    "from sklearn.preprocessing import LabelEncoder\n",
    "from sklearn.metrics import classification_report,confusion_matrix"
   ]
  },
  {
   "cell_type": "code",
   "execution_count": 3,
   "id": "89941c4d-9283-43de-ada0-7b9ed296bb12",
   "metadata": {
    "tags": []
   },
   "outputs": [],
   "source": [
    "#Funcion para leer las imagenes de un folder\n",
    "def load_folder_with_label(folder_path,size = (128,128)):\n",
    "  files = glob(os.path.join(folder_path,\"*\"))\n",
    "  label = os.path.basename(folder_path).strip().lower().replace(\" \",\"_\")\n",
    "  X = map(plt.imread, files)\n",
    "  X = map(lambda img: cv2.resize(img, size), X)\n",
    "  X = list(X)\n",
    "  y = [label] * len(X)\n",
    "  return X,y "
   ]
  },
  {
   "cell_type": "code",
   "execution_count": 5,
   "id": "a0620d6a-340e-4851-b8ba-36d9e22d0ba0",
   "metadata": {
    "tags": []
   },
   "outputs": [],
   "source": [
    "image_size = (64,64)"
   ]
  },
  {
   "cell_type": "code",
   "execution_count": 7,
   "id": "cdd05b95-2c58-4c1f-acb5-074e2546bf2d",
   "metadata": {
    "tags": []
   },
   "outputs": [],
   "source": [
    "#Cargamos los datos de entrenamiento de la clase 0 y clase 1\n",
    "X_0, y_0 = load_folder_with_label(\"C:/Users/andre/Proyecto_Integrador/Algoritmo_CNN/Clasificacion_Keras2/Data_20240423/Train_Images/ok_images\",size = image_size)\n",
    "X_1, y_1 = load_folder_with_label(\"C:/Users/andre/Proyecto_Integrador/Algoritmo_CNN/Clasificacion_Keras2/Data_20240423/Train_Images/nok_images\",size = image_size)\n",
    "X = X_0 + X_1\n",
    "y = y_0 + y_1\n",
    "del X_0 , X_1, y_0 , y_1"
   ]
  },
  {
   "cell_type": "code",
   "execution_count": 9,
   "id": "51b5fd25-bf33-4224-a72a-3d4a245407a4",
   "metadata": {
    "tags": []
   },
   "outputs": [],
   "source": [
    "#Cargamos los datos de validacion de la clase 0 y clase 1\n",
    "X_validation_0, y_validation_0 = load_folder_with_label(\"C:/Users/andre/Proyecto_Integrador/Algoritmo_CNN/Clasificacion_Keras2/Data_20240423/Validation_Images/ok_images\",size = image_size)\n",
    "X_validation_1, y_validation_1 = load_folder_with_label(\"C:/Users/andre/Proyecto_Integrador/Algoritmo_CNN/Clasificacion_Keras2/Data_20240423/Validation_Images/nok_images\",size = image_size)\n",
    "X_validation = X_validation_0 + X_validation_1\n",
    "y_validation = y_validation_0 + y_validation_1\n",
    "del X_validation_0 , X_validation_1, y_validation_0 , y_validation_1"
   ]
  },
  {
   "cell_type": "code",
   "execution_count": 11,
   "id": "d0096cbd-1460-4d46-86bc-974b91e8e8f9",
   "metadata": {
    "tags": []
   },
   "outputs": [
    {
     "data": {
      "text/plain": [
       "array([1, 1, 1, 1, 1, 1, 1, 1, 1, 1, 1, 1, 1, 1, 1, 1, 1, 1, 1, 1, 1, 1,\n",
       "       1, 1, 1, 1, 1, 1, 1, 1, 1, 1, 1, 1, 1, 1, 1, 1, 1, 1, 1, 1, 1, 1,\n",
       "       1, 1, 1, 1, 1, 1, 1, 1, 1, 1, 1, 1, 1, 1, 1, 1, 1, 1, 1, 1, 1, 1,\n",
       "       1, 1, 1, 1, 1, 1, 1, 1, 1, 1, 1, 1, 1, 1, 1, 1, 1, 1, 1, 1, 1, 1,\n",
       "       1, 1, 1, 1, 1, 1, 1, 1, 1, 1, 1, 1, 1, 1, 1, 1, 1, 1, 1, 1, 1, 1,\n",
       "       1, 1, 1, 1, 1, 1, 1, 1, 1, 1, 1, 1, 1, 1, 1, 1, 1, 1, 1, 1, 1, 1,\n",
       "       1, 1, 1, 1, 1, 1, 1, 1, 1, 1, 1, 1, 1, 1, 1, 1, 1, 1, 1, 1, 1, 1,\n",
       "       1, 1, 1, 1, 1, 1, 1, 1, 1, 1, 1, 1, 1, 1, 1, 1, 1, 1, 1, 1, 1, 1,\n",
       "       1, 1, 1, 1, 1, 1, 1, 1, 1, 1, 1, 1, 1, 1, 1, 1, 1, 1, 1, 1, 1, 1,\n",
       "       1, 1, 1, 1, 1, 1, 1, 1, 1, 1, 1, 1, 1, 1, 1, 1, 1, 1, 1, 1, 1, 1,\n",
       "       1, 1, 1, 1, 1, 1, 1, 1, 1, 1, 1, 1, 1, 1, 1, 1, 1, 1, 1, 1, 1, 1,\n",
       "       1, 1, 1, 1, 1, 1, 1, 1, 1, 1, 1, 1, 1, 1, 1, 1, 1, 1, 1, 1, 1, 1,\n",
       "       1, 1, 1, 1, 1, 1, 1, 1, 1, 1, 1, 1, 1, 1, 1, 1, 0, 0, 0, 0, 0, 0,\n",
       "       0, 0, 0, 0, 0, 0, 0, 0, 0, 0, 0, 0, 0, 0, 0, 0, 0, 0, 0, 0, 0, 0,\n",
       "       0, 0, 0, 0, 0, 0, 0, 0, 0, 0, 0, 0, 0, 0, 0, 0, 0, 0, 0, 0, 0, 0,\n",
       "       0, 0, 0, 0, 0, 0, 0, 0, 0, 0, 0, 0, 0, 0, 0, 0, 0, 0, 0, 0, 0, 0,\n",
       "       0, 0, 0, 0, 0, 0, 0, 0, 0, 0, 0, 0, 0, 0, 0, 0, 0, 0, 0, 0, 0, 0,\n",
       "       0, 0, 0, 0, 0, 0, 0, 0, 0, 0, 0, 0, 0, 0, 0, 0, 0, 0, 0, 0, 0, 0,\n",
       "       0, 0, 0, 0, 0, 0, 0, 0, 0, 0, 0, 0, 0, 0, 0, 0, 0, 0, 0, 0, 0, 0,\n",
       "       0, 0, 0, 0, 0, 0, 0, 0, 0, 0, 0, 0, 0, 0, 0, 0, 0, 0, 0, 0, 0, 0,\n",
       "       0, 0, 0, 0, 0, 0, 0, 0, 0, 0, 0, 0, 0, 0, 0, 0, 0, 0, 0, 0, 0, 0,\n",
       "       0, 0, 0, 0, 0, 0, 0, 0, 0, 0, 0, 0, 0, 0, 0, 0, 0, 0, 0, 0, 0, 0,\n",
       "       0, 0, 0, 0, 0, 0, 0, 0, 0, 0, 0, 0, 0, 0, 0, 0, 0, 0, 0, 0, 0, 0,\n",
       "       0, 0, 0, 0, 0, 0, 0, 0, 0, 0, 0, 0, 0, 0, 0, 0, 0, 0, 0, 0, 0, 0,\n",
       "       0, 0, 0, 0, 0, 0, 0, 0, 0, 0, 0, 0, 0, 0, 0, 0, 0, 0, 0, 0, 0, 0,\n",
       "       0, 0, 0, 0, 0, 0, 0, 0, 0, 0, 0, 0, 0], dtype=int64)"
      ]
     },
     "execution_count": 11,
     "metadata": {},
     "output_type": "execute_result"
    }
   ],
   "source": [
    "#codificamos la target\n",
    "lbl = LabelEncoder()\n",
    "y = lbl.fit_transform(y)\n",
    "y"
   ]
  },
  {
   "cell_type": "code",
   "execution_count": 13,
   "id": "70d0aec8-a2a8-420e-aae0-8c94cb118433",
   "metadata": {
    "tags": []
   },
   "outputs": [
    {
     "data": {
      "text/plain": [
       "array([1, 1, 1, 1, 1, 1, 1, 1, 1, 1, 1, 1, 1, 1, 1, 1, 1, 1, 1, 1, 1, 1,\n",
       "       1, 1, 1, 1, 1, 1, 1, 1, 1, 1, 1, 1, 1, 1, 1, 1, 1, 1, 1, 1, 1, 1,\n",
       "       1, 1, 1, 1, 1, 1, 1, 1, 1, 1, 1, 1, 1, 1, 1, 1, 1, 1, 1, 1, 1, 1,\n",
       "       1, 1, 1, 1, 1, 1, 1, 1, 1, 1, 1, 1, 1, 1, 0, 0, 0, 0, 0, 0, 0, 0,\n",
       "       0, 0, 0, 0, 0, 0, 0, 0, 0, 0, 0, 0, 0, 0, 0, 0, 0, 0, 0, 0, 0, 0,\n",
       "       0, 0, 0, 0, 0, 0, 0, 0, 0, 0, 0, 0, 0, 0, 0, 0, 0, 0, 0, 0, 0, 0,\n",
       "       0, 0, 0, 0, 0, 0, 0, 0, 0, 0, 0, 0, 0, 0, 0, 0, 0, 0, 0, 0, 0, 0,\n",
       "       0, 0, 0, 0, 0, 0])"
      ]
     },
     "execution_count": 13,
     "metadata": {},
     "output_type": "execute_result"
    }
   ],
   "source": [
    "y_validation = lbl.transform(y_validation)\n",
    "y_validation"
   ]
  },
  {
   "cell_type": "code",
   "execution_count": 15,
   "id": "2b7a6605-6d35-4db4-b1a2-5b6705db0cd8",
   "metadata": {
    "tags": []
   },
   "outputs": [
    {
     "data": {
      "image/png": "[encoded data removed]",
      "text/plain": [
       "<Figure size 300x300 with 1 Axes>"
      ]
     },
     "metadata": {},
     "output_type": "display_data"
    },
    {
     "data": {
      "image/png": "[encoded data removed]",
      "text/plain": [
       "<Figure size 300x300 with 1 Axes>"
      ]
     },
     "metadata": {},
     "output_type": "display_data"
    },
    {
     "data": {
      "image/png": "[encoded data removed]",
      "text/plain": [
       "<Figure size 300x300 with 1 Axes>"
      ]
     },
     "metadata": {},
     "output_type": "display_data"
    }
   ],
   "source": [
    "#Vistazo a nuestro dataset\n",
    "for img in X[:3]:\n",
    "  plt.figure(figsize = (3,3))\n",
    "  plt.tick_params(left = False, right = False , labelleft = False ,\n",
    "                labelbottom = False, bottom = False)\n",
    "  plt.imshow(img, cmap = \"gray\")\n",
    "  plt.show()"
   ]
  },
  {
   "cell_type": "code",
   "execution_count": null,
   "id": "79a1bfe0-9781-4d25-b56f-394815106115",
   "metadata": {
    "tags": []
   },
   "outputs": [],
   "source": [
    "X = np.array(X)\n",
    "X_validation = np.array(X_validation)"
   ]
  },
  {
   "cell_type": "code",
   "execution_count": null,
   "id": "943f3124-30b2-4eef-a36d-639bfc4945f3",
   "metadata": {
    "tags": []
   },
   "outputs": [],
   "source": [
    "X=X/255"
   ]
  },
  {
   "cell_type": "code",
   "execution_count": null,
   "id": "e4d245b5-941f-4e59-8b71-92b27e6938f5",
   "metadata": {
    "tags": []
   },
   "outputs": [],
   "source": [
    "X.shape"
   ]
  },
  {
   "cell_type": "code",
   "execution_count": null,
   "id": "8eb3a881-81a7-4eca-9fec-d21b16ca91ff",
   "metadata": {},
   "outputs": [],
   "source": [
    "#size = X.shape[1]*X.shape[2]\n",
    "# X = X.reshape((len(X),size))\n",
    "# X_validation = X_validation.reshape((len(X_validation),size))"
   ]
  },
  {
   "cell_type": "code",
   "execution_count": null,
   "id": "5a76d636-cabd-47fb-bd75-14349b480e36",
   "metadata": {
    "tags": []
   },
   "outputs": [],
   "source": [
    "#Partición de muestras entrenamiento y testing\n",
    "X_train, X_test, y_train, y_test = train_test_split( X, y, test_size=0.15, random_state=42)"
   ]
  },
  {
   "cell_type": "code",
   "execution_count": null,
   "id": "b3c80fc1-46d5-4a1b-ab61-548a7503f3c9",
   "metadata": {
    "tags": []
   },
   "outputs": [],
   "source": [
    "X_train.shape"
   ]
  },
  {
   "cell_type": "code",
   "execution_count": null,
   "id": "eb0487ae-5528-44ba-a876-6434caf07bc9",
   "metadata": {
    "tags": []
   },
   "outputs": [],
   "source": [
    "# Crear el modelo secuencial\n",
    "model = Sequential()\n",
    "\n",
    "model.add(Flatten(input_shape=(image_size[0], image_size[1], 4)))\n",
    "\n",
    "#model.add(Dense(256, activation='relu'))\n",
    "\n",
    "model.add(Dense(128, activation='relu'))\n",
    "\n",
    "model.add(Dense(64, activation='relu'))\n",
    "\n",
    "model.add(Dense(32, activation='relu'))\n",
    "\n",
    "model.add(Dense(16, activation='relu'))\n",
    "\n",
    "model.add(Dense(units = 10, activation='softmax'))\n",
    "\n",
    "# Agregar una capa de dropout con una tasa del 50%\n",
    "model.add(Dropout(0.05))\n",
    "\n",
    "# Agregar una capa densa de salida con una neurona y activación 'sigmoid' para clasificación binaria\n",
    "model.add(Dense(1, activation='sigmoid'))"
   ]
  },
  {
   "cell_type": "code",
   "execution_count": null,
   "id": "99d6063b-a194-4e84-923e-1d6400ae2979",
   "metadata": {
    "tags": []
   },
   "outputs": [],
   "source": [
    "#Resumen de la arquitectura del modelo\n",
    "model.summary()"
   ]
  },
  {
   "cell_type": "code",
   "execution_count": null,
   "id": "eec63350-db32-4183-bd09-711a7ec88d2b",
   "metadata": {
    "tags": []
   },
   "outputs": [],
   "source": [
    "# Compilar el modelo con el optimizador 'adam', la función de pérdida BinaryCrossentropy y métricas de precisión\n",
    "\n",
    "model.compile(optimizer='adam',\n",
    "              loss=BinaryCrossentropy(),\n",
    "              metrics=['accuracy'])\n",
    "# Entrenar el modelo con los datos de entrenamiento y validar con los datos de prueba\n",
    "\n",
    "history = model.fit(X_train, y_train, epochs=25, \n",
    "                    validation_data=(X_test, y_test))"
   ]
  },
  {
   "cell_type": "code",
   "execution_count": null,
   "id": "13fb49be-94cf-4032-bfc2-432b5ad9c45a",
   "metadata": {
    "tags": []
   },
   "outputs": [],
   "source": [
    "# Obtén los datos del historial\n",
    "accuracy = history.history['accuracy']\n",
    "val_accuracy = history.history['val_accuracy']\n",
    "loss = history.history['loss']\n",
    "val_loss = history.history['val_loss']\n",
    "\n",
    "# Crea la figura y los subplots\n",
    "fig, (ax1, ax2) = plt.subplots(2, 1, figsize=(8, 6))\n",
    "\n",
    "# Gráfica de accuracy\n",
    "ax1.plot(accuracy, label='Accuracy Entrenamiento')\n",
    "ax1.plot(val_accuracy, label='Accuracy Validación')\n",
    "ax1.set_xlabel('Épocas')\n",
    "ax1.set_ylabel('Accuracy')\n",
    "ax1.legend()\n",
    "\n",
    "# Gráfica de pérdida\n",
    "ax2.plot(loss, label='Pérdida Entrenamiento')\n",
    "ax2.plot(val_loss, label='Pérdida Validación')\n",
    "ax2.set_xlabel('Épocas')\n",
    "ax2.set_ylabel('Pérdida')\n",
    "# plt.ylim(None,.8)\n",
    "ax2.legend()\n",
    "\n",
    "# Ajusta los márgenes y espacios entre subplots\n",
    "plt.tight_layout()\n",
    "\n",
    "# Muestra las gráficas\n",
    "plt.show()"
   ]
  },
  {
   "cell_type": "code",
   "execution_count": null,
   "id": "9fb990f3-73b6-47bd-86f6-7331ba086813",
   "metadata": {},
   "outputs": [],
   "source": [
    "y_proba_train = model.predict(X_train)\n",
    "y_pred_train = y_proba_train.round().astype(int)\n",
    "y_proba_test = model.predict(X_test)\n",
    "y_pred_test = y_proba_test.round().astype(int)\n",
    "y_proba_validation = model.predict(X_validation)\n",
    "y_pred_validation = y_proba_validation.round().astype(int)"
   ]
  },
  {
   "cell_type": "code",
   "execution_count": null,
   "id": "aa5741c1-2c4b-4ed8-b699-dda9681f7aeb",
   "metadata": {},
   "outputs": [],
   "source": [
    "print(\"Train sample \\n\", classification_report(y_train, y_pred_train,target_names = lbl.classes_))\n",
    "print(\"Test sample \\n\", classification_report(y_test, y_pred_test,target_names = lbl.classes_))\n",
    "print(\"validation sample \\n\", classification_report(y_validation, y_pred_validation,target_names = lbl.classes_))"
   ]
  },
  {
   "cell_type": "code",
   "execution_count": null,
   "id": "eee2b87a-05ce-4275-b4da-41142c3de8cf",
   "metadata": {},
   "outputs": [],
   "source": [
    "!pip install -q scikit-plot\n",
    "import scikitplot as skplt"
   ]
  },
  {
   "cell_type": "code",
   "execution_count": null,
   "id": "58141310-607b-4a86-aae9-af147f569f23",
   "metadata": {},
   "outputs": [],
   "source": [
    "# Gráfico de Matriz de Confusión\n",
    "skplt.metrics.plot_confusion_matrix(y_train, y_pred_train, normalize=True)\n",
    "plt.title('Matriz de Confusión Train')\n",
    "\n",
    "skplt.metrics.plot_confusion_matrix(y_test, y_pred_test, normalize=True)\n",
    "plt.title('Matriz de Confusión Test')\n",
    "\n",
    "skplt.metrics.plot_confusion_matrix(y_validation, y_pred_validation, normalize=True)\n",
    "plt.title('Matriz de Confusión Validation')\n",
    "plt.show() "
   ]
  },
  {
   "cell_type": "code",
   "execution_count": null,
   "id": "bc21be02-55df-421a-aecb-c74476b6a406",
   "metadata": {},
   "outputs": [],
   "source": [
    "fig, axes = plt.subplots(nrows=1, ncols=3, figsize=(20,5))\n",
    "\n",
    "skplt.metrics.plot_roc(y_train, np.column_stack((1-y_proba_train, y_proba_train)), ax=axes[0])\n",
    "axes[0].set_title(\"Muestra train\")\n",
    "\n",
    "skplt.metrics.plot_roc(y_test, np.column_stack((1-y_proba_test, y_proba_test)), ax=axes[1])\n",
    "axes[1].set_title(\"Muestra test\")\n",
    "\n",
    "skplt.metrics.plot_roc(y_validation, np.column_stack((1-y_proba_validation, y_proba_validation)), ax=axes[2])\n",
    "axes[2].set_title(\"Muestra validation\")\n",
    "axes[2].legend(loc=\"lower right\")\n"
   ]
  },
  {
   "cell_type": "code",
   "execution_count": null,
   "id": "615cf70b-714c-4d98-ab1e-6ea0c0d79697",
   "metadata": {},
   "outputs": [],
   "source": []
  }
 ],
 "metadata": {
  "kernelspec": {
   "display_name": "Python 3 (ipykernel)",
   "language": "python",
   "name": "python3"
  },
  "language_info": {
   "codemirror_mode": {
    "name": "ipython",
    "version": 3
   },
   "file_extension": ".py",
   "mimetype": "text/x-python",
   "name": "python",
   "nbconvert_exporter": "python",
   "pygments_lexer": "ipython3",
   "version": "3.11.7"
  }
 },
 "nbformat": 4,
 "nbformat_minor": 5
}
