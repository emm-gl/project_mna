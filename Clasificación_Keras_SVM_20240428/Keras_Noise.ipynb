{
 "cells": [
  {
   "cell_type": "code",
   "execution_count": 2,
   "id": "871b942b-aecd-4cac-8d77-8872125822a1",
   "metadata": {
    "tags": []
   },
   "outputs": [],
   "source": [
    "import numpy as np\n",
    "import matplotlib.pyplot as plt\n",
    "import keras\n",
    "from keras.datasets import cifar10\n",
    "from keras.models import Sequential\n",
    "from keras.layers import Dense\n",
    "from keras.optimizers import Adam\n",
    "\n",
    "from tensorflow.keras.utils import to_categorical\n",
    "#from keras.utils.np_utils import to_categorical\n",
    "\n",
    "import random\n",
    "     \n",
    "from keras.layers import Dropout\n",
    "from keras.layers import Flatten\n",
    "\n",
    "from tensorflow.keras.layers import Conv2D\n",
    "#from keras.layers.convolutional import Conv2D\n",
    "\n",
    "from tensorflow.keras.layers import MaxPooling2D\n",
    "#from keras.layers.convolutional import MaxPooling2D\n",
    "     \n",
    "from keras.models import Model\n",
    "\n",
    "import matplotlib.image as mpimg\n",
    "import seaborn as sns\n",
    "import cv2\n",
    "\n",
    "#from google.colab import drive\n",
    "import glob"
   ]
  },
  {
   "cell_type": "code",
   "execution_count": 6,
   "id": "500acdf7-b742-4d24-8193-f335e48c5767",
   "metadata": {
    "tags": []
   },
   "outputs": [],
   "source": [
    "#drive.mount('/Proyecto_Integrador/Algoritmo_CNN/Clasificación_Keras')\n",
    "file_path = 'Proyecto_Integrador/Algoritmo_CNN/Clasificación_Keras/Data_20240423/*'\n",
    "\n",
    "#drive.mount('/content/drive')\n",
    "#file_path = '/content/drive/MyDrive/MNA/DetPeatones/*'"
   ]
  },
  {
   "cell_type": "code",
   "execution_count": 4,
   "id": "1d23bd78-d49d-4d26-9ba5-2fde46a23f29",
   "metadata": {
    "tags": []
   },
   "outputs": [],
   "source": [
    "#pedestrian = glob.glob('/content/drive/MyDrive/MNA/NavAutonoma/DetPeatones/Pedestrian/*')\n",
    "noise = glob.glob(\"OK_Drives_Images_Augmentation/*.png\")\n",
    "\n",
    "#no_pedestrian = glob.glob('/content/drive/MyDrive/MNA/NavAutonoma/DetPeatones/NoPedestrian/*')\n",
    "nonoise = glob.glob(\"NOK_Drives_Images_Augmentation/*.png\")"
   ]
  },
  {
   "cell_type": "code",
   "execution_count": 6,
   "id": "ec79fbc9-4488-4463-a14b-81e6658ba2d2",
   "metadata": {
    "tags": []
   },
   "outputs": [
    {
     "data": {
      "text/plain": [
       "500"
      ]
     },
     "execution_count": 6,
     "metadata": {},
     "output_type": "execute_result"
    }
   ],
   "source": [
    "len(noise)"
   ]
  },
  {
   "cell_type": "code",
   "execution_count": 8,
   "id": "86de597a-3f6f-4191-a7e7-59637293cc94",
   "metadata": {
    "tags": []
   },
   "outputs": [
    {
     "data": {
      "text/plain": [
       "500"
      ]
     },
     "execution_count": 8,
     "metadata": {},
     "output_type": "execute_result"
    }
   ],
   "source": [
    "len(nonoise)"
   ]
  },
  {
   "cell_type": "code",
   "execution_count": 10,
   "id": "4b8d8b2b-b737-4be8-96a9-96e3eccaae48",
   "metadata": {
    "tags": []
   },
   "outputs": [],
   "source": [
    "noise_Formated = []\n",
    "nonoise_Formated = []\n",
    "\n",
    "width = 400 \n",
    "height = 250\n",
    "dim = (width, height)\n",
    "\n",
    "for i in noise:\n",
    "    img_color = mpimg.imread(i)\n",
    "    #convert to grayscale\n",
    "    img_gray = cv2.cvtColor(img_color,cv2.COLOR_BGR2GRAY)\n",
    "    #resize image\n",
    "    img_resized = cv2.resize(img_gray, dim, interpolation = cv2.INTER_AREA)\n",
    "    \n",
    "    #add the new image to a new array\n",
    "    noise_Formated.append(img_resized)\n",
    "\n",
    "for i in nonoise:\n",
    "    img_color = mpimg.imread(i)\n",
    "    #convert to grayscale\n",
    "    img_gray = cv2.cvtColor(img_color,cv2.COLOR_BGR2GRAY)\n",
    "    #resize image\n",
    "    img_resized = cv2.resize(img_gray, dim, interpolation = cv2.INTER_AREA)\n",
    "    \n",
    "    #add the new image to a new array\n",
    "    nonoise_Formated.append(img_resized)"
   ]
  },
  {
   "cell_type": "code",
   "execution_count": 13,
   "id": "641b077c-7385-4fe0-bbb6-e42c6d411481",
   "metadata": {
    "tags": []
   },
   "outputs": [],
   "source": [
    "y_noise = np.ones(len(noise_Formated))\n",
    "y_nonoise = np.zeros(len(nonoise_Formated))"
   ]
  },
  {
   "cell_type": "code",
   "execution_count": 15,
   "id": "2a8f73ab-5660-4972-8d62-2eedb5a6315f",
   "metadata": {
    "tags": []
   },
   "outputs": [
    {
     "data": {
      "text/plain": [
       "(1000, 250, 400)"
      ]
     },
     "execution_count": 15,
     "metadata": {},
     "output_type": "execute_result"
    }
   ],
   "source": [
    "X = np.vstack((noise_Formated,nonoise_Formated))\n",
    "X.shape"
   ]
  },
  {
   "cell_type": "code",
   "execution_count": 17,
   "id": "e2a84da4-86ce-43cc-bf74-419e7f5aa8b2",
   "metadata": {
    "tags": []
   },
   "outputs": [
    {
     "data": {
      "text/plain": [
       "(1000,)"
      ]
     },
     "execution_count": 17,
     "metadata": {},
     "output_type": "execute_result"
    }
   ],
   "source": [
    "y = np.hstack((y_noise,y_nonoise))\n",
    "y.shape"
   ]
  },
  {
   "cell_type": "code",
   "execution_count": 19,
   "id": "065a9b81-7481-4c9b-a846-27db90d93ba1",
   "metadata": {
    "tags": []
   },
   "outputs": [],
   "source": [
    "X=X/255"
   ]
  },
  {
   "cell_type": "code",
   "execution_count": 21,
   "id": "c8e07c6f-9d2c-46f5-b0ad-9dc1a8cc9a58",
   "metadata": {
    "tags": []
   },
   "outputs": [
    {
     "name": "stdout",
     "output_type": "stream",
     "text": [
      "(1000, 100000)\n"
     ]
    }
   ],
   "source": [
    "# 400 x 250 = 100,000\n",
    "num_pixels = 100000\n",
    "X = X.reshape(X.shape[0], num_pixels)\n",
    "print(X.shape)"
   ]
  },
  {
   "cell_type": "code",
   "execution_count": 23,
   "id": "53295b89-6892-4583-ad62-92db4ce3a57a",
   "metadata": {
    "tags": []
   },
   "outputs": [
    {
     "name": "stderr",
     "output_type": "stream",
     "text": [
      "WARNING:absl:`lr` is deprecated in Keras optimizer, please use `learning_rate` or use the legacy optimizer, e.g.,tf.keras.optimizers.legacy.Adam.\n"
     ]
    },
    {
     "name": "stdout",
     "output_type": "stream",
     "text": [
      "Model: \"sequential\"\n",
      "_________________________________________________________________\n",
      " Layer (type)                Output Shape              Param #   \n",
      "=================================================================\n",
      " dense (Dense)               (None, 50)                5000050   \n",
      "                                                                 \n",
      " dense_1 (Dense)             (None, 10)                510       \n",
      "                                                                 \n",
      " dense_2 (Dense)             (None, 10)                110       \n",
      "                                                                 \n",
      "=================================================================\n",
      "Total params: 5000670 (19.08 MB)\n",
      "Trainable params: 5000670 (19.08 MB)\n",
      "Non-trainable params: 0 (0.00 Byte)\n",
      "_________________________________________________________________\n",
      "None\n"
     ]
    }
   ],
   "source": [
    "model = Sequential()\n",
    "model.add(Dense(units = 50, input_dim=num_pixels, activation='relu'))\n",
    "#model.add(Dropout(0.2))\n",
    "model.add(Dense(units = 10, activation='relu'))\n",
    "#model.add(Dropout(0.2))\n",
    "model.add(Dense(units = 10, activation='softmax'))\n",
    "model.compile(Adam(lr=0.1), loss='categorical_crossentropy', metrics=['accuracy'])\n",
    "print(model.summary())"
   ]
  },
  {
   "cell_type": "code",
   "execution_count": 25,
   "id": "43226466-0af8-4e0d-86da-2afcde1f4175",
   "metadata": {
    "tags": []
   },
   "outputs": [
    {
     "name": "stdout",
     "output_type": "stream",
     "text": [
      "(1000, 100000)\n",
      "(1000,)\n",
      "[1. 1. 1. 1. 1. 1. 1. 1. 1. 1. 1. 1. 1. 1. 1. 1. 1. 1. 1. 1. 1. 1. 1. 1.\n",
      " 1. 1. 1. 1. 1. 1. 1. 1. 1. 1. 1. 1. 1. 1. 1. 1. 1. 1. 1. 1. 1. 1. 1. 1.\n",
      " 1. 1. 1. 1. 1. 1. 1. 1. 1. 1. 1. 1. 1. 1. 1. 1. 1. 1. 1. 1. 1. 1. 1. 1.\n",
      " 1. 1. 1. 1. 1. 1. 1. 1. 1. 1. 1. 1. 1. 1. 1. 1. 1. 1. 1. 1. 1. 1. 1. 1.\n",
      " 1. 1. 1. 1. 1. 1. 1. 1. 1. 1. 1. 1. 1. 1. 1. 1. 1. 1. 1. 1. 1. 1. 1. 1.\n",
      " 1. 1. 1. 1. 1. 1. 1. 1. 1. 1. 1. 1. 1. 1. 1. 1. 1. 1. 1. 1. 1. 1. 1. 1.\n",
      " 1. 1. 1. 1. 1. 1. 1. 1. 1. 1. 1. 1. 1. 1. 1. 1. 1. 1. 1. 1. 1. 1. 1. 1.\n",
      " 1. 1. 1. 1. 1. 1. 1. 1. 1. 1. 1. 1. 1. 1. 1. 1. 1. 1. 1. 1. 1. 1. 1. 1.\n",
      " 1. 1. 1. 1. 1. 1. 1. 1. 1. 1. 1. 1. 1. 1. 1. 1. 1. 1. 1. 1. 1. 1. 1. 1.\n",
      " 1. 1. 1. 1. 1. 1. 1. 1. 1. 1. 1. 1. 1. 1. 1. 1. 1. 1. 1. 1. 1. 1. 1. 1.\n",
      " 1. 1. 1. 1. 1. 1. 1. 1. 1. 1. 1. 1. 1. 1. 1. 1. 1. 1. 1. 1. 1. 1. 1. 1.\n",
      " 1. 1. 1. 1. 1. 1. 1. 1. 1. 1. 1. 1. 1. 1. 1. 1. 1. 1. 1. 1. 1. 1. 1. 1.\n",
      " 1. 1. 1. 1. 1. 1. 1. 1. 1. 1. 1. 1. 1. 1. 1. 1. 1. 1. 1. 1. 1. 1. 1. 1.\n",
      " 1. 1. 1. 1. 1. 1. 1. 1. 1. 1. 1. 1. 1. 1. 1. 1. 1. 1. 1. 1. 1. 1. 1. 1.\n",
      " 1. 1. 1. 1. 1. 1. 1. 1. 1. 1. 1. 1. 1. 1. 1. 1. 1. 1. 1. 1. 1. 1. 1. 1.\n",
      " 1. 1. 1. 1. 1. 1. 1. 1. 1. 1. 1. 1. 1. 1. 1. 1. 1. 1. 1. 1. 1. 1. 1. 1.\n",
      " 1. 1. 1. 1. 1. 1. 1. 1. 1. 1. 1. 1. 1. 1. 1. 1. 1. 1. 1. 1. 1. 1. 1. 1.\n",
      " 1. 1. 1. 1. 1. 1. 1. 1. 1. 1. 1. 1. 1. 1. 1. 1. 1. 1. 1. 1. 1. 1. 1. 1.\n",
      " 1. 1. 1. 1. 1. 1. 1. 1. 1. 1. 1. 1. 1. 1. 1. 1. 1. 1. 1. 1. 1. 1. 1. 1.\n",
      " 1. 1. 1. 1. 1. 1. 1. 1. 1. 1. 1. 1. 1. 1. 1. 1. 1. 1. 1. 1. 1. 1. 1. 1.\n",
      " 1. 1. 1. 1. 1. 1. 1. 1. 1. 1. 1. 1. 1. 1. 1. 1. 1. 1. 1. 1. 0. 0. 0. 0.\n",
      " 0. 0. 0. 0. 0. 0. 0. 0. 0. 0. 0. 0. 0. 0. 0. 0. 0. 0. 0. 0. 0. 0. 0. 0.\n",
      " 0. 0. 0. 0. 0. 0. 0. 0. 0. 0. 0. 0. 0. 0. 0. 0. 0. 0. 0. 0. 0. 0. 0. 0.\n",
      " 0. 0. 0. 0. 0. 0. 0. 0. 0. 0. 0. 0. 0. 0. 0. 0. 0. 0. 0. 0. 0. 0. 0. 0.\n",
      " 0. 0. 0. 0. 0. 0. 0. 0. 0. 0. 0. 0. 0. 0. 0. 0. 0. 0. 0. 0. 0. 0. 0. 0.\n",
      " 0. 0. 0. 0. 0. 0. 0. 0. 0. 0. 0. 0. 0. 0. 0. 0. 0. 0. 0. 0. 0. 0. 0. 0.\n",
      " 0. 0. 0. 0. 0. 0. 0. 0. 0. 0. 0. 0. 0. 0. 0. 0. 0. 0. 0. 0. 0. 0. 0. 0.\n",
      " 0. 0. 0. 0. 0. 0. 0. 0. 0. 0. 0. 0. 0. 0. 0. 0. 0. 0. 0. 0. 0. 0. 0. 0.\n",
      " 0. 0. 0. 0. 0. 0. 0. 0. 0. 0. 0. 0. 0. 0. 0. 0. 0. 0. 0. 0. 0. 0. 0. 0.\n",
      " 0. 0. 0. 0. 0. 0. 0. 0. 0. 0. 0. 0. 0. 0. 0. 0. 0. 0. 0. 0. 0. 0. 0. 0.\n",
      " 0. 0. 0. 0. 0. 0. 0. 0. 0. 0. 0. 0. 0. 0. 0. 0. 0. 0. 0. 0. 0. 0. 0. 0.\n",
      " 0. 0. 0. 0. 0. 0. 0. 0. 0. 0. 0. 0. 0. 0. 0. 0. 0. 0. 0. 0. 0. 0. 0. 0.\n",
      " 0. 0. 0. 0. 0. 0. 0. 0. 0. 0. 0. 0. 0. 0. 0. 0. 0. 0. 0. 0. 0. 0. 0. 0.\n",
      " 0. 0. 0. 0. 0. 0. 0. 0. 0. 0. 0. 0. 0. 0. 0. 0. 0. 0. 0. 0. 0. 0. 0. 0.\n",
      " 0. 0. 0. 0. 0. 0. 0. 0. 0. 0. 0. 0. 0. 0. 0. 0. 0. 0. 0. 0. 0. 0. 0. 0.\n",
      " 0. 0. 0. 0. 0. 0. 0. 0. 0. 0. 0. 0. 0. 0. 0. 0. 0. 0. 0. 0. 0. 0. 0. 0.\n",
      " 0. 0. 0. 0. 0. 0. 0. 0. 0. 0. 0. 0. 0. 0. 0. 0. 0. 0. 0. 0. 0. 0. 0. 0.\n",
      " 0. 0. 0. 0. 0. 0. 0. 0. 0. 0. 0. 0. 0. 0. 0. 0. 0. 0. 0. 0. 0. 0. 0. 0.\n",
      " 0. 0. 0. 0. 0. 0. 0. 0. 0. 0. 0. 0. 0. 0. 0. 0. 0. 0. 0. 0. 0. 0. 0. 0.\n",
      " 0. 0. 0. 0. 0. 0. 0. 0. 0. 0. 0. 0. 0. 0. 0. 0. 0. 0. 0. 0. 0. 0. 0. 0.\n",
      " 0. 0. 0. 0. 0. 0. 0. 0. 0. 0. 0. 0. 0. 0. 0. 0. 0. 0. 0. 0. 0. 0. 0. 0.\n",
      " 0. 0. 0. 0. 0. 0. 0. 0. 0. 0. 0. 0. 0. 0. 0. 0.]\n"
     ]
    }
   ],
   "source": [
    "print(X.shape)\n",
    "print(y.shape)\n",
    "print(y)"
   ]
  },
  {
   "cell_type": "code",
   "execution_count": 27,
   "id": "d2dc322f-0fd0-49a9-831c-97a3574424e6",
   "metadata": {
    "tags": []
   },
   "outputs": [],
   "source": [
    "from sklearn.model_selection import train_test_split"
   ]
  },
  {
   "cell_type": "code",
   "execution_count": 29,
   "id": "a6f0e3ae-55f7-49b2-8e1f-cf2997ca7654",
   "metadata": {
    "tags": []
   },
   "outputs": [],
   "source": [
    "# 25% para el set de prueba\n",
    "X_train, X_test, y_train, y_test = train_test_split(X, y, test_size = 0.25, random_state = 42)"
   ]
  },
  {
   "cell_type": "code",
   "execution_count": 31,
   "id": "950582c9-5509-40ca-9783-3125fe59b3a6",
   "metadata": {
    "tags": []
   },
   "outputs": [],
   "source": [
    "model = Sequential()\n",
    "model.add(Dense(units=1, input_dim=100000, activation='sigmoid'))\n",
    "model.compile(optimizer=Adam(learning_rate=0.0001), loss='binary_crossentropy',  metrics=['accuracy'])"
   ]
  },
  {
   "cell_type": "code",
   "execution_count": 33,
   "id": "d00f22f7-9aae-4375-a851-40be848f9e37",
   "metadata": {
    "tags": []
   },
   "outputs": [
    {
     "name": "stdout",
     "output_type": "stream",
     "text": [
      "Epoch 1/200\n",
      "24/24 - 2s - loss: 0.6925 - accuracy: 0.4907 - 2s/epoch - 69ms/step\n",
      "Epoch 2/200\n",
      "24/24 - 0s - loss: 0.6899 - accuracy: 0.5080 - 168ms/epoch - 7ms/step\n",
      "Epoch 3/200\n",
      "24/24 - 0s - loss: 0.6877 - accuracy: 0.5173 - 148ms/epoch - 6ms/step\n",
      "Epoch 4/200\n",
      "24/24 - 0s - loss: 0.6858 - accuracy: 0.5107 - 170ms/epoch - 7ms/step\n",
      "Epoch 5/200\n",
      "24/24 - 0s - loss: 0.6835 - accuracy: 0.5387 - 180ms/epoch - 7ms/step\n",
      "Epoch 6/200\n",
      "24/24 - 0s - loss: 0.6814 - accuracy: 0.5427 - 180ms/epoch - 8ms/step\n",
      "Epoch 7/200\n",
      "24/24 - 0s - loss: 0.6795 - accuracy: 0.5547 - 172ms/epoch - 7ms/step\n",
      "Epoch 8/200\n",
      "24/24 - 0s - loss: 0.6775 - accuracy: 0.5933 - 172ms/epoch - 7ms/step\n",
      "Epoch 9/200\n",
      "24/24 - 0s - loss: 0.6757 - accuracy: 0.6253 - 187ms/epoch - 8ms/step\n",
      "Epoch 10/200\n",
      "24/24 - 0s - loss: 0.6740 - accuracy: 0.6240 - 182ms/epoch - 8ms/step\n",
      "Epoch 11/200\n",
      "24/24 - 0s - loss: 0.6722 - accuracy: 0.6480 - 172ms/epoch - 7ms/step\n",
      "Epoch 12/200\n",
      "24/24 - 0s - loss: 0.6702 - accuracy: 0.6440 - 172ms/epoch - 7ms/step\n",
      "Epoch 13/200\n",
      "24/24 - 0s - loss: 0.6685 - accuracy: 0.6413 - 172ms/epoch - 7ms/step\n",
      "Epoch 14/200\n",
      "24/24 - 0s - loss: 0.6668 - accuracy: 0.6507 - 172ms/epoch - 7ms/step\n",
      "Epoch 15/200\n",
      "24/24 - 0s - loss: 0.6651 - accuracy: 0.6640 - 172ms/epoch - 7ms/step\n",
      "Epoch 16/200\n",
      "24/24 - 0s - loss: 0.6636 - accuracy: 0.6707 - 188ms/epoch - 8ms/step\n",
      "Epoch 17/200\n",
      "24/24 - 0s - loss: 0.6619 - accuracy: 0.6693 - 173ms/epoch - 7ms/step\n",
      "Epoch 18/200\n",
      "24/24 - 0s - loss: 0.6605 - accuracy: 0.6653 - 156ms/epoch - 7ms/step\n",
      "Epoch 19/200\n",
      "24/24 - 0s - loss: 0.6588 - accuracy: 0.6680 - 172ms/epoch - 7ms/step\n",
      "Epoch 20/200\n",
      "24/24 - 0s - loss: 0.6573 - accuracy: 0.6600 - 172ms/epoch - 7ms/step\n",
      "Epoch 21/200\n",
      "24/24 - 0s - loss: 0.6559 - accuracy: 0.6507 - 180ms/epoch - 7ms/step\n",
      "Epoch 22/200\n",
      "24/24 - 0s - loss: 0.6544 - accuracy: 0.6613 - 183ms/epoch - 8ms/step\n",
      "Epoch 23/200\n",
      "24/24 - 0s - loss: 0.6531 - accuracy: 0.6627 - 172ms/epoch - 7ms/step\n",
      "Epoch 24/200\n",
      "24/24 - 0s - loss: 0.6517 - accuracy: 0.6560 - 172ms/epoch - 7ms/step\n",
      "Epoch 25/200\n",
      "24/24 - 0s - loss: 0.6503 - accuracy: 0.6533 - 187ms/epoch - 8ms/step\n",
      "Epoch 26/200\n",
      "24/24 - 0s - loss: 0.6490 - accuracy: 0.6547 - 173ms/epoch - 7ms/step\n",
      "Epoch 27/200\n",
      "24/24 - 0s - loss: 0.6478 - accuracy: 0.6480 - 172ms/epoch - 7ms/step\n",
      "Epoch 28/200\n",
      "24/24 - 0s - loss: 0.6464 - accuracy: 0.6560 - 172ms/epoch - 7ms/step\n",
      "Epoch 29/200\n",
      "24/24 - 0s - loss: 0.6452 - accuracy: 0.6640 - 172ms/epoch - 7ms/step\n",
      "Epoch 30/200\n",
      "24/24 - 0s - loss: 0.6439 - accuracy: 0.6560 - 188ms/epoch - 8ms/step\n",
      "Epoch 31/200\n",
      "24/24 - 0s - loss: 0.6428 - accuracy: 0.6627 - 187ms/epoch - 8ms/step\n",
      "Epoch 32/200\n",
      "24/24 - 0s - loss: 0.6415 - accuracy: 0.6600 - 188ms/epoch - 8ms/step\n",
      "Epoch 33/200\n",
      "24/24 - 0s - loss: 0.6404 - accuracy: 0.6573 - 188ms/epoch - 8ms/step\n",
      "Epoch 34/200\n",
      "24/24 - 0s - loss: 0.6392 - accuracy: 0.6587 - 187ms/epoch - 8ms/step\n",
      "Epoch 35/200\n",
      "24/24 - 0s - loss: 0.6381 - accuracy: 0.6573 - 187ms/epoch - 8ms/step\n",
      "Epoch 36/200\n",
      "24/24 - 0s - loss: 0.6370 - accuracy: 0.6613 - 178ms/epoch - 7ms/step\n",
      "Epoch 37/200\n",
      "24/24 - 0s - loss: 0.6359 - accuracy: 0.6627 - 182ms/epoch - 8ms/step\n",
      "Epoch 38/200\n",
      "24/24 - 0s - loss: 0.6349 - accuracy: 0.6653 - 187ms/epoch - 8ms/step\n",
      "Epoch 39/200\n",
      "24/24 - 0s - loss: 0.6338 - accuracy: 0.6653 - 156ms/epoch - 7ms/step\n",
      "Epoch 40/200\n",
      "24/24 - 0s - loss: 0.6329 - accuracy: 0.6627 - 172ms/epoch - 7ms/step\n",
      "Epoch 41/200\n",
      "24/24 - 0s - loss: 0.6318 - accuracy: 0.6640 - 172ms/epoch - 7ms/step\n",
      "Epoch 42/200\n",
      "24/24 - 0s - loss: 0.6308 - accuracy: 0.6653 - 172ms/epoch - 7ms/step\n",
      "Epoch 43/200\n",
      "24/24 - 0s - loss: 0.6299 - accuracy: 0.6680 - 172ms/epoch - 7ms/step\n",
      "Epoch 44/200\n",
      "24/24 - 0s - loss: 0.6288 - accuracy: 0.6653 - 189ms/epoch - 8ms/step\n",
      "Epoch 45/200\n",
      "24/24 - 0s - loss: 0.6279 - accuracy: 0.6640 - 172ms/epoch - 7ms/step\n",
      "Epoch 46/200\n",
      "24/24 - 0s - loss: 0.6270 - accuracy: 0.6667 - 172ms/epoch - 7ms/step\n",
      "Epoch 47/200\n",
      "24/24 - 0s - loss: 0.6261 - accuracy: 0.6693 - 172ms/epoch - 7ms/step\n",
      "Epoch 48/200\n",
      "24/24 - 0s - loss: 0.6251 - accuracy: 0.6693 - 172ms/epoch - 7ms/step\n",
      "Epoch 49/200\n",
      "24/24 - 0s - loss: 0.6243 - accuracy: 0.6667 - 188ms/epoch - 8ms/step\n",
      "Epoch 50/200\n",
      "24/24 - 0s - loss: 0.6235 - accuracy: 0.6627 - 187ms/epoch - 8ms/step\n",
      "Epoch 51/200\n",
      "24/24 - 0s - loss: 0.6225 - accuracy: 0.6680 - 173ms/epoch - 7ms/step\n",
      "Epoch 52/200\n",
      "24/24 - 0s - loss: 0.6219 - accuracy: 0.6613 - 188ms/epoch - 8ms/step\n",
      "Epoch 53/200\n",
      "24/24 - 0s - loss: 0.6209 - accuracy: 0.6667 - 180ms/epoch - 8ms/step\n",
      "Epoch 54/200\n",
      "24/24 - 0s - loss: 0.6201 - accuracy: 0.6653 - 188ms/epoch - 8ms/step\n",
      "Epoch 55/200\n",
      "24/24 - 0s - loss: 0.6192 - accuracy: 0.6627 - 188ms/epoch - 8ms/step\n",
      "Epoch 56/200\n",
      "24/24 - 0s - loss: 0.6184 - accuracy: 0.6653 - 188ms/epoch - 8ms/step\n",
      "Epoch 57/200\n",
      "24/24 - 0s - loss: 0.6177 - accuracy: 0.6627 - 156ms/epoch - 7ms/step\n",
      "Epoch 58/200\n",
      "24/24 - 0s - loss: 0.6170 - accuracy: 0.6693 - 156ms/epoch - 7ms/step\n",
      "Epoch 59/200\n",
      "24/24 - 0s - loss: 0.6162 - accuracy: 0.6653 - 172ms/epoch - 7ms/step\n",
      "Epoch 60/200\n",
      "24/24 - 0s - loss: 0.6154 - accuracy: 0.6640 - 180ms/epoch - 7ms/step\n",
      "Epoch 61/200\n",
      "24/24 - 0s - loss: 0.6146 - accuracy: 0.6667 - 188ms/epoch - 8ms/step\n",
      "Epoch 62/200\n",
      "24/24 - 0s - loss: 0.6139 - accuracy: 0.6640 - 188ms/epoch - 8ms/step\n",
      "Epoch 63/200\n",
      "24/24 - 0s - loss: 0.6132 - accuracy: 0.6640 - 187ms/epoch - 8ms/step\n",
      "Epoch 64/200\n",
      "24/24 - 0s - loss: 0.6125 - accuracy: 0.6640 - 188ms/epoch - 8ms/step\n",
      "Epoch 65/200\n",
      "24/24 - 0s - loss: 0.6118 - accuracy: 0.6653 - 181ms/epoch - 8ms/step\n",
      "Epoch 66/200\n",
      "24/24 - 0s - loss: 0.6111 - accuracy: 0.6653 - 188ms/epoch - 8ms/step\n",
      "Epoch 67/200\n",
      "24/24 - 0s - loss: 0.6104 - accuracy: 0.6653 - 188ms/epoch - 8ms/step\n",
      "Epoch 68/200\n",
      "24/24 - 0s - loss: 0.6097 - accuracy: 0.6653 - 156ms/epoch - 7ms/step\n",
      "Epoch 69/200\n",
      "24/24 - 0s - loss: 0.6091 - accuracy: 0.6653 - 141ms/epoch - 6ms/step\n",
      "Epoch 70/200\n",
      "24/24 - 0s - loss: 0.6084 - accuracy: 0.6653 - 141ms/epoch - 6ms/step\n",
      "Epoch 71/200\n",
      "24/24 - 0s - loss: 0.6078 - accuracy: 0.6653 - 156ms/epoch - 7ms/step\n",
      "Epoch 72/200\n",
      "24/24 - 0s - loss: 0.6073 - accuracy: 0.6680 - 157ms/epoch - 7ms/step\n",
      "Epoch 73/200\n",
      "24/24 - 0s - loss: 0.6066 - accuracy: 0.6653 - 156ms/epoch - 7ms/step\n",
      "Epoch 74/200\n",
      "24/24 - 0s - loss: 0.6060 - accuracy: 0.6667 - 156ms/epoch - 7ms/step\n",
      "Epoch 75/200\n",
      "24/24 - 0s - loss: 0.6055 - accuracy: 0.6667 - 156ms/epoch - 7ms/step\n",
      "Epoch 76/200\n",
      "24/24 - 0s - loss: 0.6047 - accuracy: 0.6653 - 157ms/epoch - 7ms/step\n",
      "Epoch 77/200\n",
      "24/24 - 0s - loss: 0.6042 - accuracy: 0.6653 - 172ms/epoch - 7ms/step\n",
      "Epoch 78/200\n",
      "24/24 - 0s - loss: 0.6036 - accuracy: 0.6667 - 172ms/epoch - 7ms/step\n",
      "Epoch 79/200\n",
      "24/24 - 0s - loss: 0.6030 - accuracy: 0.6667 - 189ms/epoch - 8ms/step\n",
      "Epoch 80/200\n",
      "24/24 - 0s - loss: 0.6024 - accuracy: 0.6667 - 173ms/epoch - 7ms/step\n",
      "Epoch 81/200\n",
      "24/24 - 0s - loss: 0.6019 - accuracy: 0.6667 - 141ms/epoch - 6ms/step\n",
      "Epoch 82/200\n",
      "24/24 - 0s - loss: 0.6013 - accuracy: 0.6680 - 172ms/epoch - 7ms/step\n",
      "Epoch 83/200\n",
      "24/24 - 0s - loss: 0.6008 - accuracy: 0.6667 - 157ms/epoch - 7ms/step\n",
      "Epoch 84/200\n",
      "24/24 - 0s - loss: 0.6004 - accuracy: 0.6707 - 156ms/epoch - 7ms/step\n",
      "Epoch 85/200\n",
      "24/24 - 0s - loss: 0.5997 - accuracy: 0.6680 - 145ms/epoch - 6ms/step\n",
      "Epoch 86/200\n",
      "24/24 - 0s - loss: 0.5993 - accuracy: 0.6707 - 160ms/epoch - 7ms/step\n",
      "Epoch 87/200\n",
      "24/24 - 0s - loss: 0.5989 - accuracy: 0.6733 - 201ms/epoch - 8ms/step\n",
      "Epoch 88/200\n",
      "24/24 - 0s - loss: 0.5982 - accuracy: 0.6707 - 219ms/epoch - 9ms/step\n",
      "Epoch 89/200\n",
      "24/24 - 0s - loss: 0.5977 - accuracy: 0.6680 - 198ms/epoch - 8ms/step\n",
      "Epoch 90/200\n",
      "24/24 - 0s - loss: 0.5972 - accuracy: 0.6693 - 189ms/epoch - 8ms/step\n",
      "Epoch 91/200\n",
      "24/24 - 0s - loss: 0.5967 - accuracy: 0.6720 - 203ms/epoch - 8ms/step\n",
      "Epoch 92/200\n",
      "24/24 - 0s - loss: 0.5964 - accuracy: 0.6733 - 203ms/epoch - 8ms/step\n",
      "Epoch 93/200\n",
      "24/24 - 0s - loss: 0.5957 - accuracy: 0.6773 - 187ms/epoch - 8ms/step\n",
      "Epoch 94/200\n",
      "24/24 - 0s - loss: 0.5953 - accuracy: 0.6760 - 188ms/epoch - 8ms/step\n",
      "Epoch 95/200\n",
      "24/24 - 0s - loss: 0.5949 - accuracy: 0.6733 - 203ms/epoch - 8ms/step\n",
      "Epoch 96/200\n",
      "24/24 - 0s - loss: 0.5942 - accuracy: 0.6733 - 203ms/epoch - 8ms/step\n",
      "Epoch 97/200\n",
      "24/24 - 0s - loss: 0.5939 - accuracy: 0.6733 - 188ms/epoch - 8ms/step\n",
      "Epoch 98/200\n",
      "24/24 - 0s - loss: 0.5935 - accuracy: 0.6773 - 172ms/epoch - 7ms/step\n",
      "Epoch 99/200\n",
      "24/24 - 0s - loss: 0.5931 - accuracy: 0.6747 - 172ms/epoch - 7ms/step\n",
      "Epoch 100/200\n",
      "24/24 - 0s - loss: 0.5926 - accuracy: 0.6733 - 172ms/epoch - 7ms/step\n",
      "Epoch 101/200\n",
      "24/24 - 0s - loss: 0.5921 - accuracy: 0.6760 - 173ms/epoch - 7ms/step\n",
      "Epoch 102/200\n",
      "24/24 - 0s - loss: 0.5917 - accuracy: 0.6733 - 156ms/epoch - 7ms/step\n",
      "Epoch 103/200\n",
      "24/24 - 0s - loss: 0.5913 - accuracy: 0.6733 - 172ms/epoch - 7ms/step\n",
      "Epoch 104/200\n",
      "24/24 - 0s - loss: 0.5909 - accuracy: 0.6760 - 172ms/epoch - 7ms/step\n",
      "Epoch 105/200\n",
      "24/24 - 0s - loss: 0.5905 - accuracy: 0.6773 - 172ms/epoch - 7ms/step\n",
      "Epoch 106/200\n",
      "24/24 - 0s - loss: 0.5901 - accuracy: 0.6747 - 172ms/epoch - 7ms/step\n",
      "Epoch 107/200\n",
      "24/24 - 0s - loss: 0.5896 - accuracy: 0.6773 - 172ms/epoch - 7ms/step\n",
      "Epoch 108/200\n",
      "24/24 - 0s - loss: 0.5892 - accuracy: 0.6760 - 172ms/epoch - 7ms/step\n",
      "Epoch 109/200\n",
      "24/24 - 0s - loss: 0.5888 - accuracy: 0.6773 - 156ms/epoch - 7ms/step\n",
      "Epoch 110/200\n",
      "24/24 - 0s - loss: 0.5884 - accuracy: 0.6773 - 156ms/epoch - 7ms/step\n",
      "Epoch 111/200\n",
      "24/24 - 0s - loss: 0.5881 - accuracy: 0.6773 - 156ms/epoch - 7ms/step\n",
      "Epoch 112/200\n",
      "24/24 - 0s - loss: 0.5876 - accuracy: 0.6747 - 188ms/epoch - 8ms/step\n",
      "Epoch 113/200\n",
      "24/24 - 0s - loss: 0.5874 - accuracy: 0.6747 - 173ms/epoch - 7ms/step\n",
      "Epoch 114/200\n",
      "24/24 - 0s - loss: 0.5869 - accuracy: 0.6760 - 157ms/epoch - 7ms/step\n",
      "Epoch 115/200\n",
      "24/24 - 0s - loss: 0.5866 - accuracy: 0.6787 - 156ms/epoch - 7ms/step\n",
      "Epoch 116/200\n",
      "24/24 - 0s - loss: 0.5865 - accuracy: 0.6800 - 172ms/epoch - 7ms/step\n",
      "Epoch 117/200\n",
      "24/24 - 0s - loss: 0.5858 - accuracy: 0.6813 - 172ms/epoch - 7ms/step\n",
      "Epoch 118/200\n",
      "24/24 - 0s - loss: 0.5855 - accuracy: 0.6787 - 172ms/epoch - 7ms/step\n",
      "Epoch 119/200\n",
      "24/24 - 0s - loss: 0.5850 - accuracy: 0.6787 - 172ms/epoch - 7ms/step\n",
      "Epoch 120/200\n",
      "24/24 - 0s - loss: 0.5846 - accuracy: 0.6787 - 173ms/epoch - 7ms/step\n",
      "Epoch 121/200\n",
      "24/24 - 0s - loss: 0.5843 - accuracy: 0.6787 - 172ms/epoch - 7ms/step\n",
      "Epoch 122/200\n",
      "24/24 - 0s - loss: 0.5839 - accuracy: 0.6787 - 172ms/epoch - 7ms/step\n",
      "Epoch 123/200\n",
      "24/24 - 0s - loss: 0.5836 - accuracy: 0.6800 - 172ms/epoch - 7ms/step\n",
      "Epoch 124/200\n",
      "24/24 - 0s - loss: 0.5834 - accuracy: 0.6800 - 172ms/epoch - 7ms/step\n",
      "Epoch 125/200\n",
      "24/24 - 0s - loss: 0.5830 - accuracy: 0.6813 - 172ms/epoch - 7ms/step\n",
      "Epoch 126/200\n",
      "24/24 - 0s - loss: 0.5825 - accuracy: 0.6813 - 156ms/epoch - 7ms/step\n",
      "Epoch 127/200\n",
      "24/24 - 0s - loss: 0.5822 - accuracy: 0.6773 - 156ms/epoch - 7ms/step\n",
      "Epoch 128/200\n",
      "24/24 - 0s - loss: 0.5818 - accuracy: 0.6853 - 172ms/epoch - 7ms/step\n",
      "Epoch 129/200\n",
      "24/24 - 0s - loss: 0.5816 - accuracy: 0.6813 - 156ms/epoch - 7ms/step\n",
      "Epoch 130/200\n",
      "24/24 - 0s - loss: 0.5812 - accuracy: 0.6827 - 156ms/epoch - 7ms/step\n",
      "Epoch 131/200\n",
      "24/24 - 0s - loss: 0.5808 - accuracy: 0.6853 - 172ms/epoch - 7ms/step\n",
      "Epoch 132/200\n",
      "24/24 - 0s - loss: 0.5806 - accuracy: 0.6840 - 156ms/epoch - 7ms/step\n",
      "Epoch 133/200\n",
      "24/24 - 0s - loss: 0.5801 - accuracy: 0.6827 - 172ms/epoch - 7ms/step\n",
      "Epoch 134/200\n",
      "24/24 - 0s - loss: 0.5799 - accuracy: 0.6880 - 172ms/epoch - 7ms/step\n",
      "Epoch 135/200\n",
      "24/24 - 0s - loss: 0.5796 - accuracy: 0.6853 - 172ms/epoch - 7ms/step\n",
      "Epoch 136/200\n",
      "24/24 - 0s - loss: 0.5793 - accuracy: 0.6880 - 172ms/epoch - 7ms/step\n",
      "Epoch 137/200\n",
      "24/24 - 0s - loss: 0.5789 - accuracy: 0.6893 - 172ms/epoch - 7ms/step\n",
      "Epoch 138/200\n",
      "24/24 - 0s - loss: 0.5786 - accuracy: 0.6893 - 172ms/epoch - 7ms/step\n",
      "Epoch 139/200\n",
      "24/24 - 0s - loss: 0.5783 - accuracy: 0.6907 - 156ms/epoch - 7ms/step\n",
      "Epoch 140/200\n",
      "24/24 - 0s - loss: 0.5780 - accuracy: 0.6907 - 184ms/epoch - 8ms/step\n",
      "Epoch 141/200\n",
      "24/24 - 0s - loss: 0.5778 - accuracy: 0.6853 - 141ms/epoch - 6ms/step\n",
      "Epoch 142/200\n",
      "24/24 - 0s - loss: 0.5774 - accuracy: 0.6867 - 157ms/epoch - 7ms/step\n",
      "Epoch 143/200\n",
      "24/24 - 0s - loss: 0.5772 - accuracy: 0.6933 - 188ms/epoch - 8ms/step\n",
      "Epoch 144/200\n",
      "24/24 - 0s - loss: 0.5768 - accuracy: 0.6947 - 172ms/epoch - 7ms/step\n",
      "Epoch 145/200\n",
      "24/24 - 0s - loss: 0.5765 - accuracy: 0.6867 - 187ms/epoch - 8ms/step\n",
      "Epoch 146/200\n",
      "24/24 - 0s - loss: 0.5762 - accuracy: 0.6907 - 187ms/epoch - 8ms/step\n",
      "Epoch 147/200\n",
      "24/24 - 0s - loss: 0.5760 - accuracy: 0.6907 - 156ms/epoch - 7ms/step\n",
      "Epoch 148/200\n",
      "24/24 - 0s - loss: 0.5757 - accuracy: 0.6920 - 156ms/epoch - 7ms/step\n",
      "Epoch 149/200\n",
      "24/24 - 0s - loss: 0.5754 - accuracy: 0.6933 - 172ms/epoch - 7ms/step\n",
      "Epoch 150/200\n",
      "24/24 - 0s - loss: 0.5751 - accuracy: 0.6920 - 156ms/epoch - 7ms/step\n",
      "Epoch 151/200\n",
      "24/24 - 0s - loss: 0.5749 - accuracy: 0.6920 - 177ms/epoch - 7ms/step\n",
      "Epoch 152/200\n",
      "24/24 - 0s - loss: 0.5744 - accuracy: 0.6933 - 150ms/epoch - 6ms/step\n",
      "Epoch 153/200\n",
      "24/24 - 0s - loss: 0.5743 - accuracy: 0.6933 - 156ms/epoch - 7ms/step\n",
      "Epoch 154/200\n",
      "24/24 - 0s - loss: 0.5741 - accuracy: 0.6907 - 172ms/epoch - 7ms/step\n",
      "Epoch 155/200\n",
      "24/24 - 0s - loss: 0.5737 - accuracy: 0.6947 - 172ms/epoch - 7ms/step\n",
      "Epoch 156/200\n",
      "24/24 - 0s - loss: 0.5735 - accuracy: 0.6933 - 156ms/epoch - 7ms/step\n",
      "Epoch 157/200\n",
      "24/24 - 0s - loss: 0.5731 - accuracy: 0.6960 - 156ms/epoch - 7ms/step\n",
      "Epoch 158/200\n",
      "24/24 - 0s - loss: 0.5730 - accuracy: 0.6933 - 156ms/epoch - 7ms/step\n",
      "Epoch 159/200\n",
      "24/24 - 0s - loss: 0.5726 - accuracy: 0.6960 - 156ms/epoch - 7ms/step\n",
      "Epoch 160/200\n",
      "24/24 - 0s - loss: 0.5724 - accuracy: 0.6947 - 141ms/epoch - 6ms/step\n",
      "Epoch 161/200\n",
      "24/24 - 0s - loss: 0.5721 - accuracy: 0.6947 - 141ms/epoch - 6ms/step\n",
      "Epoch 162/200\n",
      "24/24 - 0s - loss: 0.5718 - accuracy: 0.6947 - 141ms/epoch - 6ms/step\n",
      "Epoch 163/200\n",
      "24/24 - 0s - loss: 0.5716 - accuracy: 0.6947 - 141ms/epoch - 6ms/step\n",
      "Epoch 164/200\n",
      "24/24 - 0s - loss: 0.5713 - accuracy: 0.6987 - 141ms/epoch - 6ms/step\n",
      "Epoch 165/200\n",
      "24/24 - 0s - loss: 0.5711 - accuracy: 0.6960 - 141ms/epoch - 6ms/step\n",
      "Epoch 166/200\n",
      "24/24 - 0s - loss: 0.5708 - accuracy: 0.6987 - 141ms/epoch - 6ms/step\n",
      "Epoch 167/200\n",
      "24/24 - 0s - loss: 0.5705 - accuracy: 0.6973 - 141ms/epoch - 6ms/step\n",
      "Epoch 168/200\n",
      "24/24 - 0s - loss: 0.5703 - accuracy: 0.7000 - 158ms/epoch - 7ms/step\n",
      "Epoch 169/200\n",
      "24/24 - 0s - loss: 0.5700 - accuracy: 0.6973 - 156ms/epoch - 7ms/step\n",
      "Epoch 170/200\n",
      "24/24 - 0s - loss: 0.5699 - accuracy: 0.7013 - 156ms/epoch - 7ms/step\n",
      "Epoch 171/200\n",
      "24/24 - 0s - loss: 0.5696 - accuracy: 0.7000 - 175ms/epoch - 7ms/step\n",
      "Epoch 172/200\n",
      "24/24 - 0s - loss: 0.5694 - accuracy: 0.7000 - 170ms/epoch - 7ms/step\n",
      "Epoch 173/200\n",
      "24/24 - 0s - loss: 0.5691 - accuracy: 0.7013 - 161ms/epoch - 7ms/step\n",
      "Epoch 174/200\n",
      "24/24 - 0s - loss: 0.5691 - accuracy: 0.7027 - 141ms/epoch - 6ms/step\n",
      "Epoch 175/200\n",
      "24/24 - 0s - loss: 0.5686 - accuracy: 0.7053 - 141ms/epoch - 6ms/step\n",
      "Epoch 176/200\n",
      "24/24 - 0s - loss: 0.5683 - accuracy: 0.7013 - 141ms/epoch - 6ms/step\n",
      "Epoch 177/200\n",
      "24/24 - 0s - loss: 0.5681 - accuracy: 0.6987 - 143ms/epoch - 6ms/step\n",
      "Epoch 178/200\n",
      "24/24 - 0s - loss: 0.5679 - accuracy: 0.7013 - 131ms/epoch - 5ms/step\n",
      "Epoch 179/200\n",
      "24/24 - 0s - loss: 0.5676 - accuracy: 0.7053 - 140ms/epoch - 6ms/step\n",
      "Epoch 180/200\n",
      "24/24 - 0s - loss: 0.5675 - accuracy: 0.7013 - 140ms/epoch - 6ms/step\n",
      "Epoch 181/200\n",
      "24/24 - 0s - loss: 0.5671 - accuracy: 0.7080 - 140ms/epoch - 6ms/step\n",
      "Epoch 182/200\n",
      "24/24 - 0s - loss: 0.5668 - accuracy: 0.7053 - 141ms/epoch - 6ms/step\n",
      "Epoch 183/200\n",
      "24/24 - 0s - loss: 0.5668 - accuracy: 0.7027 - 140ms/epoch - 6ms/step\n",
      "Epoch 184/200\n",
      "24/24 - 0s - loss: 0.5665 - accuracy: 0.7027 - 150ms/epoch - 6ms/step\n",
      "Epoch 185/200\n",
      "24/24 - 0s - loss: 0.5662 - accuracy: 0.7040 - 120ms/epoch - 5ms/step\n",
      "Epoch 186/200\n",
      "24/24 - 0s - loss: 0.5660 - accuracy: 0.7040 - 160ms/epoch - 7ms/step\n",
      "Epoch 187/200\n",
      "24/24 - 0s - loss: 0.5658 - accuracy: 0.7080 - 131ms/epoch - 5ms/step\n",
      "Epoch 188/200\n",
      "24/24 - 0s - loss: 0.5655 - accuracy: 0.7080 - 150ms/epoch - 6ms/step\n",
      "Epoch 189/200\n",
      "24/24 - 0s - loss: 0.5653 - accuracy: 0.7093 - 172ms/epoch - 7ms/step\n",
      "Epoch 190/200\n",
      "24/24 - 0s - loss: 0.5651 - accuracy: 0.7080 - 156ms/epoch - 7ms/step\n",
      "Epoch 191/200\n",
      "24/24 - 0s - loss: 0.5649 - accuracy: 0.7093 - 173ms/epoch - 7ms/step\n",
      "Epoch 192/200\n",
      "24/24 - 0s - loss: 0.5648 - accuracy: 0.7093 - 156ms/epoch - 7ms/step\n",
      "Epoch 193/200\n",
      "24/24 - 0s - loss: 0.5645 - accuracy: 0.7107 - 172ms/epoch - 7ms/step\n",
      "Epoch 194/200\n",
      "24/24 - 0s - loss: 0.5642 - accuracy: 0.7107 - 187ms/epoch - 8ms/step\n",
      "Epoch 195/200\n",
      "24/24 - 0s - loss: 0.5640 - accuracy: 0.7080 - 172ms/epoch - 7ms/step\n",
      "Epoch 196/200\n",
      "24/24 - 0s - loss: 0.5638 - accuracy: 0.7080 - 172ms/epoch - 7ms/step\n",
      "Epoch 197/200\n",
      "24/24 - 0s - loss: 0.5638 - accuracy: 0.7080 - 172ms/epoch - 7ms/step\n",
      "Epoch 198/200\n",
      "24/24 - 0s - loss: 0.5634 - accuracy: 0.7080 - 156ms/epoch - 7ms/step\n",
      "Epoch 199/200\n",
      "24/24 - 0s - loss: 0.5631 - accuracy: 0.7093 - 172ms/epoch - 7ms/step\n",
      "Epoch 200/200\n",
      "24/24 - 0s - loss: 0.5629 - accuracy: 0.7093 - 156ms/epoch - 7ms/step\n"
     ]
    }
   ],
   "source": [
    "hist = model.fit(x=X_train, y=y_train, verbose=2, batch_size=32,epochs=200, shuffle='true')"
   ]
  },
  {
   "cell_type": "code",
   "execution_count": 35,
   "id": "f6d8a567-767b-4d9f-900c-d0bd57627fa1",
   "metadata": {
    "tags": []
   },
   "outputs": [
    {
     "name": "stdout",
     "output_type": "stream",
     "text": [
      "Model: \"sequential_1\"\n",
      "_________________________________________________________________\n",
      " Layer (type)                Output Shape              Param #   \n",
      "=================================================================\n",
      " dense_3 (Dense)             (None, 1)                 100001    \n",
      "                                                                 \n",
      "=================================================================\n",
      "Total params: 100001 (390.63 KB)\n",
      "Trainable params: 100001 (390.63 KB)\n",
      "Non-trainable params: 0 (0.00 Byte)\n",
      "_________________________________________________________________\n"
     ]
    }
   ],
   "source": [
    "# resumen del model\n",
    "model.summary()"
   ]
  },
  {
   "cell_type": "code",
   "execution_count": 37,
   "id": "f4e121e1-917d-43df-9701-62dc488f7f32",
   "metadata": {
    "tags": []
   },
   "outputs": [
    {
     "data": {
      "text/plain": [
       "Text(0.5, 0, 'Epoca')"
      ]
     },
     "execution_count": 37,
     "metadata": {},
     "output_type": "execute_result"
    },
    {
     "data": {
      "image/png": "[encoded data removed]",
      "text/plain": [
       "<Figure size 640x480 with 1 Axes>"
      ]
     },
     "metadata": {},
     "output_type": "display_data"
    }
   ],
   "source": [
    "# Exactitud del modelo\n",
    "plt.plot(hist.history['accuracy']) \n",
    "plt.legend(['Exactitud'])\n",
    "plt.ylabel('Exactitud')\n",
    "plt.xlabel('Epoca')"
   ]
  },
  {
   "cell_type": "code",
   "execution_count": 39,
   "id": "8f6b0977-99fd-49b3-a82e-8d86a151473f",
   "metadata": {
    "tags": []
   },
   "outputs": [
    {
     "data": {
      "text/plain": [
       "Text(0.5, 0, 'Epoca')"
      ]
     },
     "execution_count": 39,
     "metadata": {},
     "output_type": "execute_result"
    },
    {
     "data": {
      "image/png": "[encoded data removed]",
      "text/plain": [
       "<Figure size 640x480 with 1 Axes>"
      ]
     },
     "metadata": {},
     "output_type": "display_data"
    }
   ],
   "source": [
    "# Función de pérdida\n",
    "plt.plot(hist.history['loss'])\n",
    "plt.legend(['Error'])\n",
    "plt.title('Error')\n",
    "plt.xlabel('Epoca')"
   ]
  },
  {
   "cell_type": "code",
   "execution_count": null,
   "id": "796fbad1-9f62-4f79-8e68-882c590ffddb",
   "metadata": {},
   "outputs": [],
   "source": []
  }
 ],
 "metadata": {
  "kernelspec": {
   "display_name": "Python 3 (ipykernel)",
   "language": "python",
   "name": "python3"
  },
  "language_info": {
   "codemirror_mode": {
    "name": "ipython",
    "version": 3
   },
   "file_extension": ".py",
   "mimetype": "text/x-python",
   "name": "python",
   "nbconvert_exporter": "python",
   "pygments_lexer": "ipython3",
   "version": "3.11.7"
  }
 },
 "nbformat": 4,
 "nbformat_minor": 5
}
