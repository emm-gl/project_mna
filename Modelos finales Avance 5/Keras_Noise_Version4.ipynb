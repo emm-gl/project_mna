{
 "cells": [
  {
   "cell_type": "code",
   "execution_count": 1,
   "id": "871b942b-aecd-4cac-8d77-8872125822a1",
   "metadata": {
    "tags": []
   },
   "outputs": [
    {
     "name": "stderr",
     "output_type": "stream",
     "text": [
      "2024-05-31 21:08:14.153065: I tensorflow/core/platform/cpu_feature_guard.cc:210] This TensorFlow binary is optimized to use available CPU instructions in performance-critical operations.\n",
      "To enable the following instructions: AVX2 FMA, in other operations, rebuild TensorFlow with the appropriate compiler flags.\n"
     ]
    }
   ],
   "source": [
    "import numpy as np\n",
    "import os\n",
    "import matplotlib.pyplot as plt\n",
    "import keras\n",
    "from keras.datasets import cifar10\n",
    "from keras.models import Sequential\n",
    "from keras.layers import Dense\n",
    "from keras.optimizers import Adam\n",
    "import tensorflow as tf\n",
    "from tensorflow.keras.utils import to_categorical\n",
    "\n",
    "import random\n",
    "     \n",
    "from keras.layers import Dropout\n",
    "from keras.layers import Flatten\n",
    "\n",
    "from tensorflow.keras.layers import Conv2D\n",
    "\n",
    "from tensorflow.keras.layers import MaxPooling2D\n",
    "     \n",
    "from keras.models import Model\n",
    "\n",
    "import matplotlib.image as mpimg\n",
    "import seaborn as sns\n",
    "import cv2\n",
    "\n",
    "import glob\n",
    "\n",
    "from sklearn.model_selection import train_test_split\n",
    "from sklearn.preprocessing import LabelEncoder\n",
    "from sklearn.metrics import classification_report,confusion_matrix\n",
    "from sklearn.metrics import roc_curve, roc_auc_score, precision_recall_curve, average_precision_score"
   ]
  },
  {
   "cell_type": "code",
   "execution_count": 2,
   "id": "500acdf7-b742-4d24-8193-f335e48c5767",
   "metadata": {
    "tags": []
   },
   "outputs": [],
   "source": [
    "file_path = 'Desktop/proyecto integrador/*'"
   ]
  },
  {
   "cell_type": "code",
   "execution_count": 3,
   "id": "1d23bd78-d49d-4d26-9ba5-2fde46a23f29",
   "metadata": {
    "tags": []
   },
   "outputs": [],
   "source": [
    "#Data acquisition\n",
    "noise = glob.glob(\"train/OK_500/*.png\")\n",
    "\n",
    "nonoise = glob.glob(\"train/NOK_500/*.png\")"
   ]
  },
  {
   "cell_type": "code",
   "execution_count": 4,
   "id": "ec79fbc9-4488-4463-a14b-81e6658ba2d2",
   "metadata": {
    "tags": []
   },
   "outputs": [
    {
     "data": {
      "text/plain": [
       "500"
      ]
     },
     "execution_count": 4,
     "metadata": {},
     "output_type": "execute_result"
    }
   ],
   "source": [
    "len(noise)"
   ]
  },
  {
   "cell_type": "code",
   "execution_count": 5,
   "id": "86de597a-3f6f-4191-a7e7-59637293cc94",
   "metadata": {
    "tags": []
   },
   "outputs": [
    {
     "data": {
      "text/plain": [
       "500"
      ]
     },
     "execution_count": 5,
     "metadata": {},
     "output_type": "execute_result"
    }
   ],
   "source": [
    "len(nonoise)"
   ]
  },
  {
   "cell_type": "code",
   "execution_count": 6,
   "id": "4b8d8b2b-b737-4be8-96a9-96e3eccaae48",
   "metadata": {
    "tags": []
   },
   "outputs": [],
   "source": [
    "noise_Formated = []\n",
    "nonoise_Formated = []\n",
    "\n",
    "width = 400 \n",
    "height = 250\n",
    "dim = (width, height)\n",
    "\n",
    "for i in noise:\n",
    "    img_gray = mpimg.imread(i)\n",
    "    #resize image\n",
    "    img_resized = cv2.resize(img_gray, dim, interpolation = cv2.INTER_AREA)\n",
    "    \n",
    "    #add the new image to a new array\n",
    "    noise_Formated.append(img_resized)\n",
    "\n",
    "for i in nonoise:\n",
    "    img_gray = mpimg.imread(i)\n",
    "    #resize image\n",
    "    img_resized = cv2.resize(img_gray, dim, interpolation = cv2.INTER_AREA)\n",
    "    \n",
    "    #add the new image to a new array\n",
    "    nonoise_Formated.append(img_resized)"
   ]
  },
  {
   "cell_type": "code",
   "execution_count": 7,
   "id": "641b077c-7385-4fe0-bbb6-e42c6d411481",
   "metadata": {
    "tags": []
   },
   "outputs": [],
   "source": [
    "y_noise = np.ones(len(noise_Formated))\n",
    "y_nonoise = np.zeros(len(nonoise_Formated))"
   ]
  },
  {
   "cell_type": "code",
   "execution_count": 8,
   "id": "2a8f73ab-5660-4972-8d62-2eedb5a6315f",
   "metadata": {
    "tags": []
   },
   "outputs": [
    {
     "data": {
      "text/plain": [
       "(1000, 250, 400)"
      ]
     },
     "execution_count": 8,
     "metadata": {},
     "output_type": "execute_result"
    }
   ],
   "source": [
    "X = np.vstack((noise_Formated,nonoise_Formated))\n",
    "X.shape"
   ]
  },
  {
   "cell_type": "code",
   "execution_count": 9,
   "id": "e2a84da4-86ce-43cc-bf74-419e7f5aa8b2",
   "metadata": {
    "tags": []
   },
   "outputs": [
    {
     "data": {
      "text/plain": [
       "(1000,)"
      ]
     },
     "execution_count": 9,
     "metadata": {},
     "output_type": "execute_result"
    }
   ],
   "source": [
    "y = np.hstack((y_noise,y_nonoise))\n",
    "y.shape"
   ]
  },
  {
   "cell_type": "code",
   "execution_count": 10,
   "id": "065a9b81-7481-4c9b-a846-27db90d93ba1",
   "metadata": {
    "tags": []
   },
   "outputs": [],
   "source": [
    "X=X/255"
   ]
  },
  {
   "cell_type": "code",
   "execution_count": 11,
   "id": "c8e07c6f-9d2c-46f5-b0ad-9dc1a8cc9a58",
   "metadata": {
    "tags": []
   },
   "outputs": [
    {
     "name": "stdout",
     "output_type": "stream",
     "text": [
      "(1000, 100000)\n"
     ]
    }
   ],
   "source": [
    "# 400 x 250 = 100,000\n",
    "num_pixels = 100000\n",
    "X = X.reshape(X.shape[0], num_pixels)\n",
    "print(X.shape)"
   ]
  },
  {
   "cell_type": "code",
   "execution_count": 12,
   "id": "53295b89-6892-4583-ad62-92db4ce3a57a",
   "metadata": {
    "tags": []
   },
   "outputs": [
    {
     "name": "stderr",
     "output_type": "stream",
     "text": [
      "/Library/Frameworks/Python.framework/Versions/3.10/lib/python3.10/site-packages/keras/src/layers/core/dense.py:87: UserWarning: Do not pass an `input_shape`/`input_dim` argument to a layer. When using Sequential models, prefer using an `Input(shape)` object as the first layer in the model instead.\n",
      "  super().__init__(activity_regularizer=activity_regularizer, **kwargs)\n"
     ]
    },
    {
     "data": {
      "text/html": [
       "<pre style=\"white-space:pre;overflow-x:auto;line-height:normal;font-family:Menlo,'DejaVu Sans Mono',consolas,'Courier New',monospace\"><span style=\"font-weight: bold\">Model: \"sequential\"</span>\n",
       "</pre>\n"
      ],
      "text/plain": [
       "\u001b[1mModel: \"sequential\"\u001b[0m\n"
      ]
     },
     "metadata": {},
     "output_type": "display_data"
    },
    {
     "data": {
      "text/html": [
       "<pre style=\"white-space:pre;overflow-x:auto;line-height:normal;font-family:Menlo,'DejaVu Sans Mono',consolas,'Courier New',monospace\">┏━━━━━━━━━━━━━━━━━━━━━━━━━━━━━━━━━┳━━━━━━━━━━━━━━━━━━━━━━━━┳━━━━━━━━━━━━━━━┓\n",
       "┃<span style=\"font-weight: bold\"> Layer (type)                    </span>┃<span style=\"font-weight: bold\"> Output Shape           </span>┃<span style=\"font-weight: bold\">       Param # </span>┃\n",
       "┡━━━━━━━━━━━━━━━━━━━━━━━━━━━━━━━━━╇━━━━━━━━━━━━━━━━━━━━━━━━╇━━━━━━━━━━━━━━━┩\n",
       "│ dense (<span style=\"color: #0087ff; text-decoration-color: #0087ff\">Dense</span>)                   │ (<span style=\"color: #00d7ff; text-decoration-color: #00d7ff\">None</span>, <span style=\"color: #00af00; text-decoration-color: #00af00\">50</span>)             │     <span style=\"color: #00af00; text-decoration-color: #00af00\">5,000,050</span> │\n",
       "├─────────────────────────────────┼────────────────────────┼───────────────┤\n",
       "│ dropout (<span style=\"color: #0087ff; text-decoration-color: #0087ff\">Dropout</span>)               │ (<span style=\"color: #00d7ff; text-decoration-color: #00d7ff\">None</span>, <span style=\"color: #00af00; text-decoration-color: #00af00\">50</span>)             │             <span style=\"color: #00af00; text-decoration-color: #00af00\">0</span> │\n",
       "├─────────────────────────────────┼────────────────────────┼───────────────┤\n",
       "│ dense_1 (<span style=\"color: #0087ff; text-decoration-color: #0087ff\">Dense</span>)                 │ (<span style=\"color: #00d7ff; text-decoration-color: #00d7ff\">None</span>, <span style=\"color: #00af00; text-decoration-color: #00af00\">25</span>)             │         <span style=\"color: #00af00; text-decoration-color: #00af00\">1,275</span> │\n",
       "├─────────────────────────────────┼────────────────────────┼───────────────┤\n",
       "│ dropout_1 (<span style=\"color: #0087ff; text-decoration-color: #0087ff\">Dropout</span>)             │ (<span style=\"color: #00d7ff; text-decoration-color: #00d7ff\">None</span>, <span style=\"color: #00af00; text-decoration-color: #00af00\">25</span>)             │             <span style=\"color: #00af00; text-decoration-color: #00af00\">0</span> │\n",
       "├─────────────────────────────────┼────────────────────────┼───────────────┤\n",
       "│ dense_2 (<span style=\"color: #0087ff; text-decoration-color: #0087ff\">Dense</span>)                 │ (<span style=\"color: #00d7ff; text-decoration-color: #00d7ff\">None</span>, <span style=\"color: #00af00; text-decoration-color: #00af00\">12</span>)             │           <span style=\"color: #00af00; text-decoration-color: #00af00\">312</span> │\n",
       "├─────────────────────────────────┼────────────────────────┼───────────────┤\n",
       "│ dropout_2 (<span style=\"color: #0087ff; text-decoration-color: #0087ff\">Dropout</span>)             │ (<span style=\"color: #00d7ff; text-decoration-color: #00d7ff\">None</span>, <span style=\"color: #00af00; text-decoration-color: #00af00\">12</span>)             │             <span style=\"color: #00af00; text-decoration-color: #00af00\">0</span> │\n",
       "├─────────────────────────────────┼────────────────────────┼───────────────┤\n",
       "│ dense_3 (<span style=\"color: #0087ff; text-decoration-color: #0087ff\">Dense</span>)                 │ (<span style=\"color: #00d7ff; text-decoration-color: #00d7ff\">None</span>, <span style=\"color: #00af00; text-decoration-color: #00af00\">1</span>)              │            <span style=\"color: #00af00; text-decoration-color: #00af00\">13</span> │\n",
       "└─────────────────────────────────┴────────────────────────┴───────────────┘\n",
       "</pre>\n"
      ],
      "text/plain": [
       "┏━━━━━━━━━━━━━━━━━━━━━━━━━━━━━━━━━┳━━━━━━━━━━━━━━━━━━━━━━━━┳━━━━━━━━━━━━━━━┓\n",
       "┃\u001b[1m \u001b[0m\u001b[1mLayer (type)                   \u001b[0m\u001b[1m \u001b[0m┃\u001b[1m \u001b[0m\u001b[1mOutput Shape          \u001b[0m\u001b[1m \u001b[0m┃\u001b[1m \u001b[0m\u001b[1m      Param #\u001b[0m\u001b[1m \u001b[0m┃\n",
       "┡━━━━━━━━━━━━━━━━━━━━━━━━━━━━━━━━━╇━━━━━━━━━━━━━━━━━━━━━━━━╇━━━━━━━━━━━━━━━┩\n",
       "│ dense (\u001b[38;5;33mDense\u001b[0m)                   │ (\u001b[38;5;45mNone\u001b[0m, \u001b[38;5;34m50\u001b[0m)             │     \u001b[38;5;34m5,000,050\u001b[0m │\n",
       "├─────────────────────────────────┼────────────────────────┼───────────────┤\n",
       "│ dropout (\u001b[38;5;33mDropout\u001b[0m)               │ (\u001b[38;5;45mNone\u001b[0m, \u001b[38;5;34m50\u001b[0m)             │             \u001b[38;5;34m0\u001b[0m │\n",
       "├─────────────────────────────────┼────────────────────────┼───────────────┤\n",
       "│ dense_1 (\u001b[38;5;33mDense\u001b[0m)                 │ (\u001b[38;5;45mNone\u001b[0m, \u001b[38;5;34m25\u001b[0m)             │         \u001b[38;5;34m1,275\u001b[0m │\n",
       "├─────────────────────────────────┼────────────────────────┼───────────────┤\n",
       "│ dropout_1 (\u001b[38;5;33mDropout\u001b[0m)             │ (\u001b[38;5;45mNone\u001b[0m, \u001b[38;5;34m25\u001b[0m)             │             \u001b[38;5;34m0\u001b[0m │\n",
       "├─────────────────────────────────┼────────────────────────┼───────────────┤\n",
       "│ dense_2 (\u001b[38;5;33mDense\u001b[0m)                 │ (\u001b[38;5;45mNone\u001b[0m, \u001b[38;5;34m12\u001b[0m)             │           \u001b[38;5;34m312\u001b[0m │\n",
       "├─────────────────────────────────┼────────────────────────┼───────────────┤\n",
       "│ dropout_2 (\u001b[38;5;33mDropout\u001b[0m)             │ (\u001b[38;5;45mNone\u001b[0m, \u001b[38;5;34m12\u001b[0m)             │             \u001b[38;5;34m0\u001b[0m │\n",
       "├─────────────────────────────────┼────────────────────────┼───────────────┤\n",
       "│ dense_3 (\u001b[38;5;33mDense\u001b[0m)                 │ (\u001b[38;5;45mNone\u001b[0m, \u001b[38;5;34m1\u001b[0m)              │            \u001b[38;5;34m13\u001b[0m │\n",
       "└─────────────────────────────────┴────────────────────────┴───────────────┘\n"
      ]
     },
     "metadata": {},
     "output_type": "display_data"
    },
    {
     "data": {
      "text/html": [
       "<pre style=\"white-space:pre;overflow-x:auto;line-height:normal;font-family:Menlo,'DejaVu Sans Mono',consolas,'Courier New',monospace\"><span style=\"font-weight: bold\"> Total params: </span><span style=\"color: #00af00; text-decoration-color: #00af00\">5,001,650</span> (19.08 MB)\n",
       "</pre>\n"
      ],
      "text/plain": [
       "\u001b[1m Total params: \u001b[0m\u001b[38;5;34m5,001,650\u001b[0m (19.08 MB)\n"
      ]
     },
     "metadata": {},
     "output_type": "display_data"
    },
    {
     "data": {
      "text/html": [
       "<pre style=\"white-space:pre;overflow-x:auto;line-height:normal;font-family:Menlo,'DejaVu Sans Mono',consolas,'Courier New',monospace\"><span style=\"font-weight: bold\"> Trainable params: </span><span style=\"color: #00af00; text-decoration-color: #00af00\">5,001,650</span> (19.08 MB)\n",
       "</pre>\n"
      ],
      "text/plain": [
       "\u001b[1m Trainable params: \u001b[0m\u001b[38;5;34m5,001,650\u001b[0m (19.08 MB)\n"
      ]
     },
     "metadata": {},
     "output_type": "display_data"
    },
    {
     "data": {
      "text/html": [
       "<pre style=\"white-space:pre;overflow-x:auto;line-height:normal;font-family:Menlo,'DejaVu Sans Mono',consolas,'Courier New',monospace\"><span style=\"font-weight: bold\"> Non-trainable params: </span><span style=\"color: #00af00; text-decoration-color: #00af00\">0</span> (0.00 B)\n",
       "</pre>\n"
      ],
      "text/plain": [
       "\u001b[1m Non-trainable params: \u001b[0m\u001b[38;5;34m0\u001b[0m (0.00 B)\n"
      ]
     },
     "metadata": {},
     "output_type": "display_data"
    },
    {
     "name": "stdout",
     "output_type": "stream",
     "text": [
      "None\n"
     ]
    }
   ],
   "source": [
    "model = Sequential()\n",
    "model.add(Dense(units = 50, input_dim=num_pixels, activation='relu'))\n",
    "model.add(Dropout(0.2))\n",
    "model.add(Dense(units = 25, activation='relu'))\n",
    "model.add(Dropout(0.2))\n",
    "model.add(Dense(units = 12, activation='relu'))\n",
    "model.add(Dropout(0.2))\n",
    "model.add(Dense(units=1, input_dim=100000, activation='sigmoid'))\n",
    "\n",
    "optimizer = tf.keras.optimizers.Adam(learning_rate=0.001)\n",
    "\n",
    "model.compile(optimizer=optimizer, loss='binary_crossentropy', metrics=['accuracy'])\n",
    "print(model.summary())"
   ]
  },
  {
   "cell_type": "code",
   "execution_count": 13,
   "id": "43226466-0af8-4e0d-86da-2afcde1f4175",
   "metadata": {
    "tags": []
   },
   "outputs": [
    {
     "name": "stdout",
     "output_type": "stream",
     "text": [
      "(1000, 100000)\n",
      "(1000,)\n",
      "[0. 1. 1. 1. 0. 1. 0. 0. 1. 1.]\n"
     ]
    }
   ],
   "source": [
    "print(X.shape)\n",
    "print(y.shape)\n",
    "print(np.random.choice(y,10,replace=True))"
   ]
  },
  {
   "cell_type": "code",
   "execution_count": 14,
   "id": "a6f0e3ae-55f7-49b2-8e1f-cf2997ca7654",
   "metadata": {
    "tags": []
   },
   "outputs": [],
   "source": [
    "# 10% para el set de prueba\n",
    "X_tv, X_test, y_tv, y_test = train_test_split(X, y, test_size = 0.1, stratify=y, random_state = 42)"
   ]
  },
  {
   "cell_type": "code",
   "execution_count": 15,
   "id": "98bf409e",
   "metadata": {},
   "outputs": [],
   "source": [
    "# 10% para el set de validacion\n",
    "X_train, X_val, y_train, y_val = train_test_split(X_tv, y_tv, test_size = 0.1, stratify=y_tv, random_state = 42)"
   ]
  },
  {
   "cell_type": "code",
   "execution_count": 16,
   "id": "d00f22f7-9aae-4375-a851-40be848f9e37",
   "metadata": {
    "tags": []
   },
   "outputs": [
    {
     "name": "stdout",
     "output_type": "stream",
     "text": [
      "Epoch 1/100\n",
      "26/26 - 6s - 234ms/step - accuracy: 0.4963 - loss: 0.6808 - val_accuracy: 0.5000 - val_loss: 0.6602\n",
      "Epoch 2/100\n",
      "26/26 - 2s - 76ms/step - accuracy: 0.5877 - loss: 0.6569 - val_accuracy: 0.6222 - val_loss: 0.6360\n",
      "Epoch 3/100\n",
      "26/26 - 2s - 74ms/step - accuracy: 0.6506 - loss: 0.6331 - val_accuracy: 0.6889 - val_loss: 0.6165\n",
      "Epoch 4/100\n",
      "26/26 - 2s - 82ms/step - accuracy: 0.6864 - loss: 0.6083 - val_accuracy: 0.6778 - val_loss: 0.5924\n",
      "Epoch 5/100\n",
      "26/26 - 3s - 100ms/step - accuracy: 0.6852 - loss: 0.5933 - val_accuracy: 0.6889 - val_loss: 0.5687\n",
      "Epoch 6/100\n",
      "26/26 - 3s - 133ms/step - accuracy: 0.6914 - loss: 0.5925 - val_accuracy: 0.6889 - val_loss: 0.5646\n",
      "Epoch 7/100\n",
      "26/26 - 2s - 81ms/step - accuracy: 0.7086 - loss: 0.5754 - val_accuracy: 0.7222 - val_loss: 0.5562\n",
      "Epoch 8/100\n",
      "26/26 - 2s - 82ms/step - accuracy: 0.7099 - loss: 0.5556 - val_accuracy: 0.6889 - val_loss: 0.5799\n",
      "Epoch 9/100\n",
      "26/26 - 2s - 82ms/step - accuracy: 0.7086 - loss: 0.5608 - val_accuracy: 0.6889 - val_loss: 0.5481\n",
      "Epoch 10/100\n",
      "26/26 - 2s - 83ms/step - accuracy: 0.7235 - loss: 0.5448 - val_accuracy: 0.7000 - val_loss: 0.5396\n",
      "Epoch 11/100\n",
      "26/26 - 2s - 72ms/step - accuracy: 0.7309 - loss: 0.5321 - val_accuracy: 0.7000 - val_loss: 0.5322\n",
      "Epoch 12/100\n",
      "26/26 - 2s - 70ms/step - accuracy: 0.7370 - loss: 0.5197 - val_accuracy: 0.7000 - val_loss: 0.5267\n",
      "Epoch 13/100\n",
      "26/26 - 2s - 82ms/step - accuracy: 0.7481 - loss: 0.5116 - val_accuracy: 0.6889 - val_loss: 0.5399\n",
      "Epoch 14/100\n",
      "26/26 - 2s - 88ms/step - accuracy: 0.7457 - loss: 0.5147 - val_accuracy: 0.7333 - val_loss: 0.5198\n",
      "Epoch 15/100\n",
      "26/26 - 2s - 85ms/step - accuracy: 0.7543 - loss: 0.4888 - val_accuracy: 0.7222 - val_loss: 0.5151\n",
      "Epoch 16/100\n",
      "26/26 - 2s - 76ms/step - accuracy: 0.7667 - loss: 0.4760 - val_accuracy: 0.7333 - val_loss: 0.5240\n",
      "Epoch 17/100\n",
      "26/26 - 2s - 84ms/step - accuracy: 0.7741 - loss: 0.4833 - val_accuracy: 0.7778 - val_loss: 0.5028\n",
      "Epoch 18/100\n",
      "26/26 - 2s - 82ms/step - accuracy: 0.7988 - loss: 0.4579 - val_accuracy: 0.7444 - val_loss: 0.5078\n",
      "Epoch 19/100\n",
      "26/26 - 2s - 81ms/step - accuracy: 0.7864 - loss: 0.4308 - val_accuracy: 0.7444 - val_loss: 0.4859\n",
      "Epoch 20/100\n",
      "26/26 - 2s - 74ms/step - accuracy: 0.7938 - loss: 0.4416 - val_accuracy: 0.7889 - val_loss: 0.4859\n",
      "Epoch 21/100\n",
      "26/26 - 2s - 69ms/step - accuracy: 0.8222 - loss: 0.4065 - val_accuracy: 0.7889 - val_loss: 0.4517\n",
      "Epoch 22/100\n",
      "26/26 - 2s - 71ms/step - accuracy: 0.8210 - loss: 0.4070 - val_accuracy: 0.7333 - val_loss: 0.4985\n",
      "Epoch 23/100\n",
      "26/26 - 2s - 69ms/step - accuracy: 0.8222 - loss: 0.3990 - val_accuracy: 0.8111 - val_loss: 0.4538\n",
      "Epoch 24/100\n",
      "26/26 - 2s - 69ms/step - accuracy: 0.8444 - loss: 0.3525 - val_accuracy: 0.7444 - val_loss: 0.4434\n",
      "Epoch 25/100\n",
      "26/26 - 2s - 69ms/step - accuracy: 0.8593 - loss: 0.3478 - val_accuracy: 0.7444 - val_loss: 0.4440\n",
      "Epoch 26/100\n",
      "26/26 - 2s - 72ms/step - accuracy: 0.8877 - loss: 0.3151 - val_accuracy: 0.8222 - val_loss: 0.4636\n",
      "Epoch 27/100\n",
      "26/26 - 3s - 99ms/step - accuracy: 0.9000 - loss: 0.2823 - val_accuracy: 0.7556 - val_loss: 0.4358\n",
      "Epoch 28/100\n",
      "26/26 - 3s - 97ms/step - accuracy: 0.9037 - loss: 0.2683 - val_accuracy: 0.8222 - val_loss: 0.3974\n",
      "Epoch 29/100\n",
      "26/26 - 2s - 70ms/step - accuracy: 0.9086 - loss: 0.2588 - val_accuracy: 0.8444 - val_loss: 0.4407\n",
      "Epoch 30/100\n",
      "26/26 - 2s - 88ms/step - accuracy: 0.8877 - loss: 0.2678 - val_accuracy: 0.8444 - val_loss: 0.4113\n",
      "Epoch 31/100\n",
      "26/26 - 2s - 90ms/step - accuracy: 0.9074 - loss: 0.2435 - val_accuracy: 0.8333 - val_loss: 0.3510\n",
      "Epoch 32/100\n",
      "26/26 - 2s - 85ms/step - accuracy: 0.9309 - loss: 0.2138 - val_accuracy: 0.8556 - val_loss: 0.3668\n",
      "Epoch 33/100\n",
      "26/26 - 2s - 72ms/step - accuracy: 0.9407 - loss: 0.1901 - val_accuracy: 0.8556 - val_loss: 0.3812\n",
      "Epoch 34/100\n",
      "26/26 - 2s - 71ms/step - accuracy: 0.9469 - loss: 0.1730 - val_accuracy: 0.8333 - val_loss: 0.3887\n",
      "Epoch 35/100\n",
      "26/26 - 3s - 106ms/step - accuracy: 0.9383 - loss: 0.1604 - val_accuracy: 0.8778 - val_loss: 0.3679\n",
      "Epoch 36/100\n",
      "26/26 - 2s - 77ms/step - accuracy: 0.9531 - loss: 0.1517 - val_accuracy: 0.8778 - val_loss: 0.3656\n",
      "Epoch 37/100\n",
      "26/26 - 2s - 80ms/step - accuracy: 0.9407 - loss: 0.1598 - val_accuracy: 0.9000 - val_loss: 0.3429\n",
      "Epoch 38/100\n",
      "26/26 - 2s - 72ms/step - accuracy: 0.9531 - loss: 0.1609 - val_accuracy: 0.7778 - val_loss: 0.5334\n",
      "Epoch 39/100\n",
      "26/26 - 2s - 71ms/step - accuracy: 0.9407 - loss: 0.1679 - val_accuracy: 0.8778 - val_loss: 0.4159\n",
      "Epoch 40/100\n",
      "26/26 - 2s - 77ms/step - accuracy: 0.9420 - loss: 0.1761 - val_accuracy: 0.8889 - val_loss: 0.3252\n",
      "Epoch 41/100\n",
      "26/26 - 2s - 71ms/step - accuracy: 0.9556 - loss: 0.1429 - val_accuracy: 0.9000 - val_loss: 0.3749\n",
      "Epoch 42/100\n",
      "26/26 - 2s - 70ms/step - accuracy: 0.9593 - loss: 0.1405 - val_accuracy: 0.8889 - val_loss: 0.3270\n",
      "Epoch 43/100\n",
      "26/26 - 2s - 79ms/step - accuracy: 0.9457 - loss: 0.1381 - val_accuracy: 0.8889 - val_loss: 0.3402\n",
      "Epoch 44/100\n",
      "26/26 - 2s - 70ms/step - accuracy: 0.9741 - loss: 0.1161 - val_accuracy: 0.9111 - val_loss: 0.2962\n",
      "Epoch 45/100\n",
      "26/26 - 2s - 70ms/step - accuracy: 0.9728 - loss: 0.0958 - val_accuracy: 0.9111 - val_loss: 0.3332\n",
      "Epoch 46/100\n",
      "26/26 - 2s - 79ms/step - accuracy: 0.9691 - loss: 0.1158 - val_accuracy: 0.9222 - val_loss: 0.3274\n",
      "Epoch 47/100\n",
      "26/26 - 2s - 70ms/step - accuracy: 0.9802 - loss: 0.0882 - val_accuracy: 0.9222 - val_loss: 0.2978\n",
      "Epoch 48/100\n",
      "26/26 - 2s - 78ms/step - accuracy: 0.9864 - loss: 0.0753 - val_accuracy: 0.9222 - val_loss: 0.3522\n",
      "Epoch 49/100\n",
      "26/26 - 3s - 101ms/step - accuracy: 0.9827 - loss: 0.0736 - val_accuracy: 0.9111 - val_loss: 0.3391\n",
      "Epoch 50/100\n",
      "26/26 - 2s - 71ms/step - accuracy: 0.9778 - loss: 0.0836 - val_accuracy: 0.9333 - val_loss: 0.3681\n",
      "Epoch 51/100\n",
      "26/26 - 2s - 76ms/step - accuracy: 0.9840 - loss: 0.0656 - val_accuracy: 0.9111 - val_loss: 0.3346\n",
      "Epoch 52/100\n",
      "26/26 - 2s - 77ms/step - accuracy: 0.9901 - loss: 0.0604 - val_accuracy: 0.8778 - val_loss: 0.3971\n",
      "Epoch 53/100\n",
      "26/26 - 3s - 113ms/step - accuracy: 0.9827 - loss: 0.0734 - val_accuracy: 0.9000 - val_loss: 0.3115\n",
      "Epoch 54/100\n",
      "26/26 - 2s - 78ms/step - accuracy: 0.9741 - loss: 0.0822 - val_accuracy: 0.9333 - val_loss: 0.3161\n",
      "Epoch 55/100\n",
      "26/26 - 2s - 77ms/step - accuracy: 0.9704 - loss: 0.0833 - val_accuracy: 0.8889 - val_loss: 0.3502\n",
      "Epoch 56/100\n",
      "26/26 - 2s - 80ms/step - accuracy: 0.9827 - loss: 0.0595 - val_accuracy: 0.9222 - val_loss: 0.4391\n",
      "Epoch 57/100\n",
      "26/26 - 2s - 71ms/step - accuracy: 0.9889 - loss: 0.0510 - val_accuracy: 0.9333 - val_loss: 0.3291\n",
      "Epoch 58/100\n",
      "26/26 - 2s - 70ms/step - accuracy: 0.9926 - loss: 0.0425 - val_accuracy: 0.9333 - val_loss: 0.3430\n",
      "Epoch 59/100\n",
      "26/26 - 2s - 71ms/step - accuracy: 0.9877 - loss: 0.0466 - val_accuracy: 0.9000 - val_loss: 0.3696\n",
      "Epoch 60/100\n",
      "26/26 - 2s - 72ms/step - accuracy: 0.9877 - loss: 0.0550 - val_accuracy: 0.8667 - val_loss: 0.5212\n",
      "Epoch 61/100\n",
      "26/26 - 2s - 79ms/step - accuracy: 0.9617 - loss: 0.0898 - val_accuracy: 0.9444 - val_loss: 0.3435\n",
      "Epoch 62/100\n",
      "26/26 - 2s - 78ms/step - accuracy: 0.9753 - loss: 0.0728 - val_accuracy: 0.9333 - val_loss: 0.3579\n",
      "Epoch 63/100\n",
      "26/26 - 2s - 84ms/step - accuracy: 0.9827 - loss: 0.0591 - val_accuracy: 0.9333 - val_loss: 0.3653\n",
      "Epoch 64/100\n",
      "26/26 - 2s - 83ms/step - accuracy: 0.9827 - loss: 0.0595 - val_accuracy: 0.9000 - val_loss: 0.3772\n",
      "Epoch 65/100\n",
      "26/26 - 2s - 74ms/step - accuracy: 0.9889 - loss: 0.0474 - val_accuracy: 0.9444 - val_loss: 0.3113\n",
      "Epoch 66/100\n",
      "26/26 - 2s - 81ms/step - accuracy: 0.9889 - loss: 0.0438 - val_accuracy: 0.9111 - val_loss: 0.4249\n",
      "Epoch 67/100\n",
      "26/26 - 3s - 109ms/step - accuracy: 0.9901 - loss: 0.0425 - val_accuracy: 0.8889 - val_loss: 0.4865\n",
      "Epoch 68/100\n",
      "26/26 - 3s - 99ms/step - accuracy: 0.9877 - loss: 0.0541 - val_accuracy: 0.9333 - val_loss: 0.3791\n",
      "Epoch 69/100\n",
      "26/26 - 2s - 80ms/step - accuracy: 0.9901 - loss: 0.0405 - val_accuracy: 0.9111 - val_loss: 0.4687\n",
      "Epoch 70/100\n",
      "26/26 - 2s - 80ms/step - accuracy: 0.9815 - loss: 0.0603 - val_accuracy: 0.9222 - val_loss: 0.3525\n",
      "Epoch 71/100\n",
      "26/26 - 2s - 79ms/step - accuracy: 0.9728 - loss: 0.0758 - val_accuracy: 0.9111 - val_loss: 0.4376\n",
      "Epoch 72/100\n",
      "26/26 - 2s - 85ms/step - accuracy: 0.9889 - loss: 0.0426 - val_accuracy: 0.9333 - val_loss: 0.3904\n",
      "Epoch 73/100\n",
      "26/26 - 2s - 79ms/step - accuracy: 0.9864 - loss: 0.0450 - val_accuracy: 0.9333 - val_loss: 0.3356\n",
      "Epoch 74/100\n",
      "26/26 - 2s - 81ms/step - accuracy: 0.9815 - loss: 0.0576 - val_accuracy: 0.9444 - val_loss: 0.3734\n"
     ]
    },
    {
     "name": "stdout",
     "output_type": "stream",
     "text": [
      "Epoch 75/100\n",
      "26/26 - 2s - 79ms/step - accuracy: 0.9926 - loss: 0.0384 - val_accuracy: 0.9333 - val_loss: 0.4187\n",
      "Epoch 76/100\n",
      "26/26 - 2s - 78ms/step - accuracy: 0.9938 - loss: 0.0292 - val_accuracy: 0.9222 - val_loss: 0.3445\n",
      "Epoch 77/100\n",
      "26/26 - 2s - 72ms/step - accuracy: 0.9790 - loss: 0.0502 - val_accuracy: 0.9222 - val_loss: 0.3533\n",
      "Epoch 78/100\n",
      "26/26 - 2s - 81ms/step - accuracy: 0.9852 - loss: 0.0571 - val_accuracy: 0.9000 - val_loss: 0.4186\n",
      "Epoch 79/100\n",
      "26/26 - 2s - 82ms/step - accuracy: 0.9765 - loss: 0.0569 - val_accuracy: 0.8778 - val_loss: 0.5355\n",
      "Epoch 80/100\n",
      "26/26 - 2s - 81ms/step - accuracy: 0.9877 - loss: 0.0491 - val_accuracy: 0.8889 - val_loss: 0.4375\n",
      "Epoch 81/100\n",
      "26/26 - 2s - 78ms/step - accuracy: 0.9790 - loss: 0.0565 - val_accuracy: 0.9111 - val_loss: 0.4368\n",
      "Epoch 82/100\n",
      "26/26 - 2s - 92ms/step - accuracy: 0.9741 - loss: 0.0583 - val_accuracy: 0.9444 - val_loss: 0.3581\n",
      "Epoch 83/100\n",
      "26/26 - 3s - 105ms/step - accuracy: 0.9704 - loss: 0.0930 - val_accuracy: 0.9222 - val_loss: 0.4627\n",
      "Epoch 84/100\n",
      "26/26 - 3s - 101ms/step - accuracy: 0.9568 - loss: 0.1024 - val_accuracy: 0.9111 - val_loss: 0.4006\n",
      "Epoch 85/100\n",
      "26/26 - 3s - 99ms/step - accuracy: 0.9877 - loss: 0.0469 - val_accuracy: 0.9222 - val_loss: 0.3988\n",
      "Epoch 86/100\n",
      "26/26 - 2s - 88ms/step - accuracy: 0.9642 - loss: 0.1075 - val_accuracy: 0.9000 - val_loss: 0.4284\n",
      "Epoch 87/100\n",
      "26/26 - 3s - 112ms/step - accuracy: 0.9630 - loss: 0.0955 - val_accuracy: 0.9000 - val_loss: 0.4001\n",
      "Epoch 88/100\n",
      "26/26 - 3s - 121ms/step - accuracy: 0.9716 - loss: 0.0709 - val_accuracy: 0.9000 - val_loss: 0.3474\n",
      "Epoch 89/100\n",
      "26/26 - 4s - 162ms/step - accuracy: 0.9728 - loss: 0.0678 - val_accuracy: 0.9111 - val_loss: 0.3842\n",
      "Epoch 90/100\n",
      "26/26 - 2s - 85ms/step - accuracy: 0.9691 - loss: 0.0793 - val_accuracy: 0.9222 - val_loss: 0.3571\n",
      "Epoch 91/100\n",
      "26/26 - 2s - 91ms/step - accuracy: 0.9802 - loss: 0.0520 - val_accuracy: 0.9000 - val_loss: 0.3879\n",
      "Epoch 92/100\n",
      "26/26 - 3s - 102ms/step - accuracy: 0.9877 - loss: 0.0418 - val_accuracy: 0.9222 - val_loss: 0.3331\n",
      "Epoch 93/100\n",
      "26/26 - 2s - 73ms/step - accuracy: 0.9802 - loss: 0.0477 - val_accuracy: 0.9444 - val_loss: 0.3763\n",
      "Epoch 94/100\n",
      "26/26 - 2s - 85ms/step - accuracy: 0.9901 - loss: 0.0371 - val_accuracy: 0.9111 - val_loss: 0.3615\n",
      "Epoch 95/100\n",
      "26/26 - 2s - 76ms/step - accuracy: 0.9802 - loss: 0.0533 - val_accuracy: 0.9000 - val_loss: 0.3971\n",
      "Epoch 96/100\n",
      "26/26 - 2s - 78ms/step - accuracy: 0.9864 - loss: 0.0358 - val_accuracy: 0.9222 - val_loss: 0.3663\n",
      "Epoch 97/100\n",
      "26/26 - 2s - 82ms/step - accuracy: 0.9926 - loss: 0.0245 - val_accuracy: 0.9333 - val_loss: 0.4812\n",
      "Epoch 98/100\n",
      "26/26 - 3s - 99ms/step - accuracy: 0.9704 - loss: 0.0657 - val_accuracy: 0.9444 - val_loss: 0.3678\n",
      "Epoch 99/100\n",
      "26/26 - 2s - 82ms/step - accuracy: 0.9852 - loss: 0.0433 - val_accuracy: 0.9000 - val_loss: 0.4355\n",
      "Epoch 100/100\n",
      "26/26 - 2s - 76ms/step - accuracy: 0.9852 - loss: 0.0390 - val_accuracy: 0.9222 - val_loss: 0.4889\n"
     ]
    }
   ],
   "source": [
    "hist = model.fit(x=X_train, y=y_train, verbose=2, batch_size=32, epochs=100, \n",
    "                 validation_data=(X_val, y_val), shuffle='true')"
   ]
  },
  {
   "cell_type": "code",
   "execution_count": 17,
   "id": "f6d8a567-767b-4d9f-900c-d0bd57627fa1",
   "metadata": {
    "tags": []
   },
   "outputs": [
    {
     "data": {
      "text/html": [
       "<pre style=\"white-space:pre;overflow-x:auto;line-height:normal;font-family:Menlo,'DejaVu Sans Mono',consolas,'Courier New',monospace\"><span style=\"font-weight: bold\">Model: \"sequential\"</span>\n",
       "</pre>\n"
      ],
      "text/plain": [
       "\u001b[1mModel: \"sequential\"\u001b[0m\n"
      ]
     },
     "metadata": {},
     "output_type": "display_data"
    },
    {
     "data": {
      "text/html": [
       "<pre style=\"white-space:pre;overflow-x:auto;line-height:normal;font-family:Menlo,'DejaVu Sans Mono',consolas,'Courier New',monospace\">┏━━━━━━━━━━━━━━━━━━━━━━━━━━━━━━━━━┳━━━━━━━━━━━━━━━━━━━━━━━━┳━━━━━━━━━━━━━━━┓\n",
       "┃<span style=\"font-weight: bold\"> Layer (type)                    </span>┃<span style=\"font-weight: bold\"> Output Shape           </span>┃<span style=\"font-weight: bold\">       Param # </span>┃\n",
       "┡━━━━━━━━━━━━━━━━━━━━━━━━━━━━━━━━━╇━━━━━━━━━━━━━━━━━━━━━━━━╇━━━━━━━━━━━━━━━┩\n",
       "│ dense (<span style=\"color: #0087ff; text-decoration-color: #0087ff\">Dense</span>)                   │ (<span style=\"color: #00d7ff; text-decoration-color: #00d7ff\">None</span>, <span style=\"color: #00af00; text-decoration-color: #00af00\">50</span>)             │     <span style=\"color: #00af00; text-decoration-color: #00af00\">5,000,050</span> │\n",
       "├─────────────────────────────────┼────────────────────────┼───────────────┤\n",
       "│ dropout (<span style=\"color: #0087ff; text-decoration-color: #0087ff\">Dropout</span>)               │ (<span style=\"color: #00d7ff; text-decoration-color: #00d7ff\">None</span>, <span style=\"color: #00af00; text-decoration-color: #00af00\">50</span>)             │             <span style=\"color: #00af00; text-decoration-color: #00af00\">0</span> │\n",
       "├─────────────────────────────────┼────────────────────────┼───────────────┤\n",
       "│ dense_1 (<span style=\"color: #0087ff; text-decoration-color: #0087ff\">Dense</span>)                 │ (<span style=\"color: #00d7ff; text-decoration-color: #00d7ff\">None</span>, <span style=\"color: #00af00; text-decoration-color: #00af00\">25</span>)             │         <span style=\"color: #00af00; text-decoration-color: #00af00\">1,275</span> │\n",
       "├─────────────────────────────────┼────────────────────────┼───────────────┤\n",
       "│ dropout_1 (<span style=\"color: #0087ff; text-decoration-color: #0087ff\">Dropout</span>)             │ (<span style=\"color: #00d7ff; text-decoration-color: #00d7ff\">None</span>, <span style=\"color: #00af00; text-decoration-color: #00af00\">25</span>)             │             <span style=\"color: #00af00; text-decoration-color: #00af00\">0</span> │\n",
       "├─────────────────────────────────┼────────────────────────┼───────────────┤\n",
       "│ dense_2 (<span style=\"color: #0087ff; text-decoration-color: #0087ff\">Dense</span>)                 │ (<span style=\"color: #00d7ff; text-decoration-color: #00d7ff\">None</span>, <span style=\"color: #00af00; text-decoration-color: #00af00\">12</span>)             │           <span style=\"color: #00af00; text-decoration-color: #00af00\">312</span> │\n",
       "├─────────────────────────────────┼────────────────────────┼───────────────┤\n",
       "│ dropout_2 (<span style=\"color: #0087ff; text-decoration-color: #0087ff\">Dropout</span>)             │ (<span style=\"color: #00d7ff; text-decoration-color: #00d7ff\">None</span>, <span style=\"color: #00af00; text-decoration-color: #00af00\">12</span>)             │             <span style=\"color: #00af00; text-decoration-color: #00af00\">0</span> │\n",
       "├─────────────────────────────────┼────────────────────────┼───────────────┤\n",
       "│ dense_3 (<span style=\"color: #0087ff; text-decoration-color: #0087ff\">Dense</span>)                 │ (<span style=\"color: #00d7ff; text-decoration-color: #00d7ff\">None</span>, <span style=\"color: #00af00; text-decoration-color: #00af00\">1</span>)              │            <span style=\"color: #00af00; text-decoration-color: #00af00\">13</span> │\n",
       "└─────────────────────────────────┴────────────────────────┴───────────────┘\n",
       "</pre>\n"
      ],
      "text/plain": [
       "┏━━━━━━━━━━━━━━━━━━━━━━━━━━━━━━━━━┳━━━━━━━━━━━━━━━━━━━━━━━━┳━━━━━━━━━━━━━━━┓\n",
       "┃\u001b[1m \u001b[0m\u001b[1mLayer (type)                   \u001b[0m\u001b[1m \u001b[0m┃\u001b[1m \u001b[0m\u001b[1mOutput Shape          \u001b[0m\u001b[1m \u001b[0m┃\u001b[1m \u001b[0m\u001b[1m      Param #\u001b[0m\u001b[1m \u001b[0m┃\n",
       "┡━━━━━━━━━━━━━━━━━━━━━━━━━━━━━━━━━╇━━━━━━━━━━━━━━━━━━━━━━━━╇━━━━━━━━━━━━━━━┩\n",
       "│ dense (\u001b[38;5;33mDense\u001b[0m)                   │ (\u001b[38;5;45mNone\u001b[0m, \u001b[38;5;34m50\u001b[0m)             │     \u001b[38;5;34m5,000,050\u001b[0m │\n",
       "├─────────────────────────────────┼────────────────────────┼───────────────┤\n",
       "│ dropout (\u001b[38;5;33mDropout\u001b[0m)               │ (\u001b[38;5;45mNone\u001b[0m, \u001b[38;5;34m50\u001b[0m)             │             \u001b[38;5;34m0\u001b[0m │\n",
       "├─────────────────────────────────┼────────────────────────┼───────────────┤\n",
       "│ dense_1 (\u001b[38;5;33mDense\u001b[0m)                 │ (\u001b[38;5;45mNone\u001b[0m, \u001b[38;5;34m25\u001b[0m)             │         \u001b[38;5;34m1,275\u001b[0m │\n",
       "├─────────────────────────────────┼────────────────────────┼───────────────┤\n",
       "│ dropout_1 (\u001b[38;5;33mDropout\u001b[0m)             │ (\u001b[38;5;45mNone\u001b[0m, \u001b[38;5;34m25\u001b[0m)             │             \u001b[38;5;34m0\u001b[0m │\n",
       "├─────────────────────────────────┼────────────────────────┼───────────────┤\n",
       "│ dense_2 (\u001b[38;5;33mDense\u001b[0m)                 │ (\u001b[38;5;45mNone\u001b[0m, \u001b[38;5;34m12\u001b[0m)             │           \u001b[38;5;34m312\u001b[0m │\n",
       "├─────────────────────────────────┼────────────────────────┼───────────────┤\n",
       "│ dropout_2 (\u001b[38;5;33mDropout\u001b[0m)             │ (\u001b[38;5;45mNone\u001b[0m, \u001b[38;5;34m12\u001b[0m)             │             \u001b[38;5;34m0\u001b[0m │\n",
       "├─────────────────────────────────┼────────────────────────┼───────────────┤\n",
       "│ dense_3 (\u001b[38;5;33mDense\u001b[0m)                 │ (\u001b[38;5;45mNone\u001b[0m, \u001b[38;5;34m1\u001b[0m)              │            \u001b[38;5;34m13\u001b[0m │\n",
       "└─────────────────────────────────┴────────────────────────┴───────────────┘\n"
      ]
     },
     "metadata": {},
     "output_type": "display_data"
    },
    {
     "data": {
      "text/html": [
       "<pre style=\"white-space:pre;overflow-x:auto;line-height:normal;font-family:Menlo,'DejaVu Sans Mono',consolas,'Courier New',monospace\"><span style=\"font-weight: bold\"> Total params: </span><span style=\"color: #00af00; text-decoration-color: #00af00\">15,004,952</span> (57.24 MB)\n",
       "</pre>\n"
      ],
      "text/plain": [
       "\u001b[1m Total params: \u001b[0m\u001b[38;5;34m15,004,952\u001b[0m (57.24 MB)\n"
      ]
     },
     "metadata": {},
     "output_type": "display_data"
    },
    {
     "data": {
      "text/html": [
       "<pre style=\"white-space:pre;overflow-x:auto;line-height:normal;font-family:Menlo,'DejaVu Sans Mono',consolas,'Courier New',monospace\"><span style=\"font-weight: bold\"> Trainable params: </span><span style=\"color: #00af00; text-decoration-color: #00af00\">5,001,650</span> (19.08 MB)\n",
       "</pre>\n"
      ],
      "text/plain": [
       "\u001b[1m Trainable params: \u001b[0m\u001b[38;5;34m5,001,650\u001b[0m (19.08 MB)\n"
      ]
     },
     "metadata": {},
     "output_type": "display_data"
    },
    {
     "data": {
      "text/html": [
       "<pre style=\"white-space:pre;overflow-x:auto;line-height:normal;font-family:Menlo,'DejaVu Sans Mono',consolas,'Courier New',monospace\"><span style=\"font-weight: bold\"> Non-trainable params: </span><span style=\"color: #00af00; text-decoration-color: #00af00\">0</span> (0.00 B)\n",
       "</pre>\n"
      ],
      "text/plain": [
       "\u001b[1m Non-trainable params: \u001b[0m\u001b[38;5;34m0\u001b[0m (0.00 B)\n"
      ]
     },
     "metadata": {},
     "output_type": "display_data"
    },
    {
     "data": {
      "text/html": [
       "<pre style=\"white-space:pre;overflow-x:auto;line-height:normal;font-family:Menlo,'DejaVu Sans Mono',consolas,'Courier New',monospace\"><span style=\"font-weight: bold\"> Optimizer params: </span><span style=\"color: #00af00; text-decoration-color: #00af00\">10,003,302</span> (38.16 MB)\n",
       "</pre>\n"
      ],
      "text/plain": [
       "\u001b[1m Optimizer params: \u001b[0m\u001b[38;5;34m10,003,302\u001b[0m (38.16 MB)\n"
      ]
     },
     "metadata": {},
     "output_type": "display_data"
    }
   ],
   "source": [
    "# resumen del model\n",
    "model.summary()"
   ]
  },
  {
   "cell_type": "code",
   "execution_count": 18,
   "id": "c797c63c",
   "metadata": {},
   "outputs": [
    {
     "name": "stdout",
     "output_type": "stream",
     "text": [
      "4/4 - 0s - 16ms/step - accuracy: 0.8800 - loss: 0.3050\n"
     ]
    }
   ],
   "source": [
    "test_loss, test_accuracy = model.evaluate(X_test, y_test, verbose=2)"
   ]
  },
  {
   "cell_type": "code",
   "execution_count": 19,
   "id": "62df3e99",
   "metadata": {},
   "outputs": [
    {
     "data": {
      "image/png": "[encoded data removed]",
      "text/plain": [
       "<Figure size 864x288 with 2 Axes>"
      ]
     },
     "metadata": {
      "needs_background": "light"
     },
     "output_type": "display_data"
    }
   ],
   "source": [
    "# Obtén los datos del historial\n",
    "accuracy = hist.history['accuracy']\n",
    "val_accuracy = hist.history['val_accuracy']\n",
    "\n",
    "loss = hist.history['loss']\n",
    "val_loss = hist.history['val_loss']\n",
    "\n",
    "\n",
    "# Gráfica de accuracy\n",
    "plt.figure(figsize=(12, 4))\n",
    "plt.subplot(1, 2, 1)\n",
    "plt.plot(accuracy, label='Train Accuracy')\n",
    "plt.plot(val_accuracy, label='Validation Accuracy')\n",
    "plt.xlabel('Épocas')\n",
    "plt.ylabel('Accuracy')\n",
    "plt.legend()\n",
    "\n",
    "# Gráfica de pérdida\n",
    "plt.subplot(1, 2, 2)\n",
    "plt.plot(loss, label='Train Loss')\n",
    "plt.plot(val_loss, label='Validation Loss')\n",
    "plt.xlabel('Épocas')\n",
    "plt.ylabel('Loss')\n",
    "plt.legend()\n",
    "\n",
    "# Ajusta los márgenes y espacios entre subplots\n",
    "plt.tight_layout()\n",
    "\n",
    "# Muestra las gráficas\n",
    "plt.show()"
   ]
  },
  {
   "cell_type": "code",
   "execution_count": 20,
   "id": "32c5ebb7",
   "metadata": {},
   "outputs": [
    {
     "name": "stdout",
     "output_type": "stream",
     "text": [
      "\u001b[1m26/26\u001b[0m \u001b[32m━━━━━━━━━━━━━━━━━━━━\u001b[0m\u001b[37m\u001b[0m \u001b[1m0s\u001b[0m 16ms/step\n",
      "\u001b[1m3/3\u001b[0m \u001b[32m━━━━━━━━━━━━━━━━━━━━\u001b[0m\u001b[37m\u001b[0m \u001b[1m0s\u001b[0m 14ms/step\n",
      "\u001b[1m4/4\u001b[0m \u001b[32m━━━━━━━━━━━━━━━━━━━━\u001b[0m\u001b[37m\u001b[0m \u001b[1m0s\u001b[0m 13ms/step\n"
     ]
    }
   ],
   "source": [
    "y_proba_train = model.predict(X_train)\n",
    "y_pred_train = y_proba_train.round().astype(int)\n",
    "y_proba_validation = model.predict(X_val)\n",
    "y_pred_validation = y_proba_validation.round().astype(int)\n",
    "y_proba_test = model.predict(X_test)\n",
    "y_pred_test = y_proba_test.round().astype(int)"
   ]
  },
  {
   "cell_type": "code",
   "execution_count": 21,
   "id": "40688d00",
   "metadata": {},
   "outputs": [],
   "source": [
    "lbl = LabelEncoder()\n",
    "target_names = ['class 0', 'class 1']\n",
    "#Class 0 = NOK\n",
    "#Class 1 = OK"
   ]
  },
  {
   "cell_type": "code",
   "execution_count": 22,
   "id": "eccf3be4",
   "metadata": {},
   "outputs": [],
   "source": [
    "!pip install -q scikit-plot\n",
    "import scikitplot as skplt"
   ]
  },
  {
   "cell_type": "code",
   "execution_count": 23,
   "id": "648a36b2",
   "metadata": {},
   "outputs": [
    {
     "name": "stdout",
     "output_type": "stream",
     "text": [
      "Train sample \n",
      "               precision    recall  f1-score   support\n",
      "\n",
      "     class 0       1.00      1.00      1.00       405\n",
      "     class 1       1.00      1.00      1.00       405\n",
      "\n",
      "    accuracy                           1.00       810\n",
      "   macro avg       1.00      1.00      1.00       810\n",
      "weighted avg       1.00      1.00      1.00       810\n",
      "\n",
      "Validation sample \n",
      "               precision    recall  f1-score   support\n",
      "\n",
      "     class 0       0.90      0.96      0.92        45\n",
      "     class 1       0.95      0.89      0.92        45\n",
      "\n",
      "    accuracy                           0.92        90\n",
      "   macro avg       0.92      0.92      0.92        90\n",
      "weighted avg       0.92      0.92      0.92        90\n",
      "\n",
      "Test sample \n",
      "               precision    recall  f1-score   support\n",
      "\n",
      "     class 0       0.88      0.88      0.88        50\n",
      "     class 1       0.88      0.88      0.88        50\n",
      "\n",
      "    accuracy                           0.88       100\n",
      "   macro avg       0.88      0.88      0.88       100\n",
      "weighted avg       0.88      0.88      0.88       100\n",
      "\n"
     ]
    }
   ],
   "source": [
    "print(\"Train sample \\n\", classification_report(y_train, y_pred_train,target_names = target_names))\n",
    "print(\"Validation sample \\n\", classification_report(y_val, y_pred_validation,target_names = target_names))\n",
    "print(\"Test sample \\n\", classification_report(y_test, y_pred_test,target_names = target_names))"
   ]
  },
  {
   "cell_type": "code",
   "execution_count": 24,
   "id": "3d5fe8c9",
   "metadata": {},
   "outputs": [
    {
     "data": {
      "image/png": "[encoded data removed]",
      "text/plain": [
       "<Figure size 432x288 with 2 Axes>"
      ]
     },
     "metadata": {
      "needs_background": "light"
     },
     "output_type": "display_data"
    },
    {
     "data": {
      "image/png": "[encoded data removed]",
      "text/plain": [
       "<Figure size 432x288 with 2 Axes>"
      ]
     },
     "metadata": {
      "needs_background": "light"
     },
     "output_type": "display_data"
    },
    {
     "data": {
      "image/png": "[encoded data removed]",
      "text/plain": [
       "<Figure size 432x288 with 2 Axes>"
      ]
     },
     "metadata": {
      "needs_background": "light"
     },
     "output_type": "display_data"
    }
   ],
   "source": [
    "# Gráfico de Matriz de Confusión\n",
    "skplt.metrics.plot_confusion_matrix(y_train, y_pred_train, normalize=True)\n",
    "plt.title('Matriz de Confusión Train')\n",
    "\n",
    "skplt.metrics.plot_confusion_matrix(y_val, y_pred_validation, normalize=True)\n",
    "plt.title('Matriz de Confusión Validation')\n",
    "\n",
    "skplt.metrics.plot_confusion_matrix(y_test, y_pred_test, normalize=True)\n",
    "plt.title('Matriz de Confusión Test')\n",
    "\n",
    "plt.show() "
   ]
  },
  {
   "cell_type": "code",
   "execution_count": 25,
   "id": "9bfbe7b2",
   "metadata": {},
   "outputs": [
    {
     "data": {
      "image/png": "[encoded data removed]",
      "text/plain": [
       "<Figure size 432x288 with 1 Axes>"
      ]
     },
     "metadata": {
      "needs_background": "light"
     },
     "output_type": "display_data"
    }
   ],
   "source": [
    "#taza de verdaderos positivos y taza de falsos positivos \n",
    "fpr, tpr, thresholds =  roc_curve(y_val, y_pred_validation)\n",
    "\n",
    "#AUC \n",
    "auc = roc_auc_score(y_val, y_pred_validation)\n",
    "\n",
    "plt.figure()\n",
    "plt.plot(fpr, tpr, color='blue', lw=2, label=f'Curva ROC (area = {auc:.2f})')\n",
    "plt.plot([0, 1], [0, 1], color='gray', linestyle='--')\n",
    "plt.xlim([0.0, 1.0])\n",
    "plt.ylim([0.0, 1.05])\n",
    "plt.xlabel('Taza de Falsos Positivos')\n",
    "plt.ylabel('Taza de Verdaderos Positivos')\n",
    "plt.title('Caracteristica Operativa del Receptor (CURVA ROC)\\n Validacion')\n",
    "\n",
    "plt.legend(loc=\"lower right\")\n",
    "plt.show()"
   ]
  },
  {
   "cell_type": "code",
   "execution_count": 26,
   "id": "4b953f3c",
   "metadata": {},
   "outputs": [
    {
     "data": {
      "image/png": "[encoded data removed]",
      "text/plain": [
       "<Figure size 432x288 with 1 Axes>"
      ]
     },
     "metadata": {
      "needs_background": "light"
     },
     "output_type": "display_data"
    }
   ],
   "source": [
    "#calcular la curva pr\n",
    "precision, recall, thresholds = precision_recall_curve(y_val, y_pred_validation)\n",
    "\n",
    "auc_pr = average_precision_score(y_val, y_pred_validation)\n",
    "\n",
    "plt.figure()\n",
    "plt.plot(recall, precision, color='blue', lw=2, label=f'Curva Precision-Recall (area = {auc_pr:.2f})')\n",
    "plt.plot([0, 1], [0, 1], color='gray', linestyle='--')\n",
    "plt.xlim([0.0, 1.0])\n",
    "plt.ylim([0.0, 1.05])\n",
    "plt.xlabel('Recall')\n",
    "plt.ylabel('Precision')\n",
    "plt.title('Curva de Precision-Recall\\n Validacion')\n",
    "\n",
    "plt.legend(loc=\"lower right\")\n",
    "plt.show()"
   ]
  },
  {
   "cell_type": "code",
   "execution_count": 27,
   "id": "3b884c54",
   "metadata": {},
   "outputs": [],
   "source": [
    "#guardar archivo de modelo ya entrenado\n",
    "target_dir = './modelo_keras_noise4/'\n",
    "if not os.path.exists(target_dir):\n",
    "    os.mkdir(target_dir)\n",
    "model.save('./modelo_keras_noise4/modelo_keras_noise4.keras')\n",
    "model.save_weights('./modelo_keras_noise4/pesos.weights.h5')"
   ]
  }
 ],
 "metadata": {
  "kernelspec": {
   "display_name": "Python 3 (ipykernel)",
   "language": "python",
   "name": "python3"
  },
  "language_info": {
   "codemirror_mode": {
    "name": "ipython",
    "version": 3
   },
   "file_extension": ".py",
   "mimetype": "text/x-python",
   "name": "python",
   "nbconvert_exporter": "python",
   "pygments_lexer": "ipython3",
   "version": "3.10.5"
  }
 },
 "nbformat": 4,
 "nbformat_minor": 5
}
