{
 "cells": [
  {
   "cell_type": "code",
   "execution_count": 1,
   "id": "871b942b-aecd-4cac-8d77-8872125822a1",
   "metadata": {
    "tags": []
   },
   "outputs": [
    {
     "name": "stderr",
     "output_type": "stream",
     "text": [
      "2024-05-31 17:58:27.054785: I tensorflow/core/platform/cpu_feature_guard.cc:210] This TensorFlow binary is optimized to use available CPU instructions in performance-critical operations.\n",
      "To enable the following instructions: AVX2 FMA, in other operations, rebuild TensorFlow with the appropriate compiler flags.\n"
     ]
    }
   ],
   "source": [
    "import numpy as np\n",
    "import os\n",
    "import matplotlib.pyplot as plt\n",
    "import keras\n",
    "from keras.datasets import cifar10\n",
    "from keras.models import Sequential\n",
    "from keras.layers import Dense\n",
    "from keras.optimizers import Adam\n",
    "import tensorflow as tf\n",
    "from tensorflow.keras.utils import to_categorical\n",
    "\n",
    "import random\n",
    "     \n",
    "from keras.layers import Dropout\n",
    "from keras.layers import Flatten\n",
    "\n",
    "from tensorflow.keras.layers import Conv2D\n",
    "\n",
    "from tensorflow.keras.layers import MaxPooling2D\n",
    "     \n",
    "from keras.models import Model\n",
    "\n",
    "import matplotlib.image as mpimg\n",
    "import seaborn as sns\n",
    "import cv2\n",
    "\n",
    "import glob\n",
    "\n",
    "from sklearn.model_selection import train_test_split\n",
    "from sklearn.preprocessing import LabelEncoder\n",
    "from sklearn.metrics import classification_report,confusion_matrix\n",
    "from sklearn.metrics import roc_curve, roc_auc_score, precision_recall_curve, average_precision_score"
   ]
  },
  {
   "cell_type": "code",
   "execution_count": 2,
   "id": "500acdf7-b742-4d24-8193-f335e48c5767",
   "metadata": {
    "tags": []
   },
   "outputs": [],
   "source": [
    "file_path = 'Desktop/proyecto integrador/*'"
   ]
  },
  {
   "cell_type": "code",
   "execution_count": 3,
   "id": "1d23bd78-d49d-4d26-9ba5-2fde46a23f29",
   "metadata": {
    "tags": []
   },
   "outputs": [],
   "source": [
    "#Data acquisition\n",
    "noise = glob.glob(\"train/OK_500/*.png\")\n",
    "\n",
    "nonoise = glob.glob(\"train/NOK_500/*.png\")"
   ]
  },
  {
   "cell_type": "code",
   "execution_count": 4,
   "id": "ec79fbc9-4488-4463-a14b-81e6658ba2d2",
   "metadata": {
    "tags": []
   },
   "outputs": [
    {
     "data": {
      "text/plain": [
       "500"
      ]
     },
     "execution_count": 4,
     "metadata": {},
     "output_type": "execute_result"
    }
   ],
   "source": [
    "len(noise)"
   ]
  },
  {
   "cell_type": "code",
   "execution_count": 5,
   "id": "86de597a-3f6f-4191-a7e7-59637293cc94",
   "metadata": {
    "tags": []
   },
   "outputs": [
    {
     "data": {
      "text/plain": [
       "500"
      ]
     },
     "execution_count": 5,
     "metadata": {},
     "output_type": "execute_result"
    }
   ],
   "source": [
    "len(nonoise)"
   ]
  },
  {
   "cell_type": "code",
   "execution_count": 6,
   "id": "4b8d8b2b-b737-4be8-96a9-96e3eccaae48",
   "metadata": {
    "tags": []
   },
   "outputs": [],
   "source": [
    "noise_Formated = []\n",
    "nonoise_Formated = []\n",
    "\n",
    "width = 400 \n",
    "height = 250\n",
    "dim = (width, height)\n",
    "\n",
    "for i in noise:\n",
    "    img_gray = mpimg.imread(i)\n",
    "    #resize image\n",
    "    img_resized = cv2.resize(img_gray, dim, interpolation = cv2.INTER_AREA)\n",
    "    \n",
    "    #add the new image to a new array\n",
    "    noise_Formated.append(img_resized)\n",
    "\n",
    "for i in nonoise:\n",
    "    img_gray = mpimg.imread(i)\n",
    "    #resize image\n",
    "    img_resized = cv2.resize(img_gray, dim, interpolation = cv2.INTER_AREA)\n",
    "    \n",
    "    #add the new image to a new array\n",
    "    nonoise_Formated.append(img_resized)"
   ]
  },
  {
   "cell_type": "code",
   "execution_count": 7,
   "id": "641b077c-7385-4fe0-bbb6-e42c6d411481",
   "metadata": {
    "tags": []
   },
   "outputs": [],
   "source": [
    "y_noise = np.ones(len(noise_Formated))\n",
    "y_nonoise = np.zeros(len(nonoise_Formated))"
   ]
  },
  {
   "cell_type": "code",
   "execution_count": 8,
   "id": "2a8f73ab-5660-4972-8d62-2eedb5a6315f",
   "metadata": {
    "tags": []
   },
   "outputs": [
    {
     "data": {
      "text/plain": [
       "(1000, 250, 400)"
      ]
     },
     "execution_count": 8,
     "metadata": {},
     "output_type": "execute_result"
    }
   ],
   "source": [
    "X = np.vstack((noise_Formated,nonoise_Formated))\n",
    "X.shape"
   ]
  },
  {
   "cell_type": "code",
   "execution_count": 9,
   "id": "e2a84da4-86ce-43cc-bf74-419e7f5aa8b2",
   "metadata": {
    "tags": []
   },
   "outputs": [
    {
     "data": {
      "text/plain": [
       "(1000,)"
      ]
     },
     "execution_count": 9,
     "metadata": {},
     "output_type": "execute_result"
    }
   ],
   "source": [
    "y = np.hstack((y_noise,y_nonoise))\n",
    "y.shape"
   ]
  },
  {
   "cell_type": "code",
   "execution_count": 10,
   "id": "065a9b81-7481-4c9b-a846-27db90d93ba1",
   "metadata": {
    "tags": []
   },
   "outputs": [],
   "source": [
    "X=X/255"
   ]
  },
  {
   "cell_type": "code",
   "execution_count": 11,
   "id": "c8e07c6f-9d2c-46f5-b0ad-9dc1a8cc9a58",
   "metadata": {
    "tags": []
   },
   "outputs": [
    {
     "name": "stdout",
     "output_type": "stream",
     "text": [
      "(1000, 100000)\n"
     ]
    }
   ],
   "source": [
    "# 400 x 250 = 100,000\n",
    "num_pixels = 100000\n",
    "X = X.reshape(X.shape[0], num_pixels)\n",
    "print(X.shape)"
   ]
  },
  {
   "cell_type": "code",
   "execution_count": 12,
   "id": "53295b89-6892-4583-ad62-92db4ce3a57a",
   "metadata": {
    "tags": []
   },
   "outputs": [
    {
     "name": "stderr",
     "output_type": "stream",
     "text": [
      "/Library/Frameworks/Python.framework/Versions/3.10/lib/python3.10/site-packages/keras/src/layers/core/dense.py:87: UserWarning: Do not pass an `input_shape`/`input_dim` argument to a layer. When using Sequential models, prefer using an `Input(shape)` object as the first layer in the model instead.\n",
      "  super().__init__(activity_regularizer=activity_regularizer, **kwargs)\n"
     ]
    },
    {
     "data": {
      "text/html": [
       "<pre style=\"white-space:pre;overflow-x:auto;line-height:normal;font-family:Menlo,'DejaVu Sans Mono',consolas,'Courier New',monospace\"><span style=\"font-weight: bold\">Model: \"sequential\"</span>\n",
       "</pre>\n"
      ],
      "text/plain": [
       "\u001b[1mModel: \"sequential\"\u001b[0m\n"
      ]
     },
     "metadata": {},
     "output_type": "display_data"
    },
    {
     "data": {
      "text/html": [
       "<pre style=\"white-space:pre;overflow-x:auto;line-height:normal;font-family:Menlo,'DejaVu Sans Mono',consolas,'Courier New',monospace\">┏━━━━━━━━━━━━━━━━━━━━━━━━━━━━━━━━━┳━━━━━━━━━━━━━━━━━━━━━━━━┳━━━━━━━━━━━━━━━┓\n",
       "┃<span style=\"font-weight: bold\"> Layer (type)                    </span>┃<span style=\"font-weight: bold\"> Output Shape           </span>┃<span style=\"font-weight: bold\">       Param # </span>┃\n",
       "┡━━━━━━━━━━━━━━━━━━━━━━━━━━━━━━━━━╇━━━━━━━━━━━━━━━━━━━━━━━━╇━━━━━━━━━━━━━━━┩\n",
       "│ dense (<span style=\"color: #0087ff; text-decoration-color: #0087ff\">Dense</span>)                   │ (<span style=\"color: #00d7ff; text-decoration-color: #00d7ff\">None</span>, <span style=\"color: #00af00; text-decoration-color: #00af00\">50</span>)             │     <span style=\"color: #00af00; text-decoration-color: #00af00\">5,000,050</span> │\n",
       "├─────────────────────────────────┼────────────────────────┼───────────────┤\n",
       "│ dropout (<span style=\"color: #0087ff; text-decoration-color: #0087ff\">Dropout</span>)               │ (<span style=\"color: #00d7ff; text-decoration-color: #00d7ff\">None</span>, <span style=\"color: #00af00; text-decoration-color: #00af00\">50</span>)             │             <span style=\"color: #00af00; text-decoration-color: #00af00\">0</span> │\n",
       "├─────────────────────────────────┼────────────────────────┼───────────────┤\n",
       "│ dense_1 (<span style=\"color: #0087ff; text-decoration-color: #0087ff\">Dense</span>)                 │ (<span style=\"color: #00d7ff; text-decoration-color: #00d7ff\">None</span>, <span style=\"color: #00af00; text-decoration-color: #00af00\">10</span>)             │           <span style=\"color: #00af00; text-decoration-color: #00af00\">510</span> │\n",
       "├─────────────────────────────────┼────────────────────────┼───────────────┤\n",
       "│ dropout_1 (<span style=\"color: #0087ff; text-decoration-color: #0087ff\">Dropout</span>)             │ (<span style=\"color: #00d7ff; text-decoration-color: #00d7ff\">None</span>, <span style=\"color: #00af00; text-decoration-color: #00af00\">10</span>)             │             <span style=\"color: #00af00; text-decoration-color: #00af00\">0</span> │\n",
       "├─────────────────────────────────┼────────────────────────┼───────────────┤\n",
       "│ dense_2 (<span style=\"color: #0087ff; text-decoration-color: #0087ff\">Dense</span>)                 │ (<span style=\"color: #00d7ff; text-decoration-color: #00d7ff\">None</span>, <span style=\"color: #00af00; text-decoration-color: #00af00\">10</span>)             │           <span style=\"color: #00af00; text-decoration-color: #00af00\">110</span> │\n",
       "├─────────────────────────────────┼────────────────────────┼───────────────┤\n",
       "│ dropout_2 (<span style=\"color: #0087ff; text-decoration-color: #0087ff\">Dropout</span>)             │ (<span style=\"color: #00d7ff; text-decoration-color: #00d7ff\">None</span>, <span style=\"color: #00af00; text-decoration-color: #00af00\">10</span>)             │             <span style=\"color: #00af00; text-decoration-color: #00af00\">0</span> │\n",
       "├─────────────────────────────────┼────────────────────────┼───────────────┤\n",
       "│ dense_3 (<span style=\"color: #0087ff; text-decoration-color: #0087ff\">Dense</span>)                 │ (<span style=\"color: #00d7ff; text-decoration-color: #00d7ff\">None</span>, <span style=\"color: #00af00; text-decoration-color: #00af00\">1</span>)              │            <span style=\"color: #00af00; text-decoration-color: #00af00\">11</span> │\n",
       "└─────────────────────────────────┴────────────────────────┴───────────────┘\n",
       "</pre>\n"
      ],
      "text/plain": [
       "┏━━━━━━━━━━━━━━━━━━━━━━━━━━━━━━━━━┳━━━━━━━━━━━━━━━━━━━━━━━━┳━━━━━━━━━━━━━━━┓\n",
       "┃\u001b[1m \u001b[0m\u001b[1mLayer (type)                   \u001b[0m\u001b[1m \u001b[0m┃\u001b[1m \u001b[0m\u001b[1mOutput Shape          \u001b[0m\u001b[1m \u001b[0m┃\u001b[1m \u001b[0m\u001b[1m      Param #\u001b[0m\u001b[1m \u001b[0m┃\n",
       "┡━━━━━━━━━━━━━━━━━━━━━━━━━━━━━━━━━╇━━━━━━━━━━━━━━━━━━━━━━━━╇━━━━━━━━━━━━━━━┩\n",
       "│ dense (\u001b[38;5;33mDense\u001b[0m)                   │ (\u001b[38;5;45mNone\u001b[0m, \u001b[38;5;34m50\u001b[0m)             │     \u001b[38;5;34m5,000,050\u001b[0m │\n",
       "├─────────────────────────────────┼────────────────────────┼───────────────┤\n",
       "│ dropout (\u001b[38;5;33mDropout\u001b[0m)               │ (\u001b[38;5;45mNone\u001b[0m, \u001b[38;5;34m50\u001b[0m)             │             \u001b[38;5;34m0\u001b[0m │\n",
       "├─────────────────────────────────┼────────────────────────┼───────────────┤\n",
       "│ dense_1 (\u001b[38;5;33mDense\u001b[0m)                 │ (\u001b[38;5;45mNone\u001b[0m, \u001b[38;5;34m10\u001b[0m)             │           \u001b[38;5;34m510\u001b[0m │\n",
       "├─────────────────────────────────┼────────────────────────┼───────────────┤\n",
       "│ dropout_1 (\u001b[38;5;33mDropout\u001b[0m)             │ (\u001b[38;5;45mNone\u001b[0m, \u001b[38;5;34m10\u001b[0m)             │             \u001b[38;5;34m0\u001b[0m │\n",
       "├─────────────────────────────────┼────────────────────────┼───────────────┤\n",
       "│ dense_2 (\u001b[38;5;33mDense\u001b[0m)                 │ (\u001b[38;5;45mNone\u001b[0m, \u001b[38;5;34m10\u001b[0m)             │           \u001b[38;5;34m110\u001b[0m │\n",
       "├─────────────────────────────────┼────────────────────────┼───────────────┤\n",
       "│ dropout_2 (\u001b[38;5;33mDropout\u001b[0m)             │ (\u001b[38;5;45mNone\u001b[0m, \u001b[38;5;34m10\u001b[0m)             │             \u001b[38;5;34m0\u001b[0m │\n",
       "├─────────────────────────────────┼────────────────────────┼───────────────┤\n",
       "│ dense_3 (\u001b[38;5;33mDense\u001b[0m)                 │ (\u001b[38;5;45mNone\u001b[0m, \u001b[38;5;34m1\u001b[0m)              │            \u001b[38;5;34m11\u001b[0m │\n",
       "└─────────────────────────────────┴────────────────────────┴───────────────┘\n"
      ]
     },
     "metadata": {},
     "output_type": "display_data"
    },
    {
     "data": {
      "text/html": [
       "<pre style=\"white-space:pre;overflow-x:auto;line-height:normal;font-family:Menlo,'DejaVu Sans Mono',consolas,'Courier New',monospace\"><span style=\"font-weight: bold\"> Total params: </span><span style=\"color: #00af00; text-decoration-color: #00af00\">5,000,681</span> (19.08 MB)\n",
       "</pre>\n"
      ],
      "text/plain": [
       "\u001b[1m Total params: \u001b[0m\u001b[38;5;34m5,000,681\u001b[0m (19.08 MB)\n"
      ]
     },
     "metadata": {},
     "output_type": "display_data"
    },
    {
     "data": {
      "text/html": [
       "<pre style=\"white-space:pre;overflow-x:auto;line-height:normal;font-family:Menlo,'DejaVu Sans Mono',consolas,'Courier New',monospace\"><span style=\"font-weight: bold\"> Trainable params: </span><span style=\"color: #00af00; text-decoration-color: #00af00\">5,000,681</span> (19.08 MB)\n",
       "</pre>\n"
      ],
      "text/plain": [
       "\u001b[1m Trainable params: \u001b[0m\u001b[38;5;34m5,000,681\u001b[0m (19.08 MB)\n"
      ]
     },
     "metadata": {},
     "output_type": "display_data"
    },
    {
     "data": {
      "text/html": [
       "<pre style=\"white-space:pre;overflow-x:auto;line-height:normal;font-family:Menlo,'DejaVu Sans Mono',consolas,'Courier New',monospace\"><span style=\"font-weight: bold\"> Non-trainable params: </span><span style=\"color: #00af00; text-decoration-color: #00af00\">0</span> (0.00 B)\n",
       "</pre>\n"
      ],
      "text/plain": [
       "\u001b[1m Non-trainable params: \u001b[0m\u001b[38;5;34m0\u001b[0m (0.00 B)\n"
      ]
     },
     "metadata": {},
     "output_type": "display_data"
    },
    {
     "name": "stdout",
     "output_type": "stream",
     "text": [
      "None\n"
     ]
    }
   ],
   "source": [
    "model = Sequential()\n",
    "model.add(Dense(units = 50, input_dim=num_pixels, activation='relu'))\n",
    "model.add(Dropout(0.2))\n",
    "model.add(Dense(units = 10, activation='relu'))\n",
    "model.add(Dropout(0.2))\n",
    "model.add(Dense(units = 10, activation='softmax'))\n",
    "model.add(Dropout(0.2))\n",
    "model.add(Dense(units=1, input_dim=100000, activation='sigmoid'))\n",
    "\n",
    "optimizer = tf.keras.optimizers.Adam(learning_rate=0.001)\n",
    "\n",
    "model.compile(optimizer=optimizer, loss='binary_crossentropy', metrics=['accuracy'])\n",
    "print(model.summary())"
   ]
  },
  {
   "cell_type": "code",
   "execution_count": 13,
   "id": "43226466-0af8-4e0d-86da-2afcde1f4175",
   "metadata": {
    "tags": []
   },
   "outputs": [
    {
     "name": "stdout",
     "output_type": "stream",
     "text": [
      "(1000, 100000)\n",
      "(1000,)\n",
      "[1. 1. 0. 0. 1. 1. 0. 1. 0. 0.]\n"
     ]
    }
   ],
   "source": [
    "print(X.shape)\n",
    "print(y.shape)\n",
    "print(np.random.choice(y,10,replace=True))"
   ]
  },
  {
   "cell_type": "code",
   "execution_count": 14,
   "id": "a6f0e3ae-55f7-49b2-8e1f-cf2997ca7654",
   "metadata": {
    "tags": []
   },
   "outputs": [],
   "source": [
    "# 10% para el set de prueba\n",
    "X_tv, X_test, y_tv, y_test = train_test_split(X, y, test_size = 0.1, stratify=y, random_state = 42)"
   ]
  },
  {
   "cell_type": "code",
   "execution_count": 15,
   "id": "98bf409e",
   "metadata": {},
   "outputs": [],
   "source": [
    "# 10% para el set de validacion\n",
    "X_train, X_val, y_train, y_val = train_test_split(X_tv, y_tv, test_size = 0.1, stratify=y_tv, random_state = 42)"
   ]
  },
  {
   "cell_type": "code",
   "execution_count": 16,
   "id": "d00f22f7-9aae-4375-a851-40be848f9e37",
   "metadata": {
    "tags": []
   },
   "outputs": [
    {
     "name": "stdout",
     "output_type": "stream",
     "text": [
      "Epoch 1/100\n",
      "26/26 - 5s - 190ms/step - accuracy: 0.4901 - loss: 0.6939 - val_accuracy: 0.5000 - val_loss: 0.6868\n",
      "Epoch 2/100\n",
      "26/26 - 2s - 75ms/step - accuracy: 0.5173 - loss: 0.6821 - val_accuracy: 0.5000 - val_loss: 0.6758\n",
      "Epoch 3/100\n",
      "26/26 - 2s - 73ms/step - accuracy: 0.5840 - loss: 0.6729 - val_accuracy: 0.6778 - val_loss: 0.6620\n",
      "Epoch 4/100\n",
      "26/26 - 2s - 76ms/step - accuracy: 0.6099 - loss: 0.6616 - val_accuracy: 0.6667 - val_loss: 0.6531\n",
      "Epoch 5/100\n",
      "26/26 - 2s - 70ms/step - accuracy: 0.6457 - loss: 0.6514 - val_accuracy: 0.7222 - val_loss: 0.6399\n",
      "Epoch 6/100\n",
      "26/26 - 2s - 70ms/step - accuracy: 0.6630 - loss: 0.6423 - val_accuracy: 0.7000 - val_loss: 0.6302\n",
      "Epoch 7/100\n",
      "26/26 - 3s - 97ms/step - accuracy: 0.6889 - loss: 0.6364 - val_accuracy: 0.7000 - val_loss: 0.6196\n",
      "Epoch 8/100\n",
      "26/26 - 3s - 97ms/step - accuracy: 0.6790 - loss: 0.6287 - val_accuracy: 0.7333 - val_loss: 0.6135\n",
      "Epoch 9/100\n",
      "26/26 - 3s - 100ms/step - accuracy: 0.6975 - loss: 0.6168 - val_accuracy: 0.7556 - val_loss: 0.6086\n",
      "Epoch 10/100\n",
      "26/26 - 2s - 68ms/step - accuracy: 0.6741 - loss: 0.6251 - val_accuracy: 0.7333 - val_loss: 0.6045\n",
      "Epoch 11/100\n",
      "26/26 - 2s - 70ms/step - accuracy: 0.6951 - loss: 0.6148 - val_accuracy: 0.7667 - val_loss: 0.5997\n",
      "Epoch 12/100\n",
      "26/26 - 2s - 68ms/step - accuracy: 0.7049 - loss: 0.6055 - val_accuracy: 0.7333 - val_loss: 0.5916\n",
      "Epoch 13/100\n",
      "26/26 - 2s - 68ms/step - accuracy: 0.7247 - loss: 0.5960 - val_accuracy: 0.6889 - val_loss: 0.5967\n",
      "Epoch 14/100\n",
      "26/26 - 2s - 70ms/step - accuracy: 0.6852 - loss: 0.6071 - val_accuracy: 0.7444 - val_loss: 0.5840\n",
      "Epoch 15/100\n",
      "26/26 - 2s - 69ms/step - accuracy: 0.7235 - loss: 0.5954 - val_accuracy: 0.7556 - val_loss: 0.5778\n",
      "Epoch 16/100\n",
      "26/26 - 2s - 68ms/step - accuracy: 0.7321 - loss: 0.5856 - val_accuracy: 0.6889 - val_loss: 0.5989\n",
      "Epoch 17/100\n",
      "26/26 - 2s - 69ms/step - accuracy: 0.7247 - loss: 0.5800 - val_accuracy: 0.8111 - val_loss: 0.5642\n",
      "Epoch 18/100\n",
      "26/26 - 2s - 68ms/step - accuracy: 0.7333 - loss: 0.5770 - val_accuracy: 0.7333 - val_loss: 0.5785\n",
      "Epoch 19/100\n",
      "26/26 - 2s - 68ms/step - accuracy: 0.7420 - loss: 0.5706 - val_accuracy: 0.7556 - val_loss: 0.5678\n",
      "Epoch 20/100\n",
      "26/26 - 2s - 70ms/step - accuracy: 0.7593 - loss: 0.5699 - val_accuracy: 0.8000 - val_loss: 0.5510\n",
      "Epoch 21/100\n",
      "26/26 - 2s - 69ms/step - accuracy: 0.7420 - loss: 0.5687 - val_accuracy: 0.7556 - val_loss: 0.5568\n",
      "Epoch 22/100\n",
      "26/26 - 2s - 68ms/step - accuracy: 0.7642 - loss: 0.5624 - val_accuracy: 0.7889 - val_loss: 0.5514\n",
      "Epoch 23/100\n",
      "26/26 - 2s - 72ms/step - accuracy: 0.7716 - loss: 0.5536 - val_accuracy: 0.8111 - val_loss: 0.5415\n",
      "Epoch 24/100\n",
      "26/26 - 2s - 70ms/step - accuracy: 0.7654 - loss: 0.5574 - val_accuracy: 0.7444 - val_loss: 0.5636\n",
      "Epoch 25/100\n",
      "26/26 - 2s - 73ms/step - accuracy: 0.7593 - loss: 0.5552 - val_accuracy: 0.8000 - val_loss: 0.5376\n",
      "Epoch 26/100\n",
      "26/26 - 2s - 96ms/step - accuracy: 0.7568 - loss: 0.5503 - val_accuracy: 0.7889 - val_loss: 0.5417\n",
      "Epoch 27/100\n",
      "26/26 - 2s - 69ms/step - accuracy: 0.7802 - loss: 0.5349 - val_accuracy: 0.8111 - val_loss: 0.5293\n",
      "Epoch 28/100\n",
      "26/26 - 3s - 101ms/step - accuracy: 0.7877 - loss: 0.5237 - val_accuracy: 0.7667 - val_loss: 0.5414\n",
      "Epoch 29/100\n",
      "26/26 - 2s - 79ms/step - accuracy: 0.7481 - loss: 0.5530 - val_accuracy: 0.8111 - val_loss: 0.5286\n",
      "Epoch 30/100\n",
      "26/26 - 2s - 73ms/step - accuracy: 0.7753 - loss: 0.5316 - val_accuracy: 0.8000 - val_loss: 0.5192\n",
      "Epoch 31/100\n",
      "26/26 - 2s - 73ms/step - accuracy: 0.7827 - loss: 0.5330 - val_accuracy: 0.8111 - val_loss: 0.5159\n",
      "Epoch 32/100\n",
      "26/26 - 2s - 73ms/step - accuracy: 0.7988 - loss: 0.5110 - val_accuracy: 0.8111 - val_loss: 0.5166\n",
      "Epoch 33/100\n",
      "26/26 - 2s - 72ms/step - accuracy: 0.7852 - loss: 0.5255 - val_accuracy: 0.8111 - val_loss: 0.5108\n",
      "Epoch 34/100\n",
      "26/26 - 3s - 108ms/step - accuracy: 0.7988 - loss: 0.5069 - val_accuracy: 0.8000 - val_loss: 0.5167\n",
      "Epoch 35/100\n",
      "26/26 - 2s - 89ms/step - accuracy: 0.8074 - loss: 0.5045 - val_accuracy: 0.8222 - val_loss: 0.5132\n",
      "Epoch 36/100\n",
      "26/26 - 2s - 70ms/step - accuracy: 0.8099 - loss: 0.4973 - val_accuracy: 0.8111 - val_loss: 0.5111\n",
      "Epoch 37/100\n",
      "26/26 - 2s - 71ms/step - accuracy: 0.8000 - loss: 0.4971 - val_accuracy: 0.8111 - val_loss: 0.5037\n",
      "Epoch 38/100\n",
      "26/26 - 2s - 72ms/step - accuracy: 0.8296 - loss: 0.4892 - val_accuracy: 0.7889 - val_loss: 0.5173\n",
      "Epoch 39/100\n",
      "26/26 - 2s - 69ms/step - accuracy: 0.8037 - loss: 0.4925 - val_accuracy: 0.8111 - val_loss: 0.4974\n",
      "Epoch 40/100\n",
      "26/26 - 3s - 100ms/step - accuracy: 0.8469 - loss: 0.4767 - val_accuracy: 0.7889 - val_loss: 0.5049\n",
      "Epoch 41/100\n",
      "26/26 - 2s - 69ms/step - accuracy: 0.8370 - loss: 0.4681 - val_accuracy: 0.8222 - val_loss: 0.4969\n",
      "Epoch 42/100\n",
      "26/26 - 2s - 70ms/step - accuracy: 0.8358 - loss: 0.4607 - val_accuracy: 0.8222 - val_loss: 0.4897\n",
      "Epoch 43/100\n",
      "26/26 - 2s - 70ms/step - accuracy: 0.8420 - loss: 0.4593 - val_accuracy: 0.8222 - val_loss: 0.4871\n",
      "Epoch 44/100\n",
      "26/26 - 2s - 70ms/step - accuracy: 0.8407 - loss: 0.4488 - val_accuracy: 0.8111 - val_loss: 0.4877\n",
      "Epoch 45/100\n",
      "26/26 - 3s - 100ms/step - accuracy: 0.8395 - loss: 0.4634 - val_accuracy: 0.8222 - val_loss: 0.4819\n",
      "Epoch 46/100\n",
      "26/26 - 3s - 97ms/step - accuracy: 0.8407 - loss: 0.4501 - val_accuracy: 0.8222 - val_loss: 0.4883\n",
      "Epoch 47/100\n",
      "26/26 - 2s - 73ms/step - accuracy: 0.8469 - loss: 0.4392 - val_accuracy: 0.8222 - val_loss: 0.4802\n",
      "Epoch 48/100\n",
      "26/26 - 2s - 71ms/step - accuracy: 0.8432 - loss: 0.4428 - val_accuracy: 0.8222 - val_loss: 0.4737\n",
      "Epoch 49/100\n",
      "26/26 - 2s - 72ms/step - accuracy: 0.8642 - loss: 0.4343 - val_accuracy: 0.8222 - val_loss: 0.4751\n",
      "Epoch 50/100\n",
      "26/26 - 3s - 96ms/step - accuracy: 0.8580 - loss: 0.4286 - val_accuracy: 0.8222 - val_loss: 0.4713\n",
      "Epoch 51/100\n",
      "26/26 - 2s - 68ms/step - accuracy: 0.8617 - loss: 0.4279 - val_accuracy: 0.8222 - val_loss: 0.4693\n",
      "Epoch 52/100\n",
      "26/26 - 3s - 99ms/step - accuracy: 0.8593 - loss: 0.4243 - val_accuracy: 0.8333 - val_loss: 0.4658\n",
      "Epoch 53/100\n",
      "26/26 - 2s - 69ms/step - accuracy: 0.8469 - loss: 0.4278 - val_accuracy: 0.8222 - val_loss: 0.4655\n",
      "Epoch 54/100\n",
      "26/26 - 2s - 76ms/step - accuracy: 0.8556 - loss: 0.4120 - val_accuracy: 0.8333 - val_loss: 0.4527\n",
      "Epoch 55/100\n",
      "26/26 - 2s - 72ms/step - accuracy: 0.8691 - loss: 0.4189 - val_accuracy: 0.8222 - val_loss: 0.4642\n",
      "Epoch 56/100\n",
      "26/26 - 2s - 68ms/step - accuracy: 0.8642 - loss: 0.4063 - val_accuracy: 0.8444 - val_loss: 0.4517\n",
      "Epoch 57/100\n",
      "26/26 - 2s - 68ms/step - accuracy: 0.8741 - loss: 0.3957 - val_accuracy: 0.8333 - val_loss: 0.4455\n",
      "Epoch 58/100\n",
      "26/26 - 2s - 70ms/step - accuracy: 0.8901 - loss: 0.3886 - val_accuracy: 0.8333 - val_loss: 0.4481\n",
      "Epoch 59/100\n",
      "26/26 - 2s - 68ms/step - accuracy: 0.8654 - loss: 0.3914 - val_accuracy: 0.8444 - val_loss: 0.4454\n",
      "Epoch 60/100\n",
      "26/26 - 2s - 68ms/step - accuracy: 0.8877 - loss: 0.3838 - val_accuracy: 0.8000 - val_loss: 0.4708\n",
      "Epoch 61/100\n",
      "26/26 - 2s - 70ms/step - accuracy: 0.8840 - loss: 0.3763 - val_accuracy: 0.8111 - val_loss: 0.4522\n",
      "Epoch 62/100\n",
      "26/26 - 2s - 68ms/step - accuracy: 0.8840 - loss: 0.3677 - val_accuracy: 0.8667 - val_loss: 0.4256\n",
      "Epoch 63/100\n",
      "26/26 - 2s - 68ms/step - accuracy: 0.8704 - loss: 0.3768 - val_accuracy: 0.8111 - val_loss: 0.4579\n",
      "Epoch 64/100\n",
      "26/26 - 2s - 67ms/step - accuracy: 0.8667 - loss: 0.3859 - val_accuracy: 0.8222 - val_loss: 0.4505\n",
      "Epoch 65/100\n",
      "26/26 - 2s - 68ms/step - accuracy: 0.8914 - loss: 0.3590 - val_accuracy: 0.8556 - val_loss: 0.4269\n",
      "Epoch 66/100\n",
      "26/26 - 2s - 70ms/step - accuracy: 0.8914 - loss: 0.3588 - val_accuracy: 0.8556 - val_loss: 0.4234\n",
      "Epoch 67/100\n",
      "26/26 - 2s - 70ms/step - accuracy: 0.8840 - loss: 0.3804 - val_accuracy: 0.8444 - val_loss: 0.4295\n",
      "Epoch 68/100\n",
      "26/26 - 2s - 69ms/step - accuracy: 0.8864 - loss: 0.3516 - val_accuracy: 0.8556 - val_loss: 0.4165\n",
      "Epoch 69/100\n",
      "26/26 - 3s - 98ms/step - accuracy: 0.9111 - loss: 0.3283 - val_accuracy: 0.8556 - val_loss: 0.4108\n",
      "Epoch 70/100\n",
      "26/26 - 2s - 68ms/step - accuracy: 0.9099 - loss: 0.3241 - val_accuracy: 0.8000 - val_loss: 0.4541\n",
      "Epoch 71/100\n",
      "26/26 - 2s - 68ms/step - accuracy: 0.8988 - loss: 0.3343 - val_accuracy: 0.8556 - val_loss: 0.4106\n",
      "Epoch 72/100\n",
      "26/26 - 2s - 71ms/step - accuracy: 0.8753 - loss: 0.3578 - val_accuracy: 0.8222 - val_loss: 0.4360\n",
      "Epoch 73/100\n",
      "26/26 - 2s - 72ms/step - accuracy: 0.8914 - loss: 0.3491 - val_accuracy: 0.8556 - val_loss: 0.4158\n",
      "Epoch 74/100\n",
      "26/26 - 2s - 72ms/step - accuracy: 0.9037 - loss: 0.3312 - val_accuracy: 0.8667 - val_loss: 0.4068\n"
     ]
    },
    {
     "name": "stdout",
     "output_type": "stream",
     "text": [
      "Epoch 75/100\n",
      "26/26 - 2s - 81ms/step - accuracy: 0.9062 - loss: 0.3279 - val_accuracy: 0.8667 - val_loss: 0.4005\n",
      "Epoch 76/100\n",
      "26/26 - 2s - 70ms/step - accuracy: 0.9086 - loss: 0.3247 - val_accuracy: 0.8556 - val_loss: 0.4118\n",
      "Epoch 77/100\n",
      "26/26 - 2s - 69ms/step - accuracy: 0.9136 - loss: 0.3131 - val_accuracy: 0.8667 - val_loss: 0.4011\n",
      "Epoch 78/100\n",
      "26/26 - 2s - 69ms/step - accuracy: 0.9074 - loss: 0.3042 - val_accuracy: 0.8556 - val_loss: 0.4044\n",
      "Epoch 79/100\n",
      "26/26 - 2s - 68ms/step - accuracy: 0.9296 - loss: 0.3018 - val_accuracy: 0.8556 - val_loss: 0.4041\n",
      "Epoch 80/100\n",
      "26/26 - 2s - 68ms/step - accuracy: 0.9074 - loss: 0.3057 - val_accuracy: 0.8667 - val_loss: 0.3987\n",
      "Epoch 81/100\n",
      "26/26 - 2s - 69ms/step - accuracy: 0.9247 - loss: 0.2946 - val_accuracy: 0.8556 - val_loss: 0.4139\n",
      "Epoch 82/100\n",
      "26/26 - 2s - 68ms/step - accuracy: 0.9198 - loss: 0.2874 - val_accuracy: 0.8556 - val_loss: 0.4064\n",
      "Epoch 83/100\n",
      "26/26 - 2s - 70ms/step - accuracy: 0.9247 - loss: 0.2735 - val_accuracy: 0.8556 - val_loss: 0.4049\n",
      "Epoch 84/100\n",
      "26/26 - 2s - 68ms/step - accuracy: 0.9136 - loss: 0.2823 - val_accuracy: 0.8556 - val_loss: 0.3967\n",
      "Epoch 85/100\n",
      "26/26 - 2s - 69ms/step - accuracy: 0.9296 - loss: 0.2704 - val_accuracy: 0.8667 - val_loss: 0.3916\n",
      "Epoch 86/100\n",
      "26/26 - 2s - 68ms/step - accuracy: 0.9259 - loss: 0.2627 - val_accuracy: 0.8667 - val_loss: 0.3917\n",
      "Epoch 87/100\n",
      "26/26 - 2s - 75ms/step - accuracy: 0.9420 - loss: 0.2659 - val_accuracy: 0.8556 - val_loss: 0.3952\n",
      "Epoch 88/100\n",
      "26/26 - 2s - 93ms/step - accuracy: 0.9370 - loss: 0.2508 - val_accuracy: 0.8667 - val_loss: 0.3917\n",
      "Epoch 89/100\n",
      "26/26 - 2s - 89ms/step - accuracy: 0.9333 - loss: 0.2612 - val_accuracy: 0.8444 - val_loss: 0.4006\n",
      "Epoch 90/100\n",
      "26/26 - 2s - 82ms/step - accuracy: 0.9370 - loss: 0.2546 - val_accuracy: 0.8667 - val_loss: 0.3922\n",
      "Epoch 91/100\n",
      "26/26 - 2s - 70ms/step - accuracy: 0.9383 - loss: 0.2495 - val_accuracy: 0.8667 - val_loss: 0.3927\n",
      "Epoch 92/100\n",
      "26/26 - 2s - 72ms/step - accuracy: 0.9333 - loss: 0.2562 - val_accuracy: 0.8556 - val_loss: 0.4048\n",
      "Epoch 93/100\n",
      "26/26 - 2s - 70ms/step - accuracy: 0.9370 - loss: 0.2436 - val_accuracy: 0.8667 - val_loss: 0.3835\n",
      "Epoch 94/100\n",
      "26/26 - 3s - 97ms/step - accuracy: 0.9321 - loss: 0.2484 - val_accuracy: 0.8667 - val_loss: 0.3988\n",
      "Epoch 95/100\n",
      "26/26 - 2s - 69ms/step - accuracy: 0.9370 - loss: 0.2508 - val_accuracy: 0.8556 - val_loss: 0.3821\n",
      "Epoch 96/100\n",
      "26/26 - 2s - 68ms/step - accuracy: 0.9358 - loss: 0.2394 - val_accuracy: 0.8667 - val_loss: 0.3861\n",
      "Epoch 97/100\n",
      "26/26 - 2s - 68ms/step - accuracy: 0.9358 - loss: 0.2338 - val_accuracy: 0.8667 - val_loss: 0.3904\n",
      "Epoch 98/100\n",
      "26/26 - 2s - 68ms/step - accuracy: 0.9210 - loss: 0.2643 - val_accuracy: 0.8778 - val_loss: 0.3821\n",
      "Epoch 99/100\n",
      "26/26 - 2s - 70ms/step - accuracy: 0.9469 - loss: 0.2249 - val_accuracy: 0.8556 - val_loss: 0.3925\n",
      "Epoch 100/100\n",
      "26/26 - 2s - 69ms/step - accuracy: 0.9481 - loss: 0.2225 - val_accuracy: 0.8556 - val_loss: 0.4045\n"
     ]
    }
   ],
   "source": [
    "hist = model.fit(x=X_train, y=y_train, verbose=2, batch_size=32, epochs=100, \n",
    "                 validation_data=(X_val, y_val), shuffle='true')"
   ]
  },
  {
   "cell_type": "code",
   "execution_count": 17,
   "id": "f6d8a567-767b-4d9f-900c-d0bd57627fa1",
   "metadata": {
    "tags": []
   },
   "outputs": [
    {
     "data": {
      "text/html": [
       "<pre style=\"white-space:pre;overflow-x:auto;line-height:normal;font-family:Menlo,'DejaVu Sans Mono',consolas,'Courier New',monospace\"><span style=\"font-weight: bold\">Model: \"sequential\"</span>\n",
       "</pre>\n"
      ],
      "text/plain": [
       "\u001b[1mModel: \"sequential\"\u001b[0m\n"
      ]
     },
     "metadata": {},
     "output_type": "display_data"
    },
    {
     "data": {
      "text/html": [
       "<pre style=\"white-space:pre;overflow-x:auto;line-height:normal;font-family:Menlo,'DejaVu Sans Mono',consolas,'Courier New',monospace\">┏━━━━━━━━━━━━━━━━━━━━━━━━━━━━━━━━━┳━━━━━━━━━━━━━━━━━━━━━━━━┳━━━━━━━━━━━━━━━┓\n",
       "┃<span style=\"font-weight: bold\"> Layer (type)                    </span>┃<span style=\"font-weight: bold\"> Output Shape           </span>┃<span style=\"font-weight: bold\">       Param # </span>┃\n",
       "┡━━━━━━━━━━━━━━━━━━━━━━━━━━━━━━━━━╇━━━━━━━━━━━━━━━━━━━━━━━━╇━━━━━━━━━━━━━━━┩\n",
       "│ dense (<span style=\"color: #0087ff; text-decoration-color: #0087ff\">Dense</span>)                   │ (<span style=\"color: #00d7ff; text-decoration-color: #00d7ff\">None</span>, <span style=\"color: #00af00; text-decoration-color: #00af00\">50</span>)             │     <span style=\"color: #00af00; text-decoration-color: #00af00\">5,000,050</span> │\n",
       "├─────────────────────────────────┼────────────────────────┼───────────────┤\n",
       "│ dropout (<span style=\"color: #0087ff; text-decoration-color: #0087ff\">Dropout</span>)               │ (<span style=\"color: #00d7ff; text-decoration-color: #00d7ff\">None</span>, <span style=\"color: #00af00; text-decoration-color: #00af00\">50</span>)             │             <span style=\"color: #00af00; text-decoration-color: #00af00\">0</span> │\n",
       "├─────────────────────────────────┼────────────────────────┼───────────────┤\n",
       "│ dense_1 (<span style=\"color: #0087ff; text-decoration-color: #0087ff\">Dense</span>)                 │ (<span style=\"color: #00d7ff; text-decoration-color: #00d7ff\">None</span>, <span style=\"color: #00af00; text-decoration-color: #00af00\">10</span>)             │           <span style=\"color: #00af00; text-decoration-color: #00af00\">510</span> │\n",
       "├─────────────────────────────────┼────────────────────────┼───────────────┤\n",
       "│ dropout_1 (<span style=\"color: #0087ff; text-decoration-color: #0087ff\">Dropout</span>)             │ (<span style=\"color: #00d7ff; text-decoration-color: #00d7ff\">None</span>, <span style=\"color: #00af00; text-decoration-color: #00af00\">10</span>)             │             <span style=\"color: #00af00; text-decoration-color: #00af00\">0</span> │\n",
       "├─────────────────────────────────┼────────────────────────┼───────────────┤\n",
       "│ dense_2 (<span style=\"color: #0087ff; text-decoration-color: #0087ff\">Dense</span>)                 │ (<span style=\"color: #00d7ff; text-decoration-color: #00d7ff\">None</span>, <span style=\"color: #00af00; text-decoration-color: #00af00\">10</span>)             │           <span style=\"color: #00af00; text-decoration-color: #00af00\">110</span> │\n",
       "├─────────────────────────────────┼────────────────────────┼───────────────┤\n",
       "│ dropout_2 (<span style=\"color: #0087ff; text-decoration-color: #0087ff\">Dropout</span>)             │ (<span style=\"color: #00d7ff; text-decoration-color: #00d7ff\">None</span>, <span style=\"color: #00af00; text-decoration-color: #00af00\">10</span>)             │             <span style=\"color: #00af00; text-decoration-color: #00af00\">0</span> │\n",
       "├─────────────────────────────────┼────────────────────────┼───────────────┤\n",
       "│ dense_3 (<span style=\"color: #0087ff; text-decoration-color: #0087ff\">Dense</span>)                 │ (<span style=\"color: #00d7ff; text-decoration-color: #00d7ff\">None</span>, <span style=\"color: #00af00; text-decoration-color: #00af00\">1</span>)              │            <span style=\"color: #00af00; text-decoration-color: #00af00\">11</span> │\n",
       "└─────────────────────────────────┴────────────────────────┴───────────────┘\n",
       "</pre>\n"
      ],
      "text/plain": [
       "┏━━━━━━━━━━━━━━━━━━━━━━━━━━━━━━━━━┳━━━━━━━━━━━━━━━━━━━━━━━━┳━━━━━━━━━━━━━━━┓\n",
       "┃\u001b[1m \u001b[0m\u001b[1mLayer (type)                   \u001b[0m\u001b[1m \u001b[0m┃\u001b[1m \u001b[0m\u001b[1mOutput Shape          \u001b[0m\u001b[1m \u001b[0m┃\u001b[1m \u001b[0m\u001b[1m      Param #\u001b[0m\u001b[1m \u001b[0m┃\n",
       "┡━━━━━━━━━━━━━━━━━━━━━━━━━━━━━━━━━╇━━━━━━━━━━━━━━━━━━━━━━━━╇━━━━━━━━━━━━━━━┩\n",
       "│ dense (\u001b[38;5;33mDense\u001b[0m)                   │ (\u001b[38;5;45mNone\u001b[0m, \u001b[38;5;34m50\u001b[0m)             │     \u001b[38;5;34m5,000,050\u001b[0m │\n",
       "├─────────────────────────────────┼────────────────────────┼───────────────┤\n",
       "│ dropout (\u001b[38;5;33mDropout\u001b[0m)               │ (\u001b[38;5;45mNone\u001b[0m, \u001b[38;5;34m50\u001b[0m)             │             \u001b[38;5;34m0\u001b[0m │\n",
       "├─────────────────────────────────┼────────────────────────┼───────────────┤\n",
       "│ dense_1 (\u001b[38;5;33mDense\u001b[0m)                 │ (\u001b[38;5;45mNone\u001b[0m, \u001b[38;5;34m10\u001b[0m)             │           \u001b[38;5;34m510\u001b[0m │\n",
       "├─────────────────────────────────┼────────────────────────┼───────────────┤\n",
       "│ dropout_1 (\u001b[38;5;33mDropout\u001b[0m)             │ (\u001b[38;5;45mNone\u001b[0m, \u001b[38;5;34m10\u001b[0m)             │             \u001b[38;5;34m0\u001b[0m │\n",
       "├─────────────────────────────────┼────────────────────────┼───────────────┤\n",
       "│ dense_2 (\u001b[38;5;33mDense\u001b[0m)                 │ (\u001b[38;5;45mNone\u001b[0m, \u001b[38;5;34m10\u001b[0m)             │           \u001b[38;5;34m110\u001b[0m │\n",
       "├─────────────────────────────────┼────────────────────────┼───────────────┤\n",
       "│ dropout_2 (\u001b[38;5;33mDropout\u001b[0m)             │ (\u001b[38;5;45mNone\u001b[0m, \u001b[38;5;34m10\u001b[0m)             │             \u001b[38;5;34m0\u001b[0m │\n",
       "├─────────────────────────────────┼────────────────────────┼───────────────┤\n",
       "│ dense_3 (\u001b[38;5;33mDense\u001b[0m)                 │ (\u001b[38;5;45mNone\u001b[0m, \u001b[38;5;34m1\u001b[0m)              │            \u001b[38;5;34m11\u001b[0m │\n",
       "└─────────────────────────────────┴────────────────────────┴───────────────┘\n"
      ]
     },
     "metadata": {},
     "output_type": "display_data"
    },
    {
     "data": {
      "text/html": [
       "<pre style=\"white-space:pre;overflow-x:auto;line-height:normal;font-family:Menlo,'DejaVu Sans Mono',consolas,'Courier New',monospace\"><span style=\"font-weight: bold\"> Total params: </span><span style=\"color: #00af00; text-decoration-color: #00af00\">15,002,045</span> (57.23 MB)\n",
       "</pre>\n"
      ],
      "text/plain": [
       "\u001b[1m Total params: \u001b[0m\u001b[38;5;34m15,002,045\u001b[0m (57.23 MB)\n"
      ]
     },
     "metadata": {},
     "output_type": "display_data"
    },
    {
     "data": {
      "text/html": [
       "<pre style=\"white-space:pre;overflow-x:auto;line-height:normal;font-family:Menlo,'DejaVu Sans Mono',consolas,'Courier New',monospace\"><span style=\"font-weight: bold\"> Trainable params: </span><span style=\"color: #00af00; text-decoration-color: #00af00\">5,000,681</span> (19.08 MB)\n",
       "</pre>\n"
      ],
      "text/plain": [
       "\u001b[1m Trainable params: \u001b[0m\u001b[38;5;34m5,000,681\u001b[0m (19.08 MB)\n"
      ]
     },
     "metadata": {},
     "output_type": "display_data"
    },
    {
     "data": {
      "text/html": [
       "<pre style=\"white-space:pre;overflow-x:auto;line-height:normal;font-family:Menlo,'DejaVu Sans Mono',consolas,'Courier New',monospace\"><span style=\"font-weight: bold\"> Non-trainable params: </span><span style=\"color: #00af00; text-decoration-color: #00af00\">0</span> (0.00 B)\n",
       "</pre>\n"
      ],
      "text/plain": [
       "\u001b[1m Non-trainable params: \u001b[0m\u001b[38;5;34m0\u001b[0m (0.00 B)\n"
      ]
     },
     "metadata": {},
     "output_type": "display_data"
    },
    {
     "data": {
      "text/html": [
       "<pre style=\"white-space:pre;overflow-x:auto;line-height:normal;font-family:Menlo,'DejaVu Sans Mono',consolas,'Courier New',monospace\"><span style=\"font-weight: bold\"> Optimizer params: </span><span style=\"color: #00af00; text-decoration-color: #00af00\">10,001,364</span> (38.15 MB)\n",
       "</pre>\n"
      ],
      "text/plain": [
       "\u001b[1m Optimizer params: \u001b[0m\u001b[38;5;34m10,001,364\u001b[0m (38.15 MB)\n"
      ]
     },
     "metadata": {},
     "output_type": "display_data"
    }
   ],
   "source": [
    "# resumen del model\n",
    "model.summary()"
   ]
  },
  {
   "cell_type": "code",
   "execution_count": 18,
   "id": "c797c63c",
   "metadata": {},
   "outputs": [
    {
     "name": "stdout",
     "output_type": "stream",
     "text": [
      "4/4 - 0s - 15ms/step - accuracy: 0.8300 - loss: 0.4238\n"
     ]
    }
   ],
   "source": [
    "test_loss, test_accuracy = model.evaluate(X_test, y_test, verbose=2)"
   ]
  },
  {
   "cell_type": "code",
   "execution_count": 19,
   "id": "62df3e99",
   "metadata": {},
   "outputs": [
    {
     "data": {
      "image/png": "[encoded data removed]",
      "text/plain": [
       "<Figure size 864x288 with 2 Axes>"
      ]
     },
     "metadata": {
      "needs_background": "light"
     },
     "output_type": "display_data"
    }
   ],
   "source": [
    "# Obtén los datos del historial\n",
    "accuracy = hist.history['accuracy']\n",
    "val_accuracy = hist.history['val_accuracy']\n",
    "\n",
    "loss = hist.history['loss']\n",
    "val_loss = hist.history['val_loss']\n",
    "\n",
    "\n",
    "# Gráfica de accuracy\n",
    "plt.figure(figsize=(12, 4))\n",
    "plt.subplot(1, 2, 1)\n",
    "plt.plot(accuracy, label='Train Accuracy')\n",
    "plt.plot(val_accuracy, label='Validation Accuracy')\n",
    "plt.xlabel('Épocas')\n",
    "plt.ylabel('Accuracy')\n",
    "plt.legend()\n",
    "\n",
    "# Gráfica de pérdida\n",
    "plt.subplot(1, 2, 2)\n",
    "plt.plot(loss, label='Train Loss')\n",
    "plt.plot(val_loss, label='Validation Loss')\n",
    "plt.xlabel('Épocas')\n",
    "plt.ylabel('Loss')\n",
    "plt.legend()\n",
    "\n",
    "# Ajusta los márgenes y espacios entre subplots\n",
    "plt.tight_layout()\n",
    "\n",
    "# Muestra las gráficas\n",
    "plt.show()"
   ]
  },
  {
   "cell_type": "code",
   "execution_count": 20,
   "id": "32c5ebb7",
   "metadata": {},
   "outputs": [
    {
     "name": "stdout",
     "output_type": "stream",
     "text": [
      "\u001b[1m26/26\u001b[0m \u001b[32m━━━━━━━━━━━━━━━━━━━━\u001b[0m\u001b[37m\u001b[0m \u001b[1m1s\u001b[0m 16ms/step\n",
      "\u001b[1m3/3\u001b[0m \u001b[32m━━━━━━━━━━━━━━━━━━━━\u001b[0m\u001b[37m\u001b[0m \u001b[1m0s\u001b[0m 14ms/step\n",
      "\u001b[1m4/4\u001b[0m \u001b[32m━━━━━━━━━━━━━━━━━━━━\u001b[0m\u001b[37m\u001b[0m \u001b[1m0s\u001b[0m 11ms/step\n"
     ]
    }
   ],
   "source": [
    "y_proba_train = model.predict(X_train)\n",
    "y_pred_train = y_proba_train.round().astype(int)\n",
    "y_proba_validation = model.predict(X_val)\n",
    "y_pred_validation = y_proba_validation.round().astype(int)\n",
    "y_proba_test = model.predict(X_test)\n",
    "y_pred_test = y_proba_test.round().astype(int)"
   ]
  },
  {
   "cell_type": "code",
   "execution_count": 21,
   "id": "40688d00",
   "metadata": {},
   "outputs": [],
   "source": [
    "lbl = LabelEncoder()\n",
    "target_names = ['class 0', 'class 1']\n",
    "#Class 0 = NOK\n",
    "#Class 1 = OK"
   ]
  },
  {
   "cell_type": "code",
   "execution_count": 22,
   "id": "eccf3be4",
   "metadata": {},
   "outputs": [],
   "source": [
    "!pip install -q scikit-plot\n",
    "import scikitplot as skplt"
   ]
  },
  {
   "cell_type": "code",
   "execution_count": 23,
   "id": "648a36b2",
   "metadata": {},
   "outputs": [
    {
     "name": "stdout",
     "output_type": "stream",
     "text": [
      "Train sample \n",
      "               precision    recall  f1-score   support\n",
      "\n",
      "     class 0       0.98      0.95      0.96       405\n",
      "     class 1       0.95      0.98      0.97       405\n",
      "\n",
      "    accuracy                           0.97       810\n",
      "   macro avg       0.97      0.97      0.97       810\n",
      "weighted avg       0.97      0.97      0.97       810\n",
      "\n",
      "Validation sample \n",
      "               precision    recall  f1-score   support\n",
      "\n",
      "     class 0       0.85      0.87      0.86        45\n",
      "     class 1       0.86      0.84      0.85        45\n",
      "\n",
      "    accuracy                           0.86        90\n",
      "   macro avg       0.86      0.86      0.86        90\n",
      "weighted avg       0.86      0.86      0.86        90\n",
      "\n",
      "Test sample \n",
      "               precision    recall  f1-score   support\n",
      "\n",
      "     class 0       0.79      0.90      0.84        50\n",
      "     class 1       0.88      0.76      0.82        50\n",
      "\n",
      "    accuracy                           0.83       100\n",
      "   macro avg       0.84      0.83      0.83       100\n",
      "weighted avg       0.84      0.83      0.83       100\n",
      "\n"
     ]
    }
   ],
   "source": [
    "print(\"Train sample \\n\", classification_report(y_train, y_pred_train,target_names = target_names))\n",
    "print(\"Validation sample \\n\", classification_report(y_val, y_pred_validation,target_names = target_names))\n",
    "print(\"Test sample \\n\", classification_report(y_test, y_pred_test,target_names = target_names))"
   ]
  },
  {
   "cell_type": "code",
   "execution_count": 24,
   "id": "3d5fe8c9",
   "metadata": {},
   "outputs": [
    {
     "data": {
      "image/png": "[encoded data removed]",
      "text/plain": [
       "<Figure size 432x288 with 2 Axes>"
      ]
     },
     "metadata": {
      "needs_background": "light"
     },
     "output_type": "display_data"
    },
    {
     "data": {
      "image/png": "[encoded data removed]",
      "text/plain": [
       "<Figure size 432x288 with 2 Axes>"
      ]
     },
     "metadata": {
      "needs_background": "light"
     },
     "output_type": "display_data"
    },
    {
     "data": {
      "image/png": "[encoded data removed]",
      "text/plain": [
       "<Figure size 432x288 with 2 Axes>"
      ]
     },
     "metadata": {
      "needs_background": "light"
     },
     "output_type": "display_data"
    }
   ],
   "source": [
    "# Gráfico de Matriz de Confusión\n",
    "skplt.metrics.plot_confusion_matrix(y_train, y_pred_train, normalize=True)\n",
    "plt.title('Matriz de Confusión Train')\n",
    "\n",
    "skplt.metrics.plot_confusion_matrix(y_val, y_pred_validation, normalize=True)\n",
    "plt.title('Matriz de Confusión Validation')\n",
    "\n",
    "skplt.metrics.plot_confusion_matrix(y_test, y_pred_test, normalize=True)\n",
    "plt.title('Matriz de Confusión Test')\n",
    "\n",
    "plt.show() "
   ]
  },
  {
   "cell_type": "code",
   "execution_count": 25,
   "id": "9bfbe7b2",
   "metadata": {},
   "outputs": [
    {
     "data": {
      "image/png": "[encoded data removed]",
      "text/plain": [
       "<Figure size 432x288 with 1 Axes>"
      ]
     },
     "metadata": {
      "needs_background": "light"
     },
     "output_type": "display_data"
    }
   ],
   "source": [
    "#taza de verdaderos positivos y taza de falsos positivos \n",
    "fpr, tpr, thresholds =  roc_curve(y_val, y_pred_validation)\n",
    "\n",
    "#AUC \n",
    "auc = roc_auc_score(y_val, y_pred_validation)\n",
    "\n",
    "plt.figure()\n",
    "plt.plot(fpr, tpr, color='blue', lw=2, label=f'Curva ROC (area = {auc:.2f})')\n",
    "plt.plot([0, 1], [0, 1], color='gray', linestyle='--')\n",
    "plt.xlim([0.0, 1.0])\n",
    "plt.ylim([0.0, 1.05])\n",
    "plt.xlabel('Taza de Falsos Positivos')\n",
    "plt.ylabel('Taza de Verdaderos Positivos')\n",
    "plt.title('Caracteristica Operativa del Receptor (CURVA ROC)\\n Validacion')\n",
    "\n",
    "plt.legend(loc=\"lower right\")\n",
    "plt.show()"
   ]
  },
  {
   "cell_type": "code",
   "execution_count": 26,
   "id": "4b953f3c",
   "metadata": {},
   "outputs": [
    {
     "data": {
      "image/png": "[encoded data removed]",
      "text/plain": [
       "<Figure size 432x288 with 1 Axes>"
      ]
     },
     "metadata": {
      "needs_background": "light"
     },
     "output_type": "display_data"
    }
   ],
   "source": [
    "#calcular la curva pr\n",
    "precision, recall, thresholds = precision_recall_curve(y_val, y_pred_validation)\n",
    "\n",
    "auc_pr = average_precision_score(y_val, y_pred_validation)\n",
    "\n",
    "plt.figure()\n",
    "plt.plot(recall, precision, color='blue', lw=2, label=f'Curva Precision-Recall (area = {auc_pr:.2f})')\n",
    "plt.plot([0, 1], [0, 1], color='gray', linestyle='--')\n",
    "plt.xlim([0.0, 1.0])\n",
    "plt.ylim([0.0, 1.05])\n",
    "plt.xlabel('Recall')\n",
    "plt.ylabel('Precision')\n",
    "plt.title('Curva de Precision-Recall\\n Validacion')\n",
    "\n",
    "plt.legend(loc=\"lower right\")\n",
    "plt.show()"
   ]
  },
  {
   "cell_type": "code",
   "execution_count": 27,
   "id": "3b884c54",
   "metadata": {},
   "outputs": [],
   "source": [
    "#guardar archivo de modelo ya entrenado\n",
    "target_dir = './modelo_keras_noise4/'\n",
    "if not os.path.exists(target_dir):\n",
    "    os.mkdir(target_dir)\n",
    "model.save('./modelo_keras_noise4/modelo_keras_noise4.keras')\n",
    "model.save_weights('./modelo_keras_noise4/pesos.weights.h5')"
   ]
  }
 ],
 "metadata": {
  "kernelspec": {
   "display_name": "Python 3 (ipykernel)",
   "language": "python",
   "name": "python3"
  },
  "language_info": {
   "codemirror_mode": {
    "name": "ipython",
    "version": 3
   },
   "file_extension": ".py",
   "mimetype": "text/x-python",
   "name": "python",
   "nbconvert_exporter": "python",
   "pygments_lexer": "ipython3",
   "version": "3.10.5"
  }
 },
 "nbformat": 4,
 "nbformat_minor": 5
}
