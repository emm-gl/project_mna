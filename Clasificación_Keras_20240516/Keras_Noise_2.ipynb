{
 "cells": [
  {
   "cell_type": "code",
   "execution_count": 2,
   "id": "871b942b-aecd-4cac-8d77-8872125822a1",
   "metadata": {
    "tags": []
   },
   "outputs": [],
   "source": [
    "import numpy as np\n",
    "import matplotlib.pyplot as plt\n",
    "import keras\n",
    "from keras.datasets import cifar10\n",
    "from keras.models import Sequential\n",
    "from keras.layers import Dense\n",
    "from keras.optimizers import Adam\n",
    "import tensorflow as tf\n",
    "from tensorflow.keras.utils import to_categorical\n",
    "#from keras.utils.np_utils import to_categorical\n",
    "\n",
    "import random\n",
    "     \n",
    "from keras.layers import Dropout\n",
    "from keras.layers import Flatten\n",
    "\n",
    "from tensorflow.keras.layers import Conv2D\n",
    "#from keras.layers.convolutional import Conv2D\n",
    "\n",
    "from tensorflow.keras.layers import MaxPooling2D\n",
    "#from keras.layers.convolutional import MaxPooling2D\n",
    "     \n",
    "from keras.models import Model\n",
    "\n",
    "import matplotlib.image as mpimg\n",
    "import seaborn as sns\n",
    "import cv2\n",
    "\n",
    "#from google.colab import drive\n",
    "import glob"
   ]
  },
  {
   "cell_type": "code",
   "execution_count": 3,
   "id": "500acdf7-b742-4d24-8193-f335e48c5767",
   "metadata": {
    "tags": []
   },
   "outputs": [],
   "source": [
    "file_path = 'Desktop/proyecto integrador/*'"
   ]
  },
  {
   "cell_type": "code",
   "execution_count": 4,
   "id": "1d23bd78-d49d-4d26-9ba5-2fde46a23f29",
   "metadata": {
    "tags": []
   },
   "outputs": [],
   "source": [
    "noise = glob.glob(\"OK_etiquetadas_500-2/*.png\")\n",
    "\n",
    "nonoise = glob.glob(\"NOK_etiquetadas_500-2/*.png\")"
   ]
  },
  {
   "cell_type": "code",
   "execution_count": 5,
   "id": "ec79fbc9-4488-4463-a14b-81e6658ba2d2",
   "metadata": {
    "tags": []
   },
   "outputs": [
    {
     "data": {
      "text/plain": [
       "500"
      ]
     },
     "execution_count": 5,
     "metadata": {},
     "output_type": "execute_result"
    }
   ],
   "source": [
    "len(noise)"
   ]
  },
  {
   "cell_type": "code",
   "execution_count": 6,
   "id": "86de597a-3f6f-4191-a7e7-59637293cc94",
   "metadata": {
    "tags": []
   },
   "outputs": [
    {
     "data": {
      "text/plain": [
       "500"
      ]
     },
     "execution_count": 6,
     "metadata": {},
     "output_type": "execute_result"
    }
   ],
   "source": [
    "len(nonoise)"
   ]
  },
  {
   "cell_type": "code",
   "execution_count": 7,
   "id": "4b8d8b2b-b737-4be8-96a9-96e3eccaae48",
   "metadata": {
    "tags": []
   },
   "outputs": [],
   "source": [
    "noise_Formated = []\n",
    "nonoise_Formated = []\n",
    "\n",
    "width = 400 \n",
    "height = 250\n",
    "dim = (width, height)\n",
    "\n",
    "for i in noise:\n",
    "    img_gray = mpimg.imread(i)\n",
    "    #resize image\n",
    "    img_resized = cv2.resize(img_gray, dim, interpolation = cv2.INTER_AREA)\n",
    "    \n",
    "    #add the new image to a new array\n",
    "    noise_Formated.append(img_resized)\n",
    "\n",
    "for i in nonoise:\n",
    "    img_gray = mpimg.imread(i)\n",
    "    #resize image\n",
    "    img_resized = cv2.resize(img_gray, dim, interpolation = cv2.INTER_AREA)\n",
    "    \n",
    "    #add the new image to a new array\n",
    "    nonoise_Formated.append(img_resized)"
   ]
  },
  {
   "cell_type": "code",
   "execution_count": 8,
   "id": "641b077c-7385-4fe0-bbb6-e42c6d411481",
   "metadata": {
    "tags": []
   },
   "outputs": [],
   "source": [
    "y_noise = np.ones(len(noise_Formated))\n",
    "y_nonoise = np.zeros(len(nonoise_Formated))"
   ]
  },
  {
   "cell_type": "code",
   "execution_count": 9,
   "id": "2a8f73ab-5660-4972-8d62-2eedb5a6315f",
   "metadata": {
    "tags": []
   },
   "outputs": [
    {
     "data": {
      "text/plain": [
       "(1000, 250, 400)"
      ]
     },
     "execution_count": 9,
     "metadata": {},
     "output_type": "execute_result"
    }
   ],
   "source": [
    "X = np.vstack((noise_Formated,nonoise_Formated))\n",
    "X.shape"
   ]
  },
  {
   "cell_type": "code",
   "execution_count": 10,
   "id": "e2a84da4-86ce-43cc-bf74-419e7f5aa8b2",
   "metadata": {
    "tags": []
   },
   "outputs": [
    {
     "data": {
      "text/plain": [
       "(1000,)"
      ]
     },
     "execution_count": 10,
     "metadata": {},
     "output_type": "execute_result"
    }
   ],
   "source": [
    "y = np.hstack((y_noise,y_nonoise))\n",
    "y.shape"
   ]
  },
  {
   "cell_type": "code",
   "execution_count": 11,
   "id": "065a9b81-7481-4c9b-a846-27db90d93ba1",
   "metadata": {
    "tags": []
   },
   "outputs": [],
   "source": [
    "X=X/255"
   ]
  },
  {
   "cell_type": "code",
   "execution_count": 12,
   "id": "c8e07c6f-9d2c-46f5-b0ad-9dc1a8cc9a58",
   "metadata": {
    "tags": []
   },
   "outputs": [
    {
     "name": "stdout",
     "output_type": "stream",
     "text": [
      "(1000, 100000)\n"
     ]
    }
   ],
   "source": [
    "# 400 x 250 = 100,000\n",
    "num_pixels = 100000\n",
    "X = X.reshape(X.shape[0], num_pixels)\n",
    "print(X.shape)"
   ]
  },
  {
   "cell_type": "code",
   "execution_count": 13,
   "id": "53295b89-6892-4583-ad62-92db4ce3a57a",
   "metadata": {
    "tags": []
   },
   "outputs": [
    {
     "name": "stderr",
     "output_type": "stream",
     "text": [
      "/Library/Frameworks/Python.framework/Versions/3.10/lib/python3.10/site-packages/keras/src/layers/core/dense.py:87: UserWarning: Do not pass an `input_shape`/`input_dim` argument to a layer. When using Sequential models, prefer using an `Input(shape)` object as the first layer in the model instead.\n",
      "  super().__init__(activity_regularizer=activity_regularizer, **kwargs)\n"
     ]
    },
    {
     "data": {
      "text/html": [
       "<pre style=\"white-space:pre;overflow-x:auto;line-height:normal;font-family:Menlo,'DejaVu Sans Mono',consolas,'Courier New',monospace\"><span style=\"font-weight: bold\">Model: \"sequential\"</span>\n",
       "</pre>\n"
      ],
      "text/plain": [
       "\u001b[1mModel: \"sequential\"\u001b[0m\n"
      ]
     },
     "metadata": {},
     "output_type": "display_data"
    },
    {
     "data": {
      "text/html": [
       "<pre style=\"white-space:pre;overflow-x:auto;line-height:normal;font-family:Menlo,'DejaVu Sans Mono',consolas,'Courier New',monospace\">┏━━━━━━━━━━━━━━━━━━━━━━━━━━━━━━━━━┳━━━━━━━━━━━━━━━━━━━━━━━━┳━━━━━━━━━━━━━━━┓\n",
       "┃<span style=\"font-weight: bold\"> Layer (type)                    </span>┃<span style=\"font-weight: bold\"> Output Shape           </span>┃<span style=\"font-weight: bold\">       Param # </span>┃\n",
       "┡━━━━━━━━━━━━━━━━━━━━━━━━━━━━━━━━━╇━━━━━━━━━━━━━━━━━━━━━━━━╇━━━━━━━━━━━━━━━┩\n",
       "│ dense (<span style=\"color: #0087ff; text-decoration-color: #0087ff\">Dense</span>)                   │ (<span style=\"color: #00d7ff; text-decoration-color: #00d7ff\">None</span>, <span style=\"color: #00af00; text-decoration-color: #00af00\">50</span>)             │     <span style=\"color: #00af00; text-decoration-color: #00af00\">5,000,050</span> │\n",
       "├─────────────────────────────────┼────────────────────────┼───────────────┤\n",
       "│ dense_1 (<span style=\"color: #0087ff; text-decoration-color: #0087ff\">Dense</span>)                 │ (<span style=\"color: #00d7ff; text-decoration-color: #00d7ff\">None</span>, <span style=\"color: #00af00; text-decoration-color: #00af00\">10</span>)             │           <span style=\"color: #00af00; text-decoration-color: #00af00\">510</span> │\n",
       "├─────────────────────────────────┼────────────────────────┼───────────────┤\n",
       "│ dense_2 (<span style=\"color: #0087ff; text-decoration-color: #0087ff\">Dense</span>)                 │ (<span style=\"color: #00d7ff; text-decoration-color: #00d7ff\">None</span>, <span style=\"color: #00af00; text-decoration-color: #00af00\">10</span>)             │           <span style=\"color: #00af00; text-decoration-color: #00af00\">110</span> │\n",
       "└─────────────────────────────────┴────────────────────────┴───────────────┘\n",
       "</pre>\n"
      ],
      "text/plain": [
       "┏━━━━━━━━━━━━━━━━━━━━━━━━━━━━━━━━━┳━━━━━━━━━━━━━━━━━━━━━━━━┳━━━━━━━━━━━━━━━┓\n",
       "┃\u001b[1m \u001b[0m\u001b[1mLayer (type)                   \u001b[0m\u001b[1m \u001b[0m┃\u001b[1m \u001b[0m\u001b[1mOutput Shape          \u001b[0m\u001b[1m \u001b[0m┃\u001b[1m \u001b[0m\u001b[1m      Param #\u001b[0m\u001b[1m \u001b[0m┃\n",
       "┡━━━━━━━━━━━━━━━━━━━━━━━━━━━━━━━━━╇━━━━━━━━━━━━━━━━━━━━━━━━╇━━━━━━━━━━━━━━━┩\n",
       "│ dense (\u001b[38;5;33mDense\u001b[0m)                   │ (\u001b[38;5;45mNone\u001b[0m, \u001b[38;5;34m50\u001b[0m)             │     \u001b[38;5;34m5,000,050\u001b[0m │\n",
       "├─────────────────────────────────┼────────────────────────┼───────────────┤\n",
       "│ dense_1 (\u001b[38;5;33mDense\u001b[0m)                 │ (\u001b[38;5;45mNone\u001b[0m, \u001b[38;5;34m10\u001b[0m)             │           \u001b[38;5;34m510\u001b[0m │\n",
       "├─────────────────────────────────┼────────────────────────┼───────────────┤\n",
       "│ dense_2 (\u001b[38;5;33mDense\u001b[0m)                 │ (\u001b[38;5;45mNone\u001b[0m, \u001b[38;5;34m10\u001b[0m)             │           \u001b[38;5;34m110\u001b[0m │\n",
       "└─────────────────────────────────┴────────────────────────┴───────────────┘\n"
      ]
     },
     "metadata": {},
     "output_type": "display_data"
    },
    {
     "data": {
      "text/html": [
       "<pre style=\"white-space:pre;overflow-x:auto;line-height:normal;font-family:Menlo,'DejaVu Sans Mono',consolas,'Courier New',monospace\"><span style=\"font-weight: bold\"> Total params: </span><span style=\"color: #00af00; text-decoration-color: #00af00\">5,000,670</span> (19.08 MB)\n",
       "</pre>\n"
      ],
      "text/plain": [
       "\u001b[1m Total params: \u001b[0m\u001b[38;5;34m5,000,670\u001b[0m (19.08 MB)\n"
      ]
     },
     "metadata": {},
     "output_type": "display_data"
    },
    {
     "data": {
      "text/html": [
       "<pre style=\"white-space:pre;overflow-x:auto;line-height:normal;font-family:Menlo,'DejaVu Sans Mono',consolas,'Courier New',monospace\"><span style=\"font-weight: bold\"> Trainable params: </span><span style=\"color: #00af00; text-decoration-color: #00af00\">5,000,670</span> (19.08 MB)\n",
       "</pre>\n"
      ],
      "text/plain": [
       "\u001b[1m Trainable params: \u001b[0m\u001b[38;5;34m5,000,670\u001b[0m (19.08 MB)\n"
      ]
     },
     "metadata": {},
     "output_type": "display_data"
    },
    {
     "data": {
      "text/html": [
       "<pre style=\"white-space:pre;overflow-x:auto;line-height:normal;font-family:Menlo,'DejaVu Sans Mono',consolas,'Courier New',monospace\"><span style=\"font-weight: bold\"> Non-trainable params: </span><span style=\"color: #00af00; text-decoration-color: #00af00\">0</span> (0.00 B)\n",
       "</pre>\n"
      ],
      "text/plain": [
       "\u001b[1m Non-trainable params: \u001b[0m\u001b[38;5;34m0\u001b[0m (0.00 B)\n"
      ]
     },
     "metadata": {},
     "output_type": "display_data"
    },
    {
     "name": "stdout",
     "output_type": "stream",
     "text": [
      "None\n"
     ]
    }
   ],
   "source": [
    "model = Sequential()\n",
    "model.add(Dense(units = 50, input_dim=num_pixels, activation='relu'))\n",
    "#model.add(Dropout(0.2))\n",
    "model.add(Dense(units = 10, activation='relu'))\n",
    "#model.add(Dropout(0.2))\n",
    "model.add(Dense(units = 10, activation='softmax'))\n",
    "\n",
    "optimizer = tf.keras.optimizers.Adam(learning_rate=0.1)\n",
    "model.compile(optimizer=optimizer, loss='binary_crossentropy', metrics=['accuracy'])\n",
    "print(model.summary())"
   ]
  },
  {
   "cell_type": "code",
   "execution_count": 14,
   "id": "43226466-0af8-4e0d-86da-2afcde1f4175",
   "metadata": {
    "tags": []
   },
   "outputs": [
    {
     "name": "stdout",
     "output_type": "stream",
     "text": [
      "(1000, 100000)\n",
      "(1000,)\n",
      "[1. 1. 1. 1. 1. 1. 1. 1. 1. 1. 1. 1. 1. 1. 1. 1. 1. 1. 1. 1. 1. 1. 1. 1.\n",
      " 1. 1. 1. 1. 1. 1. 1. 1. 1. 1. 1. 1. 1. 1. 1. 1. 1. 1. 1. 1. 1. 1. 1. 1.\n",
      " 1. 1. 1. 1. 1. 1. 1. 1. 1. 1. 1. 1. 1. 1. 1. 1. 1. 1. 1. 1. 1. 1. 1. 1.\n",
      " 1. 1. 1. 1. 1. 1. 1. 1. 1. 1. 1. 1. 1. 1. 1. 1. 1. 1. 1. 1. 1. 1. 1. 1.\n",
      " 1. 1. 1. 1. 1. 1. 1. 1. 1. 1. 1. 1. 1. 1. 1. 1. 1. 1. 1. 1. 1. 1. 1. 1.\n",
      " 1. 1. 1. 1. 1. 1. 1. 1. 1. 1. 1. 1. 1. 1. 1. 1. 1. 1. 1. 1. 1. 1. 1. 1.\n",
      " 1. 1. 1. 1. 1. 1. 1. 1. 1. 1. 1. 1. 1. 1. 1. 1. 1. 1. 1. 1. 1. 1. 1. 1.\n",
      " 1. 1. 1. 1. 1. 1. 1. 1. 1. 1. 1. 1. 1. 1. 1. 1. 1. 1. 1. 1. 1. 1. 1. 1.\n",
      " 1. 1. 1. 1. 1. 1. 1. 1. 1. 1. 1. 1. 1. 1. 1. 1. 1. 1. 1. 1. 1. 1. 1. 1.\n",
      " 1. 1. 1. 1. 1. 1. 1. 1. 1. 1. 1. 1. 1. 1. 1. 1. 1. 1. 1. 1. 1. 1. 1. 1.\n",
      " 1. 1. 1. 1. 1. 1. 1. 1. 1. 1. 1. 1. 1. 1. 1. 1. 1. 1. 1. 1. 1. 1. 1. 1.\n",
      " 1. 1. 1. 1. 1. 1. 1. 1. 1. 1. 1. 1. 1. 1. 1. 1. 1. 1. 1. 1. 1. 1. 1. 1.\n",
      " 1. 1. 1. 1. 1. 1. 1. 1. 1. 1. 1. 1. 1. 1. 1. 1. 1. 1. 1. 1. 1. 1. 1. 1.\n",
      " 1. 1. 1. 1. 1. 1. 1. 1. 1. 1. 1. 1. 1. 1. 1. 1. 1. 1. 1. 1. 1. 1. 1. 1.\n",
      " 1. 1. 1. 1. 1. 1. 1. 1. 1. 1. 1. 1. 1. 1. 1. 1. 1. 1. 1. 1. 1. 1. 1. 1.\n",
      " 1. 1. 1. 1. 1. 1. 1. 1. 1. 1. 1. 1. 1. 1. 1. 1. 1. 1. 1. 1. 1. 1. 1. 1.\n",
      " 1. 1. 1. 1. 1. 1. 1. 1. 1. 1. 1. 1. 1. 1. 1. 1. 1. 1. 1. 1. 1. 1. 1. 1.\n",
      " 1. 1. 1. 1. 1. 1. 1. 1. 1. 1. 1. 1. 1. 1. 1. 1. 1. 1. 1. 1. 1. 1. 1. 1.\n",
      " 1. 1. 1. 1. 1. 1. 1. 1. 1. 1. 1. 1. 1. 1. 1. 1. 1. 1. 1. 1. 1. 1. 1. 1.\n",
      " 1. 1. 1. 1. 1. 1. 1. 1. 1. 1. 1. 1. 1. 1. 1. 1. 1. 1. 1. 1. 1. 1. 1. 1.\n",
      " 1. 1. 1. 1. 1. 1. 1. 1. 1. 1. 1. 1. 1. 1. 1. 1. 1. 1. 1. 1. 0. 0. 0. 0.\n",
      " 0. 0. 0. 0. 0. 0. 0. 0. 0. 0. 0. 0. 0. 0. 0. 0. 0. 0. 0. 0. 0. 0. 0. 0.\n",
      " 0. 0. 0. 0. 0. 0. 0. 0. 0. 0. 0. 0. 0. 0. 0. 0. 0. 0. 0. 0. 0. 0. 0. 0.\n",
      " 0. 0. 0. 0. 0. 0. 0. 0. 0. 0. 0. 0. 0. 0. 0. 0. 0. 0. 0. 0. 0. 0. 0. 0.\n",
      " 0. 0. 0. 0. 0. 0. 0. 0. 0. 0. 0. 0. 0. 0. 0. 0. 0. 0. 0. 0. 0. 0. 0. 0.\n",
      " 0. 0. 0. 0. 0. 0. 0. 0. 0. 0. 0. 0. 0. 0. 0. 0. 0. 0. 0. 0. 0. 0. 0. 0.\n",
      " 0. 0. 0. 0. 0. 0. 0. 0. 0. 0. 0. 0. 0. 0. 0. 0. 0. 0. 0. 0. 0. 0. 0. 0.\n",
      " 0. 0. 0. 0. 0. 0. 0. 0. 0. 0. 0. 0. 0. 0. 0. 0. 0. 0. 0. 0. 0. 0. 0. 0.\n",
      " 0. 0. 0. 0. 0. 0. 0. 0. 0. 0. 0. 0. 0. 0. 0. 0. 0. 0. 0. 0. 0. 0. 0. 0.\n",
      " 0. 0. 0. 0. 0. 0. 0. 0. 0. 0. 0. 0. 0. 0. 0. 0. 0. 0. 0. 0. 0. 0. 0. 0.\n",
      " 0. 0. 0. 0. 0. 0. 0. 0. 0. 0. 0. 0. 0. 0. 0. 0. 0. 0. 0. 0. 0. 0. 0. 0.\n",
      " 0. 0. 0. 0. 0. 0. 0. 0. 0. 0. 0. 0. 0. 0. 0. 0. 0. 0. 0. 0. 0. 0. 0. 0.\n",
      " 0. 0. 0. 0. 0. 0. 0. 0. 0. 0. 0. 0. 0. 0. 0. 0. 0. 0. 0. 0. 0. 0. 0. 0.\n",
      " 0. 0. 0. 0. 0. 0. 0. 0. 0. 0. 0. 0. 0. 0. 0. 0. 0. 0. 0. 0. 0. 0. 0. 0.\n",
      " 0. 0. 0. 0. 0. 0. 0. 0. 0. 0. 0. 0. 0. 0. 0. 0. 0. 0. 0. 0. 0. 0. 0. 0.\n",
      " 0. 0. 0. 0. 0. 0. 0. 0. 0. 0. 0. 0. 0. 0. 0. 0. 0. 0. 0. 0. 0. 0. 0. 0.\n",
      " 0. 0. 0. 0. 0. 0. 0. 0. 0. 0. 0. 0. 0. 0. 0. 0. 0. 0. 0. 0. 0. 0. 0. 0.\n",
      " 0. 0. 0. 0. 0. 0. 0. 0. 0. 0. 0. 0. 0. 0. 0. 0. 0. 0. 0. 0. 0. 0. 0. 0.\n",
      " 0. 0. 0. 0. 0. 0. 0. 0. 0. 0. 0. 0. 0. 0. 0. 0. 0. 0. 0. 0. 0. 0. 0. 0.\n",
      " 0. 0. 0. 0. 0. 0. 0. 0. 0. 0. 0. 0. 0. 0. 0. 0. 0. 0. 0. 0. 0. 0. 0. 0.\n",
      " 0. 0. 0. 0. 0. 0. 0. 0. 0. 0. 0. 0. 0. 0. 0. 0. 0. 0. 0. 0. 0. 0. 0. 0.\n",
      " 0. 0. 0. 0. 0. 0. 0. 0. 0. 0. 0. 0. 0. 0. 0. 0.]\n"
     ]
    }
   ],
   "source": [
    "print(X.shape)\n",
    "print(y.shape)\n",
    "print(y)"
   ]
  },
  {
   "cell_type": "code",
   "execution_count": 15,
   "id": "d2dc322f-0fd0-49a9-831c-97a3574424e6",
   "metadata": {
    "tags": []
   },
   "outputs": [],
   "source": [
    "from sklearn.model_selection import train_test_split"
   ]
  },
  {
   "cell_type": "code",
   "execution_count": 16,
   "id": "a6f0e3ae-55f7-49b2-8e1f-cf2997ca7654",
   "metadata": {
    "tags": []
   },
   "outputs": [],
   "source": [
    "# 25% para el set de prueba\n",
    "X_train, X_test, y_train, y_test = train_test_split(X, y, test_size = 0.25, random_state = 42)"
   ]
  },
  {
   "cell_type": "code",
   "execution_count": 27,
   "id": "950582c9-5509-40ca-9783-3125fe59b3a6",
   "metadata": {
    "tags": []
   },
   "outputs": [],
   "source": [
    "model = Sequential()\n",
    "model.add(Dense(units=1, input_dim=100000, activation='sigmoid'))\n",
    "model.compile(optimizer=Adam(learning_rate=0.0001), loss='binary_crossentropy',  metrics=['accuracy', 'precision', 'recall'])"
   ]
  },
  {
   "cell_type": "code",
   "execution_count": 28,
   "id": "d00f22f7-9aae-4375-a851-40be848f9e37",
   "metadata": {
    "tags": []
   },
   "outputs": [
    {
     "name": "stdout",
     "output_type": "stream",
     "text": [
      "Epoch 1/100\n",
      "24/24 - 2s - 92ms/step - accuracy: 0.5427 - loss: 0.6911 - precision: 0.7465 - recall: 0.1402 - val_accuracy: 0.5160 - val_loss: 0.6896 - val_precision: 1.0000 - val_recall: 0.0082\n",
      "Epoch 2/100\n",
      "24/24 - 0s - 13ms/step - accuracy: 0.4960 - loss: 0.6870 - precision: 0.0000e+00 - recall: 0.0000e+00 - val_accuracy: 0.5120 - val_loss: 0.6867 - val_precision: 0.0000e+00 - val_recall: 0.0000e+00\n",
      "Epoch 3/100\n",
      "24/24 - 0s - 15ms/step - accuracy: 0.4987 - loss: 0.6834 - precision: 1.0000 - recall: 0.0053 - val_accuracy: 0.5240 - val_loss: 0.6842 - val_precision: 1.0000 - val_recall: 0.0246\n",
      "Epoch 4/100\n",
      "24/24 - 0s - 11ms/step - accuracy: 0.5093 - loss: 0.6801 - precision: 1.0000 - recall: 0.0265 - val_accuracy: 0.5240 - val_loss: 0.6819 - val_precision: 1.0000 - val_recall: 0.0246\n",
      "Epoch 5/100\n",
      "24/24 - 0s - 12ms/step - accuracy: 0.5147 - loss: 0.6772 - precision: 0.8500 - recall: 0.0450 - val_accuracy: 0.5440 - val_loss: 0.6798 - val_precision: 0.8333 - val_recall: 0.0820\n",
      "Epoch 6/100\n",
      "24/24 - 0s - 12ms/step - accuracy: 0.5413 - loss: 0.6741 - precision: 0.8148 - recall: 0.1164 - val_accuracy: 0.5680 - val_loss: 0.6778 - val_precision: 0.8500 - val_recall: 0.1393\n",
      "Epoch 7/100\n",
      "24/24 - 0s - 11ms/step - accuracy: 0.5560 - loss: 0.6714 - precision: 0.8000 - recall: 0.1587 - val_accuracy: 0.5600 - val_loss: 0.6758 - val_precision: 0.7000 - val_recall: 0.1721\n",
      "Epoch 8/100\n",
      "24/24 - 0s - 11ms/step - accuracy: 0.5973 - loss: 0.6684 - precision: 0.7879 - recall: 0.2751 - val_accuracy: 0.5760 - val_loss: 0.6740 - val_precision: 0.6905 - val_recall: 0.2377\n",
      "Epoch 9/100\n",
      "24/24 - 0s - 11ms/step - accuracy: 0.6253 - loss: 0.6657 - precision: 0.7975 - recall: 0.3439 - val_accuracy: 0.5800 - val_loss: 0.6721 - val_precision: 0.6441 - val_recall: 0.3115\n",
      "Epoch 10/100\n",
      "24/24 - 0s - 12ms/step - accuracy: 0.6360 - loss: 0.6630 - precision: 0.7838 - recall: 0.3836 - val_accuracy: 0.5880 - val_loss: 0.6703 - val_precision: 0.6508 - val_recall: 0.3361\n",
      "Epoch 11/100\n",
      "24/24 - 0s - 11ms/step - accuracy: 0.6453 - loss: 0.6604 - precision: 0.7569 - recall: 0.4365 - val_accuracy: 0.5760 - val_loss: 0.6687 - val_precision: 0.6026 - val_recall: 0.3852\n",
      "Epoch 12/100\n",
      "24/24 - 0s - 11ms/step - accuracy: 0.6547 - loss: 0.6579 - precision: 0.7469 - recall: 0.4762 - val_accuracy: 0.5840 - val_loss: 0.6669 - val_precision: 0.6098 - val_recall: 0.4098\n",
      "Epoch 13/100\n",
      "24/24 - 0s - 12ms/step - accuracy: 0.6573 - loss: 0.6553 - precision: 0.7410 - recall: 0.4921 - val_accuracy: 0.5880 - val_loss: 0.6653 - val_precision: 0.6067 - val_recall: 0.4426\n",
      "Epoch 14/100\n",
      "24/24 - 0s - 11ms/step - accuracy: 0.6613 - loss: 0.6528 - precision: 0.7313 - recall: 0.5185 - val_accuracy: 0.5920 - val_loss: 0.6638 - val_precision: 0.6042 - val_recall: 0.4754\n",
      "Epoch 15/100\n",
      "24/24 - 0s - 12ms/step - accuracy: 0.6707 - loss: 0.6505 - precision: 0.7266 - recall: 0.5556 - val_accuracy: 0.5920 - val_loss: 0.6621 - val_precision: 0.6042 - val_recall: 0.4754\n",
      "Epoch 16/100\n",
      "24/24 - 0s - 12ms/step - accuracy: 0.6733 - loss: 0.6482 - precision: 0.7333 - recall: 0.5529 - val_accuracy: 0.5920 - val_loss: 0.6606 - val_precision: 0.6042 - val_recall: 0.4754\n",
      "Epoch 17/100\n",
      "24/24 - 0s - 12ms/step - accuracy: 0.6760 - loss: 0.6459 - precision: 0.7336 - recall: 0.5608 - val_accuracy: 0.5920 - val_loss: 0.6593 - val_precision: 0.6020 - val_recall: 0.4836\n",
      "Epoch 18/100\n",
      "24/24 - 0s - 11ms/step - accuracy: 0.6720 - loss: 0.6439 - precision: 0.7157 - recall: 0.5794 - val_accuracy: 0.5800 - val_loss: 0.6579 - val_precision: 0.5842 - val_recall: 0.4836\n",
      "Epoch 19/100\n",
      "24/24 - 0s - 12ms/step - accuracy: 0.6707 - loss: 0.6415 - precision: 0.7162 - recall: 0.5741 - val_accuracy: 0.5880 - val_loss: 0.6566 - val_precision: 0.5960 - val_recall: 0.4836\n",
      "Epoch 20/100\n",
      "24/24 - 0s - 11ms/step - accuracy: 0.6760 - loss: 0.6394 - precision: 0.7213 - recall: 0.5820 - val_accuracy: 0.5840 - val_loss: 0.6552 - val_precision: 0.5882 - val_recall: 0.4918\n",
      "Epoch 21/100\n",
      "24/24 - 0s - 12ms/step - accuracy: 0.6800 - loss: 0.6374 - precision: 0.7184 - recall: 0.6005 - val_accuracy: 0.6040 - val_loss: 0.6540 - val_precision: 0.6055 - val_recall: 0.5410\n",
      "Epoch 22/100\n",
      "24/24 - 0s - 12ms/step - accuracy: 0.6787 - loss: 0.6354 - precision: 0.7161 - recall: 0.6005 - val_accuracy: 0.5880 - val_loss: 0.6527 - val_precision: 0.5905 - val_recall: 0.5082\n",
      "Epoch 23/100\n",
      "24/24 - 0s - 12ms/step - accuracy: 0.6787 - loss: 0.6334 - precision: 0.7134 - recall: 0.6058 - val_accuracy: 0.6040 - val_loss: 0.6515 - val_precision: 0.6055 - val_recall: 0.5410\n",
      "Epoch 24/100\n",
      "24/24 - 0s - 12ms/step - accuracy: 0.6827 - loss: 0.6315 - precision: 0.7147 - recall: 0.6164 - val_accuracy: 0.6120 - val_loss: 0.6504 - val_precision: 0.6126 - val_recall: 0.5574\n",
      "Epoch 25/100\n",
      "24/24 - 1s - 25ms/step - accuracy: 0.6867 - loss: 0.6296 - precision: 0.7147 - recall: 0.6296 - val_accuracy: 0.6120 - val_loss: 0.6493 - val_precision: 0.6106 - val_recall: 0.5656\n",
      "Epoch 26/100\n",
      "24/24 - 0s - 11ms/step - accuracy: 0.6853 - loss: 0.6278 - precision: 0.7088 - recall: 0.6376 - val_accuracy: 0.6200 - val_loss: 0.6483 - val_precision: 0.6174 - val_recall: 0.5820\n",
      "Epoch 27/100\n",
      "24/24 - 0s - 12ms/step - accuracy: 0.6853 - loss: 0.6260 - precision: 0.7113 - recall: 0.6323 - val_accuracy: 0.6160 - val_loss: 0.6472 - val_precision: 0.6161 - val_recall: 0.5656\n",
      "Epoch 28/100\n",
      "24/24 - 0s - 14ms/step - accuracy: 0.6867 - loss: 0.6242 - precision: 0.7109 - recall: 0.6376 - val_accuracy: 0.6200 - val_loss: 0.6462 - val_precision: 0.6174 - val_recall: 0.5820\n",
      "Epoch 29/100\n",
      "24/24 - 0s - 15ms/step - accuracy: 0.6867 - loss: 0.6225 - precision: 0.7097 - recall: 0.6402 - val_accuracy: 0.6200 - val_loss: 0.6452 - val_precision: 0.6174 - val_recall: 0.5820\n",
      "Epoch 30/100\n",
      "24/24 - 0s - 20ms/step - accuracy: 0.6880 - loss: 0.6210 - precision: 0.7118 - recall: 0.6402 - val_accuracy: 0.6200 - val_loss: 0.6443 - val_precision: 0.6174 - val_recall: 0.5820\n",
      "Epoch 31/100\n",
      "24/24 - 0s - 21ms/step - accuracy: 0.6907 - loss: 0.6193 - precision: 0.7122 - recall: 0.6481 - val_accuracy: 0.6240 - val_loss: 0.6434 - val_precision: 0.6186 - val_recall: 0.5984\n",
      "Epoch 32/100\n",
      "24/24 - 0s - 17ms/step - accuracy: 0.6933 - loss: 0.6176 - precision: 0.7102 - recall: 0.6614 - val_accuracy: 0.6240 - val_loss: 0.6426 - val_precision: 0.6186 - val_recall: 0.5984\n",
      "Epoch 33/100\n",
      "24/24 - 0s - 17ms/step - accuracy: 0.6933 - loss: 0.6162 - precision: 0.7102 - recall: 0.6614 - val_accuracy: 0.6240 - val_loss: 0.6417 - val_precision: 0.6186 - val_recall: 0.5984\n",
      "Epoch 34/100\n",
      "24/24 - 0s - 20ms/step - accuracy: 0.6947 - loss: 0.6147 - precision: 0.7110 - recall: 0.6640 - val_accuracy: 0.6240 - val_loss: 0.6409 - val_precision: 0.6186 - val_recall: 0.5984\n",
      "Epoch 35/100\n",
      "24/24 - 0s - 16ms/step - accuracy: 0.6973 - loss: 0.6131 - precision: 0.7115 - recall: 0.6720 - val_accuracy: 0.6240 - val_loss: 0.6401 - val_precision: 0.6167 - val_recall: 0.6066\n",
      "Epoch 36/100\n",
      "24/24 - 0s - 12ms/step - accuracy: 0.6973 - loss: 0.6117 - precision: 0.7091 - recall: 0.6772 - val_accuracy: 0.6280 - val_loss: 0.6394 - val_precision: 0.6198 - val_recall: 0.6148\n",
      "Epoch 37/100\n",
      "24/24 - 0s - 11ms/step - accuracy: 0.6973 - loss: 0.6103 - precision: 0.7080 - recall: 0.6799 - val_accuracy: 0.6280 - val_loss: 0.6386 - val_precision: 0.6179 - val_recall: 0.6230\n",
      "Epoch 38/100\n",
      "24/24 - 0s - 13ms/step - accuracy: 0.6973 - loss: 0.6091 - precision: 0.7091 - recall: 0.6772 - val_accuracy: 0.6240 - val_loss: 0.6379 - val_precision: 0.6129 - val_recall: 0.6230\n",
      "Epoch 39/100\n",
      "24/24 - 0s - 20ms/step - accuracy: 0.6947 - loss: 0.6077 - precision: 0.7041 - recall: 0.6799 - val_accuracy: 0.6240 - val_loss: 0.6372 - val_precision: 0.6129 - val_recall: 0.6230\n",
      "Epoch 40/100\n",
      "24/24 - 0s - 16ms/step - accuracy: 0.6960 - loss: 0.6064 - precision: 0.7060 - recall: 0.6799 - val_accuracy: 0.6240 - val_loss: 0.6365 - val_precision: 0.6111 - val_recall: 0.6311\n",
      "Epoch 41/100\n",
      "24/24 - 1s - 22ms/step - accuracy: 0.6947 - loss: 0.6051 - precision: 0.7052 - recall: 0.6772 - val_accuracy: 0.6200 - val_loss: 0.6359 - val_precision: 0.6098 - val_recall: 0.6148\n",
      "Epoch 42/100\n",
      "24/24 - 0s - 14ms/step - accuracy: 0.6960 - loss: 0.6038 - precision: 0.7060 - recall: 0.6799 - val_accuracy: 0.6280 - val_loss: 0.6353 - val_precision: 0.6160 - val_recall: 0.6311\n",
      "Epoch 43/100\n",
      "24/24 - 0s - 15ms/step - accuracy: 0.6933 - loss: 0.6026 - precision: 0.7022 - recall: 0.6799 - val_accuracy: 0.6240 - val_loss: 0.6347 - val_precision: 0.6094 - val_recall: 0.6393\n",
      "Epoch 44/100\n",
      "24/24 - 0s - 17ms/step - accuracy: 0.6960 - loss: 0.6016 - precision: 0.7060 - recall: 0.6799 - val_accuracy: 0.6240 - val_loss: 0.6341 - val_precision: 0.6111 - val_recall: 0.6311\n",
      "Epoch 45/100\n",
      "24/24 - 0s - 15ms/step - accuracy: 0.6947 - loss: 0.6003 - precision: 0.7041 - recall: 0.6799 - val_accuracy: 0.6280 - val_loss: 0.6335 - val_precision: 0.6160 - val_recall: 0.6311\n",
      "Epoch 46/100\n",
      "24/24 - 0s - 17ms/step - accuracy: 0.6960 - loss: 0.5994 - precision: 0.7060 - recall: 0.6799 - val_accuracy: 0.6280 - val_loss: 0.6329 - val_precision: 0.6160 - val_recall: 0.6311\n",
      "Epoch 47/100\n",
      "24/24 - 0s - 14ms/step - accuracy: 0.6973 - loss: 0.5981 - precision: 0.7057 - recall: 0.6852 - val_accuracy: 0.6240 - val_loss: 0.6325 - val_precision: 0.6077 - val_recall: 0.6475\n",
      "Epoch 48/100\n",
      "24/24 - 0s - 12ms/step - accuracy: 0.6973 - loss: 0.5971 - precision: 0.7057 - recall: 0.6852 - val_accuracy: 0.6280 - val_loss: 0.6319 - val_precision: 0.6142 - val_recall: 0.6393\n",
      "Epoch 49/100\n",
      "24/24 - 0s - 13ms/step - accuracy: 0.6987 - loss: 0.5960 - precision: 0.7065 - recall: 0.6878 - val_accuracy: 0.6240 - val_loss: 0.6315 - val_precision: 0.6061 - val_recall: 0.6557\n",
      "Epoch 50/100\n",
      "24/24 - 0s - 18ms/step - accuracy: 0.6973 - loss: 0.5949 - precision: 0.7046 - recall: 0.6878 - val_accuracy: 0.6280 - val_loss: 0.6310 - val_precision: 0.6107 - val_recall: 0.6557\n",
      "Epoch 51/100\n",
      "24/24 - 0s - 16ms/step - accuracy: 0.6987 - loss: 0.5939 - precision: 0.7054 - recall: 0.6905 - val_accuracy: 0.6280 - val_loss: 0.6305 - val_precision: 0.6090 - val_recall: 0.6639\n",
      "Epoch 52/100\n",
      "24/24 - 0s - 12ms/step - accuracy: 0.6960 - loss: 0.5928 - precision: 0.7027 - recall: 0.6878 - val_accuracy: 0.6280 - val_loss: 0.6301 - val_precision: 0.6107 - val_recall: 0.6557\n",
      "Epoch 53/100\n",
      "24/24 - 0s - 11ms/step - accuracy: 0.6973 - loss: 0.5919 - precision: 0.7046 - recall: 0.6878 - val_accuracy: 0.6280 - val_loss: 0.6296 - val_precision: 0.6107 - val_recall: 0.6557\n",
      "Epoch 54/100\n",
      "24/24 - 0s - 12ms/step - accuracy: 0.6960 - loss: 0.5910 - precision: 0.7027 - recall: 0.6878 - val_accuracy: 0.6320 - val_loss: 0.6291 - val_precision: 0.6154 - val_recall: 0.6557\n",
      "Epoch 55/100\n",
      "24/24 - 0s - 16ms/step - accuracy: 0.6973 - loss: 0.5899 - precision: 0.7046 - recall: 0.6878 - val_accuracy: 0.6240 - val_loss: 0.6287 - val_precision: 0.6029 - val_recall: 0.6721\n",
      "Epoch 56/100\n",
      "24/24 - 0s - 15ms/step - accuracy: 0.6987 - loss: 0.5890 - precision: 0.7065 - recall: 0.6878 - val_accuracy: 0.6320 - val_loss: 0.6283 - val_precision: 0.6154 - val_recall: 0.6557\n",
      "Epoch 57/100\n",
      "24/24 - 0s - 12ms/step - accuracy: 0.6960 - loss: 0.5881 - precision: 0.7016 - recall: 0.6905 - val_accuracy: 0.6280 - val_loss: 0.6280 - val_precision: 0.6058 - val_recall: 0.6803\n",
      "Epoch 58/100\n",
      "24/24 - 0s - 12ms/step - accuracy: 0.6960 - loss: 0.5872 - precision: 0.7005 - recall: 0.6931 - val_accuracy: 0.6280 - val_loss: 0.6276 - val_precision: 0.6058 - val_recall: 0.6803\n",
      "Epoch 59/100\n",
      "24/24 - 0s - 12ms/step - accuracy: 0.6947 - loss: 0.5863 - precision: 0.6987 - recall: 0.6931 - val_accuracy: 0.6280 - val_loss: 0.6272 - val_precision: 0.6058 - val_recall: 0.6803\n",
      "Epoch 60/100\n",
      "24/24 - 0s - 12ms/step - accuracy: 0.6960 - loss: 0.5855 - precision: 0.7016 - recall: 0.6905 - val_accuracy: 0.6280 - val_loss: 0.6268 - val_precision: 0.6058 - val_recall: 0.6803\n",
      "Epoch 61/100\n",
      "24/24 - 0s - 11ms/step - accuracy: 0.6947 - loss: 0.5846 - precision: 0.6976 - recall: 0.6958 - val_accuracy: 0.6280 - val_loss: 0.6265 - val_precision: 0.6058 - val_recall: 0.6803\n",
      "Epoch 62/100\n",
      "24/24 - 0s - 11ms/step - accuracy: 0.6960 - loss: 0.5837 - precision: 0.6995 - recall: 0.6958 - val_accuracy: 0.6280 - val_loss: 0.6261 - val_precision: 0.6058 - val_recall: 0.6803\n",
      "Epoch 63/100\n",
      "24/24 - 0s - 11ms/step - accuracy: 0.6973 - loss: 0.5831 - precision: 0.6982 - recall: 0.7037 - val_accuracy: 0.6280 - val_loss: 0.6259 - val_precision: 0.6058 - val_recall: 0.6803\n",
      "Epoch 64/100\n",
      "24/24 - 0s - 12ms/step - accuracy: 0.6960 - loss: 0.5822 - precision: 0.6995 - recall: 0.6958 - val_accuracy: 0.6320 - val_loss: 0.6254 - val_precision: 0.6103 - val_recall: 0.6803\n",
      "Epoch 65/100\n",
      "24/24 - 0s - 12ms/step - accuracy: 0.6960 - loss: 0.5813 - precision: 0.7005 - recall: 0.6931 - val_accuracy: 0.6320 - val_loss: 0.6251 - val_precision: 0.6103 - val_recall: 0.6803\n",
      "Epoch 66/100\n",
      "24/24 - 0s - 11ms/step - accuracy: 0.6960 - loss: 0.5805 - precision: 0.6995 - recall: 0.6958 - val_accuracy: 0.6280 - val_loss: 0.6247 - val_precision: 0.6058 - val_recall: 0.6803\n",
      "Epoch 67/100\n",
      "24/24 - 0s - 11ms/step - accuracy: 0.6960 - loss: 0.5799 - precision: 0.6984 - recall: 0.6984 - val_accuracy: 0.6280 - val_loss: 0.6245 - val_precision: 0.6058 - val_recall: 0.6803\n",
      "Epoch 68/100\n",
      "24/24 - 0s - 11ms/step - accuracy: 0.6973 - loss: 0.5790 - precision: 0.7013 - recall: 0.6958 - val_accuracy: 0.6320 - val_loss: 0.6242 - val_precision: 0.6103 - val_recall: 0.6803\n",
      "Epoch 69/100\n",
      "24/24 - 0s - 11ms/step - accuracy: 0.6973 - loss: 0.5783 - precision: 0.7003 - recall: 0.6984 - val_accuracy: 0.6280 - val_loss: 0.6239 - val_precision: 0.6058 - val_recall: 0.6803\n",
      "Epoch 70/100\n",
      "24/24 - 0s - 11ms/step - accuracy: 0.6987 - loss: 0.5776 - precision: 0.7000 - recall: 0.7037 - val_accuracy: 0.6240 - val_loss: 0.6237 - val_precision: 0.6014 - val_recall: 0.6803\n",
      "Epoch 71/100\n",
      "24/24 - 0s - 12ms/step - accuracy: 0.6987 - loss: 0.5768 - precision: 0.7000 - recall: 0.7037 - val_accuracy: 0.6280 - val_loss: 0.6234 - val_precision: 0.6058 - val_recall: 0.6803\n",
      "Epoch 72/100\n",
      "24/24 - 0s - 13ms/step - accuracy: 0.6973 - loss: 0.5761 - precision: 0.7003 - recall: 0.6984 - val_accuracy: 0.6320 - val_loss: 0.6231 - val_precision: 0.6103 - val_recall: 0.6803\n",
      "Epoch 73/100\n",
      "24/24 - 0s - 11ms/step - accuracy: 0.6987 - loss: 0.5754 - precision: 0.7021 - recall: 0.6984 - val_accuracy: 0.6320 - val_loss: 0.6229 - val_precision: 0.6103 - val_recall: 0.6803\n",
      "Epoch 74/100\n",
      "24/24 - 0s - 11ms/step - accuracy: 0.7000 - loss: 0.5747 - precision: 0.7029 - recall: 0.7011 - val_accuracy: 0.6240 - val_loss: 0.6227 - val_precision: 0.6014 - val_recall: 0.6803\n",
      "Epoch 75/100\n",
      "24/24 - 0s - 11ms/step - accuracy: 0.7000 - loss: 0.5740 - precision: 0.7029 - recall: 0.7011 - val_accuracy: 0.6320 - val_loss: 0.6224 - val_precision: 0.6103 - val_recall: 0.6803\n",
      "Epoch 76/100\n",
      "24/24 - 0s - 11ms/step - accuracy: 0.7013 - loss: 0.5734 - precision: 0.7026 - recall: 0.7063 - val_accuracy: 0.6280 - val_loss: 0.6221 - val_precision: 0.6058 - val_recall: 0.6803\n",
      "Epoch 77/100\n",
      "24/24 - 0s - 11ms/step - accuracy: 0.7027 - loss: 0.5727 - precision: 0.7045 - recall: 0.7063 - val_accuracy: 0.6280 - val_loss: 0.6219 - val_precision: 0.6058 - val_recall: 0.6803\n",
      "Epoch 78/100\n",
      "24/24 - 0s - 11ms/step - accuracy: 0.7013 - loss: 0.5722 - precision: 0.7037 - recall: 0.7037 - val_accuracy: 0.6280 - val_loss: 0.6217 - val_precision: 0.6058 - val_recall: 0.6803\n",
      "Epoch 79/100\n",
      "24/24 - 0s - 11ms/step - accuracy: 0.7040 - loss: 0.5714 - precision: 0.7053 - recall: 0.7090 - val_accuracy: 0.6320 - val_loss: 0.6214 - val_precision: 0.6103 - val_recall: 0.6803\n",
      "Epoch 80/100\n",
      "24/24 - 0s - 11ms/step - accuracy: 0.7000 - loss: 0.5710 - precision: 0.7029 - recall: 0.7011 - val_accuracy: 0.6320 - val_loss: 0.6212 - val_precision: 0.6103 - val_recall: 0.6803\n",
      "Epoch 81/100\n",
      "24/24 - 0s - 11ms/step - accuracy: 0.7027 - loss: 0.5702 - precision: 0.7034 - recall: 0.7090 - val_accuracy: 0.6280 - val_loss: 0.6210 - val_precision: 0.6058 - val_recall: 0.6803\n",
      "Epoch 82/100\n",
      "24/24 - 0s - 11ms/step - accuracy: 0.7040 - loss: 0.5696 - precision: 0.7053 - recall: 0.7090 - val_accuracy: 0.6280 - val_loss: 0.6208 - val_precision: 0.6058 - val_recall: 0.6803\n",
      "Epoch 83/100\n",
      "24/24 - 0s - 11ms/step - accuracy: 0.7040 - loss: 0.5690 - precision: 0.7042 - recall: 0.7116 - val_accuracy: 0.6360 - val_loss: 0.6206 - val_precision: 0.6115 - val_recall: 0.6967\n",
      "Epoch 84/100\n",
      "24/24 - 0s - 11ms/step - accuracy: 0.7053 - loss: 0.5684 - precision: 0.7050 - recall: 0.7143 - val_accuracy: 0.6360 - val_loss: 0.6205 - val_precision: 0.6115 - val_recall: 0.6967\n",
      "Epoch 85/100\n",
      "24/24 - 0s - 13ms/step - accuracy: 0.7067 - loss: 0.5678 - precision: 0.7057 - recall: 0.7169 - val_accuracy: 0.6360 - val_loss: 0.6202 - val_precision: 0.6115 - val_recall: 0.6967\n",
      "Epoch 86/100\n",
      "24/24 - 0s - 11ms/step - accuracy: 0.7053 - loss: 0.5673 - precision: 0.7050 - recall: 0.7143 - val_accuracy: 0.6360 - val_loss: 0.6201 - val_precision: 0.6115 - val_recall: 0.6967\n",
      "Epoch 87/100\n",
      "24/24 - 0s - 12ms/step - accuracy: 0.7080 - loss: 0.5668 - precision: 0.7065 - recall: 0.7196 - val_accuracy: 0.6400 - val_loss: 0.6200 - val_precision: 0.6143 - val_recall: 0.7049\n",
      "Epoch 88/100\n",
      "24/24 - 0s - 14ms/step - accuracy: 0.7067 - loss: 0.5662 - precision: 0.7068 - recall: 0.7143 - val_accuracy: 0.6320 - val_loss: 0.6196 - val_precision: 0.6103 - val_recall: 0.6803\n",
      "Epoch 89/100\n",
      "24/24 - 0s - 14ms/step - accuracy: 0.7027 - loss: 0.5656 - precision: 0.7034 - recall: 0.7090 - val_accuracy: 0.6360 - val_loss: 0.6195 - val_precision: 0.6115 - val_recall: 0.6967\n",
      "Epoch 90/100\n",
      "24/24 - 0s - 13ms/step - accuracy: 0.7027 - loss: 0.5651 - precision: 0.7034 - recall: 0.7090 - val_accuracy: 0.6360 - val_loss: 0.6193 - val_precision: 0.6115 - val_recall: 0.6967\n",
      "Epoch 91/100\n",
      "24/24 - 0s - 14ms/step - accuracy: 0.7053 - loss: 0.5646 - precision: 0.7050 - recall: 0.7143 - val_accuracy: 0.6360 - val_loss: 0.6192 - val_precision: 0.6115 - val_recall: 0.6967\n",
      "Epoch 92/100\n",
      "24/24 - 0s - 16ms/step - accuracy: 0.7067 - loss: 0.5641 - precision: 0.7057 - recall: 0.7169 - val_accuracy: 0.6360 - val_loss: 0.6190 - val_precision: 0.6115 - val_recall: 0.6967\n",
      "Epoch 93/100\n",
      "24/24 - 0s - 16ms/step - accuracy: 0.7080 - loss: 0.5635 - precision: 0.7054 - recall: 0.7222 - val_accuracy: 0.6320 - val_loss: 0.6189 - val_precision: 0.6071 - val_recall: 0.6967\n",
      "Epoch 94/100\n",
      "24/24 - 0s - 14ms/step - accuracy: 0.7093 - loss: 0.5629 - precision: 0.7062 - recall: 0.7249 - val_accuracy: 0.6320 - val_loss: 0.6188 - val_precision: 0.6071 - val_recall: 0.6967\n",
      "Epoch 95/100\n",
      "24/24 - 0s - 14ms/step - accuracy: 0.7093 - loss: 0.5624 - precision: 0.7062 - recall: 0.7249 - val_accuracy: 0.6320 - val_loss: 0.6186 - val_precision: 0.6071 - val_recall: 0.6967\n",
      "Epoch 96/100\n",
      "24/24 - 0s - 11ms/step - accuracy: 0.7093 - loss: 0.5619 - precision: 0.7073 - recall: 0.7222 - val_accuracy: 0.6360 - val_loss: 0.6184 - val_precision: 0.6115 - val_recall: 0.6967\n",
      "Epoch 97/100\n",
      "24/24 - 0s - 11ms/step - accuracy: 0.7107 - loss: 0.5614 - precision: 0.7080 - recall: 0.7249 - val_accuracy: 0.6320 - val_loss: 0.6183 - val_precision: 0.6071 - val_recall: 0.6967\n",
      "Epoch 98/100\n",
      "24/24 - 0s - 16ms/step - accuracy: 0.7120 - loss: 0.5610 - precision: 0.7077 - recall: 0.7302 - val_accuracy: 0.6360 - val_loss: 0.6182 - val_precision: 0.6099 - val_recall: 0.7049\n",
      "Epoch 99/100\n",
      "24/24 - 0s - 15ms/step - accuracy: 0.7120 - loss: 0.5605 - precision: 0.7077 - recall: 0.7302 - val_accuracy: 0.6360 - val_loss: 0.6181 - val_precision: 0.6099 - val_recall: 0.7049\n",
      "Epoch 100/100\n",
      "24/24 - 0s - 12ms/step - accuracy: 0.7120 - loss: 0.5600 - precision: 0.7077 - recall: 0.7302 - val_accuracy: 0.6360 - val_loss: 0.6179 - val_precision: 0.6099 - val_recall: 0.7049\n"
     ]
    }
   ],
   "source": [
    "hist = model.fit(x=X_train, y=y_train, verbose=2, batch_size=32, epochs=100, \n",
    "                 validation_data=(X_test, y_test), shuffle='true')"
   ]
  },
  {
   "cell_type": "code",
   "execution_count": 29,
   "id": "f6d8a567-767b-4d9f-900c-d0bd57627fa1",
   "metadata": {
    "tags": []
   },
   "outputs": [
    {
     "data": {
      "text/html": [
       "<pre style=\"white-space:pre;overflow-x:auto;line-height:normal;font-family:Menlo,'DejaVu Sans Mono',consolas,'Courier New',monospace\"><span style=\"font-weight: bold\">Model: \"sequential_4\"</span>\n",
       "</pre>\n"
      ],
      "text/plain": [
       "\u001b[1mModel: \"sequential_4\"\u001b[0m\n"
      ]
     },
     "metadata": {},
     "output_type": "display_data"
    },
    {
     "data": {
      "text/html": [
       "<pre style=\"white-space:pre;overflow-x:auto;line-height:normal;font-family:Menlo,'DejaVu Sans Mono',consolas,'Courier New',monospace\">┏━━━━━━━━━━━━━━━━━━━━━━━━━━━━━━━━━┳━━━━━━━━━━━━━━━━━━━━━━━━┳━━━━━━━━━━━━━━━┓\n",
       "┃<span style=\"font-weight: bold\"> Layer (type)                    </span>┃<span style=\"font-weight: bold\"> Output Shape           </span>┃<span style=\"font-weight: bold\">       Param # </span>┃\n",
       "┡━━━━━━━━━━━━━━━━━━━━━━━━━━━━━━━━━╇━━━━━━━━━━━━━━━━━━━━━━━━╇━━━━━━━━━━━━━━━┩\n",
       "│ dense_6 (<span style=\"color: #0087ff; text-decoration-color: #0087ff\">Dense</span>)                 │ (<span style=\"color: #00d7ff; text-decoration-color: #00d7ff\">None</span>, <span style=\"color: #00af00; text-decoration-color: #00af00\">1</span>)              │       <span style=\"color: #00af00; text-decoration-color: #00af00\">100,001</span> │\n",
       "└─────────────────────────────────┴────────────────────────┴───────────────┘\n",
       "</pre>\n"
      ],
      "text/plain": [
       "┏━━━━━━━━━━━━━━━━━━━━━━━━━━━━━━━━━┳━━━━━━━━━━━━━━━━━━━━━━━━┳━━━━━━━━━━━━━━━┓\n",
       "┃\u001b[1m \u001b[0m\u001b[1mLayer (type)                   \u001b[0m\u001b[1m \u001b[0m┃\u001b[1m \u001b[0m\u001b[1mOutput Shape          \u001b[0m\u001b[1m \u001b[0m┃\u001b[1m \u001b[0m\u001b[1m      Param #\u001b[0m\u001b[1m \u001b[0m┃\n",
       "┡━━━━━━━━━━━━━━━━━━━━━━━━━━━━━━━━━╇━━━━━━━━━━━━━━━━━━━━━━━━╇━━━━━━━━━━━━━━━┩\n",
       "│ dense_6 (\u001b[38;5;33mDense\u001b[0m)                 │ (\u001b[38;5;45mNone\u001b[0m, \u001b[38;5;34m1\u001b[0m)              │       \u001b[38;5;34m100,001\u001b[0m │\n",
       "└─────────────────────────────────┴────────────────────────┴───────────────┘\n"
      ]
     },
     "metadata": {},
     "output_type": "display_data"
    },
    {
     "data": {
      "text/html": [
       "<pre style=\"white-space:pre;overflow-x:auto;line-height:normal;font-family:Menlo,'DejaVu Sans Mono',consolas,'Courier New',monospace\"><span style=\"font-weight: bold\"> Total params: </span><span style=\"color: #00af00; text-decoration-color: #00af00\">300,005</span> (1.14 MB)\n",
       "</pre>\n"
      ],
      "text/plain": [
       "\u001b[1m Total params: \u001b[0m\u001b[38;5;34m300,005\u001b[0m (1.14 MB)\n"
      ]
     },
     "metadata": {},
     "output_type": "display_data"
    },
    {
     "data": {
      "text/html": [
       "<pre style=\"white-space:pre;overflow-x:auto;line-height:normal;font-family:Menlo,'DejaVu Sans Mono',consolas,'Courier New',monospace\"><span style=\"font-weight: bold\"> Trainable params: </span><span style=\"color: #00af00; text-decoration-color: #00af00\">100,001</span> (390.63 KB)\n",
       "</pre>\n"
      ],
      "text/plain": [
       "\u001b[1m Trainable params: \u001b[0m\u001b[38;5;34m100,001\u001b[0m (390.63 KB)\n"
      ]
     },
     "metadata": {},
     "output_type": "display_data"
    },
    {
     "data": {
      "text/html": [
       "<pre style=\"white-space:pre;overflow-x:auto;line-height:normal;font-family:Menlo,'DejaVu Sans Mono',consolas,'Courier New',monospace\"><span style=\"font-weight: bold\"> Non-trainable params: </span><span style=\"color: #00af00; text-decoration-color: #00af00\">0</span> (0.00 B)\n",
       "</pre>\n"
      ],
      "text/plain": [
       "\u001b[1m Non-trainable params: \u001b[0m\u001b[38;5;34m0\u001b[0m (0.00 B)\n"
      ]
     },
     "metadata": {},
     "output_type": "display_data"
    },
    {
     "data": {
      "text/html": [
       "<pre style=\"white-space:pre;overflow-x:auto;line-height:normal;font-family:Menlo,'DejaVu Sans Mono',consolas,'Courier New',monospace\"><span style=\"font-weight: bold\"> Optimizer params: </span><span style=\"color: #00af00; text-decoration-color: #00af00\">200,004</span> (781.27 KB)\n",
       "</pre>\n"
      ],
      "text/plain": [
       "\u001b[1m Optimizer params: \u001b[0m\u001b[38;5;34m200,004\u001b[0m (781.27 KB)\n"
      ]
     },
     "metadata": {},
     "output_type": "display_data"
    }
   ],
   "source": [
    "# resumen del model\n",
    "model.summary()"
   ]
  },
  {
   "cell_type": "code",
   "execution_count": 36,
   "id": "62df3e99",
   "metadata": {},
   "outputs": [
    {
     "data": {
      "image/png": "[encoded data removed]",
      "text/plain": [
       "<Figure size 576x432 with 4 Axes>"
      ]
     },
     "metadata": {
      "needs_background": "light"
     },
     "output_type": "display_data"
    }
   ],
   "source": [
    "# Obtén los datos del historial\n",
    "accuracy = hist.history['accuracy']\n",
    "val_accuracy = hist.history['val_accuracy']\n",
    "\n",
    "precision = hist.history['precision']\n",
    "val_precision = hist.history['val_precision']\n",
    "\n",
    "recall = hist.history['recall']\n",
    "val_recall = hist.history['val_recall']\n",
    "\n",
    "loss = hist.history['loss']\n",
    "val_loss = hist.history['val_loss']\n",
    "\n",
    "\n",
    "# Crea la figura y los subplots\n",
    "fig, ((ax1, ax2), (ax3, ax4)) = plt.subplots(2, 2, figsize=(8, 6))\n",
    "\n",
    "# Gráfica de accuracy\n",
    "ax1.plot(accuracy, label='Accuracy Entrenamiento')\n",
    "ax1.plot(val_accuracy, label='Accuracy Validación')\n",
    "ax1.set_xlabel('Épocas')\n",
    "ax1.set_ylabel('Accuracy')\n",
    "ax1.legend()\n",
    "\n",
    "# Gráfica de precision\n",
    "ax2.plot(accuracy, label='Precision Entrenamiento')\n",
    "ax2.plot(val_accuracy, label='Precision Validación')\n",
    "ax2.set_xlabel('Épocas')\n",
    "ax2.set_ylabel('Precision')\n",
    "ax2.legend()\n",
    "\n",
    "# Gráfica de recall\n",
    "ax3.plot(accuracy, label='Recall Entrenamiento')\n",
    "ax3.plot(val_accuracy, label='Recall Validación')\n",
    "ax3.set_xlabel('Épocas')\n",
    "ax3.set_ylabel('Recall')\n",
    "ax3.legend()\n",
    "\n",
    "# Gráfica de pérdida\n",
    "ax4.plot(loss, label='Pérdida Entrenamiento')\n",
    "ax4.plot(val_loss, label='Pérdida Validación')\n",
    "ax4.set_xlabel('Épocas')\n",
    "ax4.set_ylabel('Pérdida')\n",
    "ax4.legend()\n",
    "\n",
    "# Ajusta los márgenes y espacios entre subplots\n",
    "plt.tight_layout()\n",
    "\n",
    "# Muestra las gráficas\n",
    "plt.show()"
   ]
  }
 ],
 "metadata": {
  "kernelspec": {
   "display_name": "Python 3 (ipykernel)",
   "language": "python",
   "name": "python3"
  },
  "language_info": {
   "codemirror_mode": {
    "name": "ipython",
    "version": 3
   },
   "file_extension": ".py",
   "mimetype": "text/x-python",
   "name": "python",
   "nbconvert_exporter": "python",
   "pygments_lexer": "ipython3",
   "version": "3.10.5"
  }
 },
 "nbformat": 4,
 "nbformat_minor": 5
}
