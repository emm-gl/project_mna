{
 "cells": [
  {
   "cell_type": "code",
   "execution_count": 1,
   "id": "871b942b-aecd-4cac-8d77-8872125822a1",
   "metadata": {
    "tags": []
   },
   "outputs": [
    {
     "name": "stderr",
     "output_type": "stream",
     "text": [
      "2024-05-16 15:29:44.282814: I tensorflow/core/platform/cpu_feature_guard.cc:210] This TensorFlow binary is optimized to use available CPU instructions in performance-critical operations.\n",
      "To enable the following instructions: AVX2 FMA, in other operations, rebuild TensorFlow with the appropriate compiler flags.\n"
     ]
    }
   ],
   "source": [
    "import numpy as np\n",
    "import matplotlib.pyplot as plt\n",
    "import keras\n",
    "from keras.datasets import cifar10\n",
    "from keras.models import Sequential\n",
    "from keras.layers import Dense\n",
    "from keras.optimizers import Adam\n",
    "import tensorflow as tf\n",
    "from tensorflow.keras.utils import to_categorical\n",
    "#from keras.utils.np_utils import to_categorical\n",
    "\n",
    "import random\n",
    "     \n",
    "from keras.layers import Dropout\n",
    "from keras.layers import Flatten\n",
    "\n",
    "from tensorflow.keras.layers import Conv2D\n",
    "#from keras.layers.convolutional import Conv2D\n",
    "\n",
    "from tensorflow.keras.layers import MaxPooling2D\n",
    "#from keras.layers.convolutional import MaxPooling2D\n",
    "     \n",
    "from keras.models import Model\n",
    "\n",
    "import matplotlib.image as mpimg\n",
    "import seaborn as sns\n",
    "import cv2\n",
    "\n",
    "#from google.colab import drive\n",
    "import glob"
   ]
  },
  {
   "cell_type": "code",
   "execution_count": 2,
   "id": "500acdf7-b742-4d24-8193-f335e48c5767",
   "metadata": {
    "tags": []
   },
   "outputs": [],
   "source": [
    "file_path = 'Desktop/proyecto integrador/*'"
   ]
  },
  {
   "cell_type": "code",
   "execution_count": 3,
   "id": "1d23bd78-d49d-4d26-9ba5-2fde46a23f29",
   "metadata": {
    "tags": []
   },
   "outputs": [],
   "source": [
    "noise = glob.glob(\"OK_etiquetadas_500-2/*.png\")\n",
    "\n",
    "nonoise = glob.glob(\"NOK_etiquetadas_500-2/*.png\")"
   ]
  },
  {
   "cell_type": "code",
   "execution_count": 4,
   "id": "ec79fbc9-4488-4463-a14b-81e6658ba2d2",
   "metadata": {
    "tags": []
   },
   "outputs": [
    {
     "data": {
      "text/plain": [
       "500"
      ]
     },
     "execution_count": 4,
     "metadata": {},
     "output_type": "execute_result"
    }
   ],
   "source": [
    "len(noise)"
   ]
  },
  {
   "cell_type": "code",
   "execution_count": 5,
   "id": "86de597a-3f6f-4191-a7e7-59637293cc94",
   "metadata": {
    "tags": []
   },
   "outputs": [
    {
     "data": {
      "text/plain": [
       "500"
      ]
     },
     "execution_count": 5,
     "metadata": {},
     "output_type": "execute_result"
    }
   ],
   "source": [
    "len(nonoise)"
   ]
  },
  {
   "cell_type": "code",
   "execution_count": 6,
   "id": "4b8d8b2b-b737-4be8-96a9-96e3eccaae48",
   "metadata": {
    "tags": []
   },
   "outputs": [],
   "source": [
    "noise_Formated = []\n",
    "nonoise_Formated = []\n",
    "\n",
    "width = 400 \n",
    "height = 250\n",
    "dim = (width, height)\n",
    "\n",
    "for i in noise:\n",
    "    img_gray = mpimg.imread(i)\n",
    "    #resize image\n",
    "    img_resized = cv2.resize(img_gray, dim, interpolation = cv2.INTER_AREA)\n",
    "    \n",
    "    #add the new image to a new array\n",
    "    noise_Formated.append(img_resized)\n",
    "\n",
    "for i in nonoise:\n",
    "    img_gray = mpimg.imread(i)\n",
    "    #resize image\n",
    "    img_resized = cv2.resize(img_gray, dim, interpolation = cv2.INTER_AREA)\n",
    "    \n",
    "    #add the new image to a new array\n",
    "    nonoise_Formated.append(img_resized)"
   ]
  },
  {
   "cell_type": "code",
   "execution_count": 7,
   "id": "641b077c-7385-4fe0-bbb6-e42c6d411481",
   "metadata": {
    "tags": []
   },
   "outputs": [],
   "source": [
    "y_noise = np.ones(len(noise_Formated))\n",
    "y_nonoise = np.zeros(len(nonoise_Formated))"
   ]
  },
  {
   "cell_type": "code",
   "execution_count": 8,
   "id": "2a8f73ab-5660-4972-8d62-2eedb5a6315f",
   "metadata": {
    "tags": []
   },
   "outputs": [
    {
     "data": {
      "text/plain": [
       "(1000, 250, 400)"
      ]
     },
     "execution_count": 8,
     "metadata": {},
     "output_type": "execute_result"
    }
   ],
   "source": [
    "X = np.vstack((noise_Formated,nonoise_Formated))\n",
    "X.shape"
   ]
  },
  {
   "cell_type": "code",
   "execution_count": 9,
   "id": "e2a84da4-86ce-43cc-bf74-419e7f5aa8b2",
   "metadata": {
    "tags": []
   },
   "outputs": [
    {
     "data": {
      "text/plain": [
       "(1000,)"
      ]
     },
     "execution_count": 9,
     "metadata": {},
     "output_type": "execute_result"
    }
   ],
   "source": [
    "y = np.hstack((y_noise,y_nonoise))\n",
    "y.shape"
   ]
  },
  {
   "cell_type": "code",
   "execution_count": 10,
   "id": "065a9b81-7481-4c9b-a846-27db90d93ba1",
   "metadata": {
    "tags": []
   },
   "outputs": [],
   "source": [
    "X=X/255"
   ]
  },
  {
   "cell_type": "code",
   "execution_count": 11,
   "id": "c8e07c6f-9d2c-46f5-b0ad-9dc1a8cc9a58",
   "metadata": {
    "tags": []
   },
   "outputs": [
    {
     "name": "stdout",
     "output_type": "stream",
     "text": [
      "(1000, 100000)\n"
     ]
    }
   ],
   "source": [
    "# 400 x 250 = 100,000\n",
    "num_pixels = 100000\n",
    "X = X.reshape(X.shape[0], num_pixels)\n",
    "print(X.shape)"
   ]
  },
  {
   "cell_type": "code",
   "execution_count": 12,
   "id": "53295b89-6892-4583-ad62-92db4ce3a57a",
   "metadata": {
    "tags": []
   },
   "outputs": [
    {
     "name": "stderr",
     "output_type": "stream",
     "text": [
      "/Library/Frameworks/Python.framework/Versions/3.10/lib/python3.10/site-packages/keras/src/layers/core/dense.py:87: UserWarning: Do not pass an `input_shape`/`input_dim` argument to a layer. When using Sequential models, prefer using an `Input(shape)` object as the first layer in the model instead.\n",
      "  super().__init__(activity_regularizer=activity_regularizer, **kwargs)\n"
     ]
    },
    {
     "data": {
      "text/html": [
       "<pre style=\"white-space:pre;overflow-x:auto;line-height:normal;font-family:Menlo,'DejaVu Sans Mono',consolas,'Courier New',monospace\"><span style=\"font-weight: bold\">Model: \"sequential\"</span>\n",
       "</pre>\n"
      ],
      "text/plain": [
       "\u001b[1mModel: \"sequential\"\u001b[0m\n"
      ]
     },
     "metadata": {},
     "output_type": "display_data"
    },
    {
     "data": {
      "text/html": [
       "<pre style=\"white-space:pre;overflow-x:auto;line-height:normal;font-family:Menlo,'DejaVu Sans Mono',consolas,'Courier New',monospace\">┏━━━━━━━━━━━━━━━━━━━━━━━━━━━━━━━━━┳━━━━━━━━━━━━━━━━━━━━━━━━┳━━━━━━━━━━━━━━━┓\n",
       "┃<span style=\"font-weight: bold\"> Layer (type)                    </span>┃<span style=\"font-weight: bold\"> Output Shape           </span>┃<span style=\"font-weight: bold\">       Param # </span>┃\n",
       "┡━━━━━━━━━━━━━━━━━━━━━━━━━━━━━━━━━╇━━━━━━━━━━━━━━━━━━━━━━━━╇━━━━━━━━━━━━━━━┩\n",
       "│ dense (<span style=\"color: #0087ff; text-decoration-color: #0087ff\">Dense</span>)                   │ (<span style=\"color: #00d7ff; text-decoration-color: #00d7ff\">None</span>, <span style=\"color: #00af00; text-decoration-color: #00af00\">50</span>)             │     <span style=\"color: #00af00; text-decoration-color: #00af00\">5,000,050</span> │\n",
       "├─────────────────────────────────┼────────────────────────┼───────────────┤\n",
       "│ dense_1 (<span style=\"color: #0087ff; text-decoration-color: #0087ff\">Dense</span>)                 │ (<span style=\"color: #00d7ff; text-decoration-color: #00d7ff\">None</span>, <span style=\"color: #00af00; text-decoration-color: #00af00\">10</span>)             │           <span style=\"color: #00af00; text-decoration-color: #00af00\">510</span> │\n",
       "├─────────────────────────────────┼────────────────────────┼───────────────┤\n",
       "│ dense_2 (<span style=\"color: #0087ff; text-decoration-color: #0087ff\">Dense</span>)                 │ (<span style=\"color: #00d7ff; text-decoration-color: #00d7ff\">None</span>, <span style=\"color: #00af00; text-decoration-color: #00af00\">10</span>)             │           <span style=\"color: #00af00; text-decoration-color: #00af00\">110</span> │\n",
       "└─────────────────────────────────┴────────────────────────┴───────────────┘\n",
       "</pre>\n"
      ],
      "text/plain": [
       "┏━━━━━━━━━━━━━━━━━━━━━━━━━━━━━━━━━┳━━━━━━━━━━━━━━━━━━━━━━━━┳━━━━━━━━━━━━━━━┓\n",
       "┃\u001b[1m \u001b[0m\u001b[1mLayer (type)                   \u001b[0m\u001b[1m \u001b[0m┃\u001b[1m \u001b[0m\u001b[1mOutput Shape          \u001b[0m\u001b[1m \u001b[0m┃\u001b[1m \u001b[0m\u001b[1m      Param #\u001b[0m\u001b[1m \u001b[0m┃\n",
       "┡━━━━━━━━━━━━━━━━━━━━━━━━━━━━━━━━━╇━━━━━━━━━━━━━━━━━━━━━━━━╇━━━━━━━━━━━━━━━┩\n",
       "│ dense (\u001b[38;5;33mDense\u001b[0m)                   │ (\u001b[38;5;45mNone\u001b[0m, \u001b[38;5;34m50\u001b[0m)             │     \u001b[38;5;34m5,000,050\u001b[0m │\n",
       "├─────────────────────────────────┼────────────────────────┼───────────────┤\n",
       "│ dense_1 (\u001b[38;5;33mDense\u001b[0m)                 │ (\u001b[38;5;45mNone\u001b[0m, \u001b[38;5;34m10\u001b[0m)             │           \u001b[38;5;34m510\u001b[0m │\n",
       "├─────────────────────────────────┼────────────────────────┼───────────────┤\n",
       "│ dense_2 (\u001b[38;5;33mDense\u001b[0m)                 │ (\u001b[38;5;45mNone\u001b[0m, \u001b[38;5;34m10\u001b[0m)             │           \u001b[38;5;34m110\u001b[0m │\n",
       "└─────────────────────────────────┴────────────────────────┴───────────────┘\n"
      ]
     },
     "metadata": {},
     "output_type": "display_data"
    },
    {
     "data": {
      "text/html": [
       "<pre style=\"white-space:pre;overflow-x:auto;line-height:normal;font-family:Menlo,'DejaVu Sans Mono',consolas,'Courier New',monospace\"><span style=\"font-weight: bold\"> Total params: </span><span style=\"color: #00af00; text-decoration-color: #00af00\">5,000,670</span> (19.08 MB)\n",
       "</pre>\n"
      ],
      "text/plain": [
       "\u001b[1m Total params: \u001b[0m\u001b[38;5;34m5,000,670\u001b[0m (19.08 MB)\n"
      ]
     },
     "metadata": {},
     "output_type": "display_data"
    },
    {
     "data": {
      "text/html": [
       "<pre style=\"white-space:pre;overflow-x:auto;line-height:normal;font-family:Menlo,'DejaVu Sans Mono',consolas,'Courier New',monospace\"><span style=\"font-weight: bold\"> Trainable params: </span><span style=\"color: #00af00; text-decoration-color: #00af00\">5,000,670</span> (19.08 MB)\n",
       "</pre>\n"
      ],
      "text/plain": [
       "\u001b[1m Trainable params: \u001b[0m\u001b[38;5;34m5,000,670\u001b[0m (19.08 MB)\n"
      ]
     },
     "metadata": {},
     "output_type": "display_data"
    },
    {
     "data": {
      "text/html": [
       "<pre style=\"white-space:pre;overflow-x:auto;line-height:normal;font-family:Menlo,'DejaVu Sans Mono',consolas,'Courier New',monospace\"><span style=\"font-weight: bold\"> Non-trainable params: </span><span style=\"color: #00af00; text-decoration-color: #00af00\">0</span> (0.00 B)\n",
       "</pre>\n"
      ],
      "text/plain": [
       "\u001b[1m Non-trainable params: \u001b[0m\u001b[38;5;34m0\u001b[0m (0.00 B)\n"
      ]
     },
     "metadata": {},
     "output_type": "display_data"
    },
    {
     "name": "stdout",
     "output_type": "stream",
     "text": [
      "None\n"
     ]
    }
   ],
   "source": [
    "model = Sequential()\n",
    "model.add(Dense(units = 50, input_dim=num_pixels, activation='relu'))\n",
    "#model.add(Dropout(0.2))\n",
    "model.add(Dense(units = 10, activation='relu'))\n",
    "#model.add(Dropout(0.2))\n",
    "model.add(Dense(units = 10, activation='softmax'))\n",
    "\n",
    "optimizer = tf.keras.optimizers.Adam(learning_rate=0.1)\n",
    "model.compile(optimizer=optimizer, loss='binary_crossentropy', metrics=['accuracy'])\n",
    "print(model.summary())"
   ]
  },
  {
   "cell_type": "code",
   "execution_count": 13,
   "id": "43226466-0af8-4e0d-86da-2afcde1f4175",
   "metadata": {
    "tags": []
   },
   "outputs": [
    {
     "name": "stdout",
     "output_type": "stream",
     "text": [
      "(1000, 100000)\n",
      "(1000,)\n",
      "[1. 1. 1. 1. 1. 1. 1. 1. 1. 1. 1. 1. 1. 1. 1. 1. 1. 1. 1. 1. 1. 1. 1. 1.\n",
      " 1. 1. 1. 1. 1. 1. 1. 1. 1. 1. 1. 1. 1. 1. 1. 1. 1. 1. 1. 1. 1. 1. 1. 1.\n",
      " 1. 1. 1. 1. 1. 1. 1. 1. 1. 1. 1. 1. 1. 1. 1. 1. 1. 1. 1. 1. 1. 1. 1. 1.\n",
      " 1. 1. 1. 1. 1. 1. 1. 1. 1. 1. 1. 1. 1. 1. 1. 1. 1. 1. 1. 1. 1. 1. 1. 1.\n",
      " 1. 1. 1. 1. 1. 1. 1. 1. 1. 1. 1. 1. 1. 1. 1. 1. 1. 1. 1. 1. 1. 1. 1. 1.\n",
      " 1. 1. 1. 1. 1. 1. 1. 1. 1. 1. 1. 1. 1. 1. 1. 1. 1. 1. 1. 1. 1. 1. 1. 1.\n",
      " 1. 1. 1. 1. 1. 1. 1. 1. 1. 1. 1. 1. 1. 1. 1. 1. 1. 1. 1. 1. 1. 1. 1. 1.\n",
      " 1. 1. 1. 1. 1. 1. 1. 1. 1. 1. 1. 1. 1. 1. 1. 1. 1. 1. 1. 1. 1. 1. 1. 1.\n",
      " 1. 1. 1. 1. 1. 1. 1. 1. 1. 1. 1. 1. 1. 1. 1. 1. 1. 1. 1. 1. 1. 1. 1. 1.\n",
      " 1. 1. 1. 1. 1. 1. 1. 1. 1. 1. 1. 1. 1. 1. 1. 1. 1. 1. 1. 1. 1. 1. 1. 1.\n",
      " 1. 1. 1. 1. 1. 1. 1. 1. 1. 1. 1. 1. 1. 1. 1. 1. 1. 1. 1. 1. 1. 1. 1. 1.\n",
      " 1. 1. 1. 1. 1. 1. 1. 1. 1. 1. 1. 1. 1. 1. 1. 1. 1. 1. 1. 1. 1. 1. 1. 1.\n",
      " 1. 1. 1. 1. 1. 1. 1. 1. 1. 1. 1. 1. 1. 1. 1. 1. 1. 1. 1. 1. 1. 1. 1. 1.\n",
      " 1. 1. 1. 1. 1. 1. 1. 1. 1. 1. 1. 1. 1. 1. 1. 1. 1. 1. 1. 1. 1. 1. 1. 1.\n",
      " 1. 1. 1. 1. 1. 1. 1. 1. 1. 1. 1. 1. 1. 1. 1. 1. 1. 1. 1. 1. 1. 1. 1. 1.\n",
      " 1. 1. 1. 1. 1. 1. 1. 1. 1. 1. 1. 1. 1. 1. 1. 1. 1. 1. 1. 1. 1. 1. 1. 1.\n",
      " 1. 1. 1. 1. 1. 1. 1. 1. 1. 1. 1. 1. 1. 1. 1. 1. 1. 1. 1. 1. 1. 1. 1. 1.\n",
      " 1. 1. 1. 1. 1. 1. 1. 1. 1. 1. 1. 1. 1. 1. 1. 1. 1. 1. 1. 1. 1. 1. 1. 1.\n",
      " 1. 1. 1. 1. 1. 1. 1. 1. 1. 1. 1. 1. 1. 1. 1. 1. 1. 1. 1. 1. 1. 1. 1. 1.\n",
      " 1. 1. 1. 1. 1. 1. 1. 1. 1. 1. 1. 1. 1. 1. 1. 1. 1. 1. 1. 1. 1. 1. 1. 1.\n",
      " 1. 1. 1. 1. 1. 1. 1. 1. 1. 1. 1. 1. 1. 1. 1. 1. 1. 1. 1. 1. 0. 0. 0. 0.\n",
      " 0. 0. 0. 0. 0. 0. 0. 0. 0. 0. 0. 0. 0. 0. 0. 0. 0. 0. 0. 0. 0. 0. 0. 0.\n",
      " 0. 0. 0. 0. 0. 0. 0. 0. 0. 0. 0. 0. 0. 0. 0. 0. 0. 0. 0. 0. 0. 0. 0. 0.\n",
      " 0. 0. 0. 0. 0. 0. 0. 0. 0. 0. 0. 0. 0. 0. 0. 0. 0. 0. 0. 0. 0. 0. 0. 0.\n",
      " 0. 0. 0. 0. 0. 0. 0. 0. 0. 0. 0. 0. 0. 0. 0. 0. 0. 0. 0. 0. 0. 0. 0. 0.\n",
      " 0. 0. 0. 0. 0. 0. 0. 0. 0. 0. 0. 0. 0. 0. 0. 0. 0. 0. 0. 0. 0. 0. 0. 0.\n",
      " 0. 0. 0. 0. 0. 0. 0. 0. 0. 0. 0. 0. 0. 0. 0. 0. 0. 0. 0. 0. 0. 0. 0. 0.\n",
      " 0. 0. 0. 0. 0. 0. 0. 0. 0. 0. 0. 0. 0. 0. 0. 0. 0. 0. 0. 0. 0. 0. 0. 0.\n",
      " 0. 0. 0. 0. 0. 0. 0. 0. 0. 0. 0. 0. 0. 0. 0. 0. 0. 0. 0. 0. 0. 0. 0. 0.\n",
      " 0. 0. 0. 0. 0. 0. 0. 0. 0. 0. 0. 0. 0. 0. 0. 0. 0. 0. 0. 0. 0. 0. 0. 0.\n",
      " 0. 0. 0. 0. 0. 0. 0. 0. 0. 0. 0. 0. 0. 0. 0. 0. 0. 0. 0. 0. 0. 0. 0. 0.\n",
      " 0. 0. 0. 0. 0. 0. 0. 0. 0. 0. 0. 0. 0. 0. 0. 0. 0. 0. 0. 0. 0. 0. 0. 0.\n",
      " 0. 0. 0. 0. 0. 0. 0. 0. 0. 0. 0. 0. 0. 0. 0. 0. 0. 0. 0. 0. 0. 0. 0. 0.\n",
      " 0. 0. 0. 0. 0. 0. 0. 0. 0. 0. 0. 0. 0. 0. 0. 0. 0. 0. 0. 0. 0. 0. 0. 0.\n",
      " 0. 0. 0. 0. 0. 0. 0. 0. 0. 0. 0. 0. 0. 0. 0. 0. 0. 0. 0. 0. 0. 0. 0. 0.\n",
      " 0. 0. 0. 0. 0. 0. 0. 0. 0. 0. 0. 0. 0. 0. 0. 0. 0. 0. 0. 0. 0. 0. 0. 0.\n",
      " 0. 0. 0. 0. 0. 0. 0. 0. 0. 0. 0. 0. 0. 0. 0. 0. 0. 0. 0. 0. 0. 0. 0. 0.\n",
      " 0. 0. 0. 0. 0. 0. 0. 0. 0. 0. 0. 0. 0. 0. 0. 0. 0. 0. 0. 0. 0. 0. 0. 0.\n",
      " 0. 0. 0. 0. 0. 0. 0. 0. 0. 0. 0. 0. 0. 0. 0. 0. 0. 0. 0. 0. 0. 0. 0. 0.\n",
      " 0. 0. 0. 0. 0. 0. 0. 0. 0. 0. 0. 0. 0. 0. 0. 0. 0. 0. 0. 0. 0. 0. 0. 0.\n",
      " 0. 0. 0. 0. 0. 0. 0. 0. 0. 0. 0. 0. 0. 0. 0. 0. 0. 0. 0. 0. 0. 0. 0. 0.\n",
      " 0. 0. 0. 0. 0. 0. 0. 0. 0. 0. 0. 0. 0. 0. 0. 0.]\n"
     ]
    }
   ],
   "source": [
    "print(X.shape)\n",
    "print(y.shape)\n",
    "print(y)"
   ]
  },
  {
   "cell_type": "code",
   "execution_count": 14,
   "id": "d2dc322f-0fd0-49a9-831c-97a3574424e6",
   "metadata": {
    "tags": []
   },
   "outputs": [],
   "source": [
    "from sklearn.model_selection import train_test_split"
   ]
  },
  {
   "cell_type": "code",
   "execution_count": 15,
   "id": "a6f0e3ae-55f7-49b2-8e1f-cf2997ca7654",
   "metadata": {
    "tags": []
   },
   "outputs": [],
   "source": [
    "# 25% para el set de prueba\n",
    "X_train, X_test, y_train, y_test = train_test_split(X, y, test_size = 0.25, random_state = 42)"
   ]
  },
  {
   "cell_type": "code",
   "execution_count": 16,
   "id": "950582c9-5509-40ca-9783-3125fe59b3a6",
   "metadata": {
    "tags": []
   },
   "outputs": [
    {
     "name": "stderr",
     "output_type": "stream",
     "text": [
      "/Library/Frameworks/Python.framework/Versions/3.10/lib/python3.10/site-packages/keras/src/layers/core/dense.py:87: UserWarning: Do not pass an `input_shape`/`input_dim` argument to a layer. When using Sequential models, prefer using an `Input(shape)` object as the first layer in the model instead.\n",
      "  super().__init__(activity_regularizer=activity_regularizer, **kwargs)\n"
     ]
    }
   ],
   "source": [
    "model = Sequential()\n",
    "model.add(Dense(units=1, input_dim=100000, activation='sigmoid'))\n",
    "model.compile(optimizer=Adam(learning_rate=0.0001), loss='binary_crossentropy',  metrics=['accuracy', 'precision', 'recall'])"
   ]
  },
  {
   "cell_type": "code",
   "execution_count": 17,
   "id": "d00f22f7-9aae-4375-a851-40be848f9e37",
   "metadata": {
    "tags": []
   },
   "outputs": [
    {
     "name": "stdout",
     "output_type": "stream",
     "text": [
      "Epoch 1/100\n",
      "24/24 - 3s - 142ms/step - accuracy: 0.5533 - loss: 0.6912 - precision: 0.6547 - recall: 0.2407 - val_accuracy: 0.5200 - val_loss: 0.6898 - val_precision: 1.0000 - val_recall: 0.0164\n",
      "Epoch 2/100\n",
      "24/24 - 0s - 12ms/step - accuracy: 0.4973 - loss: 0.6872 - precision: 1.0000 - recall: 0.0026 - val_accuracy: 0.5120 - val_loss: 0.6867 - val_precision: 0.0000e+00 - val_recall: 0.0000e+00\n",
      "Epoch 3/100\n",
      "24/24 - 0s - 13ms/step - accuracy: 0.5027 - loss: 0.6834 - precision: 0.8571 - recall: 0.0159 - val_accuracy: 0.5360 - val_loss: 0.6842 - val_precision: 1.0000 - val_recall: 0.0492\n",
      "Epoch 4/100\n",
      "24/24 - 0s - 12ms/step - accuracy: 0.5387 - loss: 0.6799 - precision: 0.8200 - recall: 0.1085 - val_accuracy: 0.5640 - val_loss: 0.6817 - val_precision: 0.8421 - val_recall: 0.1311\n",
      "Epoch 5/100\n",
      "24/24 - 0s - 11ms/step - accuracy: 0.5653 - loss: 0.6766 - precision: 0.8250 - recall: 0.1746 - val_accuracy: 0.5680 - val_loss: 0.6792 - val_precision: 0.7500 - val_recall: 0.1721\n",
      "Epoch 6/100\n",
      "24/24 - 0s - 14ms/step - accuracy: 0.5960 - loss: 0.6734 - precision: 0.8205 - recall: 0.2540 - val_accuracy: 0.5720 - val_loss: 0.6772 - val_precision: 0.7143 - val_recall: 0.2049\n",
      "Epoch 7/100\n",
      "24/24 - 0s - 12ms/step - accuracy: 0.6133 - loss: 0.6704 - precision: 0.8014 - recall: 0.3095 - val_accuracy: 0.5760 - val_loss: 0.6752 - val_precision: 0.6667 - val_recall: 0.2623\n",
      "Epoch 8/100\n",
      "24/24 - 0s - 12ms/step - accuracy: 0.6173 - loss: 0.6677 - precision: 0.7935 - recall: 0.3254 - val_accuracy: 0.5760 - val_loss: 0.6732 - val_precision: 0.6379 - val_recall: 0.3033\n",
      "Epoch 9/100\n",
      "24/24 - 0s - 11ms/step - accuracy: 0.6440 - loss: 0.6649 - precision: 0.7761 - recall: 0.4127 - val_accuracy: 0.5880 - val_loss: 0.6713 - val_precision: 0.6418 - val_recall: 0.3525\n",
      "Epoch 10/100\n",
      "24/24 - 0s - 11ms/step - accuracy: 0.6453 - loss: 0.6619 - precision: 0.7569 - recall: 0.4365 - val_accuracy: 0.5800 - val_loss: 0.6695 - val_precision: 0.6164 - val_recall: 0.3689\n",
      "Epoch 11/100\n",
      "24/24 - 0s - 11ms/step - accuracy: 0.6480 - loss: 0.6594 - precision: 0.7478 - recall: 0.4550 - val_accuracy: 0.5800 - val_loss: 0.6677 - val_precision: 0.6164 - val_recall: 0.3689\n",
      "Epoch 12/100\n",
      "24/24 - 0s - 12ms/step - accuracy: 0.6560 - loss: 0.6568 - precision: 0.7439 - recall: 0.4841 - val_accuracy: 0.5800 - val_loss: 0.6661 - val_precision: 0.5977 - val_recall: 0.4262\n",
      "Epoch 13/100\n",
      "24/24 - 0s - 14ms/step - accuracy: 0.6587 - loss: 0.6543 - precision: 0.7311 - recall: 0.5106 - val_accuracy: 0.5960 - val_loss: 0.6645 - val_precision: 0.6105 - val_recall: 0.4754\n",
      "Epoch 14/100\n",
      "24/24 - 0s - 15ms/step - accuracy: 0.6640 - loss: 0.6518 - precision: 0.7333 - recall: 0.5238 - val_accuracy: 0.5880 - val_loss: 0.6630 - val_precision: 0.6022 - val_recall: 0.4590\n",
      "Epoch 15/100\n",
      "24/24 - 1s - 23ms/step - accuracy: 0.6693 - loss: 0.6495 - precision: 0.7338 - recall: 0.5397 - val_accuracy: 0.5960 - val_loss: 0.6615 - val_precision: 0.6105 - val_recall: 0.4754\n",
      "Epoch 16/100\n",
      "24/24 - 0s - 19ms/step - accuracy: 0.6733 - loss: 0.6473 - precision: 0.7254 - recall: 0.5661 - val_accuracy: 0.5920 - val_loss: 0.6600 - val_precision: 0.6020 - val_recall: 0.4836\n",
      "Epoch 17/100\n",
      "24/24 - 0s - 15ms/step - accuracy: 0.6747 - loss: 0.6450 - precision: 0.7233 - recall: 0.5741 - val_accuracy: 0.5840 - val_loss: 0.6586 - val_precision: 0.5900 - val_recall: 0.4836\n",
      "Epoch 18/100\n",
      "24/24 - 0s - 14ms/step - accuracy: 0.6760 - loss: 0.6428 - precision: 0.7258 - recall: 0.5741 - val_accuracy: 0.5880 - val_loss: 0.6572 - val_precision: 0.5960 - val_recall: 0.4836\n",
      "Epoch 19/100\n",
      "24/24 - 0s - 14ms/step - accuracy: 0.6733 - loss: 0.6406 - precision: 0.7180 - recall: 0.5794 - val_accuracy: 0.5840 - val_loss: 0.6559 - val_precision: 0.5882 - val_recall: 0.4918\n",
      "Epoch 20/100\n",
      "24/24 - 0s - 13ms/step - accuracy: 0.6747 - loss: 0.6385 - precision: 0.7107 - recall: 0.5979 - val_accuracy: 0.6040 - val_loss: 0.6547 - val_precision: 0.6055 - val_recall: 0.5410\n",
      "Epoch 21/100\n",
      "24/24 - 0s - 13ms/step - accuracy: 0.6813 - loss: 0.6366 - precision: 0.7125 - recall: 0.6164 - val_accuracy: 0.6080 - val_loss: 0.6534 - val_precision: 0.6091 - val_recall: 0.5492\n",
      "Epoch 22/100\n",
      "24/24 - 1s - 33ms/step - accuracy: 0.6813 - loss: 0.6345 - precision: 0.7125 - recall: 0.6164 - val_accuracy: 0.6120 - val_loss: 0.6523 - val_precision: 0.6126 - val_recall: 0.5574\n",
      "Epoch 23/100\n",
      "24/24 - 0s - 20ms/step - accuracy: 0.6867 - loss: 0.6325 - precision: 0.7160 - recall: 0.6270 - val_accuracy: 0.6120 - val_loss: 0.6511 - val_precision: 0.6126 - val_recall: 0.5574\n",
      "Epoch 24/100\n",
      "24/24 - 0s - 19ms/step - accuracy: 0.6840 - loss: 0.6307 - precision: 0.7156 - recall: 0.6190 - val_accuracy: 0.6080 - val_loss: 0.6500 - val_precision: 0.6091 - val_recall: 0.5492\n",
      "Epoch 25/100\n",
      "24/24 - 0s - 19ms/step - accuracy: 0.6827 - loss: 0.6289 - precision: 0.7108 - recall: 0.6243 - val_accuracy: 0.6120 - val_loss: 0.6489 - val_precision: 0.6126 - val_recall: 0.5574\n",
      "Epoch 26/100\n",
      "24/24 - 0s - 18ms/step - accuracy: 0.6880 - loss: 0.6271 - precision: 0.7130 - recall: 0.6376 - val_accuracy: 0.6120 - val_loss: 0.6478 - val_precision: 0.6106 - val_recall: 0.5656\n",
      "Epoch 27/100\n",
      "24/24 - 0s - 17ms/step - accuracy: 0.6853 - loss: 0.6252 - precision: 0.7088 - recall: 0.6376 - val_accuracy: 0.6120 - val_loss: 0.6469 - val_precision: 0.6106 - val_recall: 0.5656\n",
      "Epoch 28/100\n",
      "24/24 - 0s - 16ms/step - accuracy: 0.6893 - loss: 0.6236 - precision: 0.7114 - recall: 0.6455 - val_accuracy: 0.6160 - val_loss: 0.6458 - val_precision: 0.6121 - val_recall: 0.5820\n",
      "Epoch 29/100\n",
      "24/24 - 0s - 14ms/step - accuracy: 0.6880 - loss: 0.6219 - precision: 0.7093 - recall: 0.6455 - val_accuracy: 0.6080 - val_loss: 0.6449 - val_precision: 0.6053 - val_recall: 0.5656\n",
      "Epoch 30/100\n",
      "24/24 - 1s - 22ms/step - accuracy: 0.6880 - loss: 0.6203 - precision: 0.7081 - recall: 0.6481 - val_accuracy: 0.6200 - val_loss: 0.6440 - val_precision: 0.6154 - val_recall: 0.5902\n",
      "Epoch 31/100\n",
      "24/24 - 0s - 19ms/step - accuracy: 0.6947 - loss: 0.6187 - precision: 0.7075 - recall: 0.6720 - val_accuracy: 0.6280 - val_loss: 0.6432 - val_precision: 0.6198 - val_recall: 0.6148\n",
      "Epoch 32/100\n",
      "24/24 - 0s - 14ms/step - accuracy: 0.6960 - loss: 0.6171 - precision: 0.7083 - recall: 0.6746 - val_accuracy: 0.6280 - val_loss: 0.6423 - val_precision: 0.6198 - val_recall: 0.6148\n",
      "Epoch 33/100\n",
      "24/24 - 0s - 18ms/step - accuracy: 0.6973 - loss: 0.6156 - precision: 0.7103 - recall: 0.6746 - val_accuracy: 0.6280 - val_loss: 0.6415 - val_precision: 0.6198 - val_recall: 0.6148\n",
      "Epoch 34/100\n",
      "24/24 - 0s - 18ms/step - accuracy: 0.6987 - loss: 0.6141 - precision: 0.7111 - recall: 0.6772 - val_accuracy: 0.6280 - val_loss: 0.6407 - val_precision: 0.6198 - val_recall: 0.6148\n",
      "Epoch 35/100\n",
      "24/24 - 0s - 17ms/step - accuracy: 0.6973 - loss: 0.6126 - precision: 0.7091 - recall: 0.6772 - val_accuracy: 0.6280 - val_loss: 0.6399 - val_precision: 0.6198 - val_recall: 0.6148\n",
      "Epoch 36/100\n",
      "24/24 - 1s - 28ms/step - accuracy: 0.6933 - loss: 0.6118 - precision: 0.7090 - recall: 0.6640 - val_accuracy: 0.6240 - val_loss: 0.6391 - val_precision: 0.6186 - val_recall: 0.5984\n",
      "Epoch 37/100\n",
      "24/24 - 0s - 14ms/step - accuracy: 0.6933 - loss: 0.6100 - precision: 0.7033 - recall: 0.6772 - val_accuracy: 0.6200 - val_loss: 0.6385 - val_precision: 0.6080 - val_recall: 0.6230\n",
      "Epoch 38/100\n",
      "24/24 - 1s - 36ms/step - accuracy: 0.6960 - loss: 0.6086 - precision: 0.7060 - recall: 0.6799 - val_accuracy: 0.6200 - val_loss: 0.6378 - val_precision: 0.6080 - val_recall: 0.6230\n",
      "Epoch 39/100\n",
      "24/24 - 0s - 14ms/step - accuracy: 0.6960 - loss: 0.6072 - precision: 0.7060 - recall: 0.6799 - val_accuracy: 0.6200 - val_loss: 0.6370 - val_precision: 0.6080 - val_recall: 0.6230\n",
      "Epoch 40/100\n",
      "24/24 - 0s - 20ms/step - accuracy: 0.6947 - loss: 0.6059 - precision: 0.7041 - recall: 0.6799 - val_accuracy: 0.6200 - val_loss: 0.6364 - val_precision: 0.6080 - val_recall: 0.6230\n",
      "Epoch 41/100\n",
      "24/24 - 0s - 14ms/step - accuracy: 0.6933 - loss: 0.6046 - precision: 0.7022 - recall: 0.6799 - val_accuracy: 0.6240 - val_loss: 0.6358 - val_precision: 0.6094 - val_recall: 0.6393\n",
      "Epoch 42/100\n",
      "24/24 - 0s - 17ms/step - accuracy: 0.6947 - loss: 0.6034 - precision: 0.7030 - recall: 0.6825 - val_accuracy: 0.6240 - val_loss: 0.6351 - val_precision: 0.6094 - val_recall: 0.6393\n",
      "Epoch 43/100\n",
      "24/24 - 1s - 30ms/step - accuracy: 0.6960 - loss: 0.6022 - precision: 0.7038 - recall: 0.6852 - val_accuracy: 0.6240 - val_loss: 0.6345 - val_precision: 0.6094 - val_recall: 0.6393\n"
     ]
    },
    {
     "name": "stdout",
     "output_type": "stream",
     "text": [
      "Epoch 44/100\n",
      "24/24 - 1s - 27ms/step - accuracy: 0.6973 - loss: 0.6011 - precision: 0.7046 - recall: 0.6878 - val_accuracy: 0.6240 - val_loss: 0.6339 - val_precision: 0.6077 - val_recall: 0.6475\n",
      "Epoch 45/100\n",
      "24/24 - 1s - 22ms/step - accuracy: 0.6973 - loss: 0.5998 - precision: 0.7046 - recall: 0.6878 - val_accuracy: 0.6240 - val_loss: 0.6334 - val_precision: 0.6077 - val_recall: 0.6475\n",
      "Epoch 46/100\n",
      "24/24 - 0s - 19ms/step - accuracy: 0.6973 - loss: 0.5986 - precision: 0.7046 - recall: 0.6878 - val_accuracy: 0.6280 - val_loss: 0.6329 - val_precision: 0.6107 - val_recall: 0.6557\n",
      "Epoch 47/100\n",
      "24/24 - 1s - 22ms/step - accuracy: 0.6973 - loss: 0.5975 - precision: 0.7046 - recall: 0.6878 - val_accuracy: 0.6280 - val_loss: 0.6323 - val_precision: 0.6107 - val_recall: 0.6557\n",
      "Epoch 48/100\n",
      "24/24 - 1s - 22ms/step - accuracy: 0.6973 - loss: 0.5964 - precision: 0.7046 - recall: 0.6878 - val_accuracy: 0.6280 - val_loss: 0.6318 - val_precision: 0.6107 - val_recall: 0.6557\n",
      "Epoch 49/100\n",
      "24/24 - 0s - 15ms/step - accuracy: 0.6973 - loss: 0.5953 - precision: 0.7046 - recall: 0.6878 - val_accuracy: 0.6280 - val_loss: 0.6312 - val_precision: 0.6107 - val_recall: 0.6557\n",
      "Epoch 50/100\n",
      "24/24 - 0s - 14ms/step - accuracy: 0.6973 - loss: 0.5944 - precision: 0.7046 - recall: 0.6878 - val_accuracy: 0.6240 - val_loss: 0.6308 - val_precision: 0.6077 - val_recall: 0.6475\n",
      "Epoch 51/100\n",
      "24/24 - 0s - 12ms/step - accuracy: 0.6973 - loss: 0.5933 - precision: 0.7046 - recall: 0.6878 - val_accuracy: 0.6240 - val_loss: 0.6303 - val_precision: 0.6061 - val_recall: 0.6557\n",
      "Epoch 52/100\n",
      "24/24 - 0s - 15ms/step - accuracy: 0.6973 - loss: 0.5922 - precision: 0.7046 - recall: 0.6878 - val_accuracy: 0.6240 - val_loss: 0.6298 - val_precision: 0.6061 - val_recall: 0.6557\n",
      "Epoch 53/100\n",
      "24/24 - 0s - 17ms/step - accuracy: 0.6960 - loss: 0.5912 - precision: 0.7027 - recall: 0.6878 - val_accuracy: 0.6240 - val_loss: 0.6293 - val_precision: 0.6061 - val_recall: 0.6557\n",
      "Epoch 54/100\n",
      "24/24 - 0s - 15ms/step - accuracy: 0.6960 - loss: 0.5903 - precision: 0.7016 - recall: 0.6905 - val_accuracy: 0.6280 - val_loss: 0.6289 - val_precision: 0.6090 - val_recall: 0.6639\n",
      "Epoch 55/100\n",
      "24/24 - 0s - 12ms/step - accuracy: 0.6960 - loss: 0.5893 - precision: 0.7016 - recall: 0.6905 - val_accuracy: 0.6280 - val_loss: 0.6285 - val_precision: 0.6058 - val_recall: 0.6803\n",
      "Epoch 56/100\n",
      "24/24 - 0s - 12ms/step - accuracy: 0.6960 - loss: 0.5883 - precision: 0.7016 - recall: 0.6905 - val_accuracy: 0.6280 - val_loss: 0.6281 - val_precision: 0.6058 - val_recall: 0.6803\n",
      "Epoch 57/100\n",
      "24/24 - 1s - 29ms/step - accuracy: 0.6960 - loss: 0.5874 - precision: 0.7016 - recall: 0.6905 - val_accuracy: 0.6240 - val_loss: 0.6276 - val_precision: 0.6029 - val_recall: 0.6721\n",
      "Epoch 58/100\n",
      "24/24 - 1s - 24ms/step - accuracy: 0.6907 - loss: 0.5866 - precision: 0.6941 - recall: 0.6905 - val_accuracy: 0.6280 - val_loss: 0.6273 - val_precision: 0.6058 - val_recall: 0.6803\n",
      "Epoch 59/100\n",
      "24/24 - 0s - 12ms/step - accuracy: 0.6933 - loss: 0.5856 - precision: 0.6979 - recall: 0.6905 - val_accuracy: 0.6280 - val_loss: 0.6269 - val_precision: 0.6058 - val_recall: 0.6803\n",
      "Epoch 60/100\n",
      "24/24 - 0s - 13ms/step - accuracy: 0.6947 - loss: 0.5847 - precision: 0.6997 - recall: 0.6905 - val_accuracy: 0.6280 - val_loss: 0.6265 - val_precision: 0.6058 - val_recall: 0.6803\n",
      "Epoch 61/100\n",
      "24/24 - 0s - 12ms/step - accuracy: 0.6973 - loss: 0.5839 - precision: 0.7035 - recall: 0.6905 - val_accuracy: 0.6280 - val_loss: 0.6261 - val_precision: 0.6090 - val_recall: 0.6639\n",
      "Epoch 62/100\n",
      "24/24 - 0s - 12ms/step - accuracy: 0.6973 - loss: 0.5831 - precision: 0.7046 - recall: 0.6878 - val_accuracy: 0.6280 - val_loss: 0.6258 - val_precision: 0.6058 - val_recall: 0.6803\n",
      "Epoch 63/100\n",
      "24/24 - 0s - 13ms/step - accuracy: 0.6947 - loss: 0.5822 - precision: 0.6987 - recall: 0.6931 - val_accuracy: 0.6280 - val_loss: 0.6256 - val_precision: 0.6058 - val_recall: 0.6803\n",
      "Epoch 64/100\n",
      "24/24 - 0s - 17ms/step - accuracy: 0.6933 - loss: 0.5814 - precision: 0.6979 - recall: 0.6905 - val_accuracy: 0.6280 - val_loss: 0.6252 - val_precision: 0.6058 - val_recall: 0.6803\n",
      "Epoch 65/100\n",
      "24/24 - 0s - 17ms/step - accuracy: 0.6973 - loss: 0.5807 - precision: 0.7003 - recall: 0.6984 - val_accuracy: 0.6280 - val_loss: 0.6249 - val_precision: 0.6058 - val_recall: 0.6803\n",
      "Epoch 66/100\n",
      "24/24 - 0s - 13ms/step - accuracy: 0.6947 - loss: 0.5798 - precision: 0.6987 - recall: 0.6931 - val_accuracy: 0.6280 - val_loss: 0.6246 - val_precision: 0.6058 - val_recall: 0.6803\n",
      "Epoch 67/100\n",
      "24/24 - 0s - 12ms/step - accuracy: 0.6933 - loss: 0.5790 - precision: 0.6979 - recall: 0.6905 - val_accuracy: 0.6320 - val_loss: 0.6242 - val_precision: 0.6103 - val_recall: 0.6803\n",
      "Epoch 68/100\n",
      "24/24 - 0s - 12ms/step - accuracy: 0.6947 - loss: 0.5783 - precision: 0.6966 - recall: 0.6984 - val_accuracy: 0.6240 - val_loss: 0.6240 - val_precision: 0.6014 - val_recall: 0.6803\n",
      "Epoch 69/100\n",
      "24/24 - 0s - 12ms/step - accuracy: 0.6960 - loss: 0.5776 - precision: 0.6995 - recall: 0.6958 - val_accuracy: 0.6280 - val_loss: 0.6237 - val_precision: 0.6058 - val_recall: 0.6803\n",
      "Epoch 70/100\n",
      "24/24 - 0s - 12ms/step - accuracy: 0.6987 - loss: 0.5768 - precision: 0.7011 - recall: 0.7011 - val_accuracy: 0.6280 - val_loss: 0.6234 - val_precision: 0.6058 - val_recall: 0.6803\n",
      "Epoch 71/100\n",
      "24/24 - 0s - 12ms/step - accuracy: 0.6987 - loss: 0.5762 - precision: 0.7000 - recall: 0.7037 - val_accuracy: 0.6240 - val_loss: 0.6232 - val_precision: 0.6014 - val_recall: 0.6803\n",
      "Epoch 72/100\n",
      "24/24 - 0s - 17ms/step - accuracy: 0.6973 - loss: 0.5756 - precision: 0.7013 - recall: 0.6958 - val_accuracy: 0.6320 - val_loss: 0.6228 - val_precision: 0.6103 - val_recall: 0.6803\n",
      "Epoch 73/100\n",
      "24/24 - 0s - 19ms/step - accuracy: 0.6973 - loss: 0.5746 - precision: 0.7013 - recall: 0.6958 - val_accuracy: 0.6240 - val_loss: 0.6227 - val_precision: 0.6014 - val_recall: 0.6803\n",
      "Epoch 74/100\n",
      "24/24 - 0s - 17ms/step - accuracy: 0.7000 - loss: 0.5740 - precision: 0.7029 - recall: 0.7011 - val_accuracy: 0.6320 - val_loss: 0.6224 - val_precision: 0.6103 - val_recall: 0.6803\n",
      "Epoch 75/100\n",
      "24/24 - 0s - 16ms/step - accuracy: 0.7000 - loss: 0.5733 - precision: 0.7029 - recall: 0.7011 - val_accuracy: 0.6280 - val_loss: 0.6221 - val_precision: 0.6058 - val_recall: 0.6803\n",
      "Epoch 76/100\n",
      "24/24 - 0s - 13ms/step - accuracy: 0.7027 - loss: 0.5726 - precision: 0.7023 - recall: 0.7116 - val_accuracy: 0.6280 - val_loss: 0.6220 - val_precision: 0.6043 - val_recall: 0.6885\n",
      "Epoch 77/100\n",
      "24/24 - 0s - 13ms/step - accuracy: 0.7040 - loss: 0.5720 - precision: 0.7031 - recall: 0.7143 - val_accuracy: 0.6280 - val_loss: 0.6217 - val_precision: 0.6058 - val_recall: 0.6803\n",
      "Epoch 78/100\n",
      "24/24 - 0s - 12ms/step - accuracy: 0.7027 - loss: 0.5714 - precision: 0.7013 - recall: 0.7143 - val_accuracy: 0.6360 - val_loss: 0.6215 - val_precision: 0.6099 - val_recall: 0.7049\n",
      "Epoch 79/100\n",
      "24/24 - 0s - 13ms/step - accuracy: 0.7067 - loss: 0.5709 - precision: 0.7036 - recall: 0.7222 - val_accuracy: 0.6360 - val_loss: 0.6214 - val_precision: 0.6099 - val_recall: 0.7049\n",
      "Epoch 80/100\n",
      "24/24 - 0s - 14ms/step - accuracy: 0.7027 - loss: 0.5702 - precision: 0.7045 - recall: 0.7063 - val_accuracy: 0.6320 - val_loss: 0.6210 - val_precision: 0.6103 - val_recall: 0.6803\n",
      "Epoch 81/100\n",
      "24/24 - 1s - 23ms/step - accuracy: 0.7040 - loss: 0.5695 - precision: 0.7042 - recall: 0.7116 - val_accuracy: 0.6280 - val_loss: 0.6208 - val_precision: 0.6058 - val_recall: 0.6803\n",
      "Epoch 82/100\n",
      "24/24 - 0s - 17ms/step - accuracy: 0.7040 - loss: 0.5688 - precision: 0.7042 - recall: 0.7116 - val_accuracy: 0.6360 - val_loss: 0.6207 - val_precision: 0.6115 - val_recall: 0.6967\n",
      "Epoch 83/100\n",
      "24/24 - 0s - 15ms/step - accuracy: 0.7067 - loss: 0.5683 - precision: 0.7057 - recall: 0.7169 - val_accuracy: 0.6400 - val_loss: 0.6205 - val_precision: 0.6143 - val_recall: 0.7049\n",
      "Epoch 84/100\n",
      "24/24 - 0s - 15ms/step - accuracy: 0.7053 - loss: 0.5676 - precision: 0.7050 - recall: 0.7143 - val_accuracy: 0.6360 - val_loss: 0.6203 - val_precision: 0.6115 - val_recall: 0.6967\n",
      "Epoch 85/100\n",
      "24/24 - 0s - 14ms/step - accuracy: 0.7040 - loss: 0.5671 - precision: 0.7042 - recall: 0.7116 - val_accuracy: 0.6360 - val_loss: 0.6200 - val_precision: 0.6115 - val_recall: 0.6967\n",
      "Epoch 86/100\n",
      "24/24 - 1s - 26ms/step - accuracy: 0.7080 - loss: 0.5665 - precision: 0.7065 - recall: 0.7196 - val_accuracy: 0.6400 - val_loss: 0.6199 - val_precision: 0.6143 - val_recall: 0.7049\n"
     ]
    },
    {
     "name": "stdout",
     "output_type": "stream",
     "text": [
      "Epoch 87/100\n",
      "24/24 - 0s - 13ms/step - accuracy: 0.7053 - loss: 0.5660 - precision: 0.7050 - recall: 0.7143 - val_accuracy: 0.6360 - val_loss: 0.6196 - val_precision: 0.6115 - val_recall: 0.6967\n",
      "Epoch 88/100\n",
      "24/24 - 0s - 12ms/step - accuracy: 0.7040 - loss: 0.5654 - precision: 0.7042 - recall: 0.7116 - val_accuracy: 0.6360 - val_loss: 0.6195 - val_precision: 0.6115 - val_recall: 0.6967\n",
      "Epoch 89/100\n",
      "24/24 - 0s - 12ms/step - accuracy: 0.7107 - loss: 0.5649 - precision: 0.7080 - recall: 0.7249 - val_accuracy: 0.6360 - val_loss: 0.6194 - val_precision: 0.6099 - val_recall: 0.7049\n",
      "Epoch 90/100\n",
      "24/24 - 0s - 17ms/step - accuracy: 0.7147 - loss: 0.5644 - precision: 0.7092 - recall: 0.7354 - val_accuracy: 0.6360 - val_loss: 0.6193 - val_precision: 0.6099 - val_recall: 0.7049\n",
      "Epoch 91/100\n",
      "24/24 - 0s - 15ms/step - accuracy: 0.7120 - loss: 0.5639 - precision: 0.7066 - recall: 0.7328 - val_accuracy: 0.6360 - val_loss: 0.6191 - val_precision: 0.6099 - val_recall: 0.7049\n",
      "Epoch 92/100\n",
      "24/24 - 0s - 12ms/step - accuracy: 0.7107 - loss: 0.5632 - precision: 0.7069 - recall: 0.7275 - val_accuracy: 0.6360 - val_loss: 0.6189 - val_precision: 0.6099 - val_recall: 0.7049\n",
      "Epoch 93/100\n",
      "24/24 - 0s - 15ms/step - accuracy: 0.7093 - loss: 0.5626 - precision: 0.7062 - recall: 0.7249 - val_accuracy: 0.6320 - val_loss: 0.6187 - val_precision: 0.6071 - val_recall: 0.6967\n",
      "Epoch 94/100\n",
      "24/24 - 0s - 13ms/step - accuracy: 0.7093 - loss: 0.5622 - precision: 0.7062 - recall: 0.7249 - val_accuracy: 0.6320 - val_loss: 0.6185 - val_precision: 0.6071 - val_recall: 0.6967\n",
      "Epoch 95/100\n",
      "24/24 - 0s - 13ms/step - accuracy: 0.7093 - loss: 0.5616 - precision: 0.7062 - recall: 0.7249 - val_accuracy: 0.6360 - val_loss: 0.6184 - val_precision: 0.6099 - val_recall: 0.7049\n",
      "Epoch 96/100\n",
      "24/24 - 0s - 16ms/step - accuracy: 0.7107 - loss: 0.5611 - precision: 0.7069 - recall: 0.7275 - val_accuracy: 0.6360 - val_loss: 0.6183 - val_precision: 0.6099 - val_recall: 0.7049\n",
      "Epoch 97/100\n",
      "24/24 - 0s - 13ms/step - accuracy: 0.7187 - loss: 0.5608 - precision: 0.7114 - recall: 0.7434 - val_accuracy: 0.6360 - val_loss: 0.6183 - val_precision: 0.6099 - val_recall: 0.7049\n",
      "Epoch 98/100\n",
      "24/24 - 0s - 13ms/step - accuracy: 0.7120 - loss: 0.5603 - precision: 0.7077 - recall: 0.7302 - val_accuracy: 0.6360 - val_loss: 0.6180 - val_precision: 0.6099 - val_recall: 0.7049\n",
      "Epoch 99/100\n",
      "24/24 - 0s - 18ms/step - accuracy: 0.7133 - loss: 0.5597 - precision: 0.7084 - recall: 0.7328 - val_accuracy: 0.6360 - val_loss: 0.6180 - val_precision: 0.6099 - val_recall: 0.7049\n",
      "Epoch 100/100\n",
      "24/24 - 0s - 16ms/step - accuracy: 0.7147 - loss: 0.5592 - precision: 0.7092 - recall: 0.7354 - val_accuracy: 0.6360 - val_loss: 0.6178 - val_precision: 0.6099 - val_recall: 0.7049\n"
     ]
    }
   ],
   "source": [
    "hist = model.fit(x=X_train, y=y_train, verbose=2, batch_size=32, epochs=100, \n",
    "                 validation_data=(X_test, y_test), shuffle='true')"
   ]
  },
  {
   "cell_type": "code",
   "execution_count": 20,
   "id": "f6d8a567-767b-4d9f-900c-d0bd57627fa1",
   "metadata": {
    "tags": []
   },
   "outputs": [
    {
     "data": {
      "text/html": [
       "<pre style=\"white-space:pre;overflow-x:auto;line-height:normal;font-family:Menlo,'DejaVu Sans Mono',consolas,'Courier New',monospace\"><span style=\"font-weight: bold\">Model: \"sequential_1\"</span>\n",
       "</pre>\n"
      ],
      "text/plain": [
       "\u001b[1mModel: \"sequential_1\"\u001b[0m\n"
      ]
     },
     "metadata": {},
     "output_type": "display_data"
    },
    {
     "data": {
      "text/html": [
       "<pre style=\"white-space:pre;overflow-x:auto;line-height:normal;font-family:Menlo,'DejaVu Sans Mono',consolas,'Courier New',monospace\">┏━━━━━━━━━━━━━━━━━━━━━━━━━━━━━━━━━┳━━━━━━━━━━━━━━━━━━━━━━━━┳━━━━━━━━━━━━━━━┓\n",
       "┃<span style=\"font-weight: bold\"> Layer (type)                    </span>┃<span style=\"font-weight: bold\"> Output Shape           </span>┃<span style=\"font-weight: bold\">       Param # </span>┃\n",
       "┡━━━━━━━━━━━━━━━━━━━━━━━━━━━━━━━━━╇━━━━━━━━━━━━━━━━━━━━━━━━╇━━━━━━━━━━━━━━━┩\n",
       "│ dense_3 (<span style=\"color: #0087ff; text-decoration-color: #0087ff\">Dense</span>)                 │ (<span style=\"color: #00d7ff; text-decoration-color: #00d7ff\">None</span>, <span style=\"color: #00af00; text-decoration-color: #00af00\">1</span>)              │       <span style=\"color: #00af00; text-decoration-color: #00af00\">100,001</span> │\n",
       "└─────────────────────────────────┴────────────────────────┴───────────────┘\n",
       "</pre>\n"
      ],
      "text/plain": [
       "┏━━━━━━━━━━━━━━━━━━━━━━━━━━━━━━━━━┳━━━━━━━━━━━━━━━━━━━━━━━━┳━━━━━━━━━━━━━━━┓\n",
       "┃\u001b[1m \u001b[0m\u001b[1mLayer (type)                   \u001b[0m\u001b[1m \u001b[0m┃\u001b[1m \u001b[0m\u001b[1mOutput Shape          \u001b[0m\u001b[1m \u001b[0m┃\u001b[1m \u001b[0m\u001b[1m      Param #\u001b[0m\u001b[1m \u001b[0m┃\n",
       "┡━━━━━━━━━━━━━━━━━━━━━━━━━━━━━━━━━╇━━━━━━━━━━━━━━━━━━━━━━━━╇━━━━━━━━━━━━━━━┩\n",
       "│ dense_3 (\u001b[38;5;33mDense\u001b[0m)                 │ (\u001b[38;5;45mNone\u001b[0m, \u001b[38;5;34m1\u001b[0m)              │       \u001b[38;5;34m100,001\u001b[0m │\n",
       "└─────────────────────────────────┴────────────────────────┴───────────────┘\n"
      ]
     },
     "metadata": {},
     "output_type": "display_data"
    },
    {
     "data": {
      "text/html": [
       "<pre style=\"white-space:pre;overflow-x:auto;line-height:normal;font-family:Menlo,'DejaVu Sans Mono',consolas,'Courier New',monospace\"><span style=\"font-weight: bold\"> Total params: </span><span style=\"color: #00af00; text-decoration-color: #00af00\">300,005</span> (1.14 MB)\n",
       "</pre>\n"
      ],
      "text/plain": [
       "\u001b[1m Total params: \u001b[0m\u001b[38;5;34m300,005\u001b[0m (1.14 MB)\n"
      ]
     },
     "metadata": {},
     "output_type": "display_data"
    },
    {
     "data": {
      "text/html": [
       "<pre style=\"white-space:pre;overflow-x:auto;line-height:normal;font-family:Menlo,'DejaVu Sans Mono',consolas,'Courier New',monospace\"><span style=\"font-weight: bold\"> Trainable params: </span><span style=\"color: #00af00; text-decoration-color: #00af00\">100,001</span> (390.63 KB)\n",
       "</pre>\n"
      ],
      "text/plain": [
       "\u001b[1m Trainable params: \u001b[0m\u001b[38;5;34m100,001\u001b[0m (390.63 KB)\n"
      ]
     },
     "metadata": {},
     "output_type": "display_data"
    },
    {
     "data": {
      "text/html": [
       "<pre style=\"white-space:pre;overflow-x:auto;line-height:normal;font-family:Menlo,'DejaVu Sans Mono',consolas,'Courier New',monospace\"><span style=\"font-weight: bold\"> Non-trainable params: </span><span style=\"color: #00af00; text-decoration-color: #00af00\">0</span> (0.00 B)\n",
       "</pre>\n"
      ],
      "text/plain": [
       "\u001b[1m Non-trainable params: \u001b[0m\u001b[38;5;34m0\u001b[0m (0.00 B)\n"
      ]
     },
     "metadata": {},
     "output_type": "display_data"
    },
    {
     "data": {
      "text/html": [
       "<pre style=\"white-space:pre;overflow-x:auto;line-height:normal;font-family:Menlo,'DejaVu Sans Mono',consolas,'Courier New',monospace\"><span style=\"font-weight: bold\"> Optimizer params: </span><span style=\"color: #00af00; text-decoration-color: #00af00\">200,004</span> (781.27 KB)\n",
       "</pre>\n"
      ],
      "text/plain": [
       "\u001b[1m Optimizer params: \u001b[0m\u001b[38;5;34m200,004\u001b[0m (781.27 KB)\n"
      ]
     },
     "metadata": {},
     "output_type": "display_data"
    }
   ],
   "source": [
    "# resumen del model\n",
    "model.summary()"
   ]
  },
  {
   "cell_type": "code",
   "execution_count": 22,
   "id": "62df3e99",
   "metadata": {},
   "outputs": [
    {
     "data": {
      "image/png": "[encoded data removed]",
      "text/plain": [
       "<Figure size 576x432 with 4 Axes>"
      ]
     },
     "metadata": {
      "needs_background": "light"
     },
     "output_type": "display_data"
    }
   ],
   "source": [
    "# Obtén los datos del historial\n",
    "accuracy = hist.history['accuracy']\n",
    "test_accuracy = hist.history['val_accuracy']\n",
    "\n",
    "precision = hist.history['precision']\n",
    "test_precision = hist.history['val_precision']\n",
    "\n",
    "recall = hist.history['recall']\n",
    "test_recall = hist.history['val_recall']\n",
    "\n",
    "loss = hist.history['loss']\n",
    "test_loss = hist.history['val_loss']\n",
    "\n",
    "\n",
    "# Crea la figura y los subplots\n",
    "fig, ((ax1, ax2), (ax3, ax4)) = plt.subplots(2, 2, figsize=(8, 6))\n",
    "\n",
    "# Gráfica de accuracy\n",
    "ax1.plot(accuracy, label='Accuracy Entrenamiento')\n",
    "ax1.plot(test_accuracy, label='Accuracy Prueba')\n",
    "ax1.set_xlabel('Épocas')\n",
    "ax1.set_ylabel('Accuracy')\n",
    "ax1.legend()\n",
    "\n",
    "# Gráfica de precision\n",
    "ax2.plot(precision, label='Precision Entrenamiento')\n",
    "ax2.plot(test_precision, label='Precision Prueba')\n",
    "ax2.set_xlabel('Épocas')\n",
    "ax2.set_ylabel('Precision')\n",
    "ax2.legend()\n",
    "\n",
    "# Gráfica de recall\n",
    "ax3.plot(recall, label='Recall Entrenamiento')\n",
    "ax3.plot(test_recall, label='Recall Prueba')\n",
    "ax3.set_xlabel('Épocas')\n",
    "ax3.set_ylabel('Recall')\n",
    "ax3.legend()\n",
    "\n",
    "# Gráfica de pérdida\n",
    "ax4.plot(loss, label='Pérdida Entrenamiento')\n",
    "ax4.plot(test_loss, label='Pérdida Prueba')\n",
    "ax4.set_xlabel('Épocas')\n",
    "ax4.set_ylabel('Pérdida')\n",
    "ax4.legend()\n",
    "\n",
    "# Ajusta los márgenes y espacios entre subplots\n",
    "plt.tight_layout()\n",
    "\n",
    "# Muestra las gráficas\n",
    "plt.show()"
   ]
  },
  {
   "cell_type": "code",
   "execution_count": null,
   "id": "32c5ebb7",
   "metadata": {},
   "outputs": [],
   "source": []
  }
 ],
 "metadata": {
  "kernelspec": {
   "display_name": "Python 3 (ipykernel)",
   "language": "python",
   "name": "python3"
  },
  "language_info": {
   "codemirror_mode": {
    "name": "ipython",
    "version": 3
   },
   "file_extension": ".py",
   "mimetype": "text/x-python",
   "name": "python",
   "nbconvert_exporter": "python",
   "pygments_lexer": "ipython3",
   "version": "3.10.5"
  }
 },
 "nbformat": 4,
 "nbformat_minor": 5
}
